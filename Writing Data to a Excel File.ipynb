{
 "cells": [
  {
   "cell_type": "code",
   "execution_count": null,
   "id": "cedacd73-9321-4d05-805c-665b275b8541",
   "metadata": {},
   "outputs": [],
   "source": [
    "# !pip install openpyxl"
   ]
  },
  {
   "cell_type": "code",
   "execution_count": 1,
   "id": "2d58be96-5758-4b00-bc31-e1fdedc6194c",
   "metadata": {},
   "outputs": [],
   "source": [
    "from itertools import permutations\n",
    "from itertools import combinations\n",
    "import pandas as pd\n",
    "import numpy as np\n",
    "from openpyxl.utils.dataframe import dataframe_to_rows\n",
    "from openpyxl import load_workbook"
   ]
  },
  {
   "cell_type": "code",
   "execution_count": 2,
   "id": "b5ad8b25-1fa0-46ad-8f24-f460488ae3bc",
   "metadata": {},
   "outputs": [],
   "source": [
    "numbers = [x for x in range(1,51)]"
   ]
  },
  {
   "cell_type": "code",
   "execution_count": 3,
   "id": "4a4b4050-ae8e-44c9-91cd-b89a9385aa91",
   "metadata": {},
   "outputs": [],
   "source": [
    "comb = combinations(numbers, r=5)"
   ]
  },
  {
   "cell_type": "code",
   "execution_count": 4,
   "id": "4e07c1e4-f7a1-4155-a0db-3b2e3aaef39a",
   "metadata": {},
   "outputs": [],
   "source": [
    "df = pd.DataFrame(comb, columns=['1st Num','2nd Num','3rd Num','4th Num','5th Num'])"
   ]
  },
  {
   "cell_type": "code",
   "execution_count": 5,
   "id": "582aa715-81f5-4142-91d9-810fe5a60179",
   "metadata": {},
   "outputs": [
    {
     "data": {
      "text/html": [
       "<div>\n",
       "<style scoped>\n",
       "    .dataframe tbody tr th:only-of-type {\n",
       "        vertical-align: middle;\n",
       "    }\n",
       "\n",
       "    .dataframe tbody tr th {\n",
       "        vertical-align: top;\n",
       "    }\n",
       "\n",
       "    .dataframe thead th {\n",
       "        text-align: right;\n",
       "    }\n",
       "</style>\n",
       "<table border=\"1\" class=\"dataframe\">\n",
       "  <thead>\n",
       "    <tr style=\"text-align: right;\">\n",
       "      <th></th>\n",
       "      <th>1st Num</th>\n",
       "      <th>2nd Num</th>\n",
       "      <th>3rd Num</th>\n",
       "      <th>4th Num</th>\n",
       "      <th>5th Num</th>\n",
       "    </tr>\n",
       "  </thead>\n",
       "  <tbody>\n",
       "    <tr>\n",
       "      <th>2118755</th>\n",
       "      <td>45</td>\n",
       "      <td>46</td>\n",
       "      <td>47</td>\n",
       "      <td>48</td>\n",
       "      <td>50</td>\n",
       "    </tr>\n",
       "    <tr>\n",
       "      <th>2118756</th>\n",
       "      <td>45</td>\n",
       "      <td>46</td>\n",
       "      <td>47</td>\n",
       "      <td>49</td>\n",
       "      <td>50</td>\n",
       "    </tr>\n",
       "    <tr>\n",
       "      <th>2118757</th>\n",
       "      <td>45</td>\n",
       "      <td>46</td>\n",
       "      <td>48</td>\n",
       "      <td>49</td>\n",
       "      <td>50</td>\n",
       "    </tr>\n",
       "    <tr>\n",
       "      <th>2118758</th>\n",
       "      <td>45</td>\n",
       "      <td>47</td>\n",
       "      <td>48</td>\n",
       "      <td>49</td>\n",
       "      <td>50</td>\n",
       "    </tr>\n",
       "    <tr>\n",
       "      <th>2118759</th>\n",
       "      <td>46</td>\n",
       "      <td>47</td>\n",
       "      <td>48</td>\n",
       "      <td>49</td>\n",
       "      <td>50</td>\n",
       "    </tr>\n",
       "  </tbody>\n",
       "</table>\n",
       "</div>"
      ],
      "text/plain": [
       "         1st Num  2nd Num  3rd Num  4th Num  5th Num\n",
       "2118755       45       46       47       48       50\n",
       "2118756       45       46       47       49       50\n",
       "2118757       45       46       48       49       50\n",
       "2118758       45       47       48       49       50\n",
       "2118759       46       47       48       49       50"
      ]
     },
     "execution_count": 5,
     "metadata": {},
     "output_type": "execute_result"
    }
   ],
   "source": [
    "df.tail()"
   ]
  },
  {
   "cell_type": "code",
   "execution_count": 6,
   "id": "8f0b9c59-1bff-413b-83da-e4a0f1fc0085",
   "metadata": {},
   "outputs": [],
   "source": [
    "# Dividing 2118759 rows into 10 equal parts\n",
    "\n",
    "df1 = df.iloc[0:211876,:]\n",
    "df2 = df.iloc[211876:423752,:]\n",
    "df3 = df.iloc[423752:635628,:]\n",
    "df4 = df.iloc[635628:847504,:]\n",
    "df5 = df.iloc[847504:1059380,:]\n",
    "df6 = df.iloc[1059380:1271256,:]\n",
    "df7 = df.iloc[1271256:1483132,:]\n",
    "df8 = df.iloc[1483132:1695008,:]\n",
    "df9 = df.iloc[1695008:1906884,:]\n",
    "df10 = df.iloc[1906884:,:]"
   ]
  },
  {
   "cell_type": "code",
   "execution_count": 7,
   "id": "92245ad4-e03c-4c53-9b5c-18823debf664",
   "metadata": {},
   "outputs": [],
   "source": [
    "file_path = r'E:/Python Programs/EuroAstro/total_combinations.xlsx'"
   ]
  },
  {
   "cell_type": "code",
   "execution_count": 8,
   "id": "3cf02076-2aee-4829-a84e-f66ade8473d3",
   "metadata": {},
   "outputs": [],
   "source": [
    "# A represents the entire excel sheet\n",
    "\n",
    "A1 = load_workbook(file_path)"
   ]
  },
  {
   "cell_type": "code",
   "execution_count": 10,
   "id": "6eae97ef-8411-48ff-968e-20c25818d49a",
   "metadata": {},
   "outputs": [],
   "source": [
    "# Loads the excel file temporarily in the memory\n",
    "\n",
    "B1 = A1['Sheet1']"
   ]
  },
  {
   "cell_type": "code",
   "execution_count": 11,
   "id": "f593e7c7-584c-4abf-8414-620bb2274cdf",
   "metadata": {},
   "outputs": [],
   "source": [
    "for r in dataframe_to_rows(df1, index=False):\n",
    "    B1.append(r)"
   ]
  },
  {
   "cell_type": "code",
   "execution_count": 12,
   "id": "6dd2644e-d2fa-4a74-b814-ef57c13da7a0",
   "metadata": {},
   "outputs": [],
   "source": [
    "A1.save(file_path)"
   ]
  },
  {
   "cell_type": "code",
   "execution_count": 13,
   "id": "59bd63fa-55d7-42cd-9fa0-80c6d1adb1da",
   "metadata": {},
   "outputs": [],
   "source": [
    "A2 = load_workbook(file_path)\n",
    "B2 = A2['Sheet2']\n",
    "\n",
    "for r in dataframe_to_rows(df2, index=False):\n",
    "    B2.append(r)\n",
    "\n",
    "A2.save(file_path)"
   ]
  },
  {
   "cell_type": "code",
   "execution_count": 14,
   "id": "c36018d8-eb8e-45ab-bd81-e14c1eb3071e",
   "metadata": {},
   "outputs": [],
   "source": [
    "A3 = load_workbook(file_path)\n",
    "B3 = A3['Sheet3']\n",
    "\n",
    "for r in dataframe_to_rows(df3, index=False):\n",
    "    B3.append(r)\n",
    "\n",
    "A3.save(file_path)"
   ]
  },
  {
   "cell_type": "code",
   "execution_count": 15,
   "id": "c2f1b60a-be05-4203-9c4f-facd71e9704e",
   "metadata": {},
   "outputs": [],
   "source": [
    "A4 = load_workbook(file_path)\n",
    "B4 = A4['Sheet4']\n",
    "\n",
    "for r in dataframe_to_rows(df4, index=False):\n",
    "    B4.append(r)\n",
    "\n",
    "A4.save(file_path)"
   ]
  },
  {
   "cell_type": "code",
   "execution_count": 16,
   "id": "1d15614b-6481-48bd-b7ce-de014d004bf7",
   "metadata": {},
   "outputs": [],
   "source": [
    "A5 = load_workbook(file_path)\n",
    "B5 = A5['Sheet5']\n",
    "\n",
    "for r in dataframe_to_rows(df5, index=False):\n",
    "    B5.append(r)\n",
    "\n",
    "A5.save(file_path)"
   ]
  },
  {
   "cell_type": "code",
   "execution_count": 17,
   "id": "82ef3a71-70b5-4296-ba51-3a3415f81f3e",
   "metadata": {},
   "outputs": [],
   "source": [
    "A6 = load_workbook(file_path)\n",
    "B6 = A6['Sheet6']\n",
    "\n",
    "for r in dataframe_to_rows(df6, index=False):\n",
    "    B6.append(r)\n",
    "\n",
    "A6.save(file_path)"
   ]
  },
  {
   "cell_type": "code",
   "execution_count": 18,
   "id": "3d148fcd-3aba-4458-a42b-f26eefa7a6b7",
   "metadata": {},
   "outputs": [],
   "source": [
    "A7 = load_workbook(file_path)\n",
    "B7 = A7['Sheet7']\n",
    "\n",
    "for r in dataframe_to_rows(df7, index=False):\n",
    "    B7.append(r)\n",
    "\n",
    "A7.save(file_path)"
   ]
  },
  {
   "cell_type": "code",
   "execution_count": 19,
   "id": "582c8c6e-626a-44ed-a746-ae7e441d3e6a",
   "metadata": {},
   "outputs": [],
   "source": [
    "A8 = load_workbook(file_path)\n",
    "B8 = A8['Sheet8']\n",
    "\n",
    "for r in dataframe_to_rows(df8, index=False):\n",
    "    B8.append(r)\n",
    "\n",
    "A8.save(file_path)"
   ]
  },
  {
   "cell_type": "code",
   "execution_count": 20,
   "id": "a1e381c3-f7f1-49d9-a43f-d6fd6b26f379",
   "metadata": {},
   "outputs": [],
   "source": [
    "A9 = load_workbook(file_path)\n",
    "B9 = A9['Sheet9']\n",
    "\n",
    "for r in dataframe_to_rows(df9, index=False):\n",
    "    B9.append(r)\n",
    "\n",
    "A9.save(file_path)"
   ]
  },
  {
   "cell_type": "code",
   "execution_count": 21,
   "id": "dd6c0bbc-ba68-49e8-a860-b35831d57de2",
   "metadata": {},
   "outputs": [],
   "source": [
    "A10 = load_workbook(file_path)\n",
    "B10 = A10['Sheet10']\n",
    "\n",
    "for r in dataframe_to_rows(df10, index=False):\n",
    "    B10.append(r)\n",
    "\n",
    "A10.save(file_path)"
   ]
  },
  {
   "cell_type": "code",
   "execution_count": null,
   "id": "399c0d4f-e7e8-4619-b395-9f0e7ab4613e",
   "metadata": {},
   "outputs": [],
   "source": []
  }
 ],
 "metadata": {
  "kernelspec": {
   "display_name": "Python 3 (ipykernel)",
   "language": "python",
   "name": "python3"
  },
  "language_info": {
   "codemirror_mode": {
    "name": "ipython",
    "version": 3
   },
   "file_extension": ".py",
   "mimetype": "text/x-python",
   "name": "python",
   "nbconvert_exporter": "python",
   "pygments_lexer": "ipython3",
   "version": "3.11.7"
  }
 },
 "nbformat": 4,
 "nbformat_minor": 5
}

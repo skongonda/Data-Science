{
 "cells": [
  {
   "cell_type": "code",
   "execution_count": 1,
   "id": "a0915bae-e601-442a-ba82-5b47ad0a04c7",
   "metadata": {},
   "outputs": [],
   "source": [
    "import pandas as pd\n",
    "import numpy as np\n",
    "\n",
    "from tensorflow.keras.models import Sequential\n",
    "from tensorflow.keras.layers import LSTM, Dense\n",
    "\n",
    "import warnings\n",
    "warnings.filterwarnings(\"ignore\")"
   ]
  },
  {
   "cell_type": "code",
   "execution_count": 2,
   "id": "5a0404ce-13df-4cd2-bfa6-3511f2ac7e29",
   "metadata": {},
   "outputs": [],
   "source": [
    "# Load the Excel file\n",
    "\n",
    "file_path = 'E:/Python Programs/EuroAstro/total_combinations.xlsx'\n",
    "data = pd.read_excel(file_path, sheet_name=None)  # Load all sheets into a dictionary"
   ]
  },
  {
   "cell_type": "code",
   "execution_count": 3,
   "id": "e3bb2e87-a4a6-4d2f-9aeb-d2582a0704b8",
   "metadata": {},
   "outputs": [
    {
     "data": {
      "text/plain": [
       "dict"
      ]
     },
     "execution_count": 3,
     "metadata": {},
     "output_type": "execute_result"
    }
   ],
   "source": [
    "type(data)"
   ]
  },
  {
   "cell_type": "code",
   "execution_count": 10,
   "id": "fd2329ca-2925-4c44-b580-e98d24ce0075",
   "metadata": {},
   "outputs": [
    {
     "data": {
      "text/html": [
       "<div>\n",
       "<style scoped>\n",
       "    .dataframe tbody tr th:only-of-type {\n",
       "        vertical-align: middle;\n",
       "    }\n",
       "\n",
       "    .dataframe tbody tr th {\n",
       "        vertical-align: top;\n",
       "    }\n",
       "\n",
       "    .dataframe thead th {\n",
       "        text-align: right;\n",
       "    }\n",
       "</style>\n",
       "<table border=\"1\" class=\"dataframe\">\n",
       "  <thead>\n",
       "    <tr style=\"text-align: right;\">\n",
       "      <th></th>\n",
       "      <th>1st Num</th>\n",
       "      <th>2nd Num</th>\n",
       "      <th>3rd Num</th>\n",
       "      <th>4th Num</th>\n",
       "      <th>5th Num</th>\n",
       "      <th>Unnamed: 5</th>\n",
       "    </tr>\n",
       "  </thead>\n",
       "  <tbody>\n",
       "    <tr>\n",
       "      <th>0</th>\n",
       "      <td>1</td>\n",
       "      <td>2</td>\n",
       "      <td>3</td>\n",
       "      <td>4</td>\n",
       "      <td>5</td>\n",
       "      <td>1 2 3 4 5</td>\n",
       "    </tr>\n",
       "    <tr>\n",
       "      <th>1</th>\n",
       "      <td>1</td>\n",
       "      <td>2</td>\n",
       "      <td>3</td>\n",
       "      <td>4</td>\n",
       "      <td>6</td>\n",
       "      <td>1 2 3 4 6</td>\n",
       "    </tr>\n",
       "    <tr>\n",
       "      <th>2</th>\n",
       "      <td>1</td>\n",
       "      <td>2</td>\n",
       "      <td>3</td>\n",
       "      <td>4</td>\n",
       "      <td>7</td>\n",
       "      <td>1 2 3 4 7</td>\n",
       "    </tr>\n",
       "    <tr>\n",
       "      <th>3</th>\n",
       "      <td>1</td>\n",
       "      <td>2</td>\n",
       "      <td>3</td>\n",
       "      <td>4</td>\n",
       "      <td>8</td>\n",
       "      <td>1 2 3 4 8</td>\n",
       "    </tr>\n",
       "    <tr>\n",
       "      <th>4</th>\n",
       "      <td>1</td>\n",
       "      <td>2</td>\n",
       "      <td>3</td>\n",
       "      <td>4</td>\n",
       "      <td>9</td>\n",
       "      <td>1 2 3 4 9</td>\n",
       "    </tr>\n",
       "    <tr>\n",
       "      <th>...</th>\n",
       "      <td>...</td>\n",
       "      <td>...</td>\n",
       "      <td>...</td>\n",
       "      <td>...</td>\n",
       "      <td>...</td>\n",
       "      <td>...</td>\n",
       "    </tr>\n",
       "    <tr>\n",
       "      <th>211871</th>\n",
       "      <td>1</td>\n",
       "      <td>46</td>\n",
       "      <td>47</td>\n",
       "      <td>48</td>\n",
       "      <td>49</td>\n",
       "      <td>1 46 47 48 49</td>\n",
       "    </tr>\n",
       "    <tr>\n",
       "      <th>211872</th>\n",
       "      <td>1</td>\n",
       "      <td>46</td>\n",
       "      <td>47</td>\n",
       "      <td>48</td>\n",
       "      <td>50</td>\n",
       "      <td>1 46 47 48 50</td>\n",
       "    </tr>\n",
       "    <tr>\n",
       "      <th>211873</th>\n",
       "      <td>1</td>\n",
       "      <td>46</td>\n",
       "      <td>47</td>\n",
       "      <td>49</td>\n",
       "      <td>50</td>\n",
       "      <td>1 46 47 49 50</td>\n",
       "    </tr>\n",
       "    <tr>\n",
       "      <th>211874</th>\n",
       "      <td>1</td>\n",
       "      <td>46</td>\n",
       "      <td>48</td>\n",
       "      <td>49</td>\n",
       "      <td>50</td>\n",
       "      <td>1 46 48 49 50</td>\n",
       "    </tr>\n",
       "    <tr>\n",
       "      <th>211875</th>\n",
       "      <td>1</td>\n",
       "      <td>47</td>\n",
       "      <td>48</td>\n",
       "      <td>49</td>\n",
       "      <td>50</td>\n",
       "      <td>1 47 48 49 50</td>\n",
       "    </tr>\n",
       "  </tbody>\n",
       "</table>\n",
       "<p>211876 rows × 6 columns</p>\n",
       "</div>"
      ],
      "text/plain": [
       "        1st Num  2nd Num  3rd Num  4th Num  5th Num     Unnamed: 5\n",
       "0             1        2        3        4        5      1 2 3 4 5\n",
       "1             1        2        3        4        6      1 2 3 4 6\n",
       "2             1        2        3        4        7      1 2 3 4 7\n",
       "3             1        2        3        4        8      1 2 3 4 8\n",
       "4             1        2        3        4        9      1 2 3 4 9\n",
       "...         ...      ...      ...      ...      ...            ...\n",
       "211871        1       46       47       48       49  1 46 47 48 49\n",
       "211872        1       46       47       48       50  1 46 47 48 50\n",
       "211873        1       46       47       49       50  1 46 47 49 50\n",
       "211874        1       46       48       49       50  1 46 48 49 50\n",
       "211875        1       47       48       49       50  1 47 48 49 50\n",
       "\n",
       "[211876 rows x 6 columns]"
      ]
     },
     "execution_count": 10,
     "metadata": {},
     "output_type": "execute_result"
    }
   ],
   "source": [
    "data[\"Sheet1\"]"
   ]
  },
  {
   "cell_type": "code",
   "execution_count": 11,
   "id": "fb3f422e-49ec-43e8-a490-c32796d43fbd",
   "metadata": {},
   "outputs": [],
   "source": [
    "# Combine data from all sheets into a single DataFrame\n",
    "\n",
    "all_data = pd.concat(data.values())"
   ]
  },
  {
   "cell_type": "code",
   "execution_count": 12,
   "id": "18a85177-faa3-4030-b0b5-a68040c4c767",
   "metadata": {},
   "outputs": [
    {
     "data": {
      "text/html": [
       "<div>\n",
       "<style scoped>\n",
       "    .dataframe tbody tr th:only-of-type {\n",
       "        vertical-align: middle;\n",
       "    }\n",
       "\n",
       "    .dataframe tbody tr th {\n",
       "        vertical-align: top;\n",
       "    }\n",
       "\n",
       "    .dataframe thead th {\n",
       "        text-align: right;\n",
       "    }\n",
       "</style>\n",
       "<table border=\"1\" class=\"dataframe\">\n",
       "  <thead>\n",
       "    <tr style=\"text-align: right;\">\n",
       "      <th></th>\n",
       "      <th>1st Num</th>\n",
       "      <th>2nd Num</th>\n",
       "      <th>3rd Num</th>\n",
       "      <th>4th Num</th>\n",
       "      <th>5th Num</th>\n",
       "      <th>Unnamed: 5</th>\n",
       "    </tr>\n",
       "  </thead>\n",
       "  <tbody>\n",
       "    <tr>\n",
       "      <th>0</th>\n",
       "      <td>1</td>\n",
       "      <td>2</td>\n",
       "      <td>3</td>\n",
       "      <td>4</td>\n",
       "      <td>5</td>\n",
       "      <td>1 2 3 4 5</td>\n",
       "    </tr>\n",
       "    <tr>\n",
       "      <th>1</th>\n",
       "      <td>1</td>\n",
       "      <td>2</td>\n",
       "      <td>3</td>\n",
       "      <td>4</td>\n",
       "      <td>6</td>\n",
       "      <td>1 2 3 4 6</td>\n",
       "    </tr>\n",
       "    <tr>\n",
       "      <th>2</th>\n",
       "      <td>1</td>\n",
       "      <td>2</td>\n",
       "      <td>3</td>\n",
       "      <td>4</td>\n",
       "      <td>7</td>\n",
       "      <td>1 2 3 4 7</td>\n",
       "    </tr>\n",
       "    <tr>\n",
       "      <th>3</th>\n",
       "      <td>1</td>\n",
       "      <td>2</td>\n",
       "      <td>3</td>\n",
       "      <td>4</td>\n",
       "      <td>8</td>\n",
       "      <td>1 2 3 4 8</td>\n",
       "    </tr>\n",
       "    <tr>\n",
       "      <th>4</th>\n",
       "      <td>1</td>\n",
       "      <td>2</td>\n",
       "      <td>3</td>\n",
       "      <td>4</td>\n",
       "      <td>9</td>\n",
       "      <td>1 2 3 4 9</td>\n",
       "    </tr>\n",
       "    <tr>\n",
       "      <th>...</th>\n",
       "      <td>...</td>\n",
       "      <td>...</td>\n",
       "      <td>...</td>\n",
       "      <td>...</td>\n",
       "      <td>...</td>\n",
       "      <td>...</td>\n",
       "    </tr>\n",
       "    <tr>\n",
       "      <th>211871</th>\n",
       "      <td>45</td>\n",
       "      <td>46</td>\n",
       "      <td>47</td>\n",
       "      <td>48</td>\n",
       "      <td>50</td>\n",
       "      <td>45 46 47 48 50</td>\n",
       "    </tr>\n",
       "    <tr>\n",
       "      <th>211872</th>\n",
       "      <td>45</td>\n",
       "      <td>46</td>\n",
       "      <td>47</td>\n",
       "      <td>49</td>\n",
       "      <td>50</td>\n",
       "      <td>45 46 47 49 50</td>\n",
       "    </tr>\n",
       "    <tr>\n",
       "      <th>211873</th>\n",
       "      <td>45</td>\n",
       "      <td>46</td>\n",
       "      <td>48</td>\n",
       "      <td>49</td>\n",
       "      <td>50</td>\n",
       "      <td>45 46 48 49 50</td>\n",
       "    </tr>\n",
       "    <tr>\n",
       "      <th>211874</th>\n",
       "      <td>45</td>\n",
       "      <td>47</td>\n",
       "      <td>48</td>\n",
       "      <td>49</td>\n",
       "      <td>50</td>\n",
       "      <td>45 47 48 49 50</td>\n",
       "    </tr>\n",
       "    <tr>\n",
       "      <th>211875</th>\n",
       "      <td>46</td>\n",
       "      <td>47</td>\n",
       "      <td>48</td>\n",
       "      <td>49</td>\n",
       "      <td>50</td>\n",
       "      <td>46 47 48 49 50</td>\n",
       "    </tr>\n",
       "  </tbody>\n",
       "</table>\n",
       "<p>2118760 rows × 6 columns</p>\n",
       "</div>"
      ],
      "text/plain": [
       "        1st Num  2nd Num  3rd Num  4th Num  5th Num      Unnamed: 5\n",
       "0             1        2        3        4        5       1 2 3 4 5\n",
       "1             1        2        3        4        6       1 2 3 4 6\n",
       "2             1        2        3        4        7       1 2 3 4 7\n",
       "3             1        2        3        4        8       1 2 3 4 8\n",
       "4             1        2        3        4        9       1 2 3 4 9\n",
       "...         ...      ...      ...      ...      ...             ...\n",
       "211871       45       46       47       48       50  45 46 47 48 50\n",
       "211872       45       46       47       49       50  45 46 47 49 50\n",
       "211873       45       46       48       49       50  45 46 48 49 50\n",
       "211874       45       47       48       49       50  45 47 48 49 50\n",
       "211875       46       47       48       49       50  46 47 48 49 50\n",
       "\n",
       "[2118760 rows x 6 columns]"
      ]
     },
     "execution_count": 12,
     "metadata": {},
     "output_type": "execute_result"
    }
   ],
   "source": [
    "all_data"
   ]
  },
  {
   "cell_type": "code",
   "execution_count": 13,
   "id": "210ff21a-67a9-4a1a-bbe3-9e054f308356",
   "metadata": {},
   "outputs": [
    {
     "data": {
      "text/plain": [
       "(2118760, 6)"
      ]
     },
     "execution_count": 13,
     "metadata": {},
     "output_type": "execute_result"
    }
   ],
   "source": [
    "all_data.shape"
   ]
  },
  {
   "cell_type": "code",
   "execution_count": 15,
   "id": "9a9bac82-110b-4b96-993c-5c4eae80386c",
   "metadata": {},
   "outputs": [],
   "source": [
    "all_data.drop(labels=['1st Num','2nd Num','3rd Num','4th Num','5th Num'], axis=1, inplace=True)"
   ]
  },
  {
   "cell_type": "code",
   "execution_count": 28,
   "id": "b831ca89-017e-4b02-a8ad-5a1d658d8666",
   "metadata": {},
   "outputs": [],
   "source": [
    "all_data.reset_index(inplace=True)"
   ]
  },
  {
   "cell_type": "code",
   "execution_count": 29,
   "id": "dcf42cb2-a524-4e9d-b72a-e8f2da9abcb8",
   "metadata": {},
   "outputs": [
    {
     "data": {
      "text/plain": [
       "(2118760, 2)"
      ]
     },
     "execution_count": 29,
     "metadata": {},
     "output_type": "execute_result"
    }
   ],
   "source": [
    "all_data.shape"
   ]
  },
  {
   "cell_type": "code",
   "execution_count": 30,
   "id": "c215cf34-c582-4a99-bae1-a70993dc52c1",
   "metadata": {},
   "outputs": [
    {
     "data": {
      "text/plain": [
       "'1 2 3 4 6'"
      ]
     },
     "execution_count": 30,
     "metadata": {},
     "output_type": "execute_result"
    }
   ],
   "source": [
    "all_data[\"Unnamed: 5\"][1]"
   ]
  },
  {
   "cell_type": "code",
   "execution_count": 31,
   "id": "c61e461d-25e3-4823-baa3-5a00889a9f28",
   "metadata": {},
   "outputs": [],
   "source": [
    "# Convert string values to int One-Dimensional array\n",
    "\n",
    "for i in range(2118760):\n",
    "    all_data[\"Unnamed: 5\"][i] = np.fromstring(all_data[\"Unnamed: 5\"][i], sep=\" \", dtype='int32')"
   ]
  },
  {
   "cell_type": "code",
   "execution_count": 34,
   "id": "198f1e56-7316-485e-8f69-d18e424c8a98",
   "metadata": {},
   "outputs": [],
   "source": [
    "all_data.drop(labels=['index'],axis=1,inplace=True)"
   ]
  },
  {
   "cell_type": "code",
   "execution_count": 35,
   "id": "ffc28e26-62ef-417a-857b-2a940f5b5414",
   "metadata": {},
   "outputs": [
    {
     "data": {
      "text/html": [
       "<div>\n",
       "<style scoped>\n",
       "    .dataframe tbody tr th:only-of-type {\n",
       "        vertical-align: middle;\n",
       "    }\n",
       "\n",
       "    .dataframe tbody tr th {\n",
       "        vertical-align: top;\n",
       "    }\n",
       "\n",
       "    .dataframe thead th {\n",
       "        text-align: right;\n",
       "    }\n",
       "</style>\n",
       "<table border=\"1\" class=\"dataframe\">\n",
       "  <thead>\n",
       "    <tr style=\"text-align: right;\">\n",
       "      <th></th>\n",
       "      <th>Unnamed: 5</th>\n",
       "    </tr>\n",
       "  </thead>\n",
       "  <tbody>\n",
       "    <tr>\n",
       "      <th>0</th>\n",
       "      <td>[1, 2, 3, 4, 5]</td>\n",
       "    </tr>\n",
       "    <tr>\n",
       "      <th>1</th>\n",
       "      <td>[1, 2, 3, 4, 6]</td>\n",
       "    </tr>\n",
       "    <tr>\n",
       "      <th>2</th>\n",
       "      <td>[1, 2, 3, 4, 7]</td>\n",
       "    </tr>\n",
       "    <tr>\n",
       "      <th>3</th>\n",
       "      <td>[1, 2, 3, 4, 8]</td>\n",
       "    </tr>\n",
       "    <tr>\n",
       "      <th>4</th>\n",
       "      <td>[1, 2, 3, 4, 9]</td>\n",
       "    </tr>\n",
       "    <tr>\n",
       "      <th>...</th>\n",
       "      <td>...</td>\n",
       "    </tr>\n",
       "    <tr>\n",
       "      <th>2118755</th>\n",
       "      <td>[45, 46, 47, 48, 50]</td>\n",
       "    </tr>\n",
       "    <tr>\n",
       "      <th>2118756</th>\n",
       "      <td>[45, 46, 47, 49, 50]</td>\n",
       "    </tr>\n",
       "    <tr>\n",
       "      <th>2118757</th>\n",
       "      <td>[45, 46, 48, 49, 50]</td>\n",
       "    </tr>\n",
       "    <tr>\n",
       "      <th>2118758</th>\n",
       "      <td>[45, 47, 48, 49, 50]</td>\n",
       "    </tr>\n",
       "    <tr>\n",
       "      <th>2118759</th>\n",
       "      <td>[46, 47, 48, 49, 50]</td>\n",
       "    </tr>\n",
       "  </tbody>\n",
       "</table>\n",
       "<p>2118760 rows × 1 columns</p>\n",
       "</div>"
      ],
      "text/plain": [
       "                   Unnamed: 5\n",
       "0             [1, 2, 3, 4, 5]\n",
       "1             [1, 2, 3, 4, 6]\n",
       "2             [1, 2, 3, 4, 7]\n",
       "3             [1, 2, 3, 4, 8]\n",
       "4             [1, 2, 3, 4, 9]\n",
       "...                       ...\n",
       "2118755  [45, 46, 47, 48, 50]\n",
       "2118756  [45, 46, 47, 49, 50]\n",
       "2118757  [45, 46, 48, 49, 50]\n",
       "2118758  [45, 47, 48, 49, 50]\n",
       "2118759  [46, 47, 48, 49, 50]\n",
       "\n",
       "[2118760 rows x 1 columns]"
      ]
     },
     "execution_count": 35,
     "metadata": {},
     "output_type": "execute_result"
    }
   ],
   "source": [
    "all_data"
   ]
  },
  {
   "cell_type": "code",
   "execution_count": 123,
   "id": "7b976f1c-e8fa-4e46-8574-aa38e15029bf",
   "metadata": {},
   "outputs": [],
   "source": [
    "all_data.to_hdf('E:/Python Programs/EuroAstro/total_combinations.h5',key='all_data',mode='w')"
   ]
  },
  {
   "cell_type": "code",
   "execution_count": 36,
   "id": "fa8f1dd9-b97a-4da7-b51a-ba142852af37",
   "metadata": {},
   "outputs": [],
   "source": [
    "# Convert DataFrame to numpy array for easier manipulation\n",
    "\n",
    "combinations = all_data.values"
   ]
  },
  {
   "cell_type": "code",
   "execution_count": 37,
   "id": "7bb0a444-0e5f-4ceb-9bc5-54dc9cd84f6e",
   "metadata": {},
   "outputs": [
    {
     "data": {
      "text/plain": [
       "array([[array([1, 2, 3, 4, 5])],\n",
       "       [array([1, 2, 3, 4, 6])],\n",
       "       [array([1, 2, 3, 4, 7])],\n",
       "       ...,\n",
       "       [array([45, 46, 48, 49, 50])],\n",
       "       [array([45, 47, 48, 49, 50])],\n",
       "       [array([46, 47, 48, 49, 50])]], dtype=object)"
      ]
     },
     "execution_count": 37,
     "metadata": {},
     "output_type": "execute_result"
    }
   ],
   "source": [
    "combinations"
   ]
  },
  {
   "cell_type": "code",
   "execution_count": 38,
   "id": "936c3b2b-f61a-4275-8fd8-005d28f1be1b",
   "metadata": {},
   "outputs": [],
   "source": [
    "# Normalize the data (optional, depending on the model's needs)\n",
    "\n",
    "combinations = combinations / 50.0  # Since the numbers range from 1 to 50"
   ]
  },
  {
   "cell_type": "code",
   "execution_count": 39,
   "id": "c910b132-4e78-4d4c-9b85-6309136ba558",
   "metadata": {},
   "outputs": [
    {
     "data": {
      "text/plain": [
       "array([[array([0.02, 0.04, 0.06, 0.08, 0.1 ])],\n",
       "       [array([0.02, 0.04, 0.06, 0.08, 0.12])],\n",
       "       [array([0.02, 0.04, 0.06, 0.08, 0.14])],\n",
       "       ...,\n",
       "       [array([0.9 , 0.92, 0.96, 0.98, 1.  ])],\n",
       "       [array([0.9 , 0.94, 0.96, 0.98, 1.  ])],\n",
       "       [array([0.92, 0.94, 0.96, 0.98, 1.  ])]], dtype=object)"
      ]
     },
     "execution_count": 39,
     "metadata": {},
     "output_type": "execute_result"
    }
   ],
   "source": [
    "combinations"
   ]
  },
  {
   "cell_type": "code",
   "execution_count": 40,
   "id": "391df2e0-0290-421c-a512-8744e8d16a91",
   "metadata": {},
   "outputs": [],
   "source": [
    "prev_occurred = pd.read_excel(\"E:/Python Programs/EuroAstro/Combinations_previously_occurred.xlsx\", sheet_name=None)"
   ]
  },
  {
   "cell_type": "code",
   "execution_count": 41,
   "id": "94a1509f-24d7-46da-8bec-9df391105a21",
   "metadata": {},
   "outputs": [
    {
     "data": {
      "text/plain": [
       "{'Sheet1':      Previously_Occurred\n",
       " 0          3  4 27 29 37\n",
       " 1         15 19 22 46 49\n",
       " 2          1  4 24 34 36\n",
       " 3          1  9 23 25 40\n",
       " 4         12 20 21 45 48\n",
       " ...                  ...\n",
       " 1682      15 22 35 44 48\n",
       " 1683        4 8 10 16 34\n",
       " 1684       4 19 23 35 37\n",
       " 1685       9 25 28 37 38\n",
       " 1686        5 7 12 33 46\n",
       " \n",
       " [1687 rows x 1 columns]}"
      ]
     },
     "execution_count": 41,
     "metadata": {},
     "output_type": "execute_result"
    }
   ],
   "source": [
    "prev_occurred"
   ]
  },
  {
   "cell_type": "code",
   "execution_count": 42,
   "id": "513f459f-d56b-4e44-912c-3eff41e301be",
   "metadata": {},
   "outputs": [],
   "source": [
    "prev_occurred = prev_occurred['Sheet1']"
   ]
  },
  {
   "cell_type": "code",
   "execution_count": 43,
   "id": "8fac2b16-96aa-4f11-b3e2-6fbb222f8770",
   "metadata": {},
   "outputs": [
    {
     "data": {
      "text/html": [
       "<div>\n",
       "<style scoped>\n",
       "    .dataframe tbody tr th:only-of-type {\n",
       "        vertical-align: middle;\n",
       "    }\n",
       "\n",
       "    .dataframe tbody tr th {\n",
       "        vertical-align: top;\n",
       "    }\n",
       "\n",
       "    .dataframe thead th {\n",
       "        text-align: right;\n",
       "    }\n",
       "</style>\n",
       "<table border=\"1\" class=\"dataframe\">\n",
       "  <thead>\n",
       "    <tr style=\"text-align: right;\">\n",
       "      <th></th>\n",
       "      <th>Previously_Occurred</th>\n",
       "    </tr>\n",
       "  </thead>\n",
       "  <tbody>\n",
       "    <tr>\n",
       "      <th>0</th>\n",
       "      <td>3  4 27 29 37</td>\n",
       "    </tr>\n",
       "    <tr>\n",
       "      <th>1</th>\n",
       "      <td>15 19 22 46 49</td>\n",
       "    </tr>\n",
       "    <tr>\n",
       "      <th>2</th>\n",
       "      <td>1  4 24 34 36</td>\n",
       "    </tr>\n",
       "    <tr>\n",
       "      <th>3</th>\n",
       "      <td>1  9 23 25 40</td>\n",
       "    </tr>\n",
       "    <tr>\n",
       "      <th>4</th>\n",
       "      <td>12 20 21 45 48</td>\n",
       "    </tr>\n",
       "    <tr>\n",
       "      <th>...</th>\n",
       "      <td>...</td>\n",
       "    </tr>\n",
       "    <tr>\n",
       "      <th>1682</th>\n",
       "      <td>15 22 35 44 48</td>\n",
       "    </tr>\n",
       "    <tr>\n",
       "      <th>1683</th>\n",
       "      <td>4 8 10 16 34</td>\n",
       "    </tr>\n",
       "    <tr>\n",
       "      <th>1684</th>\n",
       "      <td>4 19 23 35 37</td>\n",
       "    </tr>\n",
       "    <tr>\n",
       "      <th>1685</th>\n",
       "      <td>9 25 28 37 38</td>\n",
       "    </tr>\n",
       "    <tr>\n",
       "      <th>1686</th>\n",
       "      <td>5 7 12 33 46</td>\n",
       "    </tr>\n",
       "  </tbody>\n",
       "</table>\n",
       "<p>1687 rows × 1 columns</p>\n",
       "</div>"
      ],
      "text/plain": [
       "     Previously_Occurred\n",
       "0          3  4 27 29 37\n",
       "1         15 19 22 46 49\n",
       "2          1  4 24 34 36\n",
       "3          1  9 23 25 40\n",
       "4         12 20 21 45 48\n",
       "...                  ...\n",
       "1682      15 22 35 44 48\n",
       "1683        4 8 10 16 34\n",
       "1684       4 19 23 35 37\n",
       "1685       9 25 28 37 38\n",
       "1686        5 7 12 33 46\n",
       "\n",
       "[1687 rows x 1 columns]"
      ]
     },
     "execution_count": 43,
     "metadata": {},
     "output_type": "execute_result"
    }
   ],
   "source": [
    "prev_occurred"
   ]
  },
  {
   "cell_type": "code",
   "execution_count": 44,
   "id": "cdb1b210-febd-4def-94aa-9eeb6aab9796",
   "metadata": {},
   "outputs": [
    {
     "data": {
      "text/plain": [
       "(1687, 1)"
      ]
     },
     "execution_count": 44,
     "metadata": {},
     "output_type": "execute_result"
    }
   ],
   "source": [
    "prev_occurred.shape"
   ]
  },
  {
   "cell_type": "code",
   "execution_count": 51,
   "id": "442b7975-a8cc-4c8a-b8f2-befb3563ccfb",
   "metadata": {},
   "outputs": [
    {
     "data": {
      "text/plain": [
       "pandas.core.frame.DataFrame"
      ]
     },
     "execution_count": 51,
     "metadata": {},
     "output_type": "execute_result"
    }
   ],
   "source": [
    "type(prev_occurred)"
   ]
  },
  {
   "cell_type": "code",
   "execution_count": 47,
   "id": "e4b9b299-54c4-47d6-b4a3-e9650bc3e32e",
   "metadata": {},
   "outputs": [
    {
     "data": {
      "text/html": [
       "<div>\n",
       "<style scoped>\n",
       "    .dataframe tbody tr th:only-of-type {\n",
       "        vertical-align: middle;\n",
       "    }\n",
       "\n",
       "    .dataframe tbody tr th {\n",
       "        vertical-align: top;\n",
       "    }\n",
       "\n",
       "    .dataframe thead th {\n",
       "        text-align: right;\n",
       "    }\n",
       "</style>\n",
       "<table border=\"1\" class=\"dataframe\">\n",
       "  <thead>\n",
       "    <tr style=\"text-align: right;\">\n",
       "      <th></th>\n",
       "      <th>Previously_Occurred</th>\n",
       "    </tr>\n",
       "  </thead>\n",
       "  <tbody>\n",
       "    <tr>\n",
       "      <th>0</th>\n",
       "      <td>3  4 27 29 37</td>\n",
       "    </tr>\n",
       "  </tbody>\n",
       "</table>\n",
       "</div>"
      ],
      "text/plain": [
       "  Previously_Occurred\n",
       "0       3  4 27 29 37"
      ]
     },
     "execution_count": 47,
     "metadata": {},
     "output_type": "execute_result"
    }
   ],
   "source": [
    "prev_occurred.iloc[0:1,:]"
   ]
  },
  {
   "cell_type": "code",
   "execution_count": 52,
   "id": "1977aa3d-129a-4709-a9ed-0a42689b481d",
   "metadata": {},
   "outputs": [
    {
     "data": {
      "text/plain": [
       "pandas.core.frame.DataFrame"
      ]
     },
     "execution_count": 52,
     "metadata": {},
     "output_type": "execute_result"
    }
   ],
   "source": [
    "type(prev_occurred.iloc[0:1,:])"
   ]
  },
  {
   "cell_type": "code",
   "execution_count": 53,
   "id": "447f8563-e4e2-472e-9ed0-9f684504e286",
   "metadata": {},
   "outputs": [
    {
     "data": {
      "text/plain": [
       "array([[' 3  4 27 29 37'],\n",
       "       ['15 19 22 46 49'],\n",
       "       [' 1  4 24 34 36'],\n",
       "       ...,\n",
       "       ['4 19 23 35 37'],\n",
       "       ['9 25 28 37 38'],\n",
       "       ['5 7 12 33 46']], dtype=object)"
      ]
     },
     "execution_count": 53,
     "metadata": {},
     "output_type": "execute_result"
    }
   ],
   "source": [
    "prev_occurred.values"
   ]
  },
  {
   "cell_type": "code",
   "execution_count": 54,
   "id": "9f7186b0-2f18-4047-beb9-0430b53055b9",
   "metadata": {},
   "outputs": [
    {
     "data": {
      "text/plain": [
       "' 3  4 27 29 37'"
      ]
     },
     "execution_count": 54,
     "metadata": {},
     "output_type": "execute_result"
    }
   ],
   "source": [
    "prev_occurred[\"Previously_Occurred\"][0]"
   ]
  },
  {
   "cell_type": "code",
   "execution_count": 55,
   "id": "207f2645-b213-4c93-abc2-8a8d474ce972",
   "metadata": {},
   "outputs": [],
   "source": [
    "# Convert string values to int One-Dimensional array\n",
    "\n",
    "for i in range(1687):\n",
    "    prev_occurred[\"Previously_Occurred\"][i] = np.fromstring(prev_occurred[\"Previously_Occurred\"][i], sep=\" \", dtype='int32')"
   ]
  },
  {
   "cell_type": "code",
   "execution_count": 56,
   "id": "be4eede8-d269-4ff7-82d7-7f1318203a59",
   "metadata": {},
   "outputs": [
    {
     "data": {
      "text/html": [
       "<div>\n",
       "<style scoped>\n",
       "    .dataframe tbody tr th:only-of-type {\n",
       "        vertical-align: middle;\n",
       "    }\n",
       "\n",
       "    .dataframe tbody tr th {\n",
       "        vertical-align: top;\n",
       "    }\n",
       "\n",
       "    .dataframe thead th {\n",
       "        text-align: right;\n",
       "    }\n",
       "</style>\n",
       "<table border=\"1\" class=\"dataframe\">\n",
       "  <thead>\n",
       "    <tr style=\"text-align: right;\">\n",
       "      <th></th>\n",
       "      <th>Previously_Occurred</th>\n",
       "    </tr>\n",
       "  </thead>\n",
       "  <tbody>\n",
       "    <tr>\n",
       "      <th>0</th>\n",
       "      <td>[3, 4, 27, 29, 37]</td>\n",
       "    </tr>\n",
       "    <tr>\n",
       "      <th>1</th>\n",
       "      <td>[15, 19, 22, 46, 49]</td>\n",
       "    </tr>\n",
       "    <tr>\n",
       "      <th>2</th>\n",
       "      <td>[1, 4, 24, 34, 36]</td>\n",
       "    </tr>\n",
       "    <tr>\n",
       "      <th>3</th>\n",
       "      <td>[1, 9, 23, 25, 40]</td>\n",
       "    </tr>\n",
       "    <tr>\n",
       "      <th>4</th>\n",
       "      <td>[12, 20, 21, 45, 48]</td>\n",
       "    </tr>\n",
       "    <tr>\n",
       "      <th>...</th>\n",
       "      <td>...</td>\n",
       "    </tr>\n",
       "    <tr>\n",
       "      <th>1682</th>\n",
       "      <td>[15, 22, 35, 44, 48]</td>\n",
       "    </tr>\n",
       "    <tr>\n",
       "      <th>1683</th>\n",
       "      <td>[4, 8, 10, 16, 34]</td>\n",
       "    </tr>\n",
       "    <tr>\n",
       "      <th>1684</th>\n",
       "      <td>[4, 19, 23, 35, 37]</td>\n",
       "    </tr>\n",
       "    <tr>\n",
       "      <th>1685</th>\n",
       "      <td>[9, 25, 28, 37, 38]</td>\n",
       "    </tr>\n",
       "    <tr>\n",
       "      <th>1686</th>\n",
       "      <td>[5, 7, 12, 33, 46]</td>\n",
       "    </tr>\n",
       "  </tbody>\n",
       "</table>\n",
       "<p>1687 rows × 1 columns</p>\n",
       "</div>"
      ],
      "text/plain": [
       "       Previously_Occurred\n",
       "0       [3, 4, 27, 29, 37]\n",
       "1     [15, 19, 22, 46, 49]\n",
       "2       [1, 4, 24, 34, 36]\n",
       "3       [1, 9, 23, 25, 40]\n",
       "4     [12, 20, 21, 45, 48]\n",
       "...                    ...\n",
       "1682  [15, 22, 35, 44, 48]\n",
       "1683    [4, 8, 10, 16, 34]\n",
       "1684   [4, 19, 23, 35, 37]\n",
       "1685   [9, 25, 28, 37, 38]\n",
       "1686    [5, 7, 12, 33, 46]\n",
       "\n",
       "[1687 rows x 1 columns]"
      ]
     },
     "execution_count": 56,
     "metadata": {},
     "output_type": "execute_result"
    }
   ],
   "source": [
    "prev_occurred"
   ]
  },
  {
   "cell_type": "code",
   "execution_count": 124,
   "id": "2efbdaee-e43f-4edb-90a0-29451f884c39",
   "metadata": {},
   "outputs": [],
   "source": [
    "prev_occurred.to_hdf('E:/Python Programs/EuroAstro/Previous_combinations.h5',key='prev_occurred',mode='w')"
   ]
  },
  {
   "cell_type": "code",
   "execution_count": 57,
   "id": "c184dca8-0dd9-4273-b4f1-a75949ba23df",
   "metadata": {},
   "outputs": [],
   "source": [
    "# Convert DataFrame to numpy array for easier manipulation\n",
    "\n",
    "Previous_combinations = prev_occurred.values"
   ]
  },
  {
   "cell_type": "code",
   "execution_count": 58,
   "id": "7c641fef-bd97-4845-942b-bada4e185c3b",
   "metadata": {},
   "outputs": [
    {
     "data": {
      "text/plain": [
       "array([[array([ 3,  4, 27, 29, 37])],\n",
       "       [array([15, 19, 22, 46, 49])],\n",
       "       [array([ 1,  4, 24, 34, 36])],\n",
       "       ...,\n",
       "       [array([ 4, 19, 23, 35, 37])],\n",
       "       [array([ 9, 25, 28, 37, 38])],\n",
       "       [array([ 5,  7, 12, 33, 46])]], dtype=object)"
      ]
     },
     "execution_count": 58,
     "metadata": {},
     "output_type": "execute_result"
    }
   ],
   "source": [
    "Previous_combinations"
   ]
  },
  {
   "cell_type": "code",
   "execution_count": 59,
   "id": "b9f46b13-f9c3-43e5-a108-349a557a3bb4",
   "metadata": {},
   "outputs": [],
   "source": [
    "# Normalize the data (optional, depending on the model's needs)\n",
    "\n",
    "Previous_combinations = Previous_combinations / 50.0  # Since the numbers range from 1 to 50"
   ]
  },
  {
   "cell_type": "code",
   "execution_count": 61,
   "id": "8902daa4-0f75-41f5-9c0b-a08638ae2135",
   "metadata": {},
   "outputs": [
    {
     "data": {
      "text/plain": [
       "array([[array([0.06, 0.08, 0.54, 0.58, 0.74])],\n",
       "       [array([0.3 , 0.38, 0.44, 0.92, 0.98])],\n",
       "       [array([0.02, 0.08, 0.48, 0.68, 0.72])],\n",
       "       ...,\n",
       "       [array([0.08, 0.38, 0.46, 0.7 , 0.74])],\n",
       "       [array([0.18, 0.5 , 0.56, 0.74, 0.76])],\n",
       "       [array([0.1 , 0.14, 0.24, 0.66, 0.92])]], dtype=object)"
      ]
     },
     "execution_count": 61,
     "metadata": {},
     "output_type": "execute_result"
    }
   ],
   "source": [
    "Previous_combinations"
   ]
  },
  {
   "cell_type": "code",
   "execution_count": 64,
   "id": "5add448e-dbf8-47ca-a5a6-99d19506a1d0",
   "metadata": {},
   "outputs": [
    {
     "data": {
      "text/plain": [
       "1687"
      ]
     },
     "execution_count": 64,
     "metadata": {},
     "output_type": "execute_result"
    }
   ],
   "source": [
    "len(Previous_combinations)"
   ]
  },
  {
   "cell_type": "code",
   "execution_count": 94,
   "id": "983efaa6-6d97-4f95-a265-d5c7ce9999e0",
   "metadata": {},
   "outputs": [],
   "source": [
    "X1,y1 = combinations, Previous_combinations"
   ]
  },
  {
   "cell_type": "code",
   "execution_count": 95,
   "id": "dcdef1ec-b323-46f2-bbed-1a5b78521c94",
   "metadata": {},
   "outputs": [
    {
     "data": {
      "text/plain": [
       "(2118760, 1)"
      ]
     },
     "execution_count": 95,
     "metadata": {},
     "output_type": "execute_result"
    }
   ],
   "source": [
    "X1.shape"
   ]
  },
  {
   "cell_type": "code",
   "execution_count": 96,
   "id": "bdaa2907-be9e-45c6-911c-9adb987a044e",
   "metadata": {},
   "outputs": [
    {
     "data": {
      "text/plain": [
       "(1687, 1)"
      ]
     },
     "execution_count": 96,
     "metadata": {},
     "output_type": "execute_result"
    }
   ],
   "source": [
    "y1.shape"
   ]
  },
  {
   "cell_type": "code",
   "execution_count": 97,
   "id": "f0898733-143f-481e-abcd-c474b1312d67",
   "metadata": {},
   "outputs": [],
   "source": [
    "# Flattening X \n",
    "# Now X should have shape (2118760, 5)\n",
    "\n",
    "X = np.array([x[0] for x in X1]) "
   ]
  },
  {
   "cell_type": "code",
   "execution_count": 98,
   "id": "c630f34f-cf92-4c7f-b84c-f653e3fe42d5",
   "metadata": {},
   "outputs": [
    {
     "data": {
      "text/plain": [
       "array([[0.02, 0.04, 0.06, 0.08, 0.1 ],\n",
       "       [0.02, 0.04, 0.06, 0.08, 0.12],\n",
       "       [0.02, 0.04, 0.06, 0.08, 0.14],\n",
       "       ...,\n",
       "       [0.9 , 0.92, 0.96, 0.98, 1.  ],\n",
       "       [0.9 , 0.94, 0.96, 0.98, 1.  ],\n",
       "       [0.92, 0.94, 0.96, 0.98, 1.  ]])"
      ]
     },
     "execution_count": 98,
     "metadata": {},
     "output_type": "execute_result"
    }
   ],
   "source": [
    "X"
   ]
  },
  {
   "cell_type": "code",
   "execution_count": 99,
   "id": "ffddcff9-3c63-4541-8044-463d076bf2ce",
   "metadata": {},
   "outputs": [],
   "source": [
    "# Flattening y \n",
    "# Now y should have shape (1687, 5)\n",
    "\n",
    "y = np.array([y[0] for y in y1])"
   ]
  },
  {
   "cell_type": "code",
   "execution_count": 100,
   "id": "20965ee2-ee9f-4ccf-bb1d-eb4797a23ee4",
   "metadata": {},
   "outputs": [
    {
     "data": {
      "text/plain": [
       "array([[0.06, 0.08, 0.54, 0.58, 0.74],\n",
       "       [0.3 , 0.38, 0.44, 0.92, 0.98],\n",
       "       [0.02, 0.08, 0.48, 0.68, 0.72],\n",
       "       ...,\n",
       "       [0.08, 0.38, 0.46, 0.7 , 0.74],\n",
       "       [0.18, 0.5 , 0.56, 0.74, 0.76],\n",
       "       [0.1 , 0.14, 0.24, 0.66, 0.92]])"
      ]
     },
     "execution_count": 100,
     "metadata": {},
     "output_type": "execute_result"
    }
   ],
   "source": [
    "y"
   ]
  },
  {
   "cell_type": "code",
   "execution_count": 101,
   "id": "896328ba-e40d-4e2b-905c-f6cd259c51c7",
   "metadata": {},
   "outputs": [
    {
     "name": "stdout",
     "output_type": "stream",
     "text": [
      "Shape of X: (2118760, 5)\n",
      "Shape of y: (1687, 5)\n"
     ]
    }
   ],
   "source": [
    "# Checking the shapes\n",
    "\n",
    "print(f\"Shape of X: {X.shape}\")\n",
    "print(f\"Shape of y: {y.shape}\")"
   ]
  },
  {
   "cell_type": "code",
   "execution_count": 102,
   "id": "67e807fb-8a64-46d4-b7cd-690330933698",
   "metadata": {},
   "outputs": [],
   "source": [
    "# Creating labels for y (positive samples)\n",
    "\n",
    "y_labels = np.ones((y.shape[0], 1))"
   ]
  },
  {
   "cell_type": "code",
   "execution_count": 103,
   "id": "ca357821-d291-440e-b4d0-4ff439b93807",
   "metadata": {},
   "outputs": [
    {
     "data": {
      "text/plain": [
       "array([[1.],\n",
       "       [1.],\n",
       "       [1.],\n",
       "       ...,\n",
       "       [1.],\n",
       "       [1.],\n",
       "       [1.]])"
      ]
     },
     "execution_count": 103,
     "metadata": {},
     "output_type": "execute_result"
    }
   ],
   "source": [
    "y_labels"
   ]
  },
  {
   "cell_type": "code",
   "execution_count": 104,
   "id": "2651dc4c-e0a2-4721-a5d0-28bc3a72af7e",
   "metadata": {},
   "outputs": [],
   "source": [
    "# Randomly sample from X to create negative samples\n",
    "# Ensure negative samples are not in y by excluding indices from y\n",
    "\n",
    "negative_sample_indices = np.random.choice(np.setdiff1d(np.arange(X.shape[0]), np.arange(y.shape[0])), y.shape[0], replace=False)\n",
    "X_negative_samples = X[negative_sample_indices]\n",
    "X_negative_labels = np.zeros((X_negative_samples.shape[0], 1))"
   ]
  },
  {
   "cell_type": "code",
   "execution_count": 105,
   "id": "cfbefd04-090f-458f-acae-7c2d36f2474b",
   "metadata": {},
   "outputs": [
    {
     "data": {
      "text/plain": [
       "array([[0.],\n",
       "       [0.],\n",
       "       [0.],\n",
       "       ...,\n",
       "       [0.],\n",
       "       [0.],\n",
       "       [0.]])"
      ]
     },
     "execution_count": 105,
     "metadata": {},
     "output_type": "execute_result"
    }
   ],
   "source": [
    "X_negative_labels"
   ]
  },
  {
   "cell_type": "code",
   "execution_count": 106,
   "id": "ab802b41-01f1-4117-885b-f2c314a0027d",
   "metadata": {},
   "outputs": [],
   "source": [
    "# Combine the positive and negative samples for training\n",
    "\n",
    "X_train = np.vstack((y, X_negative_samples))\n",
    "y_train = np.vstack((y_labels, X_negative_labels))"
   ]
  },
  {
   "cell_type": "code",
   "execution_count": 107,
   "id": "c33c8da1-0aa2-47b5-98f9-3eddc561af51",
   "metadata": {},
   "outputs": [],
   "source": [
    "# Shuffling the training data\n",
    "\n",
    "shuffle_indices = np.random.permutation(X_train.shape[0])\n",
    "X_train = X_train[shuffle_indices]\n",
    "y_train = y_train[shuffle_indices]"
   ]
  },
  {
   "cell_type": "code",
   "execution_count": 115,
   "id": "348eb6d3-c21b-40c1-920d-f7f04e863986",
   "metadata": {},
   "outputs": [],
   "source": [
    "# Building the model\n",
    "\n",
    "model = Sequential()\n",
    "\n",
    "model.add(Dense(256, activation='relu', input_shape=(5,)))\n",
    "\n",
    "model.add(Dense(128, activation='relu'))\n",
    "\n",
    "model.add(Dense(64, activation='relu'))\n",
    "\n",
    "model.add(Dense(32, activation='relu'))\n",
    "\n",
    "model.add(Dense(16, activation='relu'))\n",
    "\n",
    "model.add(Dense(8, activation='relu'))\n",
    "\n",
    "model.add(Dense(1, activation='sigmoid'))  # Sigmoid for binary classification"
   ]
  },
  {
   "cell_type": "code",
   "execution_count": 116,
   "id": "fa88a372-05b6-4de1-bebc-9d37b084ad33",
   "metadata": {},
   "outputs": [],
   "source": [
    "# Compiling the model\n",
    "\n",
    "model.compile(optimizer='adam', loss='binary_crossentropy', metrics=['accuracy'])"
   ]
  },
  {
   "cell_type": "code",
   "execution_count": 117,
   "id": "4857c405-cc04-4218-b3ad-7c0f4448a284",
   "metadata": {},
   "outputs": [
    {
     "name": "stdout",
     "output_type": "stream",
     "text": [
      "Epoch 1/200\n",
      "\u001b[1m85/85\u001b[0m \u001b[32m━━━━━━━━━━━━━━━━━━━━\u001b[0m\u001b[37m\u001b[0m \u001b[1m2s\u001b[0m 4ms/step - accuracy: 0.4806 - loss: 0.6947 - val_accuracy: 0.5096 - val_loss: 0.6929\n",
      "Epoch 2/200\n",
      "\u001b[1m85/85\u001b[0m \u001b[32m━━━━━━━━━━━━━━━━━━━━\u001b[0m\u001b[37m\u001b[0m \u001b[1m0s\u001b[0m 2ms/step - accuracy: 0.4809 - loss: 0.6938 - val_accuracy: 0.4948 - val_loss: 0.6932\n",
      "Epoch 3/200\n",
      "\u001b[1m85/85\u001b[0m \u001b[32m━━━━━━━━━━━━━━━━━━━━\u001b[0m\u001b[37m\u001b[0m \u001b[1m0s\u001b[0m 1ms/step - accuracy: 0.5143 - loss: 0.6931 - val_accuracy: 0.4993 - val_loss: 0.6931\n",
      "Epoch 4/200\n",
      "\u001b[1m85/85\u001b[0m \u001b[32m━━━━━━━━━━━━━━━━━━━━\u001b[0m\u001b[37m\u001b[0m \u001b[1m0s\u001b[0m 1ms/step - accuracy: 0.4828 - loss: 0.6933 - val_accuracy: 0.4978 - val_loss: 0.6931\n",
      "Epoch 5/200\n",
      "\u001b[1m85/85\u001b[0m \u001b[32m━━━━━━━━━━━━━━━━━━━━\u001b[0m\u001b[37m\u001b[0m \u001b[1m0s\u001b[0m 2ms/step - accuracy: 0.4818 - loss: 0.6932 - val_accuracy: 0.4904 - val_loss: 0.6933\n",
      "Epoch 6/200\n",
      "\u001b[1m85/85\u001b[0m \u001b[32m━━━━━━━━━━━━━━━━━━━━\u001b[0m\u001b[37m\u001b[0m \u001b[1m0s\u001b[0m 1ms/step - accuracy: 0.4845 - loss: 0.6933 - val_accuracy: 0.4904 - val_loss: 0.6934\n",
      "Epoch 7/200\n",
      "\u001b[1m85/85\u001b[0m \u001b[32m━━━━━━━━━━━━━━━━━━━━\u001b[0m\u001b[37m\u001b[0m \u001b[1m0s\u001b[0m 1ms/step - accuracy: 0.5013 - loss: 0.6932 - val_accuracy: 0.4904 - val_loss: 0.6933\n",
      "Epoch 8/200\n",
      "\u001b[1m85/85\u001b[0m \u001b[32m━━━━━━━━━━━━━━━━━━━━\u001b[0m\u001b[37m\u001b[0m \u001b[1m0s\u001b[0m 1ms/step - accuracy: 0.5044 - loss: 0.6931 - val_accuracy: 0.4904 - val_loss: 0.6933\n",
      "Epoch 9/200\n",
      "\u001b[1m85/85\u001b[0m \u001b[32m━━━━━━━━━━━━━━━━━━━━\u001b[0m\u001b[37m\u001b[0m \u001b[1m0s\u001b[0m 2ms/step - accuracy: 0.4968 - loss: 0.6932 - val_accuracy: 0.4904 - val_loss: 0.6932\n",
      "Epoch 10/200\n",
      "\u001b[1m85/85\u001b[0m \u001b[32m━━━━━━━━━━━━━━━━━━━━\u001b[0m\u001b[37m\u001b[0m \u001b[1m0s\u001b[0m 1ms/step - accuracy: 0.5075 - loss: 0.6931 - val_accuracy: 0.4904 - val_loss: 0.6932\n",
      "Epoch 11/200\n",
      "\u001b[1m85/85\u001b[0m \u001b[32m━━━━━━━━━━━━━━━━━━━━\u001b[0m\u001b[37m\u001b[0m \u001b[1m0s\u001b[0m 1ms/step - accuracy: 0.5173 - loss: 0.6930 - val_accuracy: 0.4904 - val_loss: 0.6933\n",
      "Epoch 12/200\n",
      "\u001b[1m85/85\u001b[0m \u001b[32m━━━━━━━━━━━━━━━━━━━━\u001b[0m\u001b[37m\u001b[0m \u001b[1m0s\u001b[0m 1ms/step - accuracy: 0.4985 - loss: 0.6932 - val_accuracy: 0.4904 - val_loss: 0.6933\n",
      "Epoch 13/200\n",
      "\u001b[1m85/85\u001b[0m \u001b[32m━━━━━━━━━━━━━━━━━━━━\u001b[0m\u001b[37m\u001b[0m \u001b[1m0s\u001b[0m 1ms/step - accuracy: 0.5056 - loss: 0.6931 - val_accuracy: 0.4904 - val_loss: 0.6932\n",
      "Epoch 14/200\n",
      "\u001b[1m85/85\u001b[0m \u001b[32m━━━━━━━━━━━━━━━━━━━━\u001b[0m\u001b[37m\u001b[0m \u001b[1m0s\u001b[0m 1ms/step - accuracy: 0.4840 - loss: 0.6933 - val_accuracy: 0.4904 - val_loss: 0.6933\n",
      "Epoch 15/200\n",
      "\u001b[1m85/85\u001b[0m \u001b[32m━━━━━━━━━━━━━━━━━━━━\u001b[0m\u001b[37m\u001b[0m \u001b[1m0s\u001b[0m 2ms/step - accuracy: 0.5031 - loss: 0.6933 - val_accuracy: 0.4904 - val_loss: 0.6935\n",
      "Epoch 16/200\n",
      "\u001b[1m85/85\u001b[0m \u001b[32m━━━━━━━━━━━━━━━━━━━━\u001b[0m\u001b[37m\u001b[0m \u001b[1m0s\u001b[0m 1ms/step - accuracy: 0.5052 - loss: 0.6932 - val_accuracy: 0.5037 - val_loss: 0.6932\n",
      "Epoch 17/200\n",
      "\u001b[1m85/85\u001b[0m \u001b[32m━━━━━━━━━━━━━━━━━━━━\u001b[0m\u001b[37m\u001b[0m \u001b[1m0s\u001b[0m 2ms/step - accuracy: 0.5132 - loss: 0.6932 - val_accuracy: 0.4904 - val_loss: 0.6932\n",
      "Epoch 18/200\n",
      "\u001b[1m85/85\u001b[0m \u001b[32m━━━━━━━━━━━━━━━━━━━━\u001b[0m\u001b[37m\u001b[0m \u001b[1m0s\u001b[0m 1ms/step - accuracy: 0.4876 - loss: 0.6932 - val_accuracy: 0.4904 - val_loss: 0.6931\n",
      "Epoch 19/200\n",
      "\u001b[1m85/85\u001b[0m \u001b[32m━━━━━━━━━━━━━━━━━━━━\u001b[0m\u001b[37m\u001b[0m \u001b[1m0s\u001b[0m 1ms/step - accuracy: 0.5110 - loss: 0.6931 - val_accuracy: 0.4904 - val_loss: 0.6933\n",
      "Epoch 20/200\n",
      "\u001b[1m85/85\u001b[0m \u001b[32m━━━━━━━━━━━━━━━━━━━━\u001b[0m\u001b[37m\u001b[0m \u001b[1m0s\u001b[0m 1ms/step - accuracy: 0.4831 - loss: 0.6933 - val_accuracy: 0.4904 - val_loss: 0.6932\n",
      "Epoch 21/200\n",
      "\u001b[1m85/85\u001b[0m \u001b[32m━━━━━━━━━━━━━━━━━━━━\u001b[0m\u001b[37m\u001b[0m \u001b[1m0s\u001b[0m 1ms/step - accuracy: 0.5026 - loss: 0.6932 - val_accuracy: 0.4904 - val_loss: 0.6933\n",
      "Epoch 22/200\n",
      "\u001b[1m85/85\u001b[0m \u001b[32m━━━━━━━━━━━━━━━━━━━━\u001b[0m\u001b[37m\u001b[0m \u001b[1m0s\u001b[0m 2ms/step - accuracy: 0.4997 - loss: 0.6932 - val_accuracy: 0.4904 - val_loss: 0.6932\n",
      "Epoch 23/200\n",
      "\u001b[1m85/85\u001b[0m \u001b[32m━━━━━━━━━━━━━━━━━━━━\u001b[0m\u001b[37m\u001b[0m \u001b[1m0s\u001b[0m 2ms/step - accuracy: 0.5018 - loss: 0.6932 - val_accuracy: 0.4904 - val_loss: 0.6933\n",
      "Epoch 24/200\n",
      "\u001b[1m85/85\u001b[0m \u001b[32m━━━━━━━━━━━━━━━━━━━━\u001b[0m\u001b[37m\u001b[0m \u001b[1m0s\u001b[0m 1ms/step - accuracy: 0.5057 - loss: 0.6931 - val_accuracy: 0.4904 - val_loss: 0.6933\n",
      "Epoch 25/200\n",
      "\u001b[1m85/85\u001b[0m \u001b[32m━━━━━━━━━━━━━━━━━━━━\u001b[0m\u001b[37m\u001b[0m \u001b[1m0s\u001b[0m 2ms/step - accuracy: 0.5089 - loss: 0.6931 - val_accuracy: 0.4904 - val_loss: 0.6932\n",
      "Epoch 26/200\n",
      "\u001b[1m85/85\u001b[0m \u001b[32m━━━━━━━━━━━━━━━━━━━━\u001b[0m\u001b[37m\u001b[0m \u001b[1m0s\u001b[0m 1ms/step - accuracy: 0.5162 - loss: 0.6930 - val_accuracy: 0.4904 - val_loss: 0.6932\n",
      "Epoch 27/200\n",
      "\u001b[1m85/85\u001b[0m \u001b[32m━━━━━━━━━━━━━━━━━━━━\u001b[0m\u001b[37m\u001b[0m \u001b[1m0s\u001b[0m 1ms/step - accuracy: 0.4996 - loss: 0.6932 - val_accuracy: 0.4904 - val_loss: 0.6932\n",
      "Epoch 28/200\n",
      "\u001b[1m85/85\u001b[0m \u001b[32m━━━━━━━━━━━━━━━━━━━━\u001b[0m\u001b[37m\u001b[0m \u001b[1m0s\u001b[0m 1ms/step - accuracy: 0.4997 - loss: 0.6932 - val_accuracy: 0.4904 - val_loss: 0.6932\n",
      "Epoch 29/200\n",
      "\u001b[1m85/85\u001b[0m \u001b[32m━━━━━━━━━━━━━━━━━━━━\u001b[0m\u001b[37m\u001b[0m \u001b[1m0s\u001b[0m 1ms/step - accuracy: 0.5102 - loss: 0.6931 - val_accuracy: 0.4904 - val_loss: 0.6932\n",
      "Epoch 30/200\n",
      "\u001b[1m85/85\u001b[0m \u001b[32m━━━━━━━━━━━━━━━━━━━━\u001b[0m\u001b[37m\u001b[0m \u001b[1m0s\u001b[0m 1ms/step - accuracy: 0.4976 - loss: 0.6932 - val_accuracy: 0.4904 - val_loss: 0.6932\n",
      "Epoch 31/200\n",
      "\u001b[1m85/85\u001b[0m \u001b[32m━━━━━━━━━━━━━━━━━━━━\u001b[0m\u001b[37m\u001b[0m \u001b[1m0s\u001b[0m 1ms/step - accuracy: 0.5053 - loss: 0.6931 - val_accuracy: 0.4904 - val_loss: 0.6933\n",
      "Epoch 32/200\n",
      "\u001b[1m85/85\u001b[0m \u001b[32m━━━━━━━━━━━━━━━━━━━━\u001b[0m\u001b[37m\u001b[0m \u001b[1m0s\u001b[0m 2ms/step - accuracy: 0.4981 - loss: 0.6932 - val_accuracy: 0.4904 - val_loss: 0.6933\n",
      "Epoch 33/200\n",
      "\u001b[1m85/85\u001b[0m \u001b[32m━━━━━━━━━━━━━━━━━━━━\u001b[0m\u001b[37m\u001b[0m \u001b[1m0s\u001b[0m 1ms/step - accuracy: 0.5192 - loss: 0.6929 - val_accuracy: 0.4904 - val_loss: 0.6932\n",
      "Epoch 34/200\n",
      "\u001b[1m85/85\u001b[0m \u001b[32m━━━━━━━━━━━━━━━━━━━━\u001b[0m\u001b[37m\u001b[0m \u001b[1m0s\u001b[0m 1ms/step - accuracy: 0.4882 - loss: 0.6933 - val_accuracy: 0.4904 - val_loss: 0.6937\n",
      "Epoch 35/200\n",
      "\u001b[1m85/85\u001b[0m \u001b[32m━━━━━━━━━━━━━━━━━━━━\u001b[0m\u001b[37m\u001b[0m \u001b[1m0s\u001b[0m 2ms/step - accuracy: 0.4720 - loss: 0.6934 - val_accuracy: 0.4904 - val_loss: 0.6932\n",
      "Epoch 36/200\n",
      "\u001b[1m85/85\u001b[0m \u001b[32m━━━━━━━━━━━━━━━━━━━━\u001b[0m\u001b[37m\u001b[0m \u001b[1m0s\u001b[0m 1ms/step - accuracy: 0.5121 - loss: 0.6931 - val_accuracy: 0.5096 - val_loss: 0.6930\n",
      "Epoch 37/200\n",
      "\u001b[1m85/85\u001b[0m \u001b[32m━━━━━━━━━━━━━━━━━━━━\u001b[0m\u001b[37m\u001b[0m \u001b[1m0s\u001b[0m 1ms/step - accuracy: 0.5012 - loss: 0.6936 - val_accuracy: 0.4904 - val_loss: 0.6933\n",
      "Epoch 38/200\n",
      "\u001b[1m85/85\u001b[0m \u001b[32m━━━━━━━━━━━━━━━━━━━━\u001b[0m\u001b[37m\u001b[0m \u001b[1m0s\u001b[0m 2ms/step - accuracy: 0.4879 - loss: 0.6932 - val_accuracy: 0.4904 - val_loss: 0.6933\n",
      "Epoch 39/200\n",
      "\u001b[1m85/85\u001b[0m \u001b[32m━━━━━━━━━━━━━━━━━━━━\u001b[0m\u001b[37m\u001b[0m \u001b[1m0s\u001b[0m 2ms/step - accuracy: 0.4890 - loss: 0.6933 - val_accuracy: 0.4904 - val_loss: 0.6932\n",
      "Epoch 40/200\n",
      "\u001b[1m85/85\u001b[0m \u001b[32m━━━━━━━━━━━━━━━━━━━━\u001b[0m\u001b[37m\u001b[0m \u001b[1m0s\u001b[0m 1ms/step - accuracy: 0.5221 - loss: 0.6929 - val_accuracy: 0.4904 - val_loss: 0.6932\n",
      "Epoch 41/200\n",
      "\u001b[1m85/85\u001b[0m \u001b[32m━━━━━━━━━━━━━━━━━━━━\u001b[0m\u001b[37m\u001b[0m \u001b[1m0s\u001b[0m 2ms/step - accuracy: 0.5194 - loss: 0.6931 - val_accuracy: 0.4815 - val_loss: 0.6932\n",
      "Epoch 42/200\n",
      "\u001b[1m85/85\u001b[0m \u001b[32m━━━━━━━━━━━━━━━━━━━━\u001b[0m\u001b[37m\u001b[0m \u001b[1m0s\u001b[0m 1ms/step - accuracy: 0.4989 - loss: 0.6932 - val_accuracy: 0.4904 - val_loss: 0.6933\n",
      "Epoch 43/200\n",
      "\u001b[1m85/85\u001b[0m \u001b[32m━━━━━━━━━━━━━━━━━━━━\u001b[0m\u001b[37m\u001b[0m \u001b[1m0s\u001b[0m 2ms/step - accuracy: 0.5111 - loss: 0.6931 - val_accuracy: 0.4904 - val_loss: 0.6932\n",
      "Epoch 44/200\n",
      "\u001b[1m85/85\u001b[0m \u001b[32m━━━━━━━━━━━━━━━━━━━━\u001b[0m\u001b[37m\u001b[0m \u001b[1m0s\u001b[0m 1ms/step - accuracy: 0.5083 - loss: 0.6931 - val_accuracy: 0.4904 - val_loss: 0.6933\n",
      "Epoch 45/200\n",
      "\u001b[1m85/85\u001b[0m \u001b[32m━━━━━━━━━━━━━━━━━━━━\u001b[0m\u001b[37m\u001b[0m \u001b[1m0s\u001b[0m 2ms/step - accuracy: 0.4947 - loss: 0.6932 - val_accuracy: 0.4904 - val_loss: 0.6933\n",
      "Epoch 46/200\n",
      "\u001b[1m85/85\u001b[0m \u001b[32m━━━━━━━━━━━━━━━━━━━━\u001b[0m\u001b[37m\u001b[0m \u001b[1m0s\u001b[0m 2ms/step - accuracy: 0.5087 - loss: 0.6931 - val_accuracy: 0.4844 - val_loss: 0.6932\n",
      "Epoch 47/200\n",
      "\u001b[1m85/85\u001b[0m \u001b[32m━━━━━━━━━━━━━━━━━━━━\u001b[0m\u001b[37m\u001b[0m \u001b[1m0s\u001b[0m 2ms/step - accuracy: 0.5016 - loss: 0.6932 - val_accuracy: 0.4904 - val_loss: 0.6935\n",
      "Epoch 48/200\n",
      "\u001b[1m85/85\u001b[0m \u001b[32m━━━━━━━━━━━━━━━━━━━━\u001b[0m\u001b[37m\u001b[0m \u001b[1m0s\u001b[0m 2ms/step - accuracy: 0.5103 - loss: 0.6931 - val_accuracy: 0.5126 - val_loss: 0.6931\n",
      "Epoch 49/200\n",
      "\u001b[1m85/85\u001b[0m \u001b[32m━━━━━━━━━━━━━━━━━━━━\u001b[0m\u001b[37m\u001b[0m \u001b[1m0s\u001b[0m 1ms/step - accuracy: 0.4939 - loss: 0.6932 - val_accuracy: 0.4904 - val_loss: 0.6934\n",
      "Epoch 50/200\n",
      "\u001b[1m85/85\u001b[0m \u001b[32m━━━━━━━━━━━━━━━━━━━━\u001b[0m\u001b[37m\u001b[0m \u001b[1m0s\u001b[0m 2ms/step - accuracy: 0.4951 - loss: 0.6933 - val_accuracy: 0.4904 - val_loss: 0.6935\n",
      "Epoch 51/200\n",
      "\u001b[1m85/85\u001b[0m \u001b[32m━━━━━━━━━━━━━━━━━━━━\u001b[0m\u001b[37m\u001b[0m \u001b[1m0s\u001b[0m 2ms/step - accuracy: 0.5048 - loss: 0.6929 - val_accuracy: 0.4904 - val_loss: 0.6936\n",
      "Epoch 52/200\n",
      "\u001b[1m85/85\u001b[0m \u001b[32m━━━━━━━━━━━━━━━━━━━━\u001b[0m\u001b[37m\u001b[0m \u001b[1m0s\u001b[0m 2ms/step - accuracy: 0.5009 - loss: 0.6932 - val_accuracy: 0.4904 - val_loss: 0.6934\n",
      "Epoch 53/200\n",
      "\u001b[1m85/85\u001b[0m \u001b[32m━━━━━━━━━━━━━━━━━━━━\u001b[0m\u001b[37m\u001b[0m \u001b[1m0s\u001b[0m 2ms/step - accuracy: 0.5077 - loss: 0.6932 - val_accuracy: 0.4904 - val_loss: 0.6935\n",
      "Epoch 54/200\n",
      "\u001b[1m85/85\u001b[0m \u001b[32m━━━━━━━━━━━━━━━━━━━━\u001b[0m\u001b[37m\u001b[0m \u001b[1m0s\u001b[0m 2ms/step - accuracy: 0.4970 - loss: 0.6932 - val_accuracy: 0.4904 - val_loss: 0.6934\n",
      "Epoch 55/200\n",
      "\u001b[1m85/85\u001b[0m \u001b[32m━━━━━━━━━━━━━━━━━━━━\u001b[0m\u001b[37m\u001b[0m \u001b[1m0s\u001b[0m 1ms/step - accuracy: 0.4976 - loss: 0.6931 - val_accuracy: 0.4904 - val_loss: 0.6932\n",
      "Epoch 56/200\n",
      "\u001b[1m85/85\u001b[0m \u001b[32m━━━━━━━━━━━━━━━━━━━━\u001b[0m\u001b[37m\u001b[0m \u001b[1m0s\u001b[0m 1ms/step - accuracy: 0.4793 - loss: 0.6933 - val_accuracy: 0.4904 - val_loss: 0.6933\n",
      "Epoch 57/200\n",
      "\u001b[1m85/85\u001b[0m \u001b[32m━━━━━━━━━━━━━━━━━━━━\u001b[0m\u001b[37m\u001b[0m \u001b[1m0s\u001b[0m 1ms/step - accuracy: 0.5084 - loss: 0.6930 - val_accuracy: 0.4815 - val_loss: 0.6935\n",
      "Epoch 58/200\n",
      "\u001b[1m85/85\u001b[0m \u001b[32m━━━━━━━━━━━━━━━━━━━━\u001b[0m\u001b[37m\u001b[0m \u001b[1m0s\u001b[0m 1ms/step - accuracy: 0.5179 - loss: 0.6928 - val_accuracy: 0.4800 - val_loss: 0.6935\n",
      "Epoch 59/200\n",
      "\u001b[1m85/85\u001b[0m \u001b[32m━━━━━━━━━━━━━━━━━━━━\u001b[0m\u001b[37m\u001b[0m \u001b[1m0s\u001b[0m 1ms/step - accuracy: 0.5070 - loss: 0.6930 - val_accuracy: 0.4844 - val_loss: 0.6949\n",
      "Epoch 60/200\n",
      "\u001b[1m85/85\u001b[0m \u001b[32m━━━━━━━━━━━━━━━━━━━━\u001b[0m\u001b[37m\u001b[0m \u001b[1m0s\u001b[0m 2ms/step - accuracy: 0.5209 - loss: 0.6929 - val_accuracy: 0.4741 - val_loss: 0.6933\n",
      "Epoch 61/200\n",
      "\u001b[1m85/85\u001b[0m \u001b[32m━━━━━━━━━━━━━━━━━━━━\u001b[0m\u001b[37m\u001b[0m \u001b[1m0s\u001b[0m 2ms/step - accuracy: 0.5046 - loss: 0.6930 - val_accuracy: 0.4681 - val_loss: 0.6932\n",
      "Epoch 62/200\n",
      "\u001b[1m85/85\u001b[0m \u001b[32m━━━━━━━━━━━━━━━━━━━━\u001b[0m\u001b[37m\u001b[0m \u001b[1m0s\u001b[0m 2ms/step - accuracy: 0.5066 - loss: 0.6929 - val_accuracy: 0.4741 - val_loss: 0.6939\n",
      "Epoch 63/200\n",
      "\u001b[1m85/85\u001b[0m \u001b[32m━━━━━━━━━━━━━━━━━━━━\u001b[0m\u001b[37m\u001b[0m \u001b[1m0s\u001b[0m 1ms/step - accuracy: 0.5073 - loss: 0.6926 - val_accuracy: 0.4726 - val_loss: 0.6935\n",
      "Epoch 64/200\n",
      "\u001b[1m85/85\u001b[0m \u001b[32m━━━━━━━━━━━━━━━━━━━━\u001b[0m\u001b[37m\u001b[0m \u001b[1m0s\u001b[0m 1ms/step - accuracy: 0.5139 - loss: 0.6929 - val_accuracy: 0.4622 - val_loss: 0.6944\n",
      "Epoch 65/200\n",
      "\u001b[1m85/85\u001b[0m \u001b[32m━━━━━━━━━━━━━━━━━━━━\u001b[0m\u001b[37m\u001b[0m \u001b[1m0s\u001b[0m 1ms/step - accuracy: 0.5073 - loss: 0.6930 - val_accuracy: 0.4889 - val_loss: 0.6936\n",
      "Epoch 66/200\n",
      "\u001b[1m85/85\u001b[0m \u001b[32m━━━━━━━━━━━━━━━━━━━━\u001b[0m\u001b[37m\u001b[0m \u001b[1m0s\u001b[0m 1ms/step - accuracy: 0.5130 - loss: 0.6929 - val_accuracy: 0.4963 - val_loss: 0.6932\n",
      "Epoch 67/200\n",
      "\u001b[1m85/85\u001b[0m \u001b[32m━━━━━━━━━━━━━━━━━━━━\u001b[0m\u001b[37m\u001b[0m \u001b[1m0s\u001b[0m 2ms/step - accuracy: 0.5139 - loss: 0.6924 - val_accuracy: 0.4756 - val_loss: 0.6938\n",
      "Epoch 68/200\n",
      "\u001b[1m85/85\u001b[0m \u001b[32m━━━━━━━━━━━━━━━━━━━━\u001b[0m\u001b[37m\u001b[0m \u001b[1m0s\u001b[0m 2ms/step - accuracy: 0.5168 - loss: 0.6923 - val_accuracy: 0.4844 - val_loss: 0.6945\n",
      "Epoch 69/200\n",
      "\u001b[1m85/85\u001b[0m \u001b[32m━━━━━━━━━━━━━━━━━━━━\u001b[0m\u001b[37m\u001b[0m \u001b[1m0s\u001b[0m 1ms/step - accuracy: 0.5040 - loss: 0.6928 - val_accuracy: 0.4904 - val_loss: 0.6945\n",
      "Epoch 70/200\n",
      "\u001b[1m85/85\u001b[0m \u001b[32m━━━━━━━━━━━━━━━━━━━━\u001b[0m\u001b[37m\u001b[0m \u001b[1m0s\u001b[0m 2ms/step - accuracy: 0.5136 - loss: 0.6928 - val_accuracy: 0.5022 - val_loss: 0.6932\n",
      "Epoch 71/200\n",
      "\u001b[1m85/85\u001b[0m \u001b[32m━━━━━━━━━━━━━━━━━━━━\u001b[0m\u001b[37m\u001b[0m \u001b[1m0s\u001b[0m 1ms/step - accuracy: 0.4943 - loss: 0.6932 - val_accuracy: 0.4948 - val_loss: 0.6935\n",
      "Epoch 72/200\n",
      "\u001b[1m85/85\u001b[0m \u001b[32m━━━━━━━━━━━━━━━━━━━━\u001b[0m\u001b[37m\u001b[0m \u001b[1m0s\u001b[0m 2ms/step - accuracy: 0.5366 - loss: 0.6915 - val_accuracy: 0.4711 - val_loss: 0.6942\n",
      "Epoch 73/200\n",
      "\u001b[1m85/85\u001b[0m \u001b[32m━━━━━━━━━━━━━━━━━━━━\u001b[0m\u001b[37m\u001b[0m \u001b[1m0s\u001b[0m 2ms/step - accuracy: 0.5184 - loss: 0.6921 - val_accuracy: 0.4800 - val_loss: 0.6938\n",
      "Epoch 74/200\n",
      "\u001b[1m85/85\u001b[0m \u001b[32m━━━━━━━━━━━━━━━━━━━━\u001b[0m\u001b[37m\u001b[0m \u001b[1m0s\u001b[0m 2ms/step - accuracy: 0.5220 - loss: 0.6924 - val_accuracy: 0.4800 - val_loss: 0.6944\n",
      "Epoch 75/200\n",
      "\u001b[1m85/85\u001b[0m \u001b[32m━━━━━━━━━━━━━━━━━━━━\u001b[0m\u001b[37m\u001b[0m \u001b[1m0s\u001b[0m 2ms/step - accuracy: 0.5072 - loss: 0.6927 - val_accuracy: 0.4859 - val_loss: 0.6952\n",
      "Epoch 76/200\n",
      "\u001b[1m85/85\u001b[0m \u001b[32m━━━━━━━━━━━━━━━━━━━━\u001b[0m\u001b[37m\u001b[0m \u001b[1m0s\u001b[0m 2ms/step - accuracy: 0.5280 - loss: 0.6906 - val_accuracy: 0.4993 - val_loss: 0.6934\n",
      "Epoch 77/200\n",
      "\u001b[1m85/85\u001b[0m \u001b[32m━━━━━━━━━━━━━━━━━━━━\u001b[0m\u001b[37m\u001b[0m \u001b[1m0s\u001b[0m 2ms/step - accuracy: 0.5205 - loss: 0.6922 - val_accuracy: 0.4919 - val_loss: 0.6936\n",
      "Epoch 78/200\n",
      "\u001b[1m85/85\u001b[0m \u001b[32m━━━━━━━━━━━━━━━━━━━━\u001b[0m\u001b[37m\u001b[0m \u001b[1m0s\u001b[0m 1ms/step - accuracy: 0.5134 - loss: 0.6924 - val_accuracy: 0.4815 - val_loss: 0.6942\n",
      "Epoch 79/200\n",
      "\u001b[1m85/85\u001b[0m \u001b[32m━━━━━━━━━━━━━━━━━━━━\u001b[0m\u001b[37m\u001b[0m \u001b[1m0s\u001b[0m 2ms/step - accuracy: 0.5141 - loss: 0.6915 - val_accuracy: 0.5141 - val_loss: 0.6931\n",
      "Epoch 80/200\n",
      "\u001b[1m85/85\u001b[0m \u001b[32m━━━━━━━━━━━━━━━━━━━━\u001b[0m\u001b[37m\u001b[0m \u001b[1m0s\u001b[0m 2ms/step - accuracy: 0.5179 - loss: 0.6921 - val_accuracy: 0.4830 - val_loss: 0.6944\n",
      "Epoch 81/200\n",
      "\u001b[1m85/85\u001b[0m \u001b[32m━━━━━━━━━━━━━━━━━━━━\u001b[0m\u001b[37m\u001b[0m \u001b[1m0s\u001b[0m 2ms/step - accuracy: 0.5192 - loss: 0.6918 - val_accuracy: 0.5007 - val_loss: 0.6934\n",
      "Epoch 82/200\n",
      "\u001b[1m85/85\u001b[0m \u001b[32m━━━━━━━━━━━━━━━━━━━━\u001b[0m\u001b[37m\u001b[0m \u001b[1m0s\u001b[0m 1ms/step - accuracy: 0.5181 - loss: 0.6917 - val_accuracy: 0.4978 - val_loss: 0.6933\n",
      "Epoch 83/200\n",
      "\u001b[1m85/85\u001b[0m \u001b[32m━━━━━━━━━━━━━━━━━━━━\u001b[0m\u001b[37m\u001b[0m \u001b[1m0s\u001b[0m 2ms/step - accuracy: 0.5118 - loss: 0.6925 - val_accuracy: 0.4978 - val_loss: 0.6931\n",
      "Epoch 84/200\n",
      "\u001b[1m85/85\u001b[0m \u001b[32m━━━━━━━━━━━━━━━━━━━━\u001b[0m\u001b[37m\u001b[0m \u001b[1m0s\u001b[0m 2ms/step - accuracy: 0.5062 - loss: 0.6930 - val_accuracy: 0.5022 - val_loss: 0.6931\n",
      "Epoch 85/200\n",
      "\u001b[1m85/85\u001b[0m \u001b[32m━━━━━━━━━━━━━━━━━━━━\u001b[0m\u001b[37m\u001b[0m \u001b[1m0s\u001b[0m 1ms/step - accuracy: 0.5078 - loss: 0.6931 - val_accuracy: 0.5037 - val_loss: 0.6932\n",
      "Epoch 86/200\n",
      "\u001b[1m85/85\u001b[0m \u001b[32m━━━━━━━━━━━━━━━━━━━━\u001b[0m\u001b[37m\u001b[0m \u001b[1m0s\u001b[0m 2ms/step - accuracy: 0.5249 - loss: 0.6928 - val_accuracy: 0.4948 - val_loss: 0.6933\n",
      "Epoch 87/200\n",
      "\u001b[1m85/85\u001b[0m \u001b[32m━━━━━━━━━━━━━━━━━━━━\u001b[0m\u001b[37m\u001b[0m \u001b[1m0s\u001b[0m 2ms/step - accuracy: 0.4785 - loss: 0.6932 - val_accuracy: 0.4844 - val_loss: 0.6934\n",
      "Epoch 88/200\n",
      "\u001b[1m85/85\u001b[0m \u001b[32m━━━━━━━━━━━━━━━━━━━━\u001b[0m\u001b[37m\u001b[0m \u001b[1m0s\u001b[0m 2ms/step - accuracy: 0.5049 - loss: 0.6926 - val_accuracy: 0.5052 - val_loss: 0.6934\n",
      "Epoch 89/200\n",
      "\u001b[1m85/85\u001b[0m \u001b[32m━━━━━━━━━━━━━━━━━━━━\u001b[0m\u001b[37m\u001b[0m \u001b[1m0s\u001b[0m 2ms/step - accuracy: 0.5090 - loss: 0.6918 - val_accuracy: 0.4993 - val_loss: 0.6934\n",
      "Epoch 90/200\n",
      "\u001b[1m85/85\u001b[0m \u001b[32m━━━━━━━━━━━━━━━━━━━━\u001b[0m\u001b[37m\u001b[0m \u001b[1m0s\u001b[0m 2ms/step - accuracy: 0.5320 - loss: 0.6917 - val_accuracy: 0.4830 - val_loss: 0.6956\n",
      "Epoch 91/200\n",
      "\u001b[1m85/85\u001b[0m \u001b[32m━━━━━━━━━━━━━━━━━━━━\u001b[0m\u001b[37m\u001b[0m \u001b[1m0s\u001b[0m 2ms/step - accuracy: 0.5083 - loss: 0.6915 - val_accuracy: 0.5081 - val_loss: 0.6931\n",
      "Epoch 92/200\n",
      "\u001b[1m85/85\u001b[0m \u001b[32m━━━━━━━━━━━━━━━━━━━━\u001b[0m\u001b[37m\u001b[0m \u001b[1m0s\u001b[0m 1ms/step - accuracy: 0.5219 - loss: 0.6921 - val_accuracy: 0.4830 - val_loss: 0.6948\n",
      "Epoch 93/200\n",
      "\u001b[1m85/85\u001b[0m \u001b[32m━━━━━━━━━━━━━━━━━━━━\u001b[0m\u001b[37m\u001b[0m \u001b[1m0s\u001b[0m 2ms/step - accuracy: 0.5217 - loss: 0.6924 - val_accuracy: 0.4904 - val_loss: 0.6950\n",
      "Epoch 94/200\n",
      "\u001b[1m85/85\u001b[0m \u001b[32m━━━━━━━━━━━━━━━━━━━━\u001b[0m\u001b[37m\u001b[0m \u001b[1m0s\u001b[0m 2ms/step - accuracy: 0.5103 - loss: 0.6911 - val_accuracy: 0.5022 - val_loss: 0.6931\n",
      "Epoch 95/200\n",
      "\u001b[1m85/85\u001b[0m \u001b[32m━━━━━━━━━━━━━━━━━━━━\u001b[0m\u001b[37m\u001b[0m \u001b[1m0s\u001b[0m 2ms/step - accuracy: 0.5170 - loss: 0.6925 - val_accuracy: 0.5081 - val_loss: 0.6937\n",
      "Epoch 96/200\n",
      "\u001b[1m85/85\u001b[0m \u001b[32m━━━━━━━━━━━━━━━━━━━━\u001b[0m\u001b[37m\u001b[0m \u001b[1m0s\u001b[0m 2ms/step - accuracy: 0.5037 - loss: 0.6927 - val_accuracy: 0.5052 - val_loss: 0.6942\n",
      "Epoch 97/200\n",
      "\u001b[1m85/85\u001b[0m \u001b[32m━━━━━━━━━━━━━━━━━━━━\u001b[0m\u001b[37m\u001b[0m \u001b[1m0s\u001b[0m 1ms/step - accuracy: 0.5295 - loss: 0.6912 - val_accuracy: 0.5126 - val_loss: 0.6930\n",
      "Epoch 98/200\n",
      "\u001b[1m85/85\u001b[0m \u001b[32m━━━━━━━━━━━━━━━━━━━━\u001b[0m\u001b[37m\u001b[0m \u001b[1m0s\u001b[0m 2ms/step - accuracy: 0.5289 - loss: 0.6910 - val_accuracy: 0.4874 - val_loss: 0.6946\n",
      "Epoch 99/200\n",
      "\u001b[1m85/85\u001b[0m \u001b[32m━━━━━━━━━━━━━━━━━━━━\u001b[0m\u001b[37m\u001b[0m \u001b[1m0s\u001b[0m 2ms/step - accuracy: 0.5049 - loss: 0.6932 - val_accuracy: 0.4963 - val_loss: 0.6941\n",
      "Epoch 100/200\n",
      "\u001b[1m85/85\u001b[0m \u001b[32m━━━━━━━━━━━━━━━━━━━━\u001b[0m\u001b[37m\u001b[0m \u001b[1m0s\u001b[0m 2ms/step - accuracy: 0.5221 - loss: 0.6909 - val_accuracy: 0.4933 - val_loss: 0.6939\n",
      "Epoch 101/200\n",
      "\u001b[1m85/85\u001b[0m \u001b[32m━━━━━━━━━━━━━━━━━━━━\u001b[0m\u001b[37m\u001b[0m \u001b[1m0s\u001b[0m 2ms/step - accuracy: 0.5230 - loss: 0.6908 - val_accuracy: 0.4948 - val_loss: 0.6935\n",
      "Epoch 102/200\n",
      "\u001b[1m85/85\u001b[0m \u001b[32m━━━━━━━━━━━━━━━━━━━━\u001b[0m\u001b[37m\u001b[0m \u001b[1m0s\u001b[0m 1ms/step - accuracy: 0.5158 - loss: 0.6915 - val_accuracy: 0.5156 - val_loss: 0.6944\n",
      "Epoch 103/200\n",
      "\u001b[1m85/85\u001b[0m \u001b[32m━━━━━━━━━━━━━━━━━━━━\u001b[0m\u001b[37m\u001b[0m \u001b[1m0s\u001b[0m 1ms/step - accuracy: 0.5172 - loss: 0.6921 - val_accuracy: 0.5111 - val_loss: 0.6938\n",
      "Epoch 104/200\n",
      "\u001b[1m85/85\u001b[0m \u001b[32m━━━━━━━━━━━━━━━━━━━━\u001b[0m\u001b[37m\u001b[0m \u001b[1m0s\u001b[0m 1ms/step - accuracy: 0.5411 - loss: 0.6902 - val_accuracy: 0.5081 - val_loss: 0.6938\n",
      "Epoch 105/200\n",
      "\u001b[1m85/85\u001b[0m \u001b[32m━━━━━━━━━━━━━━━━━━━━\u001b[0m\u001b[37m\u001b[0m \u001b[1m0s\u001b[0m 2ms/step - accuracy: 0.5294 - loss: 0.6919 - val_accuracy: 0.4859 - val_loss: 0.6950\n",
      "Epoch 106/200\n",
      "\u001b[1m85/85\u001b[0m \u001b[32m━━━━━━━━━━━━━━━━━━━━\u001b[0m\u001b[37m\u001b[0m \u001b[1m0s\u001b[0m 1ms/step - accuracy: 0.5360 - loss: 0.6908 - val_accuracy: 0.5081 - val_loss: 0.6936\n",
      "Epoch 107/200\n",
      "\u001b[1m85/85\u001b[0m \u001b[32m━━━━━━━━━━━━━━━━━━━━\u001b[0m\u001b[37m\u001b[0m \u001b[1m0s\u001b[0m 2ms/step - accuracy: 0.5253 - loss: 0.6912 - val_accuracy: 0.4889 - val_loss: 0.6960\n",
      "Epoch 108/200\n",
      "\u001b[1m85/85\u001b[0m \u001b[32m━━━━━━━━━━━━━━━━━━━━\u001b[0m\u001b[37m\u001b[0m \u001b[1m0s\u001b[0m 2ms/step - accuracy: 0.5199 - loss: 0.6912 - val_accuracy: 0.4874 - val_loss: 0.6959\n",
      "Epoch 109/200\n",
      "\u001b[1m85/85\u001b[0m \u001b[32m━━━━━━━━━━━━━━━━━━━━\u001b[0m\u001b[37m\u001b[0m \u001b[1m0s\u001b[0m 2ms/step - accuracy: 0.5269 - loss: 0.6914 - val_accuracy: 0.5170 - val_loss: 0.6939\n",
      "Epoch 110/200\n",
      "\u001b[1m85/85\u001b[0m \u001b[32m━━━━━━━━━━━━━━━━━━━━\u001b[0m\u001b[37m\u001b[0m \u001b[1m0s\u001b[0m 2ms/step - accuracy: 0.5188 - loss: 0.6913 - val_accuracy: 0.5230 - val_loss: 0.6940\n",
      "Epoch 111/200\n",
      "\u001b[1m85/85\u001b[0m \u001b[32m━━━━━━━━━━━━━━━━━━━━\u001b[0m\u001b[37m\u001b[0m \u001b[1m0s\u001b[0m 2ms/step - accuracy: 0.5174 - loss: 0.6926 - val_accuracy: 0.5022 - val_loss: 0.6945\n",
      "Epoch 112/200\n",
      "\u001b[1m85/85\u001b[0m \u001b[32m━━━━━━━━━━━━━━━━━━━━\u001b[0m\u001b[37m\u001b[0m \u001b[1m0s\u001b[0m 2ms/step - accuracy: 0.5283 - loss: 0.6910 - val_accuracy: 0.4948 - val_loss: 0.6939\n",
      "Epoch 113/200\n",
      "\u001b[1m85/85\u001b[0m \u001b[32m━━━━━━━━━━━━━━━━━━━━\u001b[0m\u001b[37m\u001b[0m \u001b[1m0s\u001b[0m 1ms/step - accuracy: 0.5368 - loss: 0.6904 - val_accuracy: 0.5126 - val_loss: 0.6941\n",
      "Epoch 114/200\n",
      "\u001b[1m85/85\u001b[0m \u001b[32m━━━━━━━━━━━━━━━━━━━━\u001b[0m\u001b[37m\u001b[0m \u001b[1m0s\u001b[0m 1ms/step - accuracy: 0.5443 - loss: 0.6887 - val_accuracy: 0.5170 - val_loss: 0.6942\n",
      "Epoch 115/200\n",
      "\u001b[1m85/85\u001b[0m \u001b[32m━━━━━━━━━━━━━━━━━━━━\u001b[0m\u001b[37m\u001b[0m \u001b[1m0s\u001b[0m 1ms/step - accuracy: 0.5313 - loss: 0.6889 - val_accuracy: 0.5156 - val_loss: 0.6940\n",
      "Epoch 116/200\n",
      "\u001b[1m85/85\u001b[0m \u001b[32m━━━━━━━━━━━━━━━━━━━━\u001b[0m\u001b[37m\u001b[0m \u001b[1m0s\u001b[0m 2ms/step - accuracy: 0.5299 - loss: 0.6914 - val_accuracy: 0.4904 - val_loss: 0.6952\n",
      "Epoch 117/200\n",
      "\u001b[1m85/85\u001b[0m \u001b[32m━━━━━━━━━━━━━━━━━━━━\u001b[0m\u001b[37m\u001b[0m \u001b[1m0s\u001b[0m 2ms/step - accuracy: 0.5334 - loss: 0.6887 - val_accuracy: 0.4904 - val_loss: 0.6957\n",
      "Epoch 118/200\n",
      "\u001b[1m85/85\u001b[0m \u001b[32m━━━━━━━━━━━━━━━━━━━━\u001b[0m\u001b[37m\u001b[0m \u001b[1m0s\u001b[0m 1ms/step - accuracy: 0.5361 - loss: 0.6896 - val_accuracy: 0.5096 - val_loss: 0.6938\n",
      "Epoch 119/200\n",
      "\u001b[1m85/85\u001b[0m \u001b[32m━━━━━━━━━━━━━━━━━━━━\u001b[0m\u001b[37m\u001b[0m \u001b[1m0s\u001b[0m 1ms/step - accuracy: 0.5282 - loss: 0.6897 - val_accuracy: 0.5111 - val_loss: 0.6941\n",
      "Epoch 120/200\n",
      "\u001b[1m85/85\u001b[0m \u001b[32m━━━━━━━━━━━━━━━━━━━━\u001b[0m\u001b[37m\u001b[0m \u001b[1m0s\u001b[0m 1ms/step - accuracy: 0.5279 - loss: 0.6912 - val_accuracy: 0.4770 - val_loss: 0.6975\n",
      "Epoch 121/200\n",
      "\u001b[1m85/85\u001b[0m \u001b[32m━━━━━━━━━━━━━━━━━━━━\u001b[0m\u001b[37m\u001b[0m \u001b[1m0s\u001b[0m 2ms/step - accuracy: 0.5351 - loss: 0.6906 - val_accuracy: 0.5052 - val_loss: 0.6939\n",
      "Epoch 122/200\n",
      "\u001b[1m85/85\u001b[0m \u001b[32m━━━━━━━━━━━━━━━━━━━━\u001b[0m\u001b[37m\u001b[0m \u001b[1m0s\u001b[0m 1ms/step - accuracy: 0.5387 - loss: 0.6897 - val_accuracy: 0.4830 - val_loss: 0.6967\n",
      "Epoch 123/200\n",
      "\u001b[1m85/85\u001b[0m \u001b[32m━━━━━━━━━━━━━━━━━━━━\u001b[0m\u001b[37m\u001b[0m \u001b[1m0s\u001b[0m 2ms/step - accuracy: 0.5279 - loss: 0.6904 - val_accuracy: 0.5081 - val_loss: 0.6931\n",
      "Epoch 124/200\n",
      "\u001b[1m85/85\u001b[0m \u001b[32m━━━━━━━━━━━━━━━━━━━━\u001b[0m\u001b[37m\u001b[0m \u001b[1m0s\u001b[0m 2ms/step - accuracy: 0.5438 - loss: 0.6891 - val_accuracy: 0.4933 - val_loss: 0.6977\n",
      "Epoch 125/200\n",
      "\u001b[1m85/85\u001b[0m \u001b[32m━━━━━━━━━━━━━━━━━━━━\u001b[0m\u001b[37m\u001b[0m \u001b[1m0s\u001b[0m 2ms/step - accuracy: 0.5356 - loss: 0.6906 - val_accuracy: 0.4933 - val_loss: 0.6959\n",
      "Epoch 126/200\n",
      "\u001b[1m85/85\u001b[0m \u001b[32m━━━━━━━━━━━━━━━━━━━━\u001b[0m\u001b[37m\u001b[0m \u001b[1m0s\u001b[0m 2ms/step - accuracy: 0.5318 - loss: 0.6914 - val_accuracy: 0.4993 - val_loss: 0.6960\n",
      "Epoch 127/200\n",
      "\u001b[1m85/85\u001b[0m \u001b[32m━━━━━━━━━━━━━━━━━━━━\u001b[0m\u001b[37m\u001b[0m \u001b[1m0s\u001b[0m 1ms/step - accuracy: 0.5270 - loss: 0.6917 - val_accuracy: 0.4889 - val_loss: 0.6980\n",
      "Epoch 128/200\n",
      "\u001b[1m85/85\u001b[0m \u001b[32m━━━━━━━━━━━━━━━━━━━━\u001b[0m\u001b[37m\u001b[0m \u001b[1m0s\u001b[0m 1ms/step - accuracy: 0.5448 - loss: 0.6886 - val_accuracy: 0.5111 - val_loss: 0.6943\n",
      "Epoch 129/200\n",
      "\u001b[1m85/85\u001b[0m \u001b[32m━━━━━━━━━━━━━━━━━━━━\u001b[0m\u001b[37m\u001b[0m \u001b[1m0s\u001b[0m 2ms/step - accuracy: 0.5467 - loss: 0.6878 - val_accuracy: 0.4874 - val_loss: 0.6970\n",
      "Epoch 130/200\n",
      "\u001b[1m85/85\u001b[0m \u001b[32m━━━━━━━━━━━━━━━━━━━━\u001b[0m\u001b[37m\u001b[0m \u001b[1m0s\u001b[0m 2ms/step - accuracy: 0.5359 - loss: 0.6901 - val_accuracy: 0.5081 - val_loss: 0.6940\n",
      "Epoch 131/200\n",
      "\u001b[1m85/85\u001b[0m \u001b[32m━━━━━━━━━━━━━━━━━━━━\u001b[0m\u001b[37m\u001b[0m \u001b[1m0s\u001b[0m 2ms/step - accuracy: 0.5468 - loss: 0.6867 - val_accuracy: 0.4978 - val_loss: 0.6948\n",
      "Epoch 132/200\n",
      "\u001b[1m85/85\u001b[0m \u001b[32m━━━━━━━━━━━━━━━━━━━━\u001b[0m\u001b[37m\u001b[0m \u001b[1m0s\u001b[0m 2ms/step - accuracy: 0.5196 - loss: 0.6910 - val_accuracy: 0.4948 - val_loss: 0.6974\n",
      "Epoch 133/200\n",
      "\u001b[1m85/85\u001b[0m \u001b[32m━━━━━━━━━━━━━━━━━━━━\u001b[0m\u001b[37m\u001b[0m \u001b[1m0s\u001b[0m 2ms/step - accuracy: 0.5444 - loss: 0.6876 - val_accuracy: 0.5304 - val_loss: 0.6922\n",
      "Epoch 134/200\n",
      "\u001b[1m85/85\u001b[0m \u001b[32m━━━━━━━━━━━━━━━━━━━━\u001b[0m\u001b[37m\u001b[0m \u001b[1m0s\u001b[0m 2ms/step - accuracy: 0.5467 - loss: 0.6896 - val_accuracy: 0.5067 - val_loss: 0.6961\n",
      "Epoch 135/200\n",
      "\u001b[1m85/85\u001b[0m \u001b[32m━━━━━━━━━━━━━━━━━━━━\u001b[0m\u001b[37m\u001b[0m \u001b[1m0s\u001b[0m 2ms/step - accuracy: 0.5430 - loss: 0.6883 - val_accuracy: 0.4963 - val_loss: 0.6967\n",
      "Epoch 136/200\n",
      "\u001b[1m85/85\u001b[0m \u001b[32m━━━━━━━━━━━━━━━━━━━━\u001b[0m\u001b[37m\u001b[0m \u001b[1m0s\u001b[0m 2ms/step - accuracy: 0.5394 - loss: 0.6911 - val_accuracy: 0.4859 - val_loss: 0.6976\n",
      "Epoch 137/200\n",
      "\u001b[1m85/85\u001b[0m \u001b[32m━━━━━━━━━━━━━━━━━━━━\u001b[0m\u001b[37m\u001b[0m \u001b[1m0s\u001b[0m 2ms/step - accuracy: 0.5286 - loss: 0.6906 - val_accuracy: 0.4948 - val_loss: 0.6974\n",
      "Epoch 138/200\n",
      "\u001b[1m85/85\u001b[0m \u001b[32m━━━━━━━━━━━━━━━━━━━━\u001b[0m\u001b[37m\u001b[0m \u001b[1m0s\u001b[0m 2ms/step - accuracy: 0.5345 - loss: 0.6890 - val_accuracy: 0.4948 - val_loss: 0.6975\n",
      "Epoch 139/200\n",
      "\u001b[1m85/85\u001b[0m \u001b[32m━━━━━━━━━━━━━━━━━━━━\u001b[0m\u001b[37m\u001b[0m \u001b[1m0s\u001b[0m 2ms/step - accuracy: 0.5320 - loss: 0.6912 - val_accuracy: 0.5081 - val_loss: 0.6961\n",
      "Epoch 140/200\n",
      "\u001b[1m85/85\u001b[0m \u001b[32m━━━━━━━━━━━━━━━━━━━━\u001b[0m\u001b[37m\u001b[0m \u001b[1m0s\u001b[0m 2ms/step - accuracy: 0.5352 - loss: 0.6884 - val_accuracy: 0.4963 - val_loss: 0.6953\n",
      "Epoch 141/200\n",
      "\u001b[1m85/85\u001b[0m \u001b[32m━━━━━━━━━━━━━━━━━━━━\u001b[0m\u001b[37m\u001b[0m \u001b[1m0s\u001b[0m 2ms/step - accuracy: 0.5125 - loss: 0.6912 - val_accuracy: 0.4904 - val_loss: 0.6971\n",
      "Epoch 142/200\n",
      "\u001b[1m85/85\u001b[0m \u001b[32m━━━━━━━━━━━━━━━━━━━━\u001b[0m\u001b[37m\u001b[0m \u001b[1m0s\u001b[0m 2ms/step - accuracy: 0.5446 - loss: 0.6883 - val_accuracy: 0.5037 - val_loss: 0.6950\n",
      "Epoch 143/200\n",
      "\u001b[1m85/85\u001b[0m \u001b[32m━━━━━━━━━━━━━━━━━━━━\u001b[0m\u001b[37m\u001b[0m \u001b[1m0s\u001b[0m 2ms/step - accuracy: 0.5400 - loss: 0.6888 - val_accuracy: 0.4963 - val_loss: 0.6968\n",
      "Epoch 144/200\n",
      "\u001b[1m85/85\u001b[0m \u001b[32m━━━━━━━━━━━━━━━━━━━━\u001b[0m\u001b[37m\u001b[0m \u001b[1m0s\u001b[0m 2ms/step - accuracy: 0.5408 - loss: 0.6892 - val_accuracy: 0.5037 - val_loss: 0.6961\n",
      "Epoch 145/200\n",
      "\u001b[1m85/85\u001b[0m \u001b[32m━━━━━━━━━━━━━━━━━━━━\u001b[0m\u001b[37m\u001b[0m \u001b[1m0s\u001b[0m 2ms/step - accuracy: 0.5417 - loss: 0.6883 - val_accuracy: 0.5022 - val_loss: 0.6961\n",
      "Epoch 146/200\n",
      "\u001b[1m85/85\u001b[0m \u001b[32m━━━━━━━━━━━━━━━━━━━━\u001b[0m\u001b[37m\u001b[0m \u001b[1m0s\u001b[0m 2ms/step - accuracy: 0.5676 - loss: 0.6860 - val_accuracy: 0.5007 - val_loss: 0.6952\n",
      "Epoch 147/200\n",
      "\u001b[1m85/85\u001b[0m \u001b[32m━━━━━━━━━━━━━━━━━━━━\u001b[0m\u001b[37m\u001b[0m \u001b[1m0s\u001b[0m 2ms/step - accuracy: 0.5532 - loss: 0.6873 - val_accuracy: 0.5007 - val_loss: 0.6954\n",
      "Epoch 148/200\n",
      "\u001b[1m85/85\u001b[0m \u001b[32m━━━━━━━━━━━━━━━━━━━━\u001b[0m\u001b[37m\u001b[0m \u001b[1m0s\u001b[0m 2ms/step - accuracy: 0.5130 - loss: 0.6896 - val_accuracy: 0.4844 - val_loss: 0.6980\n",
      "Epoch 149/200\n",
      "\u001b[1m85/85\u001b[0m \u001b[32m━━━━━━━━━━━━━━━━━━━━\u001b[0m\u001b[37m\u001b[0m \u001b[1m0s\u001b[0m 1ms/step - accuracy: 0.5337 - loss: 0.6902 - val_accuracy: 0.5052 - val_loss: 0.6955\n",
      "Epoch 150/200\n",
      "\u001b[1m85/85\u001b[0m \u001b[32m━━━━━━━━━━━━━━━━━━━━\u001b[0m\u001b[37m\u001b[0m \u001b[1m0s\u001b[0m 2ms/step - accuracy: 0.5297 - loss: 0.6912 - val_accuracy: 0.4830 - val_loss: 0.7003\n",
      "Epoch 151/200\n",
      "\u001b[1m85/85\u001b[0m \u001b[32m━━━━━━━━━━━━━━━━━━━━\u001b[0m\u001b[37m\u001b[0m \u001b[1m0s\u001b[0m 1ms/step - accuracy: 0.5476 - loss: 0.6870 - val_accuracy: 0.5111 - val_loss: 0.6936\n",
      "Epoch 152/200\n",
      "\u001b[1m85/85\u001b[0m \u001b[32m━━━━━━━━━━━━━━━━━━━━\u001b[0m\u001b[37m\u001b[0m \u001b[1m0s\u001b[0m 2ms/step - accuracy: 0.5120 - loss: 0.6915 - val_accuracy: 0.5067 - val_loss: 0.6944\n",
      "Epoch 153/200\n",
      "\u001b[1m85/85\u001b[0m \u001b[32m━━━━━━━━━━━━━━━━━━━━\u001b[0m\u001b[37m\u001b[0m \u001b[1m0s\u001b[0m 2ms/step - accuracy: 0.5424 - loss: 0.6876 - val_accuracy: 0.5081 - val_loss: 0.6959\n",
      "Epoch 154/200\n",
      "\u001b[1m85/85\u001b[0m \u001b[32m━━━━━━━━━━━━━━━━━━━━\u001b[0m\u001b[37m\u001b[0m \u001b[1m0s\u001b[0m 1ms/step - accuracy: 0.5563 - loss: 0.6850 - val_accuracy: 0.5096 - val_loss: 0.6967\n",
      "Epoch 155/200\n",
      "\u001b[1m85/85\u001b[0m \u001b[32m━━━━━━━━━━━━━━━━━━━━\u001b[0m\u001b[37m\u001b[0m \u001b[1m0s\u001b[0m 2ms/step - accuracy: 0.5441 - loss: 0.6893 - val_accuracy: 0.5067 - val_loss: 0.6956\n",
      "Epoch 156/200\n",
      "\u001b[1m85/85\u001b[0m \u001b[32m━━━━━━━━━━━━━━━━━━━━\u001b[0m\u001b[37m\u001b[0m \u001b[1m0s\u001b[0m 2ms/step - accuracy: 0.5366 - loss: 0.6877 - val_accuracy: 0.4948 - val_loss: 0.6971\n",
      "Epoch 157/200\n",
      "\u001b[1m85/85\u001b[0m \u001b[32m━━━━━━━━━━━━━━━━━━━━\u001b[0m\u001b[37m\u001b[0m \u001b[1m0s\u001b[0m 1ms/step - accuracy: 0.5358 - loss: 0.6890 - val_accuracy: 0.4889 - val_loss: 0.7000\n",
      "Epoch 158/200\n",
      "\u001b[1m85/85\u001b[0m \u001b[32m━━━━━━━━━━━━━━━━━━━━\u001b[0m\u001b[37m\u001b[0m \u001b[1m0s\u001b[0m 2ms/step - accuracy: 0.5427 - loss: 0.6864 - val_accuracy: 0.5081 - val_loss: 0.6948\n",
      "Epoch 159/200\n",
      "\u001b[1m85/85\u001b[0m \u001b[32m━━━━━━━━━━━━━━━━━━━━\u001b[0m\u001b[37m\u001b[0m \u001b[1m0s\u001b[0m 2ms/step - accuracy: 0.5386 - loss: 0.6882 - val_accuracy: 0.5126 - val_loss: 0.6959\n",
      "Epoch 160/200\n",
      "\u001b[1m85/85\u001b[0m \u001b[32m━━━━━━━━━━━━━━━━━━━━\u001b[0m\u001b[37m\u001b[0m \u001b[1m0s\u001b[0m 1ms/step - accuracy: 0.5421 - loss: 0.6877 - val_accuracy: 0.5096 - val_loss: 0.6962\n",
      "Epoch 161/200\n",
      "\u001b[1m85/85\u001b[0m \u001b[32m━━━━━━━━━━━━━━━━━━━━\u001b[0m\u001b[37m\u001b[0m \u001b[1m0s\u001b[0m 2ms/step - accuracy: 0.5299 - loss: 0.6899 - val_accuracy: 0.4904 - val_loss: 0.6995\n",
      "Epoch 162/200\n",
      "\u001b[1m85/85\u001b[0m \u001b[32m━━━━━━━━━━━━━━━━━━━━\u001b[0m\u001b[37m\u001b[0m \u001b[1m0s\u001b[0m 2ms/step - accuracy: 0.5398 - loss: 0.6871 - val_accuracy: 0.4874 - val_loss: 0.7019\n",
      "Epoch 163/200\n",
      "\u001b[1m85/85\u001b[0m \u001b[32m━━━━━━━━━━━━━━━━━━━━\u001b[0m\u001b[37m\u001b[0m \u001b[1m0s\u001b[0m 2ms/step - accuracy: 0.5303 - loss: 0.6858 - val_accuracy: 0.4933 - val_loss: 0.6978\n",
      "Epoch 164/200\n",
      "\u001b[1m85/85\u001b[0m \u001b[32m━━━━━━━━━━━━━━━━━━━━\u001b[0m\u001b[37m\u001b[0m \u001b[1m0s\u001b[0m 2ms/step - accuracy: 0.5331 - loss: 0.6894 - val_accuracy: 0.4874 - val_loss: 0.6977\n",
      "Epoch 165/200\n",
      "\u001b[1m85/85\u001b[0m \u001b[32m━━━━━━━━━━━━━━━━━━━━\u001b[0m\u001b[37m\u001b[0m \u001b[1m0s\u001b[0m 1ms/step - accuracy: 0.5468 - loss: 0.6874 - val_accuracy: 0.4815 - val_loss: 0.7006\n",
      "Epoch 166/200\n",
      "\u001b[1m85/85\u001b[0m \u001b[32m━━━━━━━━━━━━━━━━━━━━\u001b[0m\u001b[37m\u001b[0m \u001b[1m0s\u001b[0m 2ms/step - accuracy: 0.5225 - loss: 0.6898 - val_accuracy: 0.4815 - val_loss: 0.7007\n",
      "Epoch 167/200\n",
      "\u001b[1m85/85\u001b[0m \u001b[32m━━━━━━━━━━━━━━━━━━━━\u001b[0m\u001b[37m\u001b[0m \u001b[1m0s\u001b[0m 2ms/step - accuracy: 0.5383 - loss: 0.6883 - val_accuracy: 0.4919 - val_loss: 0.6986\n",
      "Epoch 168/200\n",
      "\u001b[1m85/85\u001b[0m \u001b[32m━━━━━━━━━━━━━━━━━━━━\u001b[0m\u001b[37m\u001b[0m \u001b[1m0s\u001b[0m 2ms/step - accuracy: 0.5218 - loss: 0.6871 - val_accuracy: 0.4859 - val_loss: 0.6971\n",
      "Epoch 169/200\n",
      "\u001b[1m85/85\u001b[0m \u001b[32m━━━━━━━━━━━━━━━━━━━━\u001b[0m\u001b[37m\u001b[0m \u001b[1m0s\u001b[0m 2ms/step - accuracy: 0.5372 - loss: 0.6862 - val_accuracy: 0.4859 - val_loss: 0.6998\n",
      "Epoch 170/200\n",
      "\u001b[1m85/85\u001b[0m \u001b[32m━━━━━━━━━━━━━━━━━━━━\u001b[0m\u001b[37m\u001b[0m \u001b[1m0s\u001b[0m 1ms/step - accuracy: 0.5395 - loss: 0.6883 - val_accuracy: 0.5067 - val_loss: 0.6992\n",
      "Epoch 171/200\n",
      "\u001b[1m85/85\u001b[0m \u001b[32m━━━━━━━━━━━━━━━━━━━━\u001b[0m\u001b[37m\u001b[0m \u001b[1m0s\u001b[0m 2ms/step - accuracy: 0.5466 - loss: 0.6855 - val_accuracy: 0.5081 - val_loss: 0.6958\n",
      "Epoch 172/200\n",
      "\u001b[1m85/85\u001b[0m \u001b[32m━━━━━━━━━━━━━━━━━━━━\u001b[0m\u001b[37m\u001b[0m \u001b[1m0s\u001b[0m 2ms/step - accuracy: 0.5453 - loss: 0.6865 - val_accuracy: 0.4963 - val_loss: 0.7004\n",
      "Epoch 173/200\n",
      "\u001b[1m85/85\u001b[0m \u001b[32m━━━━━━━━━━━━━━━━━━━━\u001b[0m\u001b[37m\u001b[0m \u001b[1m0s\u001b[0m 2ms/step - accuracy: 0.5507 - loss: 0.6860 - val_accuracy: 0.4785 - val_loss: 0.6994\n",
      "Epoch 174/200\n",
      "\u001b[1m85/85\u001b[0m \u001b[32m━━━━━━━━━━━━━━━━━━━━\u001b[0m\u001b[37m\u001b[0m \u001b[1m0s\u001b[0m 2ms/step - accuracy: 0.5334 - loss: 0.6893 - val_accuracy: 0.4993 - val_loss: 0.7011\n",
      "Epoch 175/200\n",
      "\u001b[1m85/85\u001b[0m \u001b[32m━━━━━━━━━━━━━━━━━━━━\u001b[0m\u001b[37m\u001b[0m \u001b[1m0s\u001b[0m 1ms/step - accuracy: 0.5510 - loss: 0.6848 - val_accuracy: 0.4889 - val_loss: 0.7003\n",
      "Epoch 176/200\n",
      "\u001b[1m85/85\u001b[0m \u001b[32m━━━━━━━━━━━━━━━━━━━━\u001b[0m\u001b[37m\u001b[0m \u001b[1m0s\u001b[0m 2ms/step - accuracy: 0.5196 - loss: 0.6874 - val_accuracy: 0.4963 - val_loss: 0.7043\n",
      "Epoch 177/200\n",
      "\u001b[1m85/85\u001b[0m \u001b[32m━━━━━━━━━━━━━━━━━━━━\u001b[0m\u001b[37m\u001b[0m \u001b[1m0s\u001b[0m 2ms/step - accuracy: 0.5290 - loss: 0.6880 - val_accuracy: 0.4919 - val_loss: 0.6956\n",
      "Epoch 178/200\n",
      "\u001b[1m85/85\u001b[0m \u001b[32m━━━━━━━━━━━━━━━━━━━━\u001b[0m\u001b[37m\u001b[0m \u001b[1m0s\u001b[0m 2ms/step - accuracy: 0.5542 - loss: 0.6851 - val_accuracy: 0.4844 - val_loss: 0.6981\n",
      "Epoch 179/200\n",
      "\u001b[1m85/85\u001b[0m \u001b[32m━━━━━━━━━━━━━━━━━━━━\u001b[0m\u001b[37m\u001b[0m \u001b[1m0s\u001b[0m 2ms/step - accuracy: 0.5377 - loss: 0.6842 - val_accuracy: 0.4963 - val_loss: 0.6970\n",
      "Epoch 180/200\n",
      "\u001b[1m85/85\u001b[0m \u001b[32m━━━━━━━━━━━━━━━━━━━━\u001b[0m\u001b[37m\u001b[0m \u001b[1m0s\u001b[0m 2ms/step - accuracy: 0.5236 - loss: 0.6888 - val_accuracy: 0.4933 - val_loss: 0.7005\n",
      "Epoch 181/200\n",
      "\u001b[1m85/85\u001b[0m \u001b[32m━━━━━━━━━━━━━━━━━━━━\u001b[0m\u001b[37m\u001b[0m \u001b[1m0s\u001b[0m 1ms/step - accuracy: 0.5420 - loss: 0.6848 - val_accuracy: 0.4963 - val_loss: 0.6972\n",
      "Epoch 182/200\n",
      "\u001b[1m85/85\u001b[0m \u001b[32m━━━━━━━━━━━━━━━━━━━━\u001b[0m\u001b[37m\u001b[0m \u001b[1m0s\u001b[0m 2ms/step - accuracy: 0.5425 - loss: 0.6840 - val_accuracy: 0.4815 - val_loss: 0.6979\n",
      "Epoch 183/200\n",
      "\u001b[1m85/85\u001b[0m \u001b[32m━━━━━━━━━━━━━━━━━━━━\u001b[0m\u001b[37m\u001b[0m \u001b[1m0s\u001b[0m 1ms/step - accuracy: 0.5378 - loss: 0.6846 - val_accuracy: 0.4889 - val_loss: 0.7039\n",
      "Epoch 184/200\n",
      "\u001b[1m85/85\u001b[0m \u001b[32m━━━━━━━━━━━━━━━━━━━━\u001b[0m\u001b[37m\u001b[0m \u001b[1m0s\u001b[0m 1ms/step - accuracy: 0.5567 - loss: 0.6828 - val_accuracy: 0.4933 - val_loss: 0.7067\n",
      "Epoch 185/200\n",
      "\u001b[1m85/85\u001b[0m \u001b[32m━━━━━━━━━━━━━━━━━━━━\u001b[0m\u001b[37m\u001b[0m \u001b[1m0s\u001b[0m 2ms/step - accuracy: 0.5618 - loss: 0.6817 - val_accuracy: 0.4815 - val_loss: 0.7017\n",
      "Epoch 186/200\n",
      "\u001b[1m85/85\u001b[0m \u001b[32m━━━━━━━━━━━━━━━━━━━━\u001b[0m\u001b[37m\u001b[0m \u001b[1m0s\u001b[0m 2ms/step - accuracy: 0.5641 - loss: 0.6802 - val_accuracy: 0.4978 - val_loss: 0.6984\n",
      "Epoch 187/200\n",
      "\u001b[1m85/85\u001b[0m \u001b[32m━━━━━━━━━━━━━━━━━━━━\u001b[0m\u001b[37m\u001b[0m \u001b[1m0s\u001b[0m 1ms/step - accuracy: 0.5420 - loss: 0.6834 - val_accuracy: 0.4993 - val_loss: 0.6942\n",
      "Epoch 188/200\n",
      "\u001b[1m85/85\u001b[0m \u001b[32m━━━━━━━━━━━━━━━━━━━━\u001b[0m\u001b[37m\u001b[0m \u001b[1m0s\u001b[0m 2ms/step - accuracy: 0.5268 - loss: 0.6868 - val_accuracy: 0.5037 - val_loss: 0.6976\n",
      "Epoch 189/200\n",
      "\u001b[1m85/85\u001b[0m \u001b[32m━━━━━━━━━━━━━━━━━━━━\u001b[0m\u001b[37m\u001b[0m \u001b[1m0s\u001b[0m 2ms/step - accuracy: 0.5368 - loss: 0.6830 - val_accuracy: 0.5007 - val_loss: 0.6989\n",
      "Epoch 190/200\n",
      "\u001b[1m85/85\u001b[0m \u001b[32m━━━━━━━━━━━━━━━━━━━━\u001b[0m\u001b[37m\u001b[0m \u001b[1m0s\u001b[0m 1ms/step - accuracy: 0.5588 - loss: 0.6800 - val_accuracy: 0.4978 - val_loss: 0.6962\n",
      "Epoch 191/200\n",
      "\u001b[1m85/85\u001b[0m \u001b[32m━━━━━━━━━━━━━━━━━━━━\u001b[0m\u001b[37m\u001b[0m \u001b[1m0s\u001b[0m 2ms/step - accuracy: 0.5512 - loss: 0.6833 - val_accuracy: 0.5022 - val_loss: 0.7025\n",
      "Epoch 192/200\n",
      "\u001b[1m85/85\u001b[0m \u001b[32m━━━━━━━━━━━━━━━━━━━━\u001b[0m\u001b[37m\u001b[0m \u001b[1m0s\u001b[0m 2ms/step - accuracy: 0.5350 - loss: 0.6857 - val_accuracy: 0.4889 - val_loss: 0.6997\n",
      "Epoch 193/200\n",
      "\u001b[1m85/85\u001b[0m \u001b[32m━━━━━━━━━━━━━━━━━━━━\u001b[0m\u001b[37m\u001b[0m \u001b[1m0s\u001b[0m 1ms/step - accuracy: 0.5542 - loss: 0.6820 - val_accuracy: 0.5037 - val_loss: 0.7019\n",
      "Epoch 194/200\n",
      "\u001b[1m85/85\u001b[0m \u001b[32m━━━━━━━━━━━━━━━━━━━━\u001b[0m\u001b[37m\u001b[0m \u001b[1m0s\u001b[0m 2ms/step - accuracy: 0.5678 - loss: 0.6786 - val_accuracy: 0.5126 - val_loss: 0.6928\n",
      "Epoch 195/200\n",
      "\u001b[1m85/85\u001b[0m \u001b[32m━━━━━━━━━━━━━━━━━━━━\u001b[0m\u001b[37m\u001b[0m \u001b[1m0s\u001b[0m 2ms/step - accuracy: 0.5685 - loss: 0.6827 - val_accuracy: 0.4830 - val_loss: 0.7004\n",
      "Epoch 196/200\n",
      "\u001b[1m85/85\u001b[0m \u001b[32m━━━━━━━━━━━━━━━━━━━━\u001b[0m\u001b[37m\u001b[0m \u001b[1m0s\u001b[0m 1ms/step - accuracy: 0.5388 - loss: 0.6844 - val_accuracy: 0.5007 - val_loss: 0.7016\n",
      "Epoch 197/200\n",
      "\u001b[1m85/85\u001b[0m \u001b[32m━━━━━━━━━━━━━━━━━━━━\u001b[0m\u001b[37m\u001b[0m \u001b[1m0s\u001b[0m 2ms/step - accuracy: 0.5341 - loss: 0.6875 - val_accuracy: 0.5052 - val_loss: 0.7033\n",
      "Epoch 198/200\n",
      "\u001b[1m85/85\u001b[0m \u001b[32m━━━━━━━━━━━━━━━━━━━━\u001b[0m\u001b[37m\u001b[0m \u001b[1m0s\u001b[0m 2ms/step - accuracy: 0.5396 - loss: 0.6813 - val_accuracy: 0.4933 - val_loss: 0.7031\n",
      "Epoch 199/200\n",
      "\u001b[1m85/85\u001b[0m \u001b[32m━━━━━━━━━━━━━━━━━━━━\u001b[0m\u001b[37m\u001b[0m \u001b[1m0s\u001b[0m 1ms/step - accuracy: 0.5450 - loss: 0.6830 - val_accuracy: 0.4933 - val_loss: 0.7067\n",
      "Epoch 200/200\n",
      "\u001b[1m85/85\u001b[0m \u001b[32m━━━━━━━━━━━━━━━━━━━━\u001b[0m\u001b[37m\u001b[0m \u001b[1m0s\u001b[0m 1ms/step - accuracy: 0.5224 - loss: 0.6838 - val_accuracy: 0.4933 - val_loss: 0.7021\n"
     ]
    },
    {
     "data": {
      "text/plain": [
       "<keras.src.callbacks.history.History at 0x231441cb150>"
      ]
     },
     "execution_count": 117,
     "metadata": {},
     "output_type": "execute_result"
    }
   ],
   "source": [
    "# Training the model\n",
    "\n",
    "model.fit(X_train, y_train, epochs=200, batch_size=32, validation_split=0.2)"
   ]
  },
  {
   "cell_type": "code",
   "execution_count": 118,
   "id": "25e7bbe1-4dca-4a95-9550-e9bd2ff5a37a",
   "metadata": {},
   "outputs": [
    {
     "name": "stdout",
     "output_type": "stream",
     "text": [
      "\u001b[1m66212/66212\u001b[0m \u001b[32m━━━━━━━━━━━━━━━━━━━━\u001b[0m\u001b[37m\u001b[0m \u001b[1m41s\u001b[0m 619us/step\n"
     ]
    }
   ],
   "source": [
    "# Predict probabilities for all combinations in X\n",
    "\n",
    "probabilities = model.predict(X)"
   ]
  },
  {
   "cell_type": "code",
   "execution_count": 121,
   "id": "ab49ad9b-4ccf-4cf2-922d-eb9ce0b21848",
   "metadata": {},
   "outputs": [],
   "source": [
    "# Getting the combination with the highest probability\n",
    "\n",
    "next_combination_index = np.argmax(probabilities)\n",
    "next_combination = X[next_combination_index]"
   ]
  },
  {
   "cell_type": "code",
   "execution_count": 122,
   "id": "8437e6ed-0915-4c3b-8b8e-addc40a229d2",
   "metadata": {},
   "outputs": [
    {
     "name": "stdout",
     "output_type": "stream",
     "text": [
      "Predicted next combination: [ 1  2  3  4 50]\n"
     ]
    }
   ],
   "source": [
    "# Denormalize the output to get actual lottery numbers\n",
    "\n",
    "next_combination = np.round(next_combination * 50).astype(int)\n",
    "\n",
    "print(\"Predicted next combination:\", next_combination)"
   ]
  },
  {
   "cell_type": "code",
   "execution_count": null,
   "id": "8bf60b23-cad1-4c8d-b3d8-1dca9f2b11b9",
   "metadata": {},
   "outputs": [],
   "source": []
  }
 ],
 "metadata": {
  "kernelspec": {
   "display_name": "Python 3 (ipykernel)",
   "language": "python",
   "name": "python3"
  },
  "language_info": {
   "codemirror_mode": {
    "name": "ipython",
    "version": 3
   },
   "file_extension": ".py",
   "mimetype": "text/x-python",
   "name": "python",
   "nbconvert_exporter": "python",
   "pygments_lexer": "ipython3",
   "version": "3.11.7"
  }
 },
 "nbformat": 4,
 "nbformat_minor": 5
}

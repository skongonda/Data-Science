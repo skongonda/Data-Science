{
 "cells": [
  {
   "cell_type": "code",
   "execution_count": 28,
   "id": "201bb149-513b-4fae-8e1c-247df1894f15",
   "metadata": {},
   "outputs": [],
   "source": [
    "import numpy as np\n",
    "import pandas as pd\n",
    "import datetime\n",
    "\n",
    "import warnings\n",
    "warnings.filterwarnings(\"ignore\")"
   ]
  },
  {
   "cell_type": "code",
   "execution_count": 2,
   "id": "3226af02-cd56-4389-9554-6a8521609fbf",
   "metadata": {},
   "outputs": [],
   "source": [
    "date = pd.read_csv('E:/Python Programs/orders.csv')\n",
    "time = pd.read_csv('E:/Python Programs/messages.csv')"
   ]
  },
  {
   "cell_type": "code",
   "execution_count": 3,
   "id": "1ea58572-10f7-4d8c-ae66-f14b3a59758e",
   "metadata": {},
   "outputs": [
    {
     "data": {
      "text/html": [
       "<div>\n",
       "<style scoped>\n",
       "    .dataframe tbody tr th:only-of-type {\n",
       "        vertical-align: middle;\n",
       "    }\n",
       "\n",
       "    .dataframe tbody tr th {\n",
       "        vertical-align: top;\n",
       "    }\n",
       "\n",
       "    .dataframe thead th {\n",
       "        text-align: right;\n",
       "    }\n",
       "</style>\n",
       "<table border=\"1\" class=\"dataframe\">\n",
       "  <thead>\n",
       "    <tr style=\"text-align: right;\">\n",
       "      <th></th>\n",
       "      <th>date</th>\n",
       "      <th>product_id</th>\n",
       "      <th>city_id</th>\n",
       "      <th>orders</th>\n",
       "    </tr>\n",
       "  </thead>\n",
       "  <tbody>\n",
       "    <tr>\n",
       "      <th>0</th>\n",
       "      <td>2019-12-10</td>\n",
       "      <td>5628</td>\n",
       "      <td>25</td>\n",
       "      <td>3</td>\n",
       "    </tr>\n",
       "    <tr>\n",
       "      <th>1</th>\n",
       "      <td>2018-08-15</td>\n",
       "      <td>3646</td>\n",
       "      <td>14</td>\n",
       "      <td>157</td>\n",
       "    </tr>\n",
       "    <tr>\n",
       "      <th>2</th>\n",
       "      <td>2018-10-23</td>\n",
       "      <td>1859</td>\n",
       "      <td>25</td>\n",
       "      <td>1</td>\n",
       "    </tr>\n",
       "    <tr>\n",
       "      <th>3</th>\n",
       "      <td>2019-08-17</td>\n",
       "      <td>7292</td>\n",
       "      <td>25</td>\n",
       "      <td>1</td>\n",
       "    </tr>\n",
       "    <tr>\n",
       "      <th>4</th>\n",
       "      <td>2019-01-06</td>\n",
       "      <td>4344</td>\n",
       "      <td>25</td>\n",
       "      <td>3</td>\n",
       "    </tr>\n",
       "  </tbody>\n",
       "</table>\n",
       "</div>"
      ],
      "text/plain": [
       "         date  product_id  city_id  orders\n",
       "0  2019-12-10        5628       25       3\n",
       "1  2018-08-15        3646       14     157\n",
       "2  2018-10-23        1859       25       1\n",
       "3  2019-08-17        7292       25       1\n",
       "4  2019-01-06        4344       25       3"
      ]
     },
     "execution_count": 3,
     "metadata": {},
     "output_type": "execute_result"
    }
   ],
   "source": [
    "date.head()"
   ]
  },
  {
   "cell_type": "code",
   "execution_count": 4,
   "id": "43f8dbca-6fe1-4868-8c5d-0952cb37caa3",
   "metadata": {},
   "outputs": [
    {
     "data": {
      "text/html": [
       "<div>\n",
       "<style scoped>\n",
       "    .dataframe tbody tr th:only-of-type {\n",
       "        vertical-align: middle;\n",
       "    }\n",
       "\n",
       "    .dataframe tbody tr th {\n",
       "        vertical-align: top;\n",
       "    }\n",
       "\n",
       "    .dataframe thead th {\n",
       "        text-align: right;\n",
       "    }\n",
       "</style>\n",
       "<table border=\"1\" class=\"dataframe\">\n",
       "  <thead>\n",
       "    <tr style=\"text-align: right;\">\n",
       "      <th></th>\n",
       "      <th>date</th>\n",
       "      <th>msg</th>\n",
       "    </tr>\n",
       "  </thead>\n",
       "  <tbody>\n",
       "    <tr>\n",
       "      <th>0</th>\n",
       "      <td>2013-12-15 00:50:00</td>\n",
       "      <td>ищу на сегодня мужика 37</td>\n",
       "    </tr>\n",
       "    <tr>\n",
       "      <th>1</th>\n",
       "      <td>2014-04-29 23:40:00</td>\n",
       "      <td>ПАРЕНЬ БИ ИЩЕТ ДРУГА СЕЙЧАС!! СМС ММС 0955532826</td>\n",
       "    </tr>\n",
       "    <tr>\n",
       "      <th>2</th>\n",
       "      <td>2012-12-30 00:21:00</td>\n",
       "      <td>Днепр.м 43 позн.с д/ж *.о  067.16.34.576</td>\n",
       "    </tr>\n",
       "    <tr>\n",
       "      <th>3</th>\n",
       "      <td>2014-11-28 00:31:00</td>\n",
       "      <td>КИЕВ ИЩУ Д/Ж ДО 45 МНЕ СЕЙЧАС СКУЧНО 093 629 9...</td>\n",
       "    </tr>\n",
       "    <tr>\n",
       "      <th>4</th>\n",
       "      <td>2013-10-26 23:11:00</td>\n",
       "      <td>Зая я тебя никогда не обижу  люблю тебя!)  Даше</td>\n",
       "    </tr>\n",
       "  </tbody>\n",
       "</table>\n",
       "</div>"
      ],
      "text/plain": [
       "                  date                                                msg\n",
       "0  2013-12-15 00:50:00                           ищу на сегодня мужика 37\n",
       "1  2014-04-29 23:40:00   ПАРЕНЬ БИ ИЩЕТ ДРУГА СЕЙЧАС!! СМС ММС 0955532826\n",
       "2  2012-12-30 00:21:00           Днепр.м 43 позн.с д/ж *.о  067.16.34.576\n",
       "3  2014-11-28 00:31:00  КИЕВ ИЩУ Д/Ж ДО 45 МНЕ СЕЙЧАС СКУЧНО 093 629 9...\n",
       "4  2013-10-26 23:11:00    Зая я тебя никогда не обижу  люблю тебя!)  Даше"
      ]
     },
     "execution_count": 4,
     "metadata": {},
     "output_type": "execute_result"
    }
   ],
   "source": [
    "time.head()"
   ]
  },
  {
   "cell_type": "code",
   "execution_count": 5,
   "id": "33bba8ca-3117-471a-9998-962790963bae",
   "metadata": {},
   "outputs": [
    {
     "name": "stdout",
     "output_type": "stream",
     "text": [
      "<class 'pandas.core.frame.DataFrame'>\n",
      "RangeIndex: 1000 entries, 0 to 999\n",
      "Data columns (total 4 columns):\n",
      " #   Column      Non-Null Count  Dtype \n",
      "---  ------      --------------  ----- \n",
      " 0   date        1000 non-null   object\n",
      " 1   product_id  1000 non-null   int64 \n",
      " 2   city_id     1000 non-null   int64 \n",
      " 3   orders      1000 non-null   int64 \n",
      "dtypes: int64(3), object(1)\n",
      "memory usage: 31.4+ KB\n"
     ]
    }
   ],
   "source": [
    "date.info()"
   ]
  },
  {
   "cell_type": "code",
   "execution_count": 6,
   "id": "da266df4-f402-41f7-99d2-a41f4a3659ca",
   "metadata": {},
   "outputs": [
    {
     "name": "stdout",
     "output_type": "stream",
     "text": [
      "<class 'pandas.core.frame.DataFrame'>\n",
      "RangeIndex: 1000 entries, 0 to 999\n",
      "Data columns (total 2 columns):\n",
      " #   Column  Non-Null Count  Dtype \n",
      "---  ------  --------------  ----- \n",
      " 0   date    1000 non-null   object\n",
      " 1   msg     1000 non-null   object\n",
      "dtypes: object(2)\n",
      "memory usage: 15.8+ KB\n"
     ]
    }
   ],
   "source": [
    "time.info()"
   ]
  },
  {
   "cell_type": "markdown",
   "id": "13a6c48c-71ad-42dd-b1fb-2d0db1f63488",
   "metadata": {},
   "source": [
    "## Working with Dates"
   ]
  },
  {
   "cell_type": "code",
   "execution_count": 7,
   "id": "e67babb6-c4b0-4ad4-bc48-bb1955f8543a",
   "metadata": {},
   "outputs": [],
   "source": [
    "# Converting to datetime datatype\n",
    "\n",
    "date['date'] = pd.to_datetime(date['date'])"
   ]
  },
  {
   "cell_type": "code",
   "execution_count": 8,
   "id": "61ed0ac8-b80b-4146-90fd-51c32ba05197",
   "metadata": {},
   "outputs": [
    {
     "name": "stdout",
     "output_type": "stream",
     "text": [
      "<class 'pandas.core.frame.DataFrame'>\n",
      "RangeIndex: 1000 entries, 0 to 999\n",
      "Data columns (total 4 columns):\n",
      " #   Column      Non-Null Count  Dtype         \n",
      "---  ------      --------------  -----         \n",
      " 0   date        1000 non-null   datetime64[ns]\n",
      " 1   product_id  1000 non-null   int64         \n",
      " 2   city_id     1000 non-null   int64         \n",
      " 3   orders      1000 non-null   int64         \n",
      "dtypes: datetime64[ns](1), int64(3)\n",
      "memory usage: 31.4 KB\n"
     ]
    }
   ],
   "source": [
    "date.info()"
   ]
  },
  {
   "cell_type": "markdown",
   "id": "91abd238-7854-4e84-9216-b655affb2336",
   "metadata": {},
   "source": [
    "#### 1. Extract Year"
   ]
  },
  {
   "cell_type": "code",
   "execution_count": 9,
   "id": "397f1b6d-522e-467b-87af-d56309563303",
   "metadata": {},
   "outputs": [],
   "source": [
    "date['date_year'] = date['date'].dt.year"
   ]
  },
  {
   "cell_type": "code",
   "execution_count": 11,
   "id": "6af9704f-20b5-4a91-b64e-2b07100eb9ed",
   "metadata": {},
   "outputs": [
    {
     "data": {
      "text/html": [
       "<div>\n",
       "<style scoped>\n",
       "    .dataframe tbody tr th:only-of-type {\n",
       "        vertical-align: middle;\n",
       "    }\n",
       "\n",
       "    .dataframe tbody tr th {\n",
       "        vertical-align: top;\n",
       "    }\n",
       "\n",
       "    .dataframe thead th {\n",
       "        text-align: right;\n",
       "    }\n",
       "</style>\n",
       "<table border=\"1\" class=\"dataframe\">\n",
       "  <thead>\n",
       "    <tr style=\"text-align: right;\">\n",
       "      <th></th>\n",
       "      <th>date</th>\n",
       "      <th>product_id</th>\n",
       "      <th>city_id</th>\n",
       "      <th>orders</th>\n",
       "      <th>date_year</th>\n",
       "    </tr>\n",
       "  </thead>\n",
       "  <tbody>\n",
       "    <tr>\n",
       "      <th>363</th>\n",
       "      <td>2019-01-09</td>\n",
       "      <td>6860</td>\n",
       "      <td>26</td>\n",
       "      <td>1</td>\n",
       "      <td>2019</td>\n",
       "    </tr>\n",
       "    <tr>\n",
       "      <th>300</th>\n",
       "      <td>2019-05-31</td>\n",
       "      <td>2981</td>\n",
       "      <td>26</td>\n",
       "      <td>1004</td>\n",
       "      <td>2019</td>\n",
       "    </tr>\n",
       "    <tr>\n",
       "      <th>657</th>\n",
       "      <td>2019-01-26</td>\n",
       "      <td>7025</td>\n",
       "      <td>14</td>\n",
       "      <td>56</td>\n",
       "      <td>2019</td>\n",
       "    </tr>\n",
       "    <tr>\n",
       "      <th>917</th>\n",
       "      <td>2019-01-25</td>\n",
       "      <td>1613</td>\n",
       "      <td>28</td>\n",
       "      <td>6</td>\n",
       "      <td>2019</td>\n",
       "    </tr>\n",
       "    <tr>\n",
       "      <th>133</th>\n",
       "      <td>2018-07-23</td>\n",
       "      <td>6564</td>\n",
       "      <td>18</td>\n",
       "      <td>3</td>\n",
       "      <td>2018</td>\n",
       "    </tr>\n",
       "  </tbody>\n",
       "</table>\n",
       "</div>"
      ],
      "text/plain": [
       "          date  product_id  city_id  orders  date_year\n",
       "363 2019-01-09        6860       26       1       2019\n",
       "300 2019-05-31        2981       26    1004       2019\n",
       "657 2019-01-26        7025       14      56       2019\n",
       "917 2019-01-25        1613       28       6       2019\n",
       "133 2018-07-23        6564       18       3       2018"
      ]
     },
     "execution_count": 11,
     "metadata": {},
     "output_type": "execute_result"
    }
   ],
   "source": [
    "date.sample(5)"
   ]
  },
  {
   "cell_type": "markdown",
   "id": "b60b3b12-3f67-4e46-97b5-b0894e8e666a",
   "metadata": {},
   "source": [
    "#### 2. Extract Month"
   ]
  },
  {
   "cell_type": "code",
   "execution_count": 12,
   "id": "d663e4ff-8779-48a1-b6f7-64bed8e4e79c",
   "metadata": {},
   "outputs": [],
   "source": [
    "date['date_month_no'] = date['date'].dt.month"
   ]
  },
  {
   "cell_type": "code",
   "execution_count": 13,
   "id": "b0fdff9a-01dd-467c-9475-5c144ea7feb1",
   "metadata": {},
   "outputs": [
    {
     "data": {
      "text/html": [
       "<div>\n",
       "<style scoped>\n",
       "    .dataframe tbody tr th:only-of-type {\n",
       "        vertical-align: middle;\n",
       "    }\n",
       "\n",
       "    .dataframe tbody tr th {\n",
       "        vertical-align: top;\n",
       "    }\n",
       "\n",
       "    .dataframe thead th {\n",
       "        text-align: right;\n",
       "    }\n",
       "</style>\n",
       "<table border=\"1\" class=\"dataframe\">\n",
       "  <thead>\n",
       "    <tr style=\"text-align: right;\">\n",
       "      <th></th>\n",
       "      <th>date</th>\n",
       "      <th>product_id</th>\n",
       "      <th>city_id</th>\n",
       "      <th>orders</th>\n",
       "      <th>date_year</th>\n",
       "      <th>date_month_no</th>\n",
       "    </tr>\n",
       "  </thead>\n",
       "  <tbody>\n",
       "    <tr>\n",
       "      <th>432</th>\n",
       "      <td>2019-11-18</td>\n",
       "      <td>3098</td>\n",
       "      <td>28</td>\n",
       "      <td>6</td>\n",
       "      <td>2019</td>\n",
       "      <td>11</td>\n",
       "    </tr>\n",
       "    <tr>\n",
       "      <th>442</th>\n",
       "      <td>2019-06-04</td>\n",
       "      <td>963</td>\n",
       "      <td>13</td>\n",
       "      <td>1</td>\n",
       "      <td>2019</td>\n",
       "      <td>6</td>\n",
       "    </tr>\n",
       "    <tr>\n",
       "      <th>953</th>\n",
       "      <td>2018-11-24</td>\n",
       "      <td>1848</td>\n",
       "      <td>14</td>\n",
       "      <td>120</td>\n",
       "      <td>2018</td>\n",
       "      <td>11</td>\n",
       "    </tr>\n",
       "    <tr>\n",
       "      <th>234</th>\n",
       "      <td>2019-04-21</td>\n",
       "      <td>5200</td>\n",
       "      <td>28</td>\n",
       "      <td>19</td>\n",
       "      <td>2019</td>\n",
       "      <td>4</td>\n",
       "    </tr>\n",
       "    <tr>\n",
       "      <th>393</th>\n",
       "      <td>2019-05-19</td>\n",
       "      <td>2271</td>\n",
       "      <td>3</td>\n",
       "      <td>28</td>\n",
       "      <td>2019</td>\n",
       "      <td>5</td>\n",
       "    </tr>\n",
       "  </tbody>\n",
       "</table>\n",
       "</div>"
      ],
      "text/plain": [
       "          date  product_id  city_id  orders  date_year  date_month_no\n",
       "432 2019-11-18        3098       28       6       2019             11\n",
       "442 2019-06-04         963       13       1       2019              6\n",
       "953 2018-11-24        1848       14     120       2018             11\n",
       "234 2019-04-21        5200       28      19       2019              4\n",
       "393 2019-05-19        2271        3      28       2019              5"
      ]
     },
     "execution_count": 13,
     "metadata": {},
     "output_type": "execute_result"
    }
   ],
   "source": [
    "date.sample(5)"
   ]
  },
  {
   "cell_type": "markdown",
   "id": "58c4fa64-ae7e-4fb4-a27e-89ae04fbe712",
   "metadata": {},
   "source": [
    "#### 2. Extract Month Name instead of Month Number"
   ]
  },
  {
   "cell_type": "code",
   "execution_count": 14,
   "id": "df699847-5333-43be-93fc-f4c8b8f52981",
   "metadata": {},
   "outputs": [],
   "source": [
    "date['date_month_name'] = date['date'].dt.month_name()"
   ]
  },
  {
   "cell_type": "code",
   "execution_count": 15,
   "id": "06f2ca9e-b77e-4526-a68c-4c423654ff28",
   "metadata": {},
   "outputs": [
    {
     "data": {
      "text/html": [
       "<div>\n",
       "<style scoped>\n",
       "    .dataframe tbody tr th:only-of-type {\n",
       "        vertical-align: middle;\n",
       "    }\n",
       "\n",
       "    .dataframe tbody tr th {\n",
       "        vertical-align: top;\n",
       "    }\n",
       "\n",
       "    .dataframe thead th {\n",
       "        text-align: right;\n",
       "    }\n",
       "</style>\n",
       "<table border=\"1\" class=\"dataframe\">\n",
       "  <thead>\n",
       "    <tr style=\"text-align: right;\">\n",
       "      <th></th>\n",
       "      <th>date</th>\n",
       "      <th>product_id</th>\n",
       "      <th>city_id</th>\n",
       "      <th>orders</th>\n",
       "      <th>date_year</th>\n",
       "      <th>date_month_no</th>\n",
       "      <th>date_month_name</th>\n",
       "    </tr>\n",
       "  </thead>\n",
       "  <tbody>\n",
       "    <tr>\n",
       "      <th>891</th>\n",
       "      <td>2018-11-18</td>\n",
       "      <td>3904</td>\n",
       "      <td>1</td>\n",
       "      <td>9</td>\n",
       "      <td>2018</td>\n",
       "      <td>11</td>\n",
       "      <td>November</td>\n",
       "    </tr>\n",
       "    <tr>\n",
       "      <th>928</th>\n",
       "      <td>2019-01-02</td>\n",
       "      <td>5371</td>\n",
       "      <td>22</td>\n",
       "      <td>4</td>\n",
       "      <td>2019</td>\n",
       "      <td>1</td>\n",
       "      <td>January</td>\n",
       "    </tr>\n",
       "    <tr>\n",
       "      <th>633</th>\n",
       "      <td>2018-12-26</td>\n",
       "      <td>4601</td>\n",
       "      <td>26</td>\n",
       "      <td>2</td>\n",
       "      <td>2018</td>\n",
       "      <td>12</td>\n",
       "      <td>December</td>\n",
       "    </tr>\n",
       "    <tr>\n",
       "      <th>940</th>\n",
       "      <td>2019-03-02</td>\n",
       "      <td>7208</td>\n",
       "      <td>6</td>\n",
       "      <td>1</td>\n",
       "      <td>2019</td>\n",
       "      <td>3</td>\n",
       "      <td>March</td>\n",
       "    </tr>\n",
       "    <tr>\n",
       "      <th>458</th>\n",
       "      <td>2019-08-02</td>\n",
       "      <td>5742</td>\n",
       "      <td>26</td>\n",
       "      <td>1</td>\n",
       "      <td>2019</td>\n",
       "      <td>8</td>\n",
       "      <td>August</td>\n",
       "    </tr>\n",
       "  </tbody>\n",
       "</table>\n",
       "</div>"
      ],
      "text/plain": [
       "          date  product_id  city_id  orders  date_year  date_month_no  \\\n",
       "891 2018-11-18        3904        1       9       2018             11   \n",
       "928 2019-01-02        5371       22       4       2019              1   \n",
       "633 2018-12-26        4601       26       2       2018             12   \n",
       "940 2019-03-02        7208        6       1       2019              3   \n",
       "458 2019-08-02        5742       26       1       2019              8   \n",
       "\n",
       "    date_month_name  \n",
       "891        November  \n",
       "928         January  \n",
       "633        December  \n",
       "940           March  \n",
       "458          August  "
      ]
     },
     "execution_count": 15,
     "metadata": {},
     "output_type": "execute_result"
    }
   ],
   "source": [
    "date.sample(5)"
   ]
  },
  {
   "cell_type": "markdown",
   "id": "4a79c778-82ce-4a67-93b5-a0d07e521ecf",
   "metadata": {},
   "source": [
    "#### 3. Extract Days"
   ]
  },
  {
   "cell_type": "code",
   "execution_count": 16,
   "id": "2a281652-92a3-4bea-baa6-7b560433934b",
   "metadata": {},
   "outputs": [],
   "source": [
    "date['date_day'] = date['date'].dt.day"
   ]
  },
  {
   "cell_type": "code",
   "execution_count": 17,
   "id": "0713c9dc-c69d-4995-8a3b-e36013a8fcae",
   "metadata": {},
   "outputs": [
    {
     "data": {
      "text/html": [
       "<div>\n",
       "<style scoped>\n",
       "    .dataframe tbody tr th:only-of-type {\n",
       "        vertical-align: middle;\n",
       "    }\n",
       "\n",
       "    .dataframe tbody tr th {\n",
       "        vertical-align: top;\n",
       "    }\n",
       "\n",
       "    .dataframe thead th {\n",
       "        text-align: right;\n",
       "    }\n",
       "</style>\n",
       "<table border=\"1\" class=\"dataframe\">\n",
       "  <thead>\n",
       "    <tr style=\"text-align: right;\">\n",
       "      <th></th>\n",
       "      <th>date</th>\n",
       "      <th>product_id</th>\n",
       "      <th>city_id</th>\n",
       "      <th>orders</th>\n",
       "      <th>date_year</th>\n",
       "      <th>date_month_no</th>\n",
       "      <th>date_month_name</th>\n",
       "      <th>date_day</th>\n",
       "    </tr>\n",
       "  </thead>\n",
       "  <tbody>\n",
       "    <tr>\n",
       "      <th>429</th>\n",
       "      <td>2019-11-11</td>\n",
       "      <td>2746</td>\n",
       "      <td>22</td>\n",
       "      <td>6</td>\n",
       "      <td>2019</td>\n",
       "      <td>11</td>\n",
       "      <td>November</td>\n",
       "      <td>11</td>\n",
       "    </tr>\n",
       "    <tr>\n",
       "      <th>235</th>\n",
       "      <td>2018-10-05</td>\n",
       "      <td>1288</td>\n",
       "      <td>20</td>\n",
       "      <td>22</td>\n",
       "      <td>2018</td>\n",
       "      <td>10</td>\n",
       "      <td>October</td>\n",
       "      <td>5</td>\n",
       "    </tr>\n",
       "    <tr>\n",
       "      <th>841</th>\n",
       "      <td>2019-11-17</td>\n",
       "      <td>5250</td>\n",
       "      <td>3</td>\n",
       "      <td>13</td>\n",
       "      <td>2019</td>\n",
       "      <td>11</td>\n",
       "      <td>November</td>\n",
       "      <td>17</td>\n",
       "    </tr>\n",
       "    <tr>\n",
       "      <th>712</th>\n",
       "      <td>2019-02-10</td>\n",
       "      <td>5290</td>\n",
       "      <td>3</td>\n",
       "      <td>8</td>\n",
       "      <td>2019</td>\n",
       "      <td>2</td>\n",
       "      <td>February</td>\n",
       "      <td>10</td>\n",
       "    </tr>\n",
       "    <tr>\n",
       "      <th>300</th>\n",
       "      <td>2019-05-31</td>\n",
       "      <td>2981</td>\n",
       "      <td>26</td>\n",
       "      <td>1004</td>\n",
       "      <td>2019</td>\n",
       "      <td>5</td>\n",
       "      <td>May</td>\n",
       "      <td>31</td>\n",
       "    </tr>\n",
       "  </tbody>\n",
       "</table>\n",
       "</div>"
      ],
      "text/plain": [
       "          date  product_id  city_id  orders  date_year  date_month_no  \\\n",
       "429 2019-11-11        2746       22       6       2019             11   \n",
       "235 2018-10-05        1288       20      22       2018             10   \n",
       "841 2019-11-17        5250        3      13       2019             11   \n",
       "712 2019-02-10        5290        3       8       2019              2   \n",
       "300 2019-05-31        2981       26    1004       2019              5   \n",
       "\n",
       "    date_month_name  date_day  \n",
       "429        November        11  \n",
       "235         October         5  \n",
       "841        November        17  \n",
       "712        February        10  \n",
       "300             May        31  "
      ]
     },
     "execution_count": 17,
     "metadata": {},
     "output_type": "execute_result"
    }
   ],
   "source": [
    "date.sample(5)"
   ]
  },
  {
   "cell_type": "markdown",
   "id": "6490ee7f-2a4a-483e-b830-f2ae564ea2d6",
   "metadata": {},
   "source": [
    "#### 4. Extract Day of Week"
   ]
  },
  {
   "cell_type": "code",
   "execution_count": 19,
   "id": "6bf56a4e-d94c-449f-a368-8aa31d6e625c",
   "metadata": {},
   "outputs": [],
   "source": [
    "date['date_day_of_week'] = date['date'].dt.dayofweek"
   ]
  },
  {
   "cell_type": "code",
   "execution_count": 20,
   "id": "e685a963-9169-4231-a3de-54a0948d4bf5",
   "metadata": {},
   "outputs": [
    {
     "data": {
      "text/html": [
       "<div>\n",
       "<style scoped>\n",
       "    .dataframe tbody tr th:only-of-type {\n",
       "        vertical-align: middle;\n",
       "    }\n",
       "\n",
       "    .dataframe tbody tr th {\n",
       "        vertical-align: top;\n",
       "    }\n",
       "\n",
       "    .dataframe thead th {\n",
       "        text-align: right;\n",
       "    }\n",
       "</style>\n",
       "<table border=\"1\" class=\"dataframe\">\n",
       "  <thead>\n",
       "    <tr style=\"text-align: right;\">\n",
       "      <th></th>\n",
       "      <th>date</th>\n",
       "      <th>product_id</th>\n",
       "      <th>city_id</th>\n",
       "      <th>orders</th>\n",
       "      <th>date_year</th>\n",
       "      <th>date_month_no</th>\n",
       "      <th>date_month_name</th>\n",
       "      <th>date_day</th>\n",
       "      <th>date_day_of_week</th>\n",
       "    </tr>\n",
       "  </thead>\n",
       "  <tbody>\n",
       "    <tr>\n",
       "      <th>79</th>\n",
       "      <td>2019-05-17</td>\n",
       "      <td>420</td>\n",
       "      <td>26</td>\n",
       "      <td>1</td>\n",
       "      <td>2019</td>\n",
       "      <td>5</td>\n",
       "      <td>May</td>\n",
       "      <td>17</td>\n",
       "      <td>4</td>\n",
       "    </tr>\n",
       "    <tr>\n",
       "      <th>281</th>\n",
       "      <td>2019-06-17</td>\n",
       "      <td>4379</td>\n",
       "      <td>4</td>\n",
       "      <td>1</td>\n",
       "      <td>2019</td>\n",
       "      <td>6</td>\n",
       "      <td>June</td>\n",
       "      <td>17</td>\n",
       "      <td>0</td>\n",
       "    </tr>\n",
       "    <tr>\n",
       "      <th>335</th>\n",
       "      <td>2018-09-05</td>\n",
       "      <td>45</td>\n",
       "      <td>13</td>\n",
       "      <td>38</td>\n",
       "      <td>2018</td>\n",
       "      <td>9</td>\n",
       "      <td>September</td>\n",
       "      <td>5</td>\n",
       "      <td>2</td>\n",
       "    </tr>\n",
       "    <tr>\n",
       "      <th>361</th>\n",
       "      <td>2018-10-13</td>\n",
       "      <td>124</td>\n",
       "      <td>26</td>\n",
       "      <td>2</td>\n",
       "      <td>2018</td>\n",
       "      <td>10</td>\n",
       "      <td>October</td>\n",
       "      <td>13</td>\n",
       "      <td>5</td>\n",
       "    </tr>\n",
       "    <tr>\n",
       "      <th>816</th>\n",
       "      <td>2019-02-15</td>\n",
       "      <td>6634</td>\n",
       "      <td>25</td>\n",
       "      <td>5</td>\n",
       "      <td>2019</td>\n",
       "      <td>2</td>\n",
       "      <td>February</td>\n",
       "      <td>15</td>\n",
       "      <td>4</td>\n",
       "    </tr>\n",
       "  </tbody>\n",
       "</table>\n",
       "</div>"
      ],
      "text/plain": [
       "          date  product_id  city_id  orders  date_year  date_month_no  \\\n",
       "79  2019-05-17         420       26       1       2019              5   \n",
       "281 2019-06-17        4379        4       1       2019              6   \n",
       "335 2018-09-05          45       13      38       2018              9   \n",
       "361 2018-10-13         124       26       2       2018             10   \n",
       "816 2019-02-15        6634       25       5       2019              2   \n",
       "\n",
       "    date_month_name  date_day  date_day_of_week  \n",
       "79              May        17                 4  \n",
       "281            June        17                 0  \n",
       "335       September         5                 2  \n",
       "361         October        13                 5  \n",
       "816        February        15                 4  "
      ]
     },
     "execution_count": 20,
     "metadata": {},
     "output_type": "execute_result"
    }
   ],
   "source": [
    "date.sample(5)"
   ]
  },
  {
   "cell_type": "markdown",
   "id": "9186dae7-723d-462d-8b3f-d894f7f4f478",
   "metadata": {},
   "source": [
    "#### 5. Extract Day of Week Name"
   ]
  },
  {
   "cell_type": "code",
   "execution_count": 21,
   "id": "c4ad877b-eec2-419a-b36d-48333e3fed63",
   "metadata": {},
   "outputs": [
    {
     "data": {
      "text/html": [
       "<div>\n",
       "<style scoped>\n",
       "    .dataframe tbody tr th:only-of-type {\n",
       "        vertical-align: middle;\n",
       "    }\n",
       "\n",
       "    .dataframe tbody tr th {\n",
       "        vertical-align: top;\n",
       "    }\n",
       "\n",
       "    .dataframe thead th {\n",
       "        text-align: right;\n",
       "    }\n",
       "</style>\n",
       "<table border=\"1\" class=\"dataframe\">\n",
       "  <thead>\n",
       "    <tr style=\"text-align: right;\">\n",
       "      <th></th>\n",
       "      <th>date</th>\n",
       "      <th>date_year</th>\n",
       "      <th>date_month_no</th>\n",
       "      <th>date_month_name</th>\n",
       "      <th>date_day</th>\n",
       "      <th>date_day_of_week</th>\n",
       "      <th>date_dow_name</th>\n",
       "    </tr>\n",
       "  </thead>\n",
       "  <tbody>\n",
       "    <tr>\n",
       "      <th>0</th>\n",
       "      <td>2019-12-10</td>\n",
       "      <td>2019</td>\n",
       "      <td>12</td>\n",
       "      <td>December</td>\n",
       "      <td>10</td>\n",
       "      <td>1</td>\n",
       "      <td>Tuesday</td>\n",
       "    </tr>\n",
       "    <tr>\n",
       "      <th>1</th>\n",
       "      <td>2018-08-15</td>\n",
       "      <td>2018</td>\n",
       "      <td>8</td>\n",
       "      <td>August</td>\n",
       "      <td>15</td>\n",
       "      <td>2</td>\n",
       "      <td>Wednesday</td>\n",
       "    </tr>\n",
       "    <tr>\n",
       "      <th>2</th>\n",
       "      <td>2018-10-23</td>\n",
       "      <td>2018</td>\n",
       "      <td>10</td>\n",
       "      <td>October</td>\n",
       "      <td>23</td>\n",
       "      <td>1</td>\n",
       "      <td>Tuesday</td>\n",
       "    </tr>\n",
       "    <tr>\n",
       "      <th>3</th>\n",
       "      <td>2019-08-17</td>\n",
       "      <td>2019</td>\n",
       "      <td>8</td>\n",
       "      <td>August</td>\n",
       "      <td>17</td>\n",
       "      <td>5</td>\n",
       "      <td>Saturday</td>\n",
       "    </tr>\n",
       "    <tr>\n",
       "      <th>4</th>\n",
       "      <td>2019-01-06</td>\n",
       "      <td>2019</td>\n",
       "      <td>1</td>\n",
       "      <td>January</td>\n",
       "      <td>6</td>\n",
       "      <td>6</td>\n",
       "      <td>Sunday</td>\n",
       "    </tr>\n",
       "  </tbody>\n",
       "</table>\n",
       "</div>"
      ],
      "text/plain": [
       "        date  date_year  date_month_no date_month_name  date_day  \\\n",
       "0 2019-12-10       2019             12        December        10   \n",
       "1 2018-08-15       2018              8          August        15   \n",
       "2 2018-10-23       2018             10         October        23   \n",
       "3 2019-08-17       2019              8          August        17   \n",
       "4 2019-01-06       2019              1         January         6   \n",
       "\n",
       "   date_day_of_week date_dow_name  \n",
       "0                 1       Tuesday  \n",
       "1                 2     Wednesday  \n",
       "2                 1       Tuesday  \n",
       "3                 5      Saturday  \n",
       "4                 6        Sunday  "
      ]
     },
     "execution_count": 21,
     "metadata": {},
     "output_type": "execute_result"
    }
   ],
   "source": [
    "date['date_dow_name'] = date['date'].dt.day_name()\n",
    "\n",
    "date.drop(columns=['product_id', 'city_id', 'orders']).head()"
   ]
  },
  {
   "cell_type": "markdown",
   "id": "4160d497-1f30-4bbc-b445-37233f306718",
   "metadata": {},
   "source": [
    "#### Is Weekend or not?"
   ]
  },
  {
   "cell_type": "code",
   "execution_count": 22,
   "id": "e06efe18-3073-4172-9be2-d313e8ad50cd",
   "metadata": {},
   "outputs": [
    {
     "data": {
      "text/html": [
       "<div>\n",
       "<style scoped>\n",
       "    .dataframe tbody tr th:only-of-type {\n",
       "        vertical-align: middle;\n",
       "    }\n",
       "\n",
       "    .dataframe tbody tr th {\n",
       "        vertical-align: top;\n",
       "    }\n",
       "\n",
       "    .dataframe thead th {\n",
       "        text-align: right;\n",
       "    }\n",
       "</style>\n",
       "<table border=\"1\" class=\"dataframe\">\n",
       "  <thead>\n",
       "    <tr style=\"text-align: right;\">\n",
       "      <th></th>\n",
       "      <th>date</th>\n",
       "      <th>date_year</th>\n",
       "      <th>date_month_no</th>\n",
       "      <th>date_month_name</th>\n",
       "      <th>date_day</th>\n",
       "      <th>date_day_of_week</th>\n",
       "      <th>date_dow_name</th>\n",
       "      <th>date_is_weekend</th>\n",
       "    </tr>\n",
       "  </thead>\n",
       "  <tbody>\n",
       "    <tr>\n",
       "      <th>0</th>\n",
       "      <td>2019-12-10</td>\n",
       "      <td>2019</td>\n",
       "      <td>12</td>\n",
       "      <td>December</td>\n",
       "      <td>10</td>\n",
       "      <td>1</td>\n",
       "      <td>Tuesday</td>\n",
       "      <td>0</td>\n",
       "    </tr>\n",
       "    <tr>\n",
       "      <th>1</th>\n",
       "      <td>2018-08-15</td>\n",
       "      <td>2018</td>\n",
       "      <td>8</td>\n",
       "      <td>August</td>\n",
       "      <td>15</td>\n",
       "      <td>2</td>\n",
       "      <td>Wednesday</td>\n",
       "      <td>0</td>\n",
       "    </tr>\n",
       "    <tr>\n",
       "      <th>2</th>\n",
       "      <td>2018-10-23</td>\n",
       "      <td>2018</td>\n",
       "      <td>10</td>\n",
       "      <td>October</td>\n",
       "      <td>23</td>\n",
       "      <td>1</td>\n",
       "      <td>Tuesday</td>\n",
       "      <td>0</td>\n",
       "    </tr>\n",
       "    <tr>\n",
       "      <th>3</th>\n",
       "      <td>2019-08-17</td>\n",
       "      <td>2019</td>\n",
       "      <td>8</td>\n",
       "      <td>August</td>\n",
       "      <td>17</td>\n",
       "      <td>5</td>\n",
       "      <td>Saturday</td>\n",
       "      <td>1</td>\n",
       "    </tr>\n",
       "    <tr>\n",
       "      <th>4</th>\n",
       "      <td>2019-01-06</td>\n",
       "      <td>2019</td>\n",
       "      <td>1</td>\n",
       "      <td>January</td>\n",
       "      <td>6</td>\n",
       "      <td>6</td>\n",
       "      <td>Sunday</td>\n",
       "      <td>1</td>\n",
       "    </tr>\n",
       "  </tbody>\n",
       "</table>\n",
       "</div>"
      ],
      "text/plain": [
       "        date  date_year  date_month_no date_month_name  date_day  \\\n",
       "0 2019-12-10       2019             12        December        10   \n",
       "1 2018-08-15       2018              8          August        15   \n",
       "2 2018-10-23       2018             10         October        23   \n",
       "3 2019-08-17       2019              8          August        17   \n",
       "4 2019-01-06       2019              1         January         6   \n",
       "\n",
       "   date_day_of_week date_dow_name  date_is_weekend  \n",
       "0                 1       Tuesday                0  \n",
       "1                 2     Wednesday                0  \n",
       "2                 1       Tuesday                0  \n",
       "3                 5      Saturday                1  \n",
       "4                 6        Sunday                1  "
      ]
     },
     "execution_count": 22,
     "metadata": {},
     "output_type": "execute_result"
    }
   ],
   "source": [
    "date['date_is_weekend'] = np.where(date['date_dow_name'].isin(['Sunday','Saturday']), 1,0)\n",
    "\n",
    "date.drop(columns=['product_id', 'city_id', 'orders']).head()"
   ]
  },
  {
   "cell_type": "markdown",
   "id": "24b9e089-ec73-477d-a9f1-47d04072aa1b",
   "metadata": {},
   "source": [
    "#### Extract Quarter"
   ]
  },
  {
   "cell_type": "code",
   "execution_count": 26,
   "id": "eedbc15b-475c-4eb9-bf53-43daab7b559d",
   "metadata": {},
   "outputs": [
    {
     "data": {
      "text/html": [
       "<div>\n",
       "<style scoped>\n",
       "    .dataframe tbody tr th:only-of-type {\n",
       "        vertical-align: middle;\n",
       "    }\n",
       "\n",
       "    .dataframe tbody tr th {\n",
       "        vertical-align: top;\n",
       "    }\n",
       "\n",
       "    .dataframe thead th {\n",
       "        text-align: right;\n",
       "    }\n",
       "</style>\n",
       "<table border=\"1\" class=\"dataframe\">\n",
       "  <thead>\n",
       "    <tr style=\"text-align: right;\">\n",
       "      <th></th>\n",
       "      <th>date</th>\n",
       "      <th>date_year</th>\n",
       "      <th>date_month_no</th>\n",
       "      <th>date_month_name</th>\n",
       "      <th>date_day</th>\n",
       "      <th>date_day_of_week</th>\n",
       "      <th>date_dow_name</th>\n",
       "      <th>date_is_weekend</th>\n",
       "      <th>quarter</th>\n",
       "    </tr>\n",
       "  </thead>\n",
       "  <tbody>\n",
       "    <tr>\n",
       "      <th>0</th>\n",
       "      <td>2019-12-10</td>\n",
       "      <td>2019</td>\n",
       "      <td>12</td>\n",
       "      <td>December</td>\n",
       "      <td>10</td>\n",
       "      <td>1</td>\n",
       "      <td>Tuesday</td>\n",
       "      <td>0</td>\n",
       "      <td>4</td>\n",
       "    </tr>\n",
       "    <tr>\n",
       "      <th>1</th>\n",
       "      <td>2018-08-15</td>\n",
       "      <td>2018</td>\n",
       "      <td>8</td>\n",
       "      <td>August</td>\n",
       "      <td>15</td>\n",
       "      <td>2</td>\n",
       "      <td>Wednesday</td>\n",
       "      <td>0</td>\n",
       "      <td>3</td>\n",
       "    </tr>\n",
       "    <tr>\n",
       "      <th>2</th>\n",
       "      <td>2018-10-23</td>\n",
       "      <td>2018</td>\n",
       "      <td>10</td>\n",
       "      <td>October</td>\n",
       "      <td>23</td>\n",
       "      <td>1</td>\n",
       "      <td>Tuesday</td>\n",
       "      <td>0</td>\n",
       "      <td>4</td>\n",
       "    </tr>\n",
       "    <tr>\n",
       "      <th>3</th>\n",
       "      <td>2019-08-17</td>\n",
       "      <td>2019</td>\n",
       "      <td>8</td>\n",
       "      <td>August</td>\n",
       "      <td>17</td>\n",
       "      <td>5</td>\n",
       "      <td>Saturday</td>\n",
       "      <td>1</td>\n",
       "      <td>3</td>\n",
       "    </tr>\n",
       "    <tr>\n",
       "      <th>4</th>\n",
       "      <td>2019-01-06</td>\n",
       "      <td>2019</td>\n",
       "      <td>1</td>\n",
       "      <td>January</td>\n",
       "      <td>6</td>\n",
       "      <td>6</td>\n",
       "      <td>Sunday</td>\n",
       "      <td>1</td>\n",
       "      <td>1</td>\n",
       "    </tr>\n",
       "  </tbody>\n",
       "</table>\n",
       "</div>"
      ],
      "text/plain": [
       "        date  date_year  date_month_no date_month_name  date_day  \\\n",
       "0 2019-12-10       2019             12        December        10   \n",
       "1 2018-08-15       2018              8          August        15   \n",
       "2 2018-10-23       2018             10         October        23   \n",
       "3 2019-08-17       2019              8          August        17   \n",
       "4 2019-01-06       2019              1         January         6   \n",
       "\n",
       "   date_day_of_week date_dow_name  date_is_weekend  quarter  \n",
       "0                 1       Tuesday                0        4  \n",
       "1                 2     Wednesday                0        3  \n",
       "2                 1       Tuesday                0        4  \n",
       "3                 5      Saturday                1        3  \n",
       "4                 6        Sunday                1        1  "
      ]
     },
     "execution_count": 26,
     "metadata": {},
     "output_type": "execute_result"
    }
   ],
   "source": [
    "date['quarter'] = date['date'].dt.quarter\n",
    "\n",
    "date.drop(columns=['product_id', 'city_id', 'orders']).head()"
   ]
  },
  {
   "cell_type": "markdown",
   "id": "a3a10d19-e39e-4292-bb8e-988cb7e1f85f",
   "metadata": {},
   "source": [
    "#### Extract Semester"
   ]
  },
  {
   "cell_type": "code",
   "execution_count": 27,
   "id": "8a583669-614e-4872-b0c6-f30cc32a5810",
   "metadata": {},
   "outputs": [
    {
     "data": {
      "text/html": [
       "<div>\n",
       "<style scoped>\n",
       "    .dataframe tbody tr th:only-of-type {\n",
       "        vertical-align: middle;\n",
       "    }\n",
       "\n",
       "    .dataframe tbody tr th {\n",
       "        vertical-align: top;\n",
       "    }\n",
       "\n",
       "    .dataframe thead th {\n",
       "        text-align: right;\n",
       "    }\n",
       "</style>\n",
       "<table border=\"1\" class=\"dataframe\">\n",
       "  <thead>\n",
       "    <tr style=\"text-align: right;\">\n",
       "      <th></th>\n",
       "      <th>date</th>\n",
       "      <th>date_year</th>\n",
       "      <th>date_month_no</th>\n",
       "      <th>date_month_name</th>\n",
       "      <th>date_day</th>\n",
       "      <th>date_day_of_week</th>\n",
       "      <th>date_dow_name</th>\n",
       "      <th>date_is_weekend</th>\n",
       "      <th>quarter</th>\n",
       "      <th>semester</th>\n",
       "    </tr>\n",
       "  </thead>\n",
       "  <tbody>\n",
       "    <tr>\n",
       "      <th>0</th>\n",
       "      <td>2019-12-10</td>\n",
       "      <td>2019</td>\n",
       "      <td>12</td>\n",
       "      <td>December</td>\n",
       "      <td>10</td>\n",
       "      <td>1</td>\n",
       "      <td>Tuesday</td>\n",
       "      <td>0</td>\n",
       "      <td>4</td>\n",
       "      <td>2</td>\n",
       "    </tr>\n",
       "    <tr>\n",
       "      <th>1</th>\n",
       "      <td>2018-08-15</td>\n",
       "      <td>2018</td>\n",
       "      <td>8</td>\n",
       "      <td>August</td>\n",
       "      <td>15</td>\n",
       "      <td>2</td>\n",
       "      <td>Wednesday</td>\n",
       "      <td>0</td>\n",
       "      <td>3</td>\n",
       "      <td>2</td>\n",
       "    </tr>\n",
       "    <tr>\n",
       "      <th>2</th>\n",
       "      <td>2018-10-23</td>\n",
       "      <td>2018</td>\n",
       "      <td>10</td>\n",
       "      <td>October</td>\n",
       "      <td>23</td>\n",
       "      <td>1</td>\n",
       "      <td>Tuesday</td>\n",
       "      <td>0</td>\n",
       "      <td>4</td>\n",
       "      <td>2</td>\n",
       "    </tr>\n",
       "    <tr>\n",
       "      <th>3</th>\n",
       "      <td>2019-08-17</td>\n",
       "      <td>2019</td>\n",
       "      <td>8</td>\n",
       "      <td>August</td>\n",
       "      <td>17</td>\n",
       "      <td>5</td>\n",
       "      <td>Saturday</td>\n",
       "      <td>1</td>\n",
       "      <td>3</td>\n",
       "      <td>2</td>\n",
       "    </tr>\n",
       "    <tr>\n",
       "      <th>4</th>\n",
       "      <td>2019-01-06</td>\n",
       "      <td>2019</td>\n",
       "      <td>1</td>\n",
       "      <td>January</td>\n",
       "      <td>6</td>\n",
       "      <td>6</td>\n",
       "      <td>Sunday</td>\n",
       "      <td>1</td>\n",
       "      <td>1</td>\n",
       "      <td>1</td>\n",
       "    </tr>\n",
       "  </tbody>\n",
       "</table>\n",
       "</div>"
      ],
      "text/plain": [
       "        date  date_year  date_month_no date_month_name  date_day  \\\n",
       "0 2019-12-10       2019             12        December        10   \n",
       "1 2018-08-15       2018              8          August        15   \n",
       "2 2018-10-23       2018             10         October        23   \n",
       "3 2019-08-17       2019              8          August        17   \n",
       "4 2019-01-06       2019              1         January         6   \n",
       "\n",
       "   date_day_of_week date_dow_name  date_is_weekend  quarter  semester  \n",
       "0                 1       Tuesday                0        4         2  \n",
       "1                 2     Wednesday                0        3         2  \n",
       "2                 1       Tuesday                0        4         2  \n",
       "3                 5      Saturday                1        3         2  \n",
       "4                 6        Sunday                1        1         1  "
      ]
     },
     "execution_count": 27,
     "metadata": {},
     "output_type": "execute_result"
    }
   ],
   "source": [
    "date['semester'] = np.where(date['quarter'].isin([1,2]), 1, 2)\n",
    "\n",
    "date.drop(columns=['product_id', 'city_id', 'orders']).head()"
   ]
  },
  {
   "cell_type": "markdown",
   "id": "2413542e-90a2-4b32-95fa-ec1a02eadd0b",
   "metadata": {},
   "source": [
    "#### Extract Time elapsed between Dates"
   ]
  },
  {
   "cell_type": "code",
   "execution_count": 29,
   "id": "9627622a-c752-42a4-aa97-d3ace1f7c45f",
   "metadata": {},
   "outputs": [],
   "source": [
    "today = datetime.datetime.today()"
   ]
  },
  {
   "cell_type": "code",
   "execution_count": 30,
   "id": "1a6d7087-3f6c-4163-ab01-3de2f5be5ef8",
   "metadata": {},
   "outputs": [
    {
     "data": {
      "text/plain": [
       "datetime.datetime(2024, 8, 7, 11, 45, 20, 920248)"
      ]
     },
     "execution_count": 30,
     "metadata": {},
     "output_type": "execute_result"
    }
   ],
   "source": [
    "today"
   ]
  },
  {
   "cell_type": "code",
   "execution_count": 31,
   "id": "a8a1a65d-da95-4a9b-83e2-eea593b9c2e0",
   "metadata": {},
   "outputs": [
    {
     "data": {
      "text/plain": [
       "0     1702 days 11:45:20.920248\n",
       "1     2184 days 11:45:20.920248\n",
       "2     2115 days 11:45:20.920248\n",
       "3     1817 days 11:45:20.920248\n",
       "4     2040 days 11:45:20.920248\n",
       "                 ...           \n",
       "995   2130 days 11:45:20.920248\n",
       "996   2071 days 11:45:20.920248\n",
       "997   1919 days 11:45:20.920248\n",
       "998   1984 days 11:45:20.920248\n",
       "999   1758 days 11:45:20.920248\n",
       "Name: date, Length: 1000, dtype: timedelta64[ns]"
      ]
     },
     "execution_count": 31,
     "metadata": {},
     "output_type": "execute_result"
    }
   ],
   "source": [
    "today - date['date']"
   ]
  },
  {
   "cell_type": "code",
   "execution_count": 32,
   "id": "3782adc4-66b2-431c-9aa0-b86123869804",
   "metadata": {},
   "outputs": [
    {
     "data": {
      "text/plain": [
       "0      1702\n",
       "1      2184\n",
       "2      2115\n",
       "3      1817\n",
       "4      2040\n",
       "       ... \n",
       "995    2130\n",
       "996    2071\n",
       "997    1919\n",
       "998    1984\n",
       "999    1758\n",
       "Name: date, Length: 1000, dtype: int64"
      ]
     },
     "execution_count": 32,
     "metadata": {},
     "output_type": "execute_result"
    }
   ],
   "source": [
    "(today - date['date']).dt.days"
   ]
  },
  {
   "cell_type": "markdown",
   "id": "a566e575-9962-4a7f-aa8c-221ac3a395da",
   "metadata": {},
   "source": [
    "#### Extract Weeks passed"
   ]
  },
  {
   "cell_type": "code",
   "execution_count": 38,
   "id": "90e73221-e8b6-444f-9c95-483dcaacd23b",
   "metadata": {},
   "outputs": [
    {
     "data": {
      "text/plain": [
       "0      243.0\n",
       "1      312.0\n",
       "2      302.0\n",
       "3      260.0\n",
       "4      291.0\n",
       "       ...  \n",
       "995    304.0\n",
       "996    296.0\n",
       "997    274.0\n",
       "998    283.0\n",
       "999    251.0\n",
       "Name: date, Length: 1000, dtype: float64"
      ]
     },
     "execution_count": 38,
     "metadata": {},
     "output_type": "execute_result"
    }
   ],
   "source": [
    "# Allowed units are 'W', 'D', 'h', 'm', 's', 'ms', 'us', 'ns'\n",
    "\n",
    "np.round((today - date['date']) / np.timedelta64(1, 'W'),0)"
   ]
  },
  {
   "cell_type": "markdown",
   "id": "bb87d4e7-9d64-40bd-870f-2960cc38bb7e",
   "metadata": {},
   "source": [
    "## Working with Time"
   ]
  },
  {
   "cell_type": "code",
   "execution_count": 39,
   "id": "83836478-9058-4127-9347-59d7441f48ba",
   "metadata": {},
   "outputs": [
    {
     "data": {
      "text/html": [
       "<div>\n",
       "<style scoped>\n",
       "    .dataframe tbody tr th:only-of-type {\n",
       "        vertical-align: middle;\n",
       "    }\n",
       "\n",
       "    .dataframe tbody tr th {\n",
       "        vertical-align: top;\n",
       "    }\n",
       "\n",
       "    .dataframe thead th {\n",
       "        text-align: right;\n",
       "    }\n",
       "</style>\n",
       "<table border=\"1\" class=\"dataframe\">\n",
       "  <thead>\n",
       "    <tr style=\"text-align: right;\">\n",
       "      <th></th>\n",
       "      <th>date</th>\n",
       "      <th>msg</th>\n",
       "    </tr>\n",
       "  </thead>\n",
       "  <tbody>\n",
       "    <tr>\n",
       "      <th>142</th>\n",
       "      <td>2013-03-14 00:49:00</td>\n",
       "      <td>Познакомлюсь с милой дамой лет 27</td>\n",
       "    </tr>\n",
       "    <tr>\n",
       "      <th>246</th>\n",
       "      <td>2015-11-11 00:50:00</td>\n",
       "      <td>М+М .днепр. пиши 093 014 76  52</td>\n",
       "    </tr>\n",
       "    <tr>\n",
       "      <th>780</th>\n",
       "      <td>2012-11-29 01:52:00</td>\n",
       "      <td>Любить себя – это не эгоизм  это просто самая ...</td>\n",
       "    </tr>\n",
       "    <tr>\n",
       "      <th>756</th>\n",
       "      <td>2012-06-02 00:24:00</td>\n",
       "      <td>Девушки  вам тоже скучно?:-( 096 310 62 45</td>\n",
       "    </tr>\n",
       "    <tr>\n",
       "      <th>81</th>\n",
       "      <td>2013-09-23 00:53:00</td>\n",
       "      <td>ХОРОШИЙ ПАРЕНЬ ХОЧЕТ С ДЕВУШКОЙ 095 689 70 25 ...</td>\n",
       "    </tr>\n",
       "  </tbody>\n",
       "</table>\n",
       "</div>"
      ],
      "text/plain": [
       "                    date                                                msg\n",
       "142  2013-03-14 00:49:00                  Познакомлюсь с милой дамой лет 27\n",
       "246  2015-11-11 00:50:00                    М+М .днепр. пиши 093 014 76  52\n",
       "780  2012-11-29 01:52:00  Любить себя – это не эгоизм  это просто самая ...\n",
       "756  2012-06-02 00:24:00         Девушки  вам тоже скучно?:-( 096 310 62 45\n",
       "81   2013-09-23 00:53:00  ХОРОШИЙ ПАРЕНЬ ХОЧЕТ С ДЕВУШКОЙ 095 689 70 25 ..."
      ]
     },
     "execution_count": 39,
     "metadata": {},
     "output_type": "execute_result"
    }
   ],
   "source": [
    "time.sample(5)"
   ]
  },
  {
   "cell_type": "code",
   "execution_count": 41,
   "id": "2f41c209-0577-4dbc-848e-fa615bdf7f37",
   "metadata": {},
   "outputs": [
    {
     "name": "stdout",
     "output_type": "stream",
     "text": [
      "<class 'pandas.core.frame.DataFrame'>\n",
      "RangeIndex: 1000 entries, 0 to 999\n",
      "Data columns (total 2 columns):\n",
      " #   Column  Non-Null Count  Dtype \n",
      "---  ------  --------------  ----- \n",
      " 0   date    1000 non-null   object\n",
      " 1   msg     1000 non-null   object\n",
      "dtypes: object(2)\n",
      "memory usage: 15.8+ KB\n"
     ]
    }
   ],
   "source": [
    "time.info()"
   ]
  },
  {
   "cell_type": "markdown",
   "id": "3e5da783-4264-4a94-90f7-0cd4ca65daa2",
   "metadata": {},
   "source": [
    "#### Converting to datetime datatype"
   ]
  },
  {
   "cell_type": "code",
   "execution_count": 43,
   "id": "fa15f02d-7236-4083-97f7-72c9376895ca",
   "metadata": {},
   "outputs": [],
   "source": [
    "time['date'] = pd.to_datetime(time['date'])"
   ]
  },
  {
   "cell_type": "code",
   "execution_count": 44,
   "id": "e8d146f9-db74-4cf9-b528-249fdd714a37",
   "metadata": {},
   "outputs": [
    {
     "name": "stdout",
     "output_type": "stream",
     "text": [
      "<class 'pandas.core.frame.DataFrame'>\n",
      "RangeIndex: 1000 entries, 0 to 999\n",
      "Data columns (total 2 columns):\n",
      " #   Column  Non-Null Count  Dtype         \n",
      "---  ------  --------------  -----         \n",
      " 0   date    1000 non-null   datetime64[ns]\n",
      " 1   msg     1000 non-null   object        \n",
      "dtypes: datetime64[ns](1), object(1)\n",
      "memory usage: 15.8+ KB\n"
     ]
    }
   ],
   "source": [
    "time.info()"
   ]
  },
  {
   "cell_type": "markdown",
   "id": "1af0311a-7548-4268-a242-4e01679208a9",
   "metadata": {},
   "source": [
    "#### Extracting Hour"
   ]
  },
  {
   "cell_type": "code",
   "execution_count": 46,
   "id": "a0c286e3-f8d7-4aea-bc32-e96ca9ff6d8c",
   "metadata": {},
   "outputs": [],
   "source": [
    "time['hour'] = time['date'].dt.hour"
   ]
  },
  {
   "cell_type": "code",
   "execution_count": 47,
   "id": "c5672728-e4f2-489a-9980-844141a37f50",
   "metadata": {},
   "outputs": [
    {
     "data": {
      "text/html": [
       "<div>\n",
       "<style scoped>\n",
       "    .dataframe tbody tr th:only-of-type {\n",
       "        vertical-align: middle;\n",
       "    }\n",
       "\n",
       "    .dataframe tbody tr th {\n",
       "        vertical-align: top;\n",
       "    }\n",
       "\n",
       "    .dataframe thead th {\n",
       "        text-align: right;\n",
       "    }\n",
       "</style>\n",
       "<table border=\"1\" class=\"dataframe\">\n",
       "  <thead>\n",
       "    <tr style=\"text-align: right;\">\n",
       "      <th></th>\n",
       "      <th>date</th>\n",
       "      <th>msg</th>\n",
       "      <th>hour</th>\n",
       "    </tr>\n",
       "  </thead>\n",
       "  <tbody>\n",
       "    <tr>\n",
       "      <th>742</th>\n",
       "      <td>2014-04-13 22:55:00</td>\n",
       "      <td>П 37 ПОЗНАКОМЛЮСЬ С Д/Ж ДЛЯ ИНТ ОТНОШЕН.</td>\n",
       "      <td>22</td>\n",
       "    </tr>\n",
       "    <tr>\n",
       "      <th>50</th>\n",
       "      <td>2012-05-17 02:22:00</td>\n",
       "      <td>нормальный парень хочет познакомитса с хорошей...</td>\n",
       "      <td>2</td>\n",
       "    </tr>\n",
       "    <tr>\n",
       "      <th>36</th>\n",
       "      <td>2014-06-30 01:13:00</td>\n",
       "      <td>Адекватный парень с богатой фантазией пообщает...</td>\n",
       "      <td>1</td>\n",
       "    </tr>\n",
       "    <tr>\n",
       "      <th>862</th>\n",
       "      <td>2016-11-18 22:53:00</td>\n",
       "      <td>муж 45 днепр с дев для общ смс 066 625 21 85</td>\n",
       "      <td>22</td>\n",
       "    </tr>\n",
       "    <tr>\n",
       "      <th>722</th>\n",
       "      <td>2014-07-04 00:34:00</td>\n",
       "      <td>Позн с Дев для общения жел без тараканов мне 2...</td>\n",
       "      <td>0</td>\n",
       "    </tr>\n",
       "  </tbody>\n",
       "</table>\n",
       "</div>"
      ],
      "text/plain": [
       "                   date                                                msg  \\\n",
       "742 2014-04-13 22:55:00           П 37 ПОЗНАКОМЛЮСЬ С Д/Ж ДЛЯ ИНТ ОТНОШЕН.   \n",
       "50  2012-05-17 02:22:00  нормальный парень хочет познакомитса с хорошей...   \n",
       "36  2014-06-30 01:13:00  Адекватный парень с богатой фантазией пообщает...   \n",
       "862 2016-11-18 22:53:00       муж 45 днепр с дев для общ смс 066 625 21 85   \n",
       "722 2014-07-04 00:34:00  Позн с Дев для общения жел без тараканов мне 2...   \n",
       "\n",
       "     hour  \n",
       "742    22  \n",
       "50      2  \n",
       "36      1  \n",
       "862    22  \n",
       "722     0  "
      ]
     },
     "execution_count": 47,
     "metadata": {},
     "output_type": "execute_result"
    }
   ],
   "source": [
    "time.sample(5)"
   ]
  },
  {
   "cell_type": "markdown",
   "id": "dd7ab62c-d6af-443f-b315-4038b43e4088",
   "metadata": {},
   "source": [
    "#### Extracting Minutes"
   ]
  },
  {
   "cell_type": "code",
   "execution_count": 48,
   "id": "4137bb0a-5aa7-455b-8100-d81ac6803bfb",
   "metadata": {},
   "outputs": [],
   "source": [
    "time['min'] = time['date'].dt.minute"
   ]
  },
  {
   "cell_type": "code",
   "execution_count": 49,
   "id": "3320a3a5-ffaf-48e0-937f-6820078dc051",
   "metadata": {},
   "outputs": [
    {
     "data": {
      "text/html": [
       "<div>\n",
       "<style scoped>\n",
       "    .dataframe tbody tr th:only-of-type {\n",
       "        vertical-align: middle;\n",
       "    }\n",
       "\n",
       "    .dataframe tbody tr th {\n",
       "        vertical-align: top;\n",
       "    }\n",
       "\n",
       "    .dataframe thead th {\n",
       "        text-align: right;\n",
       "    }\n",
       "</style>\n",
       "<table border=\"1\" class=\"dataframe\">\n",
       "  <thead>\n",
       "    <tr style=\"text-align: right;\">\n",
       "      <th></th>\n",
       "      <th>date</th>\n",
       "      <th>msg</th>\n",
       "      <th>hour</th>\n",
       "      <th>min</th>\n",
       "    </tr>\n",
       "  </thead>\n",
       "  <tbody>\n",
       "    <tr>\n",
       "      <th>152</th>\n",
       "      <td>2014-11-02 00:27:00</td>\n",
       "      <td>Девушки кто скучает жду вгости Киев.Мне 27лет ...</td>\n",
       "      <td>0</td>\n",
       "      <td>27</td>\n",
       "    </tr>\n",
       "    <tr>\n",
       "      <th>669</th>\n",
       "      <td>2015-11-13 01:24:00</td>\n",
       "      <td>парни ждут в гости дев. г.днепр пишите смс 097...</td>\n",
       "      <td>1</td>\n",
       "      <td>24</td>\n",
       "    </tr>\n",
       "    <tr>\n",
       "      <th>99</th>\n",
       "      <td>2014-03-21 23:38:00</td>\n",
       "      <td>П37Позн с обыч простой не полной Д Ж СМС о себ...</td>\n",
       "      <td>23</td>\n",
       "      <td>38</td>\n",
       "    </tr>\n",
       "    <tr>\n",
       "      <th>690</th>\n",
       "      <td>2013-12-10 23:55:00</td>\n",
       "      <td>увезу Д до 20 за границу стойн красив Саша</td>\n",
       "      <td>23</td>\n",
       "      <td>55</td>\n",
       "    </tr>\n",
       "    <tr>\n",
       "      <th>96</th>\n",
       "      <td>2012-12-26 00:32:00</td>\n",
       "      <td>ПАР ПРИГЛАШУ ИЛИ ПРИЕДУ К ДЕВ ДЛЯ ВСТРЕЧИ. СЕЙ...</td>\n",
       "      <td>0</td>\n",
       "      <td>32</td>\n",
       "    </tr>\n",
       "  </tbody>\n",
       "</table>\n",
       "</div>"
      ],
      "text/plain": [
       "                   date                                                msg  \\\n",
       "152 2014-11-02 00:27:00  Девушки кто скучает жду вгости Киев.Мне 27лет ...   \n",
       "669 2015-11-13 01:24:00  парни ждут в гости дев. г.днепр пишите смс 097...   \n",
       "99  2014-03-21 23:38:00  П37Позн с обыч простой не полной Д Ж СМС о себ...   \n",
       "690 2013-12-10 23:55:00         увезу Д до 20 за границу стойн красив Саша   \n",
       "96  2012-12-26 00:32:00  ПАР ПРИГЛАШУ ИЛИ ПРИЕДУ К ДЕВ ДЛЯ ВСТРЕЧИ. СЕЙ...   \n",
       "\n",
       "     hour  min  \n",
       "152     0   27  \n",
       "669     1   24  \n",
       "99     23   38  \n",
       "690    23   55  \n",
       "96      0   32  "
      ]
     },
     "execution_count": 49,
     "metadata": {},
     "output_type": "execute_result"
    }
   ],
   "source": [
    "time.sample(5)"
   ]
  },
  {
   "cell_type": "markdown",
   "id": "a17bf834-6f79-4b57-901d-26e80de552d3",
   "metadata": {},
   "source": [
    "#### Extracting Seconds"
   ]
  },
  {
   "cell_type": "code",
   "execution_count": 50,
   "id": "fe708e50-7564-4ad0-9d4b-80cdfa845e3d",
   "metadata": {},
   "outputs": [],
   "source": [
    "time['sec'] = time['date'].dt.second"
   ]
  },
  {
   "cell_type": "code",
   "execution_count": 51,
   "id": "0200fc3f-d2c3-421c-a773-e115932541fd",
   "metadata": {},
   "outputs": [
    {
     "data": {
      "text/html": [
       "<div>\n",
       "<style scoped>\n",
       "    .dataframe tbody tr th:only-of-type {\n",
       "        vertical-align: middle;\n",
       "    }\n",
       "\n",
       "    .dataframe tbody tr th {\n",
       "        vertical-align: top;\n",
       "    }\n",
       "\n",
       "    .dataframe thead th {\n",
       "        text-align: right;\n",
       "    }\n",
       "</style>\n",
       "<table border=\"1\" class=\"dataframe\">\n",
       "  <thead>\n",
       "    <tr style=\"text-align: right;\">\n",
       "      <th></th>\n",
       "      <th>date</th>\n",
       "      <th>msg</th>\n",
       "      <th>hour</th>\n",
       "      <th>min</th>\n",
       "      <th>sec</th>\n",
       "    </tr>\n",
       "  </thead>\n",
       "  <tbody>\n",
       "    <tr>\n",
       "      <th>411</th>\n",
       "      <td>2015-09-03 23:27:00</td>\n",
       "      <td>девченки звоните мне 32 зовут РУСЛАМ. Буду рад...</td>\n",
       "      <td>23</td>\n",
       "      <td>27</td>\n",
       "      <td>0</td>\n",
       "    </tr>\n",
       "    <tr>\n",
       "      <th>179</th>\n",
       "      <td>2012-12-15 00:10:00</td>\n",
       "      <td>ИЩУ Ж/Д 30-45ЛЕТ.ДЛЯ ВСТРЕЧ.:)СНАЧАЛА СМС!КОСМ...</td>\n",
       "      <td>0</td>\n",
       "      <td>10</td>\n",
       "      <td>0</td>\n",
       "    </tr>\n",
       "    <tr>\n",
       "      <th>467</th>\n",
       "      <td>2014-07-07 01:21:00</td>\n",
       "      <td>Дима 30/182/82 ухожен интересен с чувством юмо...</td>\n",
       "      <td>1</td>\n",
       "      <td>21</td>\n",
       "      <td>0</td>\n",
       "    </tr>\n",
       "    <tr>\n",
       "      <th>85</th>\n",
       "      <td>2012-10-05 00:22:00</td>\n",
       "      <td>ПОЗНАКОМЛЮСЬ С СИМП ДЕВУШКОЙ Я СООТВЕТСТВУЮ.ОТ...</td>\n",
       "      <td>0</td>\n",
       "      <td>22</td>\n",
       "      <td>0</td>\n",
       "    </tr>\n",
       "    <tr>\n",
       "      <th>437</th>\n",
       "      <td>2015-12-16 23:05:00</td>\n",
       "      <td>Для с.о. с.с. познакомлюсь с д. ж. 35-40 лет 0...</td>\n",
       "      <td>23</td>\n",
       "      <td>5</td>\n",
       "      <td>0</td>\n",
       "    </tr>\n",
       "  </tbody>\n",
       "</table>\n",
       "</div>"
      ],
      "text/plain": [
       "                   date                                                msg  \\\n",
       "411 2015-09-03 23:27:00  девченки звоните мне 32 зовут РУСЛАМ. Буду рад...   \n",
       "179 2012-12-15 00:10:00  ИЩУ Ж/Д 30-45ЛЕТ.ДЛЯ ВСТРЕЧ.:)СНАЧАЛА СМС!КОСМ...   \n",
       "467 2014-07-07 01:21:00  Дима 30/182/82 ухожен интересен с чувством юмо...   \n",
       "85  2012-10-05 00:22:00  ПОЗНАКОМЛЮСЬ С СИМП ДЕВУШКОЙ Я СООТВЕТСТВУЮ.ОТ...   \n",
       "437 2015-12-16 23:05:00  Для с.о. с.с. познакомлюсь с д. ж. 35-40 лет 0...   \n",
       "\n",
       "     hour  min  sec  \n",
       "411    23   27    0  \n",
       "179     0   10    0  \n",
       "467     1   21    0  \n",
       "85      0   22    0  \n",
       "437    23    5    0  "
      ]
     },
     "execution_count": 51,
     "metadata": {},
     "output_type": "execute_result"
    }
   ],
   "source": [
    "time.sample(5)"
   ]
  },
  {
   "cell_type": "markdown",
   "id": "5fd1a5a9-9bdd-4f45-8401-a059b4c3fb9f",
   "metadata": {},
   "source": [
    "#### Extracting only Time part from the Date"
   ]
  },
  {
   "cell_type": "code",
   "execution_count": 52,
   "id": "59222fee-8607-410b-b8fe-05ecd54531ba",
   "metadata": {},
   "outputs": [],
   "source": [
    "time['time'] = time['date'].dt.time"
   ]
  },
  {
   "cell_type": "code",
   "execution_count": 53,
   "id": "4333f216-7430-47e4-92d9-0c35a665a102",
   "metadata": {},
   "outputs": [
    {
     "data": {
      "text/html": [
       "<div>\n",
       "<style scoped>\n",
       "    .dataframe tbody tr th:only-of-type {\n",
       "        vertical-align: middle;\n",
       "    }\n",
       "\n",
       "    .dataframe tbody tr th {\n",
       "        vertical-align: top;\n",
       "    }\n",
       "\n",
       "    .dataframe thead th {\n",
       "        text-align: right;\n",
       "    }\n",
       "</style>\n",
       "<table border=\"1\" class=\"dataframe\">\n",
       "  <thead>\n",
       "    <tr style=\"text-align: right;\">\n",
       "      <th></th>\n",
       "      <th>date</th>\n",
       "      <th>msg</th>\n",
       "      <th>hour</th>\n",
       "      <th>min</th>\n",
       "      <th>sec</th>\n",
       "      <th>time</th>\n",
       "    </tr>\n",
       "  </thead>\n",
       "  <tbody>\n",
       "    <tr>\n",
       "      <th>471</th>\n",
       "      <td>2016-05-20 23:31:00</td>\n",
       "      <td>М 45 познак. с жен. из Днепро-вска с/о Т.097-5...</td>\n",
       "      <td>23</td>\n",
       "      <td>31</td>\n",
       "      <td>0</td>\n",
       "      <td>23:31:00</td>\n",
       "    </tr>\n",
       "    <tr>\n",
       "      <th>217</th>\n",
       "      <td>2015-05-24 01:59:00</td>\n",
       "      <td>Привіт зва.Ігор097951 3825дівчата шукаю коханн...</td>\n",
       "      <td>1</td>\n",
       "      <td>59</td>\n",
       "      <td>0</td>\n",
       "      <td>01:59:00</td>\n",
       "    </tr>\n",
       "    <tr>\n",
       "      <th>202</th>\n",
       "      <td>2012-07-29 23:31:00</td>\n",
       "      <td>Витаха Дндз братанчик с дн</td>\n",
       "      <td>23</td>\n",
       "      <td>31</td>\n",
       "      <td>0</td>\n",
       "      <td>23:31:00</td>\n",
       "    </tr>\n",
       "    <tr>\n",
       "      <th>658</th>\n",
       "      <td>2014-09-23 01:05:00</td>\n",
       "      <td>Приятно  когда рядом любимый человек... Но его...</td>\n",
       "      <td>1</td>\n",
       "      <td>5</td>\n",
       "      <td>0</td>\n",
       "      <td>01:05:00</td>\n",
       "    </tr>\n",
       "    <tr>\n",
       "      <th>729</th>\n",
       "      <td>2012-06-25 00:03:00</td>\n",
       "      <td>ПРИЕДУ К Д/Ж В ГОСТИ ИЛИ ПРИГЛАШУ К СЕБЕ СМС М...</td>\n",
       "      <td>0</td>\n",
       "      <td>3</td>\n",
       "      <td>0</td>\n",
       "      <td>00:03:00</td>\n",
       "    </tr>\n",
       "  </tbody>\n",
       "</table>\n",
       "</div>"
      ],
      "text/plain": [
       "                   date                                                msg  \\\n",
       "471 2016-05-20 23:31:00  М 45 познак. с жен. из Днепро-вска с/о Т.097-5...   \n",
       "217 2015-05-24 01:59:00  Привіт зва.Ігор097951 3825дівчата шукаю коханн...   \n",
       "202 2012-07-29 23:31:00                         Витаха Дндз братанчик с дн   \n",
       "658 2014-09-23 01:05:00  Приятно  когда рядом любимый человек... Но его...   \n",
       "729 2012-06-25 00:03:00  ПРИЕДУ К Д/Ж В ГОСТИ ИЛИ ПРИГЛАШУ К СЕБЕ СМС М...   \n",
       "\n",
       "     hour  min  sec      time  \n",
       "471    23   31    0  23:31:00  \n",
       "217     1   59    0  01:59:00  \n",
       "202    23   31    0  23:31:00  \n",
       "658     1    5    0  01:05:00  \n",
       "729     0    3    0  00:03:00  "
      ]
     },
     "execution_count": 53,
     "metadata": {},
     "output_type": "execute_result"
    }
   ],
   "source": [
    "time.sample(5)"
   ]
  },
  {
   "cell_type": "markdown",
   "id": "8a447768-f73a-4c7c-b95e-6fd782d26870",
   "metadata": {},
   "source": [
    "#### Calculating Time Difference"
   ]
  },
  {
   "cell_type": "code",
   "execution_count": 54,
   "id": "3a7c7e8b-1a16-45eb-979c-ffde8e5cfc34",
   "metadata": {},
   "outputs": [
    {
     "data": {
      "text/plain": [
       "0     3888 days 10:55:20.920248\n",
       "1     3752 days 12:05:20.920248\n",
       "2     4238 days 11:24:20.920248\n",
       "3     3540 days 11:14:20.920248\n",
       "4     3937 days 12:34:20.920248\n",
       "                 ...           \n",
       "995   4527 days 10:55:20.920248\n",
       "996   3848 days 12:31:20.920248\n",
       "997   4313 days 12:08:20.920248\n",
       "998   4429 days 12:11:20.920248\n",
       "999   3701 days 12:20:20.920248\n",
       "Name: date, Length: 1000, dtype: timedelta64[ns]"
      ]
     },
     "execution_count": 54,
     "metadata": {},
     "output_type": "execute_result"
    }
   ],
   "source": [
    "today - time['date']"
   ]
  },
  {
   "cell_type": "markdown",
   "id": "7f9c01be-84c8-4fa3-b45a-1a56df000a9d",
   "metadata": {},
   "source": [
    "#### Calculating Time Difference in Seconds"
   ]
  },
  {
   "cell_type": "code",
   "execution_count": 55,
   "id": "cde99495-d8fb-447a-9feb-e07bf4c44856",
   "metadata": {},
   "outputs": [
    {
     "data": {
      "text/plain": [
       "0      3.359625e+08\n",
       "1      3.242163e+08\n",
       "2      3.662043e+08\n",
       "3      3.058965e+08\n",
       "4      3.402021e+08\n",
       "           ...     \n",
       "995    3.911721e+08\n",
       "996    3.325123e+08\n",
       "997    3.726869e+08\n",
       "998    3.827095e+08\n",
       "999    3.198108e+08\n",
       "Name: date, Length: 1000, dtype: float64"
      ]
     },
     "execution_count": 55,
     "metadata": {},
     "output_type": "execute_result"
    }
   ],
   "source": [
    "(today - time['date'])/np.timedelta64(1,'s')"
   ]
  },
  {
   "cell_type": "markdown",
   "id": "774a37db-5a3f-452e-aa79-530cf9e84f68",
   "metadata": {},
   "source": [
    "#### Calculating Time Difference in Minutes"
   ]
  },
  {
   "cell_type": "code",
   "execution_count": 56,
   "id": "5fb9ff6f-920f-47a0-8ee1-897b8eedbf9e",
   "metadata": {},
   "outputs": [
    {
     "data": {
      "text/plain": [
       "0      5.599375e+06\n",
       "1      5.403605e+06\n",
       "2      6.103404e+06\n",
       "3      5.098274e+06\n",
       "4      5.670034e+06\n",
       "           ...     \n",
       "995    6.519535e+06\n",
       "996    5.541871e+06\n",
       "997    6.211448e+06\n",
       "998    6.378491e+06\n",
       "999    5.330180e+06\n",
       "Name: date, Length: 1000, dtype: float64"
      ]
     },
     "execution_count": 56,
     "metadata": {},
     "output_type": "execute_result"
    }
   ],
   "source": [
    "(today - time['date'])/np.timedelta64(1,'m')"
   ]
  },
  {
   "cell_type": "markdown",
   "id": "3073ce8b-b5e5-40fe-8849-34ce54e8ee31",
   "metadata": {},
   "source": [
    "#### Calculating Time Difference in Hours"
   ]
  },
  {
   "cell_type": "code",
   "execution_count": 57,
   "id": "0801854f-6047-471b-b13d-9ac44e6e4e19",
   "metadata": {},
   "outputs": [
    {
     "data": {
      "text/plain": [
       "0       93322.922478\n",
       "1       90060.089145\n",
       "2      101723.405811\n",
       "3       84971.239145\n",
       "4       94500.572478\n",
       "           ...      \n",
       "995    108658.922478\n",
       "996     92364.522478\n",
       "997    103524.139145\n",
       "998    106308.189145\n",
       "999     88836.339145\n",
       "Name: date, Length: 1000, dtype: float64"
      ]
     },
     "execution_count": 57,
     "metadata": {},
     "output_type": "execute_result"
    }
   ],
   "source": [
    "(today - time['date'])/np.timedelta64(1,'h')"
   ]
  }
 ],
 "metadata": {
  "kernelspec": {
   "display_name": "Python 3 (ipykernel)",
   "language": "python",
   "name": "python3"
  },
  "language_info": {
   "codemirror_mode": {
    "name": "ipython",
    "version": 3
   },
   "file_extension": ".py",
   "mimetype": "text/x-python",
   "name": "python",
   "nbconvert_exporter": "python",
   "pygments_lexer": "ipython3",
   "version": "3.11.7"
  }
 },
 "nbformat": 4,
 "nbformat_minor": 5
}

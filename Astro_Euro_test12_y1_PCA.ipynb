{
 "cells": [
  {
   "cell_type": "code",
   "execution_count": 1,
   "id": "319ecf59-e5d9-4e1f-9ca0-8e12eac73185",
   "metadata": {},
   "outputs": [],
   "source": [
    "import numpy as np\n",
    "import pandas as pd\n",
    "import base64\n",
    "import matplotlib.pyplot as plt\n",
    "import seaborn as sns\n",
    "from sklearn.model_selection import train_test_split, KFold, LeaveOneOut, LeavePOut, RepeatedStratifiedKFold, RepeatedKFold\n",
    "from sklearn.preprocessing import LabelEncoder, minmax_scale, MinMaxScaler, StandardScaler\n",
    "from sklearn.tree import DecisionTreeRegressor, DecisionTreeClassifier, plot_tree, export_text\n",
    "from sklearn.neighbors import KNeighborsClassifier, KNeighborsRegressor\n",
    "from sklearn.linear_model import LinearRegression, LogisticRegression\n",
    "from sklearn.cluster import KMeans\n",
    "from keras.models import Sequential\n",
    "from keras.layers import LSTM, Dense, Bidirectional, Dropout, Activation, Flatten\n",
    "from sklearn.metrics import (accuracy_score,confusion_matrix, ConfusionMatrixDisplay, r2_score, silhouette_score, \n",
    "balanced_accuracy_score,cohen_kappa_score, recall_score, precision_score, f1_score)\n",
    "from kneed import knee_locator, KneeLocator\n",
    "import warnings\n",
    "warnings.filterwarnings(\"ignore\")"
   ]
  },
  {
   "cell_type": "code",
   "execution_count": 2,
   "id": "110c4e82-fedb-4b69-afc1-56cdd0ee838c",
   "metadata": {},
   "outputs": [
    {
     "data": {
      "text/html": [
       "<div>\n",
       "<style scoped>\n",
       "    .dataframe tbody tr th:only-of-type {\n",
       "        vertical-align: middle;\n",
       "    }\n",
       "\n",
       "    .dataframe tbody tr th {\n",
       "        vertical-align: top;\n",
       "    }\n",
       "\n",
       "    .dataframe thead th {\n",
       "        text-align: right;\n",
       "    }\n",
       "</style>\n",
       "<table border=\"1\" class=\"dataframe\">\n",
       "  <thead>\n",
       "    <tr style=\"text-align: right;\">\n",
       "      <th></th>\n",
       "      <th>Weekday</th>\n",
       "      <th>Date</th>\n",
       "      <th>Month</th>\n",
       "      <th>Year</th>\n",
       "      <th>Lagna</th>\n",
       "      <th>Sun</th>\n",
       "      <th>Moon</th>\n",
       "      <th>Mars</th>\n",
       "      <th>Mercury</th>\n",
       "      <th>Jupiter</th>\n",
       "      <th>Venus</th>\n",
       "      <th>Saturn</th>\n",
       "      <th>Rahu</th>\n",
       "      <th>Ketu</th>\n",
       "      <th>1st Num</th>\n",
       "    </tr>\n",
       "  </thead>\n",
       "  <tbody>\n",
       "    <tr>\n",
       "      <th>0</th>\n",
       "      <td>Tuesday</td>\n",
       "      <td>4</td>\n",
       "      <td>1</td>\n",
       "      <td>2022</td>\n",
       "      <td>30</td>\n",
       "      <td>60</td>\n",
       "      <td>66</td>\n",
       "      <td>36</td>\n",
       "      <td>84</td>\n",
       "      <td>24</td>\n",
       "      <td>21</td>\n",
       "      <td>66</td>\n",
       "      <td>9</td>\n",
       "      <td>17</td>\n",
       "      <td>sixteentwenties</td>\n",
       "    </tr>\n",
       "    <tr>\n",
       "      <th>1</th>\n",
       "      <td>Friday</td>\n",
       "      <td>7</td>\n",
       "      <td>1</td>\n",
       "      <td>2022</td>\n",
       "      <td>30</td>\n",
       "      <td>80</td>\n",
       "      <td>100</td>\n",
       "      <td>54</td>\n",
       "      <td>22</td>\n",
       "      <td>24</td>\n",
       "      <td>80</td>\n",
       "      <td>66</td>\n",
       "      <td>9</td>\n",
       "      <td>17</td>\n",
       "      <td>onefives</td>\n",
       "    </tr>\n",
       "    <tr>\n",
       "      <th>2</th>\n",
       "      <td>Tuesday</td>\n",
       "      <td>11</td>\n",
       "      <td>1</td>\n",
       "      <td>2022</td>\n",
       "      <td>40</td>\n",
       "      <td>21</td>\n",
       "      <td>6</td>\n",
       "      <td>72</td>\n",
       "      <td>44</td>\n",
       "      <td>24</td>\n",
       "      <td>60</td>\n",
       "      <td>66</td>\n",
       "      <td>9</td>\n",
       "      <td>17</td>\n",
       "      <td>onefives</td>\n",
       "    </tr>\n",
       "    <tr>\n",
       "      <th>3</th>\n",
       "      <td>Friday</td>\n",
       "      <td>14</td>\n",
       "      <td>1</td>\n",
       "      <td>2022</td>\n",
       "      <td>11</td>\n",
       "      <td>42</td>\n",
       "      <td>5</td>\n",
       "      <td>72</td>\n",
       "      <td>44</td>\n",
       "      <td>24</td>\n",
       "      <td>60</td>\n",
       "      <td>66</td>\n",
       "      <td>9</td>\n",
       "      <td>17</td>\n",
       "      <td>sixtens</td>\n",
       "    </tr>\n",
       "    <tr>\n",
       "      <th>4</th>\n",
       "      <td>Tuesday</td>\n",
       "      <td>18</td>\n",
       "      <td>1</td>\n",
       "      <td>2022</td>\n",
       "      <td>22</td>\n",
       "      <td>63</td>\n",
       "      <td>32</td>\n",
       "      <td>19</td>\n",
       "      <td>44</td>\n",
       "      <td>48</td>\n",
       "      <td>40</td>\n",
       "      <td>66</td>\n",
       "      <td>9</td>\n",
       "      <td>17</td>\n",
       "      <td>onefives</td>\n",
       "    </tr>\n",
       "  </tbody>\n",
       "</table>\n",
       "</div>"
      ],
      "text/plain": [
       "   Weekday  Date  Month  Year  Lagna  Sun  Moon  Mars  Mercury  Jupiter  \\\n",
       "0  Tuesday     4      1  2022     30   60    66    36       84       24   \n",
       "1   Friday     7      1  2022     30   80   100    54       22       24   \n",
       "2  Tuesday    11      1  2022     40   21     6    72       44       24   \n",
       "3   Friday    14      1  2022     11   42     5    72       44       24   \n",
       "4  Tuesday    18      1  2022     22   63    32    19       44       48   \n",
       "\n",
       "   Venus  Saturn  Rahu  Ketu          1st Num  \n",
       "0     21      66     9    17  sixteentwenties  \n",
       "1     80      66     9    17         onefives  \n",
       "2     60      66     9    17         onefives  \n",
       "3     60      66     9    17          sixtens  \n",
       "4     40      66     9    17         onefives  "
      ]
     },
     "execution_count": 2,
     "metadata": {},
     "output_type": "execute_result"
    }
   ],
   "source": [
    "df = pd.read_csv(\"E:/Python Programs/EuroAstro/new_y1.csv\")\n",
    "df.head()"
   ]
  },
  {
   "cell_type": "code",
   "execution_count": 3,
   "id": "2f7cb18e-2feb-46e4-a076-3792f9d2e4fe",
   "metadata": {},
   "outputs": [],
   "source": [
    "encoding = LabelEncoder()\n",
    "df[\"Weekday\"] = encoding.fit_transform(df[\"Weekday\"])\n",
    "df[\"Year\"] = encoding.fit_transform(df[\"Year\"])\n",
    "df[\"1st Num\"] = encoding.fit_transform(df[\"1st Num\"])"
   ]
  },
  {
   "cell_type": "code",
   "execution_count": 4,
   "id": "1252b811-7f66-498a-af9a-76436ae4dd50",
   "metadata": {},
   "outputs": [
    {
     "data": {
      "text/html": [
       "<div>\n",
       "<style scoped>\n",
       "    .dataframe tbody tr th:only-of-type {\n",
       "        vertical-align: middle;\n",
       "    }\n",
       "\n",
       "    .dataframe tbody tr th {\n",
       "        vertical-align: top;\n",
       "    }\n",
       "\n",
       "    .dataframe thead th {\n",
       "        text-align: right;\n",
       "    }\n",
       "</style>\n",
       "<table border=\"1\" class=\"dataframe\">\n",
       "  <thead>\n",
       "    <tr style=\"text-align: right;\">\n",
       "      <th></th>\n",
       "      <th>Weekday</th>\n",
       "      <th>Date</th>\n",
       "      <th>Month</th>\n",
       "      <th>Year</th>\n",
       "      <th>Lagna</th>\n",
       "      <th>Sun</th>\n",
       "      <th>Moon</th>\n",
       "      <th>Mars</th>\n",
       "      <th>Mercury</th>\n",
       "      <th>Jupiter</th>\n",
       "      <th>Venus</th>\n",
       "      <th>Saturn</th>\n",
       "      <th>Rahu</th>\n",
       "      <th>Ketu</th>\n",
       "      <th>1st Num</th>\n",
       "    </tr>\n",
       "  </thead>\n",
       "  <tbody>\n",
       "    <tr>\n",
       "      <th>0</th>\n",
       "      <td>1</td>\n",
       "      <td>4</td>\n",
       "      <td>1</td>\n",
       "      <td>0</td>\n",
       "      <td>30</td>\n",
       "      <td>60</td>\n",
       "      <td>66</td>\n",
       "      <td>36</td>\n",
       "      <td>84</td>\n",
       "      <td>24</td>\n",
       "      <td>21</td>\n",
       "      <td>66</td>\n",
       "      <td>9</td>\n",
       "      <td>17</td>\n",
       "      <td>2</td>\n",
       "    </tr>\n",
       "    <tr>\n",
       "      <th>1</th>\n",
       "      <td>0</td>\n",
       "      <td>7</td>\n",
       "      <td>1</td>\n",
       "      <td>0</td>\n",
       "      <td>30</td>\n",
       "      <td>80</td>\n",
       "      <td>100</td>\n",
       "      <td>54</td>\n",
       "      <td>22</td>\n",
       "      <td>24</td>\n",
       "      <td>80</td>\n",
       "      <td>66</td>\n",
       "      <td>9</td>\n",
       "      <td>17</td>\n",
       "      <td>1</td>\n",
       "    </tr>\n",
       "    <tr>\n",
       "      <th>2</th>\n",
       "      <td>1</td>\n",
       "      <td>11</td>\n",
       "      <td>1</td>\n",
       "      <td>0</td>\n",
       "      <td>40</td>\n",
       "      <td>21</td>\n",
       "      <td>6</td>\n",
       "      <td>72</td>\n",
       "      <td>44</td>\n",
       "      <td>24</td>\n",
       "      <td>60</td>\n",
       "      <td>66</td>\n",
       "      <td>9</td>\n",
       "      <td>17</td>\n",
       "      <td>1</td>\n",
       "    </tr>\n",
       "    <tr>\n",
       "      <th>3</th>\n",
       "      <td>0</td>\n",
       "      <td>14</td>\n",
       "      <td>1</td>\n",
       "      <td>0</td>\n",
       "      <td>11</td>\n",
       "      <td>42</td>\n",
       "      <td>5</td>\n",
       "      <td>72</td>\n",
       "      <td>44</td>\n",
       "      <td>24</td>\n",
       "      <td>60</td>\n",
       "      <td>66</td>\n",
       "      <td>9</td>\n",
       "      <td>17</td>\n",
       "      <td>3</td>\n",
       "    </tr>\n",
       "    <tr>\n",
       "      <th>4</th>\n",
       "      <td>1</td>\n",
       "      <td>18</td>\n",
       "      <td>1</td>\n",
       "      <td>0</td>\n",
       "      <td>22</td>\n",
       "      <td>63</td>\n",
       "      <td>32</td>\n",
       "      <td>19</td>\n",
       "      <td>44</td>\n",
       "      <td>48</td>\n",
       "      <td>40</td>\n",
       "      <td>66</td>\n",
       "      <td>9</td>\n",
       "      <td>17</td>\n",
       "      <td>1</td>\n",
       "    </tr>\n",
       "  </tbody>\n",
       "</table>\n",
       "</div>"
      ],
      "text/plain": [
       "   Weekday  Date  Month  Year  Lagna  Sun  Moon  Mars  Mercury  Jupiter  \\\n",
       "0        1     4      1     0     30   60    66    36       84       24   \n",
       "1        0     7      1     0     30   80   100    54       22       24   \n",
       "2        1    11      1     0     40   21     6    72       44       24   \n",
       "3        0    14      1     0     11   42     5    72       44       24   \n",
       "4        1    18      1     0     22   63    32    19       44       48   \n",
       "\n",
       "   Venus  Saturn  Rahu  Ketu  1st Num  \n",
       "0     21      66     9    17        2  \n",
       "1     80      66     9    17        1  \n",
       "2     60      66     9    17        1  \n",
       "3     60      66     9    17        3  \n",
       "4     40      66     9    17        1  "
      ]
     },
     "execution_count": 4,
     "metadata": {},
     "output_type": "execute_result"
    }
   ],
   "source": [
    "# 0 means Friday; 1 means Tuesday\n",
    "# 0 means 2022; 1 means 2023; 2 means 2024\n",
    "# 0 means elevenfifteens, 1 means onefives, 2 means sixteentwenties, 3 means sixtens, 4 means thirtyonefives,\n",
    "# 5 means twentyonefives, 6 means twentysixthirties\n",
    "\n",
    "df.head()"
   ]
  },
  {
   "cell_type": "code",
   "execution_count": 5,
   "id": "4ca93b4d-cb2d-4fc5-8694-e7eec4f0458b",
   "metadata": {},
   "outputs": [],
   "source": [
    "X = df.iloc[:,0:14]\n",
    "y = df.iloc[:,14:15]"
   ]
  },
  {
   "cell_type": "code",
   "execution_count": 6,
   "id": "fee00bf3-c140-4660-acaa-90a6b8840aa2",
   "metadata": {},
   "outputs": [
    {
     "data": {
      "text/html": [
       "<div>\n",
       "<style scoped>\n",
       "    .dataframe tbody tr th:only-of-type {\n",
       "        vertical-align: middle;\n",
       "    }\n",
       "\n",
       "    .dataframe tbody tr th {\n",
       "        vertical-align: top;\n",
       "    }\n",
       "\n",
       "    .dataframe thead th {\n",
       "        text-align: right;\n",
       "    }\n",
       "</style>\n",
       "<table border=\"1\" class=\"dataframe\">\n",
       "  <thead>\n",
       "    <tr style=\"text-align: right;\">\n",
       "      <th></th>\n",
       "      <th>Weekday</th>\n",
       "      <th>Date</th>\n",
       "      <th>Month</th>\n",
       "      <th>Year</th>\n",
       "      <th>Lagna</th>\n",
       "      <th>Sun</th>\n",
       "      <th>Moon</th>\n",
       "      <th>Mars</th>\n",
       "      <th>Mercury</th>\n",
       "      <th>Jupiter</th>\n",
       "      <th>Venus</th>\n",
       "      <th>Saturn</th>\n",
       "      <th>Rahu</th>\n",
       "      <th>Ketu</th>\n",
       "    </tr>\n",
       "  </thead>\n",
       "  <tbody>\n",
       "    <tr>\n",
       "      <th>0</th>\n",
       "      <td>1</td>\n",
       "      <td>4</td>\n",
       "      <td>1</td>\n",
       "      <td>0</td>\n",
       "      <td>30</td>\n",
       "      <td>60</td>\n",
       "      <td>66</td>\n",
       "      <td>36</td>\n",
       "      <td>84</td>\n",
       "      <td>24</td>\n",
       "      <td>21</td>\n",
       "      <td>66</td>\n",
       "      <td>9</td>\n",
       "      <td>17</td>\n",
       "    </tr>\n",
       "    <tr>\n",
       "      <th>1</th>\n",
       "      <td>0</td>\n",
       "      <td>7</td>\n",
       "      <td>1</td>\n",
       "      <td>0</td>\n",
       "      <td>30</td>\n",
       "      <td>80</td>\n",
       "      <td>100</td>\n",
       "      <td>54</td>\n",
       "      <td>22</td>\n",
       "      <td>24</td>\n",
       "      <td>80</td>\n",
       "      <td>66</td>\n",
       "      <td>9</td>\n",
       "      <td>17</td>\n",
       "    </tr>\n",
       "    <tr>\n",
       "      <th>2</th>\n",
       "      <td>1</td>\n",
       "      <td>11</td>\n",
       "      <td>1</td>\n",
       "      <td>0</td>\n",
       "      <td>40</td>\n",
       "      <td>21</td>\n",
       "      <td>6</td>\n",
       "      <td>72</td>\n",
       "      <td>44</td>\n",
       "      <td>24</td>\n",
       "      <td>60</td>\n",
       "      <td>66</td>\n",
       "      <td>9</td>\n",
       "      <td>17</td>\n",
       "    </tr>\n",
       "    <tr>\n",
       "      <th>3</th>\n",
       "      <td>0</td>\n",
       "      <td>14</td>\n",
       "      <td>1</td>\n",
       "      <td>0</td>\n",
       "      <td>11</td>\n",
       "      <td>42</td>\n",
       "      <td>5</td>\n",
       "      <td>72</td>\n",
       "      <td>44</td>\n",
       "      <td>24</td>\n",
       "      <td>60</td>\n",
       "      <td>66</td>\n",
       "      <td>9</td>\n",
       "      <td>17</td>\n",
       "    </tr>\n",
       "    <tr>\n",
       "      <th>4</th>\n",
       "      <td>1</td>\n",
       "      <td>18</td>\n",
       "      <td>1</td>\n",
       "      <td>0</td>\n",
       "      <td>22</td>\n",
       "      <td>63</td>\n",
       "      <td>32</td>\n",
       "      <td>19</td>\n",
       "      <td>44</td>\n",
       "      <td>48</td>\n",
       "      <td>40</td>\n",
       "      <td>66</td>\n",
       "      <td>9</td>\n",
       "      <td>17</td>\n",
       "    </tr>\n",
       "  </tbody>\n",
       "</table>\n",
       "</div>"
      ],
      "text/plain": [
       "   Weekday  Date  Month  Year  Lagna  Sun  Moon  Mars  Mercury  Jupiter  \\\n",
       "0        1     4      1     0     30   60    66    36       84       24   \n",
       "1        0     7      1     0     30   80   100    54       22       24   \n",
       "2        1    11      1     0     40   21     6    72       44       24   \n",
       "3        0    14      1     0     11   42     5    72       44       24   \n",
       "4        1    18      1     0     22   63    32    19       44       48   \n",
       "\n",
       "   Venus  Saturn  Rahu  Ketu  \n",
       "0     21      66     9    17  \n",
       "1     80      66     9    17  \n",
       "2     60      66     9    17  \n",
       "3     60      66     9    17  \n",
       "4     40      66     9    17  "
      ]
     },
     "execution_count": 6,
     "metadata": {},
     "output_type": "execute_result"
    }
   ],
   "source": [
    "X.head()"
   ]
  },
  {
   "cell_type": "code",
   "execution_count": 7,
   "id": "6565c656-e73a-48e5-ad4d-0b681e3a2f1f",
   "metadata": {},
   "outputs": [
    {
     "data": {
      "text/html": [
       "<div>\n",
       "<style scoped>\n",
       "    .dataframe tbody tr th:only-of-type {\n",
       "        vertical-align: middle;\n",
       "    }\n",
       "\n",
       "    .dataframe tbody tr th {\n",
       "        vertical-align: top;\n",
       "    }\n",
       "\n",
       "    .dataframe thead th {\n",
       "        text-align: right;\n",
       "    }\n",
       "</style>\n",
       "<table border=\"1\" class=\"dataframe\">\n",
       "  <thead>\n",
       "    <tr style=\"text-align: right;\">\n",
       "      <th></th>\n",
       "      <th>1st Num</th>\n",
       "    </tr>\n",
       "  </thead>\n",
       "  <tbody>\n",
       "    <tr>\n",
       "      <th>0</th>\n",
       "      <td>2</td>\n",
       "    </tr>\n",
       "    <tr>\n",
       "      <th>1</th>\n",
       "      <td>1</td>\n",
       "    </tr>\n",
       "    <tr>\n",
       "      <th>2</th>\n",
       "      <td>1</td>\n",
       "    </tr>\n",
       "    <tr>\n",
       "      <th>3</th>\n",
       "      <td>3</td>\n",
       "    </tr>\n",
       "    <tr>\n",
       "      <th>4</th>\n",
       "      <td>1</td>\n",
       "    </tr>\n",
       "  </tbody>\n",
       "</table>\n",
       "</div>"
      ],
      "text/plain": [
       "   1st Num\n",
       "0        2\n",
       "1        1\n",
       "2        1\n",
       "3        3\n",
       "4        1"
      ]
     },
     "execution_count": 7,
     "metadata": {},
     "output_type": "execute_result"
    }
   ],
   "source": [
    "y.head()"
   ]
  },
  {
   "cell_type": "code",
   "execution_count": 8,
   "id": "457ef9d5-7d44-4477-be99-2bc2ce9b2a6c",
   "metadata": {},
   "outputs": [
    {
     "data": {
      "text/html": [
       "<div>\n",
       "<style scoped>\n",
       "    .dataframe tbody tr th:only-of-type {\n",
       "        vertical-align: middle;\n",
       "    }\n",
       "\n",
       "    .dataframe tbody tr th {\n",
       "        vertical-align: top;\n",
       "    }\n",
       "\n",
       "    .dataframe thead th {\n",
       "        text-align: right;\n",
       "    }\n",
       "</style>\n",
       "<table border=\"1\" class=\"dataframe\">\n",
       "  <thead>\n",
       "    <tr style=\"text-align: right;\">\n",
       "      <th></th>\n",
       "      <th>0</th>\n",
       "      <th>1</th>\n",
       "      <th>2</th>\n",
       "      <th>3</th>\n",
       "      <th>4</th>\n",
       "      <th>5</th>\n",
       "      <th>6</th>\n",
       "      <th>7</th>\n",
       "      <th>8</th>\n",
       "      <th>9</th>\n",
       "      <th>10</th>\n",
       "      <th>11</th>\n",
       "      <th>12</th>\n",
       "      <th>13</th>\n",
       "    </tr>\n",
       "  </thead>\n",
       "  <tbody>\n",
       "    <tr>\n",
       "      <th>0</th>\n",
       "      <td>0.996262</td>\n",
       "      <td>-1.327658</td>\n",
       "      <td>-1.473952</td>\n",
       "      <td>-1.089808</td>\n",
       "      <td>-0.188700</td>\n",
       "      <td>0.912933</td>\n",
       "      <td>1.253579</td>\n",
       "      <td>0.111163</td>\n",
       "      <td>1.844915</td>\n",
       "      <td>-0.288489</td>\n",
       "      <td>-0.473017</td>\n",
       "      <td>0.734723</td>\n",
       "      <td>-0.414686</td>\n",
       "      <td>-1.267311</td>\n",
       "    </tr>\n",
       "    <tr>\n",
       "      <th>1</th>\n",
       "      <td>-1.003752</td>\n",
       "      <td>-0.984940</td>\n",
       "      <td>-1.473952</td>\n",
       "      <td>-1.089808</td>\n",
       "      <td>-0.188700</td>\n",
       "      <td>1.634309</td>\n",
       "      <td>2.584572</td>\n",
       "      <td>0.751749</td>\n",
       "      <td>-0.392173</td>\n",
       "      <td>-0.288489</td>\n",
       "      <td>1.759288</td>\n",
       "      <td>0.734723</td>\n",
       "      <td>-0.414686</td>\n",
       "      <td>-1.267311</td>\n",
       "    </tr>\n",
       "    <tr>\n",
       "      <th>2</th>\n",
       "      <td>0.996262</td>\n",
       "      <td>-0.527982</td>\n",
       "      <td>-1.473952</td>\n",
       "      <td>-1.089808</td>\n",
       "      <td>0.265200</td>\n",
       "      <td>-0.493751</td>\n",
       "      <td>-1.095232</td>\n",
       "      <td>1.392335</td>\n",
       "      <td>0.401633</td>\n",
       "      <td>-0.288489</td>\n",
       "      <td>1.002574</td>\n",
       "      <td>0.734723</td>\n",
       "      <td>-0.414686</td>\n",
       "      <td>-1.267311</td>\n",
       "    </tr>\n",
       "    <tr>\n",
       "      <th>3</th>\n",
       "      <td>-1.003752</td>\n",
       "      <td>-0.185265</td>\n",
       "      <td>-1.473952</td>\n",
       "      <td>-1.089808</td>\n",
       "      <td>-1.051112</td>\n",
       "      <td>0.263694</td>\n",
       "      <td>-1.134379</td>\n",
       "      <td>1.392335</td>\n",
       "      <td>0.401633</td>\n",
       "      <td>-0.288489</td>\n",
       "      <td>1.002574</td>\n",
       "      <td>0.734723</td>\n",
       "      <td>-0.414686</td>\n",
       "      <td>-1.267311</td>\n",
       "    </tr>\n",
       "    <tr>\n",
       "      <th>4</th>\n",
       "      <td>0.996262</td>\n",
       "      <td>0.271693</td>\n",
       "      <td>-1.473952</td>\n",
       "      <td>-1.089808</td>\n",
       "      <td>-0.551821</td>\n",
       "      <td>1.021139</td>\n",
       "      <td>-0.077414</td>\n",
       "      <td>-0.493835</td>\n",
       "      <td>0.401633</td>\n",
       "      <td>0.380823</td>\n",
       "      <td>0.245861</td>\n",
       "      <td>0.734723</td>\n",
       "      <td>-0.414686</td>\n",
       "      <td>-1.267311</td>\n",
       "    </tr>\n",
       "  </tbody>\n",
       "</table>\n",
       "</div>"
      ],
      "text/plain": [
       "         0         1         2         3         4         5         6   \\\n",
       "0  0.996262 -1.327658 -1.473952 -1.089808 -0.188700  0.912933  1.253579   \n",
       "1 -1.003752 -0.984940 -1.473952 -1.089808 -0.188700  1.634309  2.584572   \n",
       "2  0.996262 -0.527982 -1.473952 -1.089808  0.265200 -0.493751 -1.095232   \n",
       "3 -1.003752 -0.185265 -1.473952 -1.089808 -1.051112  0.263694 -1.134379   \n",
       "4  0.996262  0.271693 -1.473952 -1.089808 -0.551821  1.021139 -0.077414   \n",
       "\n",
       "         7         8         9         10        11        12        13  \n",
       "0  0.111163  1.844915 -0.288489 -0.473017  0.734723 -0.414686 -1.267311  \n",
       "1  0.751749 -0.392173 -0.288489  1.759288  0.734723 -0.414686 -1.267311  \n",
       "2  1.392335  0.401633 -0.288489  1.002574  0.734723 -0.414686 -1.267311  \n",
       "3  1.392335  0.401633 -0.288489  1.002574  0.734723 -0.414686 -1.267311  \n",
       "4 -0.493835  0.401633  0.380823  0.245861  0.734723 -0.414686 -1.267311  "
      ]
     },
     "execution_count": 8,
     "metadata": {},
     "output_type": "execute_result"
    }
   ],
   "source": [
    "scaler = StandardScaler()\n",
    "\n",
    "X_scaled = scaler.fit_transform(X)\n",
    "X_scaled = pd.DataFrame(X_scaled)\n",
    "X_scaled.head()"
   ]
  },
  {
   "cell_type": "code",
   "execution_count": 9,
   "id": "5d930e10-c5e1-46a9-aa04-46fe8e4e1798",
   "metadata": {},
   "outputs": [
    {
     "data": {
      "text/plain": [
       "((200, 14), (200, 1), (67, 14), (67, 1))"
      ]
     },
     "execution_count": 9,
     "metadata": {},
     "output_type": "execute_result"
    }
   ],
   "source": [
    "X_train, X_test, y_train, y_test = train_test_split(X_scaled,y, random_state=10)\n",
    "X_train.shape, y_train.shape, X_test.shape, y_test.shape"
   ]
  },
  {
   "cell_type": "code",
   "execution_count": 10,
   "id": "d5cbb6b0-f7c9-4535-962a-b07ade08092c",
   "metadata": {
    "scrolled": true
   },
   "outputs": [
    {
     "name": "stdout",
     "output_type": "stream",
     "text": [
      "Covariance Matrix:\n",
      " [[ 1.00252663e+00 -2.07813691e-02  5.29161273e-02  1.74543623e-02\n",
      "   9.53426240e-03 -5.71758099e-02 -2.94488672e-02  5.09682576e-03\n",
      "  -7.74228702e-03 -2.44196835e-02 -6.88937150e-02 -2.54186728e-02\n",
      "   2.03350805e-02  2.93290592e-02]\n",
      " [-2.07813691e-02  9.84182210e-01  1.29097894e-03 -2.37318925e-02\n",
      "   8.73042936e-02 -7.66404485e-02  2.47022255e-03  2.58765862e-02\n",
      "  -6.24197860e-02  3.47711968e-02 -3.56589284e-02 -1.02066032e-02\n",
      "  -4.34709599e-02 -1.68355537e-03]\n",
      " [ 5.29161273e-02  1.29097894e-03  1.00992063e+00 -2.70415706e-01\n",
      "  -1.37953028e-01 -1.60233606e-01 -9.97121679e-04 -2.43493062e-01\n",
      "  -1.10148844e-01 -2.27872797e-01 -2.58894516e-01 -3.35964184e-01\n",
      "   1.09205468e-01  9.42259709e-02]\n",
      " [ 1.74543623e-02 -2.37318925e-02 -2.70415706e-01  9.97589693e-01\n",
      "   1.15578690e-02 -3.87032971e-02 -1.55710149e-02  8.73262061e-02\n",
      "   4.06175725e-02 -6.00772069e-01 -2.92927805e-02  1.33374148e-01\n",
      "   5.28136840e-01 -1.84773740e-01]\n",
      " [ 9.53426240e-03  8.73042936e-02 -1.37953028e-01  1.15578690e-02\n",
      "   1.03103945e+00 -1.71054871e-01  1.57626066e-02 -2.09297009e-02\n",
      "  -2.35032652e-01  1.16742703e-01 -3.56895742e-02  7.12271693e-02\n",
      "  -1.50446007e-01  1.61284095e-02]\n",
      " [-5.71758099e-02 -7.66404485e-02 -1.60233606e-01 -3.87032971e-02\n",
      "  -1.71054871e-01  9.33572150e-01  2.44554284e-02  3.26249346e-02\n",
      "   3.87643691e-01  1.06504075e-01  2.16994800e-01  3.59937114e-02\n",
      "   1.39570749e-01  8.97083257e-02]\n",
      " [-2.94488672e-02  2.47022255e-03 -9.97121679e-04 -1.55710149e-02\n",
      "   1.57626066e-02  2.44554284e-02  1.02391120e+00  1.96379908e-02\n",
      "   2.22864000e-02  7.61090153e-02  3.69870714e-02  8.18026549e-03\n",
      "   2.31882793e-02 -6.14084304e-03]\n",
      " [ 5.09682576e-03  2.58765862e-02 -2.43493062e-01  8.73262061e-02\n",
      "  -2.09297009e-02  3.26249346e-02  1.96379908e-02  9.73048525e-01\n",
      "   8.20277131e-02 -1.47215116e-01  2.98960532e-01  1.71476071e-01\n",
      "   2.20100478e-01  1.35880636e-01]\n",
      " [-7.74228702e-03 -6.24197860e-02 -1.10148844e-01  4.06175725e-02\n",
      "  -2.35032652e-01  3.87643691e-01  2.22864000e-02  8.20277131e-02\n",
      "   9.62589452e-01 -3.72332601e-02  3.10629968e-01 -6.52046198e-02\n",
      "   1.80025617e-01  1.38496747e-01]\n",
      " [-2.44196835e-02  3.47711968e-02 -2.27872797e-01 -6.00772069e-01\n",
      "   1.16742703e-01  1.06504075e-01  7.61090153e-02 -1.47215116e-01\n",
      "  -3.72332601e-02  1.00895132e+00  4.85069079e-03  1.14033361e-02\n",
      "  -4.41556793e-01  6.72742652e-02]\n",
      " [-6.88937150e-02 -3.56589284e-02 -2.58894516e-01 -2.92927805e-02\n",
      "  -3.56895742e-02  2.16994800e-01  3.69870714e-02  2.98960532e-01\n",
      "   3.10629968e-01  4.85069079e-03  1.01332251e+00  1.39319733e-01\n",
      "   1.20605218e-01  2.09653372e-01]\n",
      " [-2.54186728e-02 -1.02066032e-02 -3.35964184e-01  1.33374148e-01\n",
      "   7.12271693e-02  3.59937114e-02  8.18026549e-03  1.71476071e-01\n",
      "  -6.52046198e-02  1.14033361e-02  1.39319733e-01  1.01227190e+00\n",
      "   1.33709790e-01 -6.58684135e-02]\n",
      " [ 2.03350805e-02 -4.34709599e-02  1.09205468e-01  5.28136840e-01\n",
      "  -1.50446007e-01  1.39570749e-01  2.31882793e-02  2.20100478e-01\n",
      "   1.80025617e-01 -4.41556793e-01  1.20605218e-01  1.33709790e-01\n",
      "   1.00368515e+00 -2.82654985e-01]\n",
      " [ 2.93290592e-02 -1.68355537e-03  9.42259709e-02 -1.84773740e-01\n",
      "   1.61284095e-02  8.97083257e-02 -6.14084304e-03  1.35880636e-01\n",
      "   1.38496747e-01  6.72742652e-02  2.09653372e-01 -6.58684135e-02\n",
      "  -2.82654985e-01  9.99860183e-01]]\n"
     ]
    }
   ],
   "source": [
    "covariance_matrix = np.cov([X_train.iloc[:,0], X_train.iloc[:,1], X_train.iloc[:,2], X_train.iloc[:,3],\n",
    "                          X_train.iloc[:,4], X_train.iloc[:,5], X_train.iloc[:,6], X_train.iloc[:,7],\n",
    "                          X_train.iloc[:,8], X_train.iloc[:,9], X_train.iloc[:,10], X_train.iloc[:,11],\n",
    "                           X_train.iloc[:,12], X_train.iloc[:,13]])\n",
    "print(\"Covariance Matrix:\\n\", covariance_matrix)"
   ]
  },
  {
   "cell_type": "code",
   "execution_count": 11,
   "id": "d676a346-76c8-4e60-a628-db699c2cda48",
   "metadata": {},
   "outputs": [],
   "source": [
    "eigen_values, eigen_vectors = np.linalg.eig(covariance_matrix)"
   ]
  },
  {
   "cell_type": "code",
   "execution_count": 12,
   "id": "f9f5f4b3-57c1-4932-9999-39c9cedb5616",
   "metadata": {},
   "outputs": [
    {
     "data": {
      "text/plain": [
       "array([2.29737533, 1.93960858, 1.58673493, 0.13169211, 0.39348982,\n",
       "       1.17417897, 0.4987287 , 0.62082849, 1.04216791, 0.99451762,\n",
       "       0.93748811, 0.8795275 , 0.73200207, 0.72813085])"
      ]
     },
     "execution_count": 12,
     "metadata": {},
     "output_type": "execute_result"
    }
   ],
   "source": [
    "eigen_values"
   ]
  },
  {
   "cell_type": "code",
   "execution_count": 13,
   "id": "79548f6f-15f7-4620-9b17-fd850a7fd5fc",
   "metadata": {
    "scrolled": true
   },
   "outputs": [
    {
     "data": {
      "text/plain": [
       "array([[ 9.45339861e-03, -9.25312577e-02,  4.55626319e-02,\n",
       "         2.07958783e-04, -4.96187085e-02, -2.55314526e-01,\n",
       "        -8.22546399e-02, -7.72216560e-02, -3.87338219e-01,\n",
       "         7.29609786e-01,  4.72971249e-01,  4.31891443e-02,\n",
       "        -2.94621263e-02,  9.98060855e-03],\n",
       "       [ 6.86039572e-02, -4.15224513e-02, -1.47591989e-01,\n",
       "         6.81720887e-03, -1.38588712e-02, -2.08017318e-01,\n",
       "        -4.72956124e-02, -5.64335977e-02,  3.43156177e-01,\n",
       "        -4.05568365e-01,  7.78914910e-01,  1.03495441e-01,\n",
       "         1.45906390e-01,  4.36387038e-02],\n",
       "       [ 1.66142374e-01, -3.50668065e-01,  4.87275864e-01,\n",
       "        -4.96505386e-01, -5.64040399e-02, -2.00924071e-01,\n",
       "         6.86687568e-02,  7.36652656e-03,  1.77332367e-01,\n",
       "        -5.63806827e-03, -9.89553714e-02,  1.78743185e-01,\n",
       "        -1.04165953e-01,  4.82784941e-01],\n",
       "       [-4.94498232e-01, -2.52762490e-01, -1.61421795e-01,\n",
       "        -5.94133405e-01,  2.34370189e-01,  4.12514541e-03,\n",
       "        -1.19500351e-01, -2.88486449e-02, -3.07068859e-02,\n",
       "        -6.28193036e-03,  1.52971812e-02, -3.40730062e-01,\n",
       "         2.81981611e-01, -2.13647277e-01],\n",
       "       [ 1.46738026e-01, -4.64309070e-02, -4.79622788e-01,\n",
       "         6.58449552e-03, -9.83250289e-02, -2.11840242e-01,\n",
       "         1.51960966e-01,  1.52383346e-01,  7.23047480e-02,\n",
       "         5.37220451e-02, -3.40642043e-02, -6.13765243e-01,\n",
       "        -2.97904684e-01,  4.13091334e-01],\n",
       "       [-1.51302948e-01,  3.71268438e-01,  2.40066340e-01,\n",
       "        -8.52315641e-02, -2.68685979e-01,  3.06886392e-01,\n",
       "        -4.58234878e-01,  4.85537665e-01, -7.39581555e-02,\n",
       "        -2.01327688e-02,  1.75677337e-01, -1.75685482e-01,\n",
       "         9.18020518e-02,  2.93671226e-01],\n",
       "       [ 4.05160855e-03,  7.29861455e-02, -1.61697933e-02,\n",
       "         2.67910720e-02, -6.37781940e-02,  1.69044311e-01,\n",
       "        -1.49295837e-02, -2.05846655e-02,  8.02546027e-01,\n",
       "         5.30833076e-01, -5.26369777e-02, -3.84318233e-02,\n",
       "         1.47362237e-01, -9.25200484e-02],\n",
       "       [-2.76917363e-01,  2.29506485e-01, -1.50856014e-01,\n",
       "        -2.04727088e-01, -1.22930412e-01, -4.23196695e-01,\n",
       "         1.46360032e-01,  5.11600592e-01,  1.06603892e-01,\n",
       "         2.36221168e-02, -6.41094122e-02,  3.57910288e-01,\n",
       "        -3.32647343e-01, -2.71703214e-01],\n",
       "       [-2.28539772e-01,  3.47776768e-01,  3.61337192e-01,\n",
       "        -6.13987894e-02, -8.77171518e-02,  1.03052458e-01,\n",
       "         7.37563196e-01, -1.19147614e-01, -3.39589886e-02,\n",
       "        -1.27875937e-02,  2.10450875e-01, -2.64495422e-01,\n",
       "         1.77852713e-02, -9.81503895e-03],\n",
       "       [ 4.23104574e-01,  3.50119493e-01, -1.42177221e-01,\n",
       "        -3.79413211e-01,  6.08820445e-01,  2.89471806e-01,\n",
       "         5.37516838e-02,  8.64189889e-02, -4.08853118e-02,\n",
       "         8.30380056e-02,  1.34946414e-01,  1.06799903e-01,\n",
       "        -1.76404239e-01,  1.06882670e-02],\n",
       "       [-2.21108317e-01,  4.67122485e-01,  1.09375121e-02,\n",
       "        -1.30462151e-01, -3.38323656e-02, -2.20606291e-01,\n",
       "        -3.49210268e-01, -6.37214031e-01,  8.12446585e-02,\n",
       "        -4.33435215e-02, -8.12688617e-02, -1.05826456e-02,\n",
       "        -3.29320343e-01,  1.19660073e-01],\n",
       "       [-1.97434662e-01,  1.51424680e-01, -4.50137669e-01,\n",
       "        -8.32265060e-02, -1.16474187e-01,  1.01126262e-01,\n",
       "         2.13901836e-01, -9.88087992e-02, -1.10414440e-01,\n",
       "         8.33698068e-02, -1.01955322e-01,  4.32391603e-01,\n",
       "         4.28399209e-01,  4.99203842e-01],\n",
       "       [-5.15891815e-01, -1.72331570e-01,  1.06069843e-01,\n",
       "         3.91378248e-01,  5.59144413e-01,  7.77416915e-02,\n",
       "        -4.86112481e-05,  1.15477608e-01,  1.08916351e-01,\n",
       "         3.89331431e-02,  8.35012292e-02,  8.64495188e-02,\n",
       "        -2.63337267e-01,  3.32471567e-01],\n",
       "       [ 1.29176091e-01,  3.00827590e-01,  1.92830838e-01,\n",
       "         1.60170254e-01,  3.63985756e-01, -5.87433110e-01,\n",
       "        -5.19187582e-02,  1.34293632e-01,  1.41888660e-02,\n",
       "         8.69809761e-03, -1.84899840e-01, -1.62219888e-01,\n",
       "         5.14951817e-01,  7.56890435e-02]])"
      ]
     },
     "execution_count": 13,
     "metadata": {},
     "output_type": "execute_result"
    }
   ],
   "source": [
    "eigen_vectors"
   ]
  },
  {
   "cell_type": "code",
   "execution_count": 14,
   "id": "5c18ea69-b47e-4026-b57c-fca82e820ebf",
   "metadata": {},
   "outputs": [
    {
     "data": {
      "text/plain": [
       "(14, 14)"
      ]
     },
     "execution_count": 14,
     "metadata": {},
     "output_type": "execute_result"
    }
   ],
   "source": [
    "eigen_vectors.shape"
   ]
  },
  {
   "cell_type": "code",
   "execution_count": 15,
   "id": "e9fa0564-fa52-4984-94bc-d210bbb6d1eb",
   "metadata": {
    "scrolled": true
   },
   "outputs": [
    {
     "name": "stdout",
     "output_type": "stream",
     "text": [
      "0.33723364382543236\n",
      "0.5702445825811775\n",
      "0.2550530590434999\n",
      "-1.706756946263338\n",
      "-0.7851681369925921\n",
      "0.7316776743291948\n",
      "1.4545633911644398\n",
      "-0.47148413648485005\n",
      "0.9601053902686636\n",
      "1.4082795975976479\n",
      "-1.3779840668949195\n",
      "0.7513656536864388\n",
      "0.9484743496527963\n",
      "0.9083403905434524\n"
     ]
    }
   ],
   "source": [
    "for i in eigen_vectors:\n",
    "    sum = np.sum(i)\n",
    "    print(sum)"
   ]
  },
  {
   "cell_type": "code",
   "execution_count": 16,
   "id": "52ce699e-3aeb-4eb6-83ab-ca6015ef3c22",
   "metadata": {},
   "outputs": [
    {
     "data": {
      "text/plain": [
       "array([[ 0.00405161,  0.07298615, -0.01616979,  0.02679107, -0.06377819,\n",
       "         0.16904431, -0.01492958, -0.02058467,  0.80254603,  0.53083308,\n",
       "        -0.05263698, -0.03843182,  0.14736224, -0.09252005],\n",
       "       [ 0.42310457,  0.35011949, -0.14217722, -0.37941321,  0.60882044,\n",
       "         0.28947181,  0.05375168,  0.08641899, -0.04088531,  0.08303801,\n",
       "         0.13494641,  0.1067999 , -0.17640424,  0.01068827]])"
      ]
     },
     "execution_count": 16,
     "metadata": {},
     "output_type": "execute_result"
    }
   ],
   "source": [
    "pc = eigen_vectors[[6,9]]\n",
    "pc"
   ]
  },
  {
   "cell_type": "code",
   "execution_count": 17,
   "id": "31d63a21-f9f9-4d3a-9663-85d1a43d586b",
   "metadata": {},
   "outputs": [
    {
     "data": {
      "text/plain": [
       "(2, 14)"
      ]
     },
     "execution_count": 17,
     "metadata": {},
     "output_type": "execute_result"
    }
   ],
   "source": [
    "pc.shape"
   ]
  },
  {
   "cell_type": "code",
   "execution_count": 18,
   "id": "d283f29c-0540-4f89-9a67-3d1f3170a06c",
   "metadata": {
    "scrolled": true
   },
   "outputs": [
    {
     "data": {
      "text/plain": [
       "array([[-0.10636515,  1.78806704],\n",
       "       [ 0.43820577,  2.33852353],\n",
       "       [-1.58107934, -0.38674072],\n",
       "       [-0.13456075,  0.30609703],\n",
       "       [-1.32136159,  0.00686356],\n",
       "       [-0.32313302, -0.22256977],\n",
       "       [-0.94908666, -0.95606238],\n",
       "       [ 1.66642781, -0.65494487],\n",
       "       [ 0.7080394 ,  1.28638694],\n",
       "       [ 0.23378655,  0.92690487],\n",
       "       [-1.58042686,  1.64494461],\n",
       "       [ 0.60780457, -0.85120701],\n",
       "       [-0.30887329, -0.79005769],\n",
       "       [ 1.19232799, -0.46103021],\n",
       "       [-0.0082293 ,  1.1726945 ],\n",
       "       [-0.12912416, -0.09822969],\n",
       "       [-0.93071973,  1.25247508],\n",
       "       [ 0.69600312, -0.69059517],\n",
       "       [ 0.37240142,  0.83955465],\n",
       "       [ 0.92247576,  0.32632116],\n",
       "       [ 0.11773368,  3.16464691],\n",
       "       [ 0.10375803,  0.13783873],\n",
       "       [ 0.04753712,  0.54846204],\n",
       "       [-1.3966087 , -1.21553971],\n",
       "       [-1.12038595,  0.10342186],\n",
       "       [-0.2157136 ,  1.96650168],\n",
       "       [-1.4471493 ,  0.47165511],\n",
       "       [ 0.52701314,  1.50820137],\n",
       "       [ 1.07709545, -0.01922925],\n",
       "       [-0.01228004, -0.68826238],\n",
       "       [-0.93814401,  1.28581914],\n",
       "       [ 2.09529877, -0.55848143],\n",
       "       [ 1.24138368, -1.22836891],\n",
       "       [ 0.17176686, -1.18747866],\n",
       "       [-1.29002655,  0.04326259],\n",
       "       [ 1.23023399, -2.3397279 ],\n",
       "       [-0.42333357, -1.94427941],\n",
       "       [ 0.9510309 , -1.18383924],\n",
       "       [ 1.27971028, -0.35304321],\n",
       "       [-0.03909142, -0.09861182],\n",
       "       [-0.87474001,  0.24971568],\n",
       "       [ 0.13350847, -0.7817985 ],\n",
       "       [-0.01264952, -0.70617506],\n",
       "       [ 0.11322826,  0.13344152],\n",
       "       [-1.46093209,  0.16015493],\n",
       "       [-0.02996138,  0.14440415],\n",
       "       [-0.26649452, -0.8662017 ],\n",
       "       [ 0.50748281, -0.67374491],\n",
       "       [-0.6330567 , -0.39313054],\n",
       "       [-1.12634209, -1.54675053],\n",
       "       [-0.09698074, -0.59444818],\n",
       "       [-0.04993708, -1.93110875],\n",
       "       [-0.14796823, -0.16764623],\n",
       "       [ 0.38059039,  0.12185463],\n",
       "       [-0.68363942, -0.46789355],\n",
       "       [-0.90810139, -1.30069296],\n",
       "       [-0.78490447,  0.26199541],\n",
       "       [-1.28092671,  1.33733299],\n",
       "       [-1.26794879, -1.15207378],\n",
       "       [ 0.20222636, -0.89863312],\n",
       "       [-0.54706616, -0.48150977],\n",
       "       [-1.64221026,  0.08310638],\n",
       "       [-0.03367159, -1.95335588],\n",
       "       [ 1.80336977, -0.42717275],\n",
       "       [ 1.36531824,  1.45741702],\n",
       "       [-0.24350586,  1.4208299 ],\n",
       "       [-1.06326574, -0.26597073],\n",
       "       [-0.82718666, -1.88187672],\n",
       "       [ 0.07675219,  0.43819503],\n",
       "       [-1.41539209,  1.64424414],\n",
       "       [-0.21535524, -0.67245509],\n",
       "       [ 0.81486368, -0.44125743],\n",
       "       [ 1.2535579 ,  0.10557184],\n",
       "       [ 1.05695464,  1.98235468],\n",
       "       [-1.37434548, -0.76008969],\n",
       "       [ 1.22472609,  2.05871739],\n",
       "       [ 1.77027846,  0.39711016],\n",
       "       [-0.49218512,  0.43978137],\n",
       "       [-0.54761616,  0.7226529 ],\n",
       "       [-1.38642579,  1.08915732],\n",
       "       [ 1.71975054, -1.63678641],\n",
       "       [-1.00468784,  1.14204268],\n",
       "       [-0.24402094, -0.09710571],\n",
       "       [-0.58867416, -0.17818827],\n",
       "       [-0.61437184, -0.19581792],\n",
       "       [-0.17176902, -1.32969326],\n",
       "       [-1.21046378, -1.19973282],\n",
       "       [ 0.08921372,  1.13050589],\n",
       "       [ 2.15965821,  0.14190061],\n",
       "       [ 0.09545126,  0.12679583],\n",
       "       [-0.20484046, -0.14553403],\n",
       "       [-1.0682844 , -0.65742237],\n",
       "       [ 0.15860228, -1.1006058 ],\n",
       "       [ 1.27830896,  0.81885057],\n",
       "       [-1.06093936, -1.07424507],\n",
       "       [ 0.36378394,  0.16012224],\n",
       "       [-0.42459297,  0.2653304 ],\n",
       "       [-1.01609146,  0.32509672],\n",
       "       [-0.53154441,  1.10445668],\n",
       "       [ 0.22125931, -0.13777124],\n",
       "       [ 2.23393027,  1.31548722],\n",
       "       [-1.17045143,  0.23444317],\n",
       "       [ 2.7823518 ,  0.87007804],\n",
       "       [-1.6745825 ,  0.14722745],\n",
       "       [-0.28547323,  0.47082821],\n",
       "       [-0.53761095,  0.61489349],\n",
       "       [-0.17997843, -1.43950032],\n",
       "       [ 1.02180202, -0.94168019],\n",
       "       [ 0.61307886, -0.35750907],\n",
       "       [-0.71208118,  1.43457575],\n",
       "       [ 0.61376852, -1.16246533],\n",
       "       [ 0.16426893, -1.02592128],\n",
       "       [-1.3591983 ,  0.60342605],\n",
       "       [ 1.87798233,  1.86989631],\n",
       "       [ 1.59582547,  1.9655512 ],\n",
       "       [ 0.49355792,  0.62820895],\n",
       "       [ 1.00686786,  0.21395599],\n",
       "       [ 0.49121492, -0.60537904],\n",
       "       [ 0.23129179, -0.22803011],\n",
       "       [-1.38181643, -0.34411336],\n",
       "       [ 0.4777331 , -0.30718742],\n",
       "       [ 1.52206291, -1.26260168],\n",
       "       [-0.30498169,  0.26816128],\n",
       "       [-1.36771064,  1.22996439],\n",
       "       [-0.43308323, -1.47777469],\n",
       "       [-0.08206831,  0.17524704],\n",
       "       [-0.29916825,  2.1387682 ],\n",
       "       [-0.31564347, -1.35367614],\n",
       "       [-0.03900657, -1.10806358],\n",
       "       [ 1.17393405, -1.42091101],\n",
       "       [ 0.77708215,  1.23894622],\n",
       "       [ 0.03671568, -0.17672203],\n",
       "       [-0.57052254,  1.19195766],\n",
       "       [-0.13959729, -0.69936721],\n",
       "       [-1.31691986, -1.07684423],\n",
       "       [-0.18413336,  2.74701014],\n",
       "       [-0.22648107, -0.96070677],\n",
       "       [ 0.2603599 , -0.97388991],\n",
       "       [-0.56679   , -0.84942465],\n",
       "       [-1.29383618, -0.99208599],\n",
       "       [ 0.3798988 , -2.02150784],\n",
       "       [-1.13690941, -0.42054473],\n",
       "       [ 0.19260817,  1.73207564],\n",
       "       [ 2.52336479,  0.57826292],\n",
       "       [ 1.09952997, -1.28089455],\n",
       "       [-0.14994462, -1.20175514],\n",
       "       [ 0.23894684, -1.19653382],\n",
       "       [-1.32784118, -0.14083055],\n",
       "       [ 1.26957286,  0.09647667],\n",
       "       [-0.79902551, -0.73210958],\n",
       "       [-1.14578408, -1.4115285 ],\n",
       "       [ 0.57452584,  1.43657985],\n",
       "       [-1.16544563, -1.20455729],\n",
       "       [-1.23165711,  0.80497559],\n",
       "       [-0.01194214, -0.04649181],\n",
       "       [-0.62613819, -0.29811414],\n",
       "       [ 1.23501741,  1.55332376],\n",
       "       [-0.36975146,  0.74150693],\n",
       "       [-1.46261057,  0.48425172],\n",
       "       [ 0.60355069,  0.61259069],\n",
       "       [-0.22239529,  0.27728721],\n",
       "       [ 0.18122507,  1.50315107],\n",
       "       [-1.36234581, -0.77930652],\n",
       "       [ 0.01366576, -0.58493358],\n",
       "       [-1.34215294,  0.37538161],\n",
       "       [-0.07520532,  0.47156885],\n",
       "       [-0.49482883, -0.24062537],\n",
       "       [ 0.63395097,  0.180151  ],\n",
       "       [-1.45626616, -1.00239824],\n",
       "       [ 1.85017446,  0.49296448],\n",
       "       [-1.23527808, -0.00775396],\n",
       "       [ 2.4060638 ,  1.64610223],\n",
       "       [ 1.28315735, -1.80635914],\n",
       "       [ 0.15165098, -0.20032599],\n",
       "       [-1.06628558, -0.64443102],\n",
       "       [-0.69268482, -1.10546691],\n",
       "       [-1.18273369, -1.79523196],\n",
       "       [-0.07076831, -0.13405371],\n",
       "       [-0.95189432, -1.96551585],\n",
       "       [ 1.13227795, -1.87381972],\n",
       "       [-1.29727486,  1.2506214 ],\n",
       "       [ 0.07905758,  1.88402566],\n",
       "       [ 0.70880536,  0.56201089],\n",
       "       [-0.29417993, -0.95406366],\n",
       "       [-0.9335113 , -0.37115551],\n",
       "       [-0.01066587,  1.72578941],\n",
       "       [-1.62994452, -0.56886467],\n",
       "       [ 0.04549545, -1.65452119],\n",
       "       [ 1.10408721,  0.84969273],\n",
       "       [ 0.65305532,  1.12606196],\n",
       "       [-0.71038401,  1.87397317],\n",
       "       [-1.17314997, -0.44770374],\n",
       "       [ 0.09942027, -1.26696126],\n",
       "       [ 0.53323598,  0.5813175 ],\n",
       "       [-0.13102415,  0.14322525],\n",
       "       [-1.55306062, -0.57427116],\n",
       "       [ 1.47470793,  0.5837592 ],\n",
       "       [ 1.91767365,  0.11277797],\n",
       "       [ 2.77074261, -0.34226939],\n",
       "       [-0.70202429, -1.46520752]])"
      ]
     },
     "execution_count": 18,
     "metadata": {},
     "output_type": "execute_result"
    }
   ],
   "source": [
    "trans_X_train = np.dot(X_train.iloc[:,0:14], pc.T)\n",
    "trans_X_train"
   ]
  },
  {
   "cell_type": "code",
   "execution_count": 19,
   "id": "66f7ef0c-0912-4a31-a8ba-ca86b02b0437",
   "metadata": {
    "scrolled": true
   },
   "outputs": [
    {
     "data": {
      "text/html": [
       "<div>\n",
       "<style scoped>\n",
       "    .dataframe tbody tr th:only-of-type {\n",
       "        vertical-align: middle;\n",
       "    }\n",
       "\n",
       "    .dataframe tbody tr th {\n",
       "        vertical-align: top;\n",
       "    }\n",
       "\n",
       "    .dataframe thead th {\n",
       "        text-align: right;\n",
       "    }\n",
       "</style>\n",
       "<table border=\"1\" class=\"dataframe\">\n",
       "  <thead>\n",
       "    <tr style=\"text-align: right;\">\n",
       "      <th></th>\n",
       "      <th>PC1</th>\n",
       "      <th>PC2</th>\n",
       "    </tr>\n",
       "  </thead>\n",
       "  <tbody>\n",
       "    <tr>\n",
       "      <th>0</th>\n",
       "      <td>-0.106365</td>\n",
       "      <td>1.788067</td>\n",
       "    </tr>\n",
       "    <tr>\n",
       "      <th>1</th>\n",
       "      <td>0.438206</td>\n",
       "      <td>2.338524</td>\n",
       "    </tr>\n",
       "    <tr>\n",
       "      <th>2</th>\n",
       "      <td>-1.581079</td>\n",
       "      <td>-0.386741</td>\n",
       "    </tr>\n",
       "    <tr>\n",
       "      <th>3</th>\n",
       "      <td>-0.134561</td>\n",
       "      <td>0.306097</td>\n",
       "    </tr>\n",
       "    <tr>\n",
       "      <th>4</th>\n",
       "      <td>-1.321362</td>\n",
       "      <td>0.006864</td>\n",
       "    </tr>\n",
       "    <tr>\n",
       "      <th>...</th>\n",
       "      <td>...</td>\n",
       "      <td>...</td>\n",
       "    </tr>\n",
       "    <tr>\n",
       "      <th>195</th>\n",
       "      <td>-1.553061</td>\n",
       "      <td>-0.574271</td>\n",
       "    </tr>\n",
       "    <tr>\n",
       "      <th>196</th>\n",
       "      <td>1.474708</td>\n",
       "      <td>0.583759</td>\n",
       "    </tr>\n",
       "    <tr>\n",
       "      <th>197</th>\n",
       "      <td>1.917674</td>\n",
       "      <td>0.112778</td>\n",
       "    </tr>\n",
       "    <tr>\n",
       "      <th>198</th>\n",
       "      <td>2.770743</td>\n",
       "      <td>-0.342269</td>\n",
       "    </tr>\n",
       "    <tr>\n",
       "      <th>199</th>\n",
       "      <td>-0.702024</td>\n",
       "      <td>-1.465208</td>\n",
       "    </tr>\n",
       "  </tbody>\n",
       "</table>\n",
       "<p>200 rows × 2 columns</p>\n",
       "</div>"
      ],
      "text/plain": [
       "          PC1       PC2\n",
       "0   -0.106365  1.788067\n",
       "1    0.438206  2.338524\n",
       "2   -1.581079 -0.386741\n",
       "3   -0.134561  0.306097\n",
       "4   -1.321362  0.006864\n",
       "..        ...       ...\n",
       "195 -1.553061 -0.574271\n",
       "196  1.474708  0.583759\n",
       "197  1.917674  0.112778\n",
       "198  2.770743 -0.342269\n",
       "199 -0.702024 -1.465208\n",
       "\n",
       "[200 rows x 2 columns]"
      ]
     },
     "execution_count": 19,
     "metadata": {},
     "output_type": "execute_result"
    }
   ],
   "source": [
    "new_X_train = pd.DataFrame(trans_X_train, columns = ['PC1','PC2'])\n",
    "new_X_train"
   ]
  },
  {
   "cell_type": "code",
   "execution_count": 20,
   "id": "1a8fbed9-9244-45e9-b969-4020ab19d66e",
   "metadata": {},
   "outputs": [
    {
     "data": {
      "image/png": "[encoded data removed]",
      "text/plain": [
       "<Figure size 640x480 with 1 Axes>"
      ]
     },
     "metadata": {},
     "output_type": "display_data"
    }
   ],
   "source": [
    "plt.scatter(\"PC1\",\"PC2\",data = new_X_train)\n",
    "plt.show()"
   ]
  },
  {
   "cell_type": "code",
   "execution_count": 21,
   "id": "7ba05e3c-5151-4027-b165-e287a2a23d47",
   "metadata": {
    "scrolled": true
   },
   "outputs": [
    {
     "data": {
      "text/plain": [
       "array([[-0.33120175, -0.04905588],\n",
       "       [-0.18599075,  0.04842945],\n",
       "       [ 0.27274345,  1.13957717],\n",
       "       [ 1.41357309, -0.41059904],\n",
       "       [-0.53538974,  0.56729248],\n",
       "       [-1.22372748,  0.62280382],\n",
       "       [ 0.12840509, -0.15483175],\n",
       "       [ 0.43254331,  1.35295091],\n",
       "       [-1.43566419, -2.09878671],\n",
       "       [-0.80076887,  0.08814702],\n",
       "       [ 0.14976277, -0.78255387],\n",
       "       [ 0.79034248, -1.5859419 ],\n",
       "       [ 0.4099864 , -0.27072483],\n",
       "       [-0.21671302,  0.9320958 ],\n",
       "       [ 0.62402022, -0.53312414],\n",
       "       [-0.92288666, -0.47202413],\n",
       "       [-0.89914138, -0.60349047],\n",
       "       [ 0.94792486, -0.00317897],\n",
       "       [-0.97245067,  0.10660691],\n",
       "       [ 0.15372744,  1.03530064],\n",
       "       [ 0.95546434,  0.0022701 ],\n",
       "       [-0.21233621,  0.83616198],\n",
       "       [-1.47236284, -0.22948128],\n",
       "       [-0.32403911, -0.0092132 ],\n",
       "       [ 0.71093707,  1.34733141],\n",
       "       [ 0.53497446,  0.65274325],\n",
       "       [-1.44558074, -0.75457672],\n",
       "       [ 2.01900369,  0.28284244],\n",
       "       [-0.27205373,  0.13719022],\n",
       "       [-0.18453228,  0.65294847],\n",
       "       [ 0.42091675,  0.64479088],\n",
       "       [ 0.58532092,  1.05615516],\n",
       "       [ 0.69832793, -0.0811318 ],\n",
       "       [-1.18294954,  0.97628972],\n",
       "       [ 0.46698852,  0.31416908],\n",
       "       [-0.60990849,  0.33882097],\n",
       "       [-0.22800158, -0.01203819],\n",
       "       [ 1.25535004,  0.93562788],\n",
       "       [-0.84826873,  1.64188048],\n",
       "       [ 1.6966177 ,  0.92371556],\n",
       "       [ 2.04073601, -1.34580799],\n",
       "       [ 0.63253412, -0.30538187],\n",
       "       [-0.54961224, -0.83181357],\n",
       "       [-0.05064398, -1.94189604],\n",
       "       [-0.11335031, -0.25149417],\n",
       "       [ 1.22773063, -1.59507362],\n",
       "       [-1.28235883, -0.05890876],\n",
       "       [-0.16213599,  0.01791339],\n",
       "       [-1.05589993,  0.26540557],\n",
       "       [ 1.42742351,  0.78096401],\n",
       "       [-1.2462444 ,  0.21713022],\n",
       "       [ 1.40500984,  1.11845505],\n",
       "       [ 1.03169559,  1.6129525 ],\n",
       "       [-1.19384402,  0.24170103],\n",
       "       [ 0.17839672, -0.99201587],\n",
       "       [ 1.86101363,  1.8367082 ],\n",
       "       [ 0.55540284,  0.5121357 ],\n",
       "       [-1.39097584, -0.15565835],\n",
       "       [-0.70071856,  0.15915462],\n",
       "       [ 1.34114571,  0.59542193],\n",
       "       [ 2.0464115 , -0.75868596],\n",
       "       [ 1.74534451,  0.17577516],\n",
       "       [ 1.10084774,  1.62118374],\n",
       "       [-0.37964699,  0.78316665],\n",
       "       [ 0.20376227, -1.6396743 ],\n",
       "       [-0.47992513, -1.09772366],\n",
       "       [ 0.71175387, -0.62048591]])"
      ]
     },
     "execution_count": 21,
     "metadata": {},
     "output_type": "execute_result"
    }
   ],
   "source": [
    "trans_X_test = np.dot(X_test.iloc[:,0:14], pc.T)\n",
    "trans_X_test"
   ]
  },
  {
   "cell_type": "code",
   "execution_count": 22,
   "id": "9af52af8-90f2-4b38-95ab-fe52a700d603",
   "metadata": {},
   "outputs": [
    {
     "data": {
      "text/html": [
       "<div>\n",
       "<style scoped>\n",
       "    .dataframe tbody tr th:only-of-type {\n",
       "        vertical-align: middle;\n",
       "    }\n",
       "\n",
       "    .dataframe tbody tr th {\n",
       "        vertical-align: top;\n",
       "    }\n",
       "\n",
       "    .dataframe thead th {\n",
       "        text-align: right;\n",
       "    }\n",
       "</style>\n",
       "<table border=\"1\" class=\"dataframe\">\n",
       "  <thead>\n",
       "    <tr style=\"text-align: right;\">\n",
       "      <th></th>\n",
       "      <th>PC1</th>\n",
       "      <th>PC2</th>\n",
       "    </tr>\n",
       "  </thead>\n",
       "  <tbody>\n",
       "    <tr>\n",
       "      <th>0</th>\n",
       "      <td>-0.331202</td>\n",
       "      <td>-0.049056</td>\n",
       "    </tr>\n",
       "    <tr>\n",
       "      <th>1</th>\n",
       "      <td>-0.185991</td>\n",
       "      <td>0.048429</td>\n",
       "    </tr>\n",
       "    <tr>\n",
       "      <th>2</th>\n",
       "      <td>0.272743</td>\n",
       "      <td>1.139577</td>\n",
       "    </tr>\n",
       "    <tr>\n",
       "      <th>3</th>\n",
       "      <td>1.413573</td>\n",
       "      <td>-0.410599</td>\n",
       "    </tr>\n",
       "    <tr>\n",
       "      <th>4</th>\n",
       "      <td>-0.535390</td>\n",
       "      <td>0.567292</td>\n",
       "    </tr>\n",
       "  </tbody>\n",
       "</table>\n",
       "</div>"
      ],
      "text/plain": [
       "        PC1       PC2\n",
       "0 -0.331202 -0.049056\n",
       "1 -0.185991  0.048429\n",
       "2  0.272743  1.139577\n",
       "3  1.413573 -0.410599\n",
       "4 -0.535390  0.567292"
      ]
     },
     "execution_count": 22,
     "metadata": {},
     "output_type": "execute_result"
    }
   ],
   "source": [
    "new_X_test = pd.DataFrame(trans_X_test, columns = ['PC1','PC2'])\n",
    "new_X_test.head()"
   ]
  },
  {
   "cell_type": "code",
   "execution_count": 23,
   "id": "6601c94f-14ca-46d9-8791-539ae195a1c4",
   "metadata": {},
   "outputs": [
    {
     "data": {
      "text/html": [
       "<style>#sk-container-id-1 {color: black;background-color: white;}#sk-container-id-1 pre{padding: 0;}#sk-container-id-1 div.sk-toggleable {background-color: white;}#sk-container-id-1 label.sk-toggleable__label {cursor: pointer;display: block;width: 100%;margin-bottom: 0;padding: 0.3em;box-sizing: border-box;text-align: center;}#sk-container-id-1 label.sk-toggleable__label-arrow:before {content: \"▸\";float: left;margin-right: 0.25em;color: #696969;}#sk-container-id-1 label.sk-toggleable__label-arrow:hover:before {color: black;}#sk-container-id-1 div.sk-estimator:hover label.sk-toggleable__label-arrow:before {color: black;}#sk-container-id-1 div.sk-toggleable__content {max-height: 0;max-width: 0;overflow: hidden;text-align: left;background-color: #f0f8ff;}#sk-container-id-1 div.sk-toggleable__content pre {margin: 0.2em;color: black;border-radius: 0.25em;background-color: #f0f8ff;}#sk-container-id-1 input.sk-toggleable__control:checked~div.sk-toggleable__content {max-height: 200px;max-width: 100%;overflow: auto;}#sk-container-id-1 input.sk-toggleable__control:checked~label.sk-toggleable__label-arrow:before {content: \"▾\";}#sk-container-id-1 div.sk-estimator input.sk-toggleable__control:checked~label.sk-toggleable__label {background-color: #d4ebff;}#sk-container-id-1 div.sk-label input.sk-toggleable__control:checked~label.sk-toggleable__label {background-color: #d4ebff;}#sk-container-id-1 input.sk-hidden--visually {border: 0;clip: rect(1px 1px 1px 1px);clip: rect(1px, 1px, 1px, 1px);height: 1px;margin: -1px;overflow: hidden;padding: 0;position: absolute;width: 1px;}#sk-container-id-1 div.sk-estimator {font-family: monospace;background-color: #f0f8ff;border: 1px dotted black;border-radius: 0.25em;box-sizing: border-box;margin-bottom: 0.5em;}#sk-container-id-1 div.sk-estimator:hover {background-color: #d4ebff;}#sk-container-id-1 div.sk-parallel-item::after {content: \"\";width: 100%;border-bottom: 1px solid gray;flex-grow: 1;}#sk-container-id-1 div.sk-label:hover label.sk-toggleable__label {background-color: #d4ebff;}#sk-container-id-1 div.sk-serial::before {content: \"\";position: absolute;border-left: 1px solid gray;box-sizing: border-box;top: 0;bottom: 0;left: 50%;z-index: 0;}#sk-container-id-1 div.sk-serial {display: flex;flex-direction: column;align-items: center;background-color: white;padding-right: 0.2em;padding-left: 0.2em;position: relative;}#sk-container-id-1 div.sk-item {position: relative;z-index: 1;}#sk-container-id-1 div.sk-parallel {display: flex;align-items: stretch;justify-content: center;background-color: white;position: relative;}#sk-container-id-1 div.sk-item::before, #sk-container-id-1 div.sk-parallel-item::before {content: \"\";position: absolute;border-left: 1px solid gray;box-sizing: border-box;top: 0;bottom: 0;left: 50%;z-index: -1;}#sk-container-id-1 div.sk-parallel-item {display: flex;flex-direction: column;z-index: 1;position: relative;background-color: white;}#sk-container-id-1 div.sk-parallel-item:first-child::after {align-self: flex-end;width: 50%;}#sk-container-id-1 div.sk-parallel-item:last-child::after {align-self: flex-start;width: 50%;}#sk-container-id-1 div.sk-parallel-item:only-child::after {width: 0;}#sk-container-id-1 div.sk-dashed-wrapped {border: 1px dashed gray;margin: 0 0.4em 0.5em 0.4em;box-sizing: border-box;padding-bottom: 0.4em;background-color: white;}#sk-container-id-1 div.sk-label label {font-family: monospace;font-weight: bold;display: inline-block;line-height: 1.2em;}#sk-container-id-1 div.sk-label-container {text-align: center;}#sk-container-id-1 div.sk-container {/* jupyter's `normalize.less` sets `[hidden] { display: none; }` but bootstrap.min.css set `[hidden] { display: none !important; }` so we also need the `!important` here to be able to override the default hidden behavior on the sphinx rendered scikit-learn.org. See: https://github.com/scikit-learn/scikit-learn/issues/21755 */display: inline-block !important;position: relative;}#sk-container-id-1 div.sk-text-repr-fallback {display: none;}</style><div id=\"sk-container-id-1\" class=\"sk-top-container\"><div class=\"sk-text-repr-fallback\"><pre>LogisticRegression()</pre><b>In a Jupyter environment, please rerun this cell to show the HTML representation or trust the notebook. <br />On GitHub, the HTML representation is unable to render, please try loading this page with nbviewer.org.</b></div><div class=\"sk-container\" hidden><div class=\"sk-item\"><div class=\"sk-estimator sk-toggleable\"><input class=\"sk-toggleable__control sk-hidden--visually\" id=\"sk-estimator-id-1\" type=\"checkbox\" checked><label for=\"sk-estimator-id-1\" class=\"sk-toggleable__label sk-toggleable__label-arrow\">LogisticRegression</label><div class=\"sk-toggleable__content\"><pre>LogisticRegression()</pre></div></div></div></div></div>"
      ],
      "text/plain": [
       "LogisticRegression()"
      ]
     },
     "execution_count": 23,
     "metadata": {},
     "output_type": "execute_result"
    }
   ],
   "source": [
    "model = LogisticRegression()\n",
    "model.fit(new_X_train, y_train)"
   ]
  },
  {
   "cell_type": "code",
   "execution_count": 24,
   "id": "f16c3770-8b5c-48ff-98c3-8bc0d7629b37",
   "metadata": {},
   "outputs": [
    {
     "data": {
      "text/plain": [
       "0.43283582089552236"
      ]
     },
     "execution_count": 24,
     "metadata": {},
     "output_type": "execute_result"
    }
   ],
   "source": [
    "model.score(new_X_test, y_test)"
   ]
  },
  {
   "cell_type": "code",
   "execution_count": 25,
   "id": "13369657-ee17-4784-bb82-e99c4c262095",
   "metadata": {
    "scrolled": true
   },
   "outputs": [
    {
     "data": {
      "text/plain": [
       "(array([[-0.40821542,  0.00928623],\n",
       "        [-0.24493941,  0.15217443],\n",
       "        [-0.22552518,  0.40909679],\n",
       "        [-0.1730708 ,  0.29882711],\n",
       "        [ 0.8106333 , -0.77006291],\n",
       "        [ 0.28922606,  0.1625467 ],\n",
       "        [-0.04810855, -0.26186834]]),\n",
       " array([ 1.00156082,  1.61654334,  0.6040664 ,  1.46987953, -3.45249546,\n",
       "        -0.17313698, -1.06641766]))"
      ]
     },
     "execution_count": 25,
     "metadata": {},
     "output_type": "execute_result"
    }
   ],
   "source": [
    "w, b = model.coef_, model.intercept_\n",
    "w, b"
   ]
  },
  {
   "cell_type": "code",
   "execution_count": 32,
   "id": "68c958b4-8bb9-4912-bb7c-fbf49f60bfbe",
   "metadata": {},
   "outputs": [
    {
     "data": {
      "text/plain": [
       "0.4925373134328358"
      ]
     },
     "execution_count": 32,
     "metadata": {},
     "output_type": "execute_result"
    }
   ],
   "source": [
    "model_dt=DecisionTreeClassifier(criterion=\"entropy\")\n",
    "model_dt.fit(new_X_train, y_train)\n",
    "model_dt.score(new_X_test, y_test)"
   ]
  },
  {
   "cell_type": "code",
   "execution_count": 34,
   "id": "011fafc7-40c0-4970-95e3-8eb012b812d3",
   "metadata": {},
   "outputs": [
    {
     "data": {
      "text/plain": [
       "(17, 122)"
      ]
     },
     "execution_count": 34,
     "metadata": {},
     "output_type": "execute_result"
    }
   ],
   "source": [
    "model_dt.get_depth(), model_dt.get_n_leaves()"
   ]
  },
  {
   "cell_type": "code",
   "execution_count": 35,
   "id": "a34c5180-10c8-47cd-97ad-bc15f348bc76",
   "metadata": {},
   "outputs": [
    {
     "data": {
      "text/plain": [
       "array([3, 3, 1, 6, 2, 0, 3, 3, 0, 3, 1, 3, 0, 1, 3, 3, 3, 3, 3, 1, 3, 1,\n",
       "       2, 3, 1, 1, 1, 1, 1, 1, 1, 0, 3, 1, 0, 0, 1, 1, 1, 2, 1, 5, 1, 5,\n",
       "       2, 1, 1, 1, 0, 3, 6, 3, 0, 6, 3, 3, 0, 0, 3, 3, 1, 2, 0, 1, 1, 1,\n",
       "       0])"
      ]
     },
     "execution_count": 35,
     "metadata": {},
     "output_type": "execute_result"
    }
   ],
   "source": [
    "y_predict_dt = model_dt.predict(new_X_test)\n",
    "y_predict_dt"
   ]
  },
  {
   "cell_type": "code",
   "execution_count": 36,
   "id": "e40b4daf-617e-4123-a329-1a5ebf96df68",
   "metadata": {},
   "outputs": [
    {
     "data": {
      "text/plain": [
       "array([[3, 3, 3, 3, 1, 1, 1, 0, 0, 1, 1, 3, 5, 3, 3, 3, 3, 5, 3, 3, 1, 2,\n",
       "        2, 1, 5, 1, 1, 2, 1, 1, 3, 0, 1, 1, 2, 5, 2, 1, 1, 1, 1, 3, 0, 5,\n",
       "        2, 1, 1, 1, 1, 2, 3, 3, 3, 3, 3, 3, 0, 1, 0, 1, 1, 3, 0, 1, 1, 1,\n",
       "        3]])"
      ]
     },
     "execution_count": 36,
     "metadata": {},
     "output_type": "execute_result"
    }
   ],
   "source": [
    "y_test.values.T"
   ]
  },
  {
   "cell_type": "code",
   "execution_count": 37,
   "id": "875a7897-f662-4eb6-aec5-88919bdfc2c0",
   "metadata": {},
   "outputs": [
    {
     "data": {
      "text/html": [
       "<style>#sk-container-id-2 {color: black;background-color: white;}#sk-container-id-2 pre{padding: 0;}#sk-container-id-2 div.sk-toggleable {background-color: white;}#sk-container-id-2 label.sk-toggleable__label {cursor: pointer;display: block;width: 100%;margin-bottom: 0;padding: 0.3em;box-sizing: border-box;text-align: center;}#sk-container-id-2 label.sk-toggleable__label-arrow:before {content: \"▸\";float: left;margin-right: 0.25em;color: #696969;}#sk-container-id-2 label.sk-toggleable__label-arrow:hover:before {color: black;}#sk-container-id-2 div.sk-estimator:hover label.sk-toggleable__label-arrow:before {color: black;}#sk-container-id-2 div.sk-toggleable__content {max-height: 0;max-width: 0;overflow: hidden;text-align: left;background-color: #f0f8ff;}#sk-container-id-2 div.sk-toggleable__content pre {margin: 0.2em;color: black;border-radius: 0.25em;background-color: #f0f8ff;}#sk-container-id-2 input.sk-toggleable__control:checked~div.sk-toggleable__content {max-height: 200px;max-width: 100%;overflow: auto;}#sk-container-id-2 input.sk-toggleable__control:checked~label.sk-toggleable__label-arrow:before {content: \"▾\";}#sk-container-id-2 div.sk-estimator input.sk-toggleable__control:checked~label.sk-toggleable__label {background-color: #d4ebff;}#sk-container-id-2 div.sk-label input.sk-toggleable__control:checked~label.sk-toggleable__label {background-color: #d4ebff;}#sk-container-id-2 input.sk-hidden--visually {border: 0;clip: rect(1px 1px 1px 1px);clip: rect(1px, 1px, 1px, 1px);height: 1px;margin: -1px;overflow: hidden;padding: 0;position: absolute;width: 1px;}#sk-container-id-2 div.sk-estimator {font-family: monospace;background-color: #f0f8ff;border: 1px dotted black;border-radius: 0.25em;box-sizing: border-box;margin-bottom: 0.5em;}#sk-container-id-2 div.sk-estimator:hover {background-color: #d4ebff;}#sk-container-id-2 div.sk-parallel-item::after {content: \"\";width: 100%;border-bottom: 1px solid gray;flex-grow: 1;}#sk-container-id-2 div.sk-label:hover label.sk-toggleable__label {background-color: #d4ebff;}#sk-container-id-2 div.sk-serial::before {content: \"\";position: absolute;border-left: 1px solid gray;box-sizing: border-box;top: 0;bottom: 0;left: 50%;z-index: 0;}#sk-container-id-2 div.sk-serial {display: flex;flex-direction: column;align-items: center;background-color: white;padding-right: 0.2em;padding-left: 0.2em;position: relative;}#sk-container-id-2 div.sk-item {position: relative;z-index: 1;}#sk-container-id-2 div.sk-parallel {display: flex;align-items: stretch;justify-content: center;background-color: white;position: relative;}#sk-container-id-2 div.sk-item::before, #sk-container-id-2 div.sk-parallel-item::before {content: \"\";position: absolute;border-left: 1px solid gray;box-sizing: border-box;top: 0;bottom: 0;left: 50%;z-index: -1;}#sk-container-id-2 div.sk-parallel-item {display: flex;flex-direction: column;z-index: 1;position: relative;background-color: white;}#sk-container-id-2 div.sk-parallel-item:first-child::after {align-self: flex-end;width: 50%;}#sk-container-id-2 div.sk-parallel-item:last-child::after {align-self: flex-start;width: 50%;}#sk-container-id-2 div.sk-parallel-item:only-child::after {width: 0;}#sk-container-id-2 div.sk-dashed-wrapped {border: 1px dashed gray;margin: 0 0.4em 0.5em 0.4em;box-sizing: border-box;padding-bottom: 0.4em;background-color: white;}#sk-container-id-2 div.sk-label label {font-family: monospace;font-weight: bold;display: inline-block;line-height: 1.2em;}#sk-container-id-2 div.sk-label-container {text-align: center;}#sk-container-id-2 div.sk-container {/* jupyter's `normalize.less` sets `[hidden] { display: none; }` but bootstrap.min.css set `[hidden] { display: none !important; }` so we also need the `!important` here to be able to override the default hidden behavior on the sphinx rendered scikit-learn.org. See: https://github.com/scikit-learn/scikit-learn/issues/21755 */display: inline-block !important;position: relative;}#sk-container-id-2 div.sk-text-repr-fallback {display: none;}</style><div id=\"sk-container-id-2\" class=\"sk-top-container\"><div class=\"sk-text-repr-fallback\"><pre>KNeighborsClassifier(p=1, weights=&#x27;distance&#x27;)</pre><b>In a Jupyter environment, please rerun this cell to show the HTML representation or trust the notebook. <br />On GitHub, the HTML representation is unable to render, please try loading this page with nbviewer.org.</b></div><div class=\"sk-container\" hidden><div class=\"sk-item\"><div class=\"sk-estimator sk-toggleable\"><input class=\"sk-toggleable__control sk-hidden--visually\" id=\"sk-estimator-id-2\" type=\"checkbox\" checked><label for=\"sk-estimator-id-2\" class=\"sk-toggleable__label sk-toggleable__label-arrow\">KNeighborsClassifier</label><div class=\"sk-toggleable__content\"><pre>KNeighborsClassifier(p=1, weights=&#x27;distance&#x27;)</pre></div></div></div></div></div>"
      ],
      "text/plain": [
       "KNeighborsClassifier(p=1, weights='distance')"
      ]
     },
     "execution_count": 37,
     "metadata": {},
     "output_type": "execute_result"
    }
   ],
   "source": [
    "model_knn = KNeighborsClassifier(n_neighbors=5, weights=\"distance\", p=1)\n",
    "model_knn.fit(new_X_train, y_train)"
   ]
  },
  {
   "cell_type": "code",
   "execution_count": 38,
   "id": "1a6df861-b79b-4866-b8a5-cdeb46f96904",
   "metadata": {},
   "outputs": [
    {
     "data": {
      "text/plain": [
       "array([1, 3, 1, 0, 2, 0, 1, 3, 1, 0, 1, 1, 0, 1, 0, 1, 3, 1, 3, 1, 1, 1,\n",
       "       0, 1, 3, 0, 1, 1, 3, 1, 0, 3, 1, 1, 1, 3, 1, 1, 3, 1, 1, 1, 1, 5,\n",
       "       3, 1, 3, 1, 0, 1, 6, 3, 0, 6, 6, 3, 1, 0, 0, 3, 1, 1, 3, 1, 3, 1,\n",
       "       3])"
      ]
     },
     "execution_count": 38,
     "metadata": {},
     "output_type": "execute_result"
    }
   ],
   "source": [
    "y_predict_knn = model_knn.predict(new_X_test)\n",
    "y_predict_knn"
   ]
  },
  {
   "cell_type": "code",
   "execution_count": 39,
   "id": "e3e66dac-847d-4aa8-8392-1793191549fd",
   "metadata": {},
   "outputs": [
    {
     "data": {
      "text/plain": [
       "0.3582089552238806"
      ]
     },
     "execution_count": 39,
     "metadata": {},
     "output_type": "execute_result"
    }
   ],
   "source": [
    "accuracy_score(y_test, y_predict_knn)"
   ]
  },
  {
   "cell_type": "code",
   "execution_count": 40,
   "id": "e2389c6a-2903-4bdb-9efb-466832f22a8e",
   "metadata": {
    "scrolled": true
   },
   "outputs": [
    {
     "data": {
      "text/plain": [
       "array([[3, 3, 3, 3, 1, 1, 1, 0, 0, 1, 1, 3, 5, 3, 3, 3, 3, 5, 3, 3, 1, 2,\n",
       "        2, 1, 5, 1, 1, 2, 1, 1, 3, 0, 1, 1, 2, 5, 2, 1, 1, 1, 1, 3, 0, 5,\n",
       "        2, 1, 1, 1, 1, 2, 3, 3, 3, 3, 3, 3, 0, 1, 0, 1, 1, 3, 0, 1, 1, 1,\n",
       "        3]])"
      ]
     },
     "execution_count": 40,
     "metadata": {},
     "output_type": "execute_result"
    }
   ],
   "source": [
    "y_test.values.T"
   ]
  },
  {
   "cell_type": "code",
   "execution_count": null,
   "id": "22b9cf04-469e-4170-b007-bad64e713827",
   "metadata": {},
   "outputs": [],
   "source": []
  }
 ],
 "metadata": {
  "kernelspec": {
   "display_name": "Python 3 (ipykernel)",
   "language": "python",
   "name": "python3"
  },
  "language_info": {
   "codemirror_mode": {
    "name": "ipython",
    "version": 3
   },
   "file_extension": ".py",
   "mimetype": "text/x-python",
   "name": "python",
   "nbconvert_exporter": "python",
   "pygments_lexer": "ipython3",
   "version": "3.11.7"
  }
 },
 "nbformat": 4,
 "nbformat_minor": 5
}

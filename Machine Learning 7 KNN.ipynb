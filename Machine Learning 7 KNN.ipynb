{
 "cells": [
  {
   "cell_type": "code",
   "execution_count": 1,
   "id": "c13a7ce8",
   "metadata": {},
   "outputs": [],
   "source": [
    "import numpy as np\n",
    "import pandas as pd\n",
    "import matplotlib.pyplot as plt\n",
    "import seaborn as sns\n",
    "from sklearn.tree import DecisionTreeClassifier, plot_tree, export_text\n",
    "from sklearn.model_selection import train_test_split\n",
    "from sklearn.metrics import accuracy_score, confusion_matrix, ConfusionMatrixDisplay\n",
    "from sklearn.preprocessing import LabelEncoder, minmax_scale, MinMaxScaler\n",
    "from sklearn.neighbors import KNeighborsClassifier\n",
    "import warnings\n",
    "warnings.filterwarnings(\"ignore\")"
   ]
  },
  {
   "cell_type": "code",
   "execution_count": 2,
   "id": "80e5024e",
   "metadata": {},
   "outputs": [
    {
     "data": {
      "text/html": [
       "<div>\n",
       "<style scoped>\n",
       "    .dataframe tbody tr th:only-of-type {\n",
       "        vertical-align: middle;\n",
       "    }\n",
       "\n",
       "    .dataframe tbody tr th {\n",
       "        vertical-align: top;\n",
       "    }\n",
       "\n",
       "    .dataframe thead th {\n",
       "        text-align: right;\n",
       "    }\n",
       "</style>\n",
       "<table border=\"1\" class=\"dataframe\">\n",
       "  <thead>\n",
       "    <tr style=\"text-align: right;\">\n",
       "      <th></th>\n",
       "      <th>id</th>\n",
       "      <th>sample</th>\n",
       "      <th>sign_type</th>\n",
       "      <th>r1</th>\n",
       "      <th>g1</th>\n",
       "      <th>b1</th>\n",
       "      <th>r2</th>\n",
       "      <th>g2</th>\n",
       "      <th>b2</th>\n",
       "      <th>r3</th>\n",
       "      <th>...</th>\n",
       "      <th>b13</th>\n",
       "      <th>r14</th>\n",
       "      <th>g14</th>\n",
       "      <th>b14</th>\n",
       "      <th>r15</th>\n",
       "      <th>g15</th>\n",
       "      <th>b15</th>\n",
       "      <th>r16</th>\n",
       "      <th>g16</th>\n",
       "      <th>b16</th>\n",
       "    </tr>\n",
       "  </thead>\n",
       "  <tbody>\n",
       "    <tr>\n",
       "      <th>0</th>\n",
       "      <td>1</td>\n",
       "      <td>train</td>\n",
       "      <td>pedestrian</td>\n",
       "      <td>155</td>\n",
       "      <td>228</td>\n",
       "      <td>251</td>\n",
       "      <td>135</td>\n",
       "      <td>188</td>\n",
       "      <td>101</td>\n",
       "      <td>156</td>\n",
       "      <td>...</td>\n",
       "      <td>244</td>\n",
       "      <td>172</td>\n",
       "      <td>228</td>\n",
       "      <td>235</td>\n",
       "      <td>177</td>\n",
       "      <td>235</td>\n",
       "      <td>244</td>\n",
       "      <td>22</td>\n",
       "      <td>52</td>\n",
       "      <td>53</td>\n",
       "    </tr>\n",
       "    <tr>\n",
       "      <th>1</th>\n",
       "      <td>2</td>\n",
       "      <td>train</td>\n",
       "      <td>pedestrian</td>\n",
       "      <td>142</td>\n",
       "      <td>217</td>\n",
       "      <td>242</td>\n",
       "      <td>166</td>\n",
       "      <td>204</td>\n",
       "      <td>44</td>\n",
       "      <td>142</td>\n",
       "      <td>...</td>\n",
       "      <td>237</td>\n",
       "      <td>182</td>\n",
       "      <td>228</td>\n",
       "      <td>143</td>\n",
       "      <td>171</td>\n",
       "      <td>228</td>\n",
       "      <td>196</td>\n",
       "      <td>164</td>\n",
       "      <td>227</td>\n",
       "      <td>237</td>\n",
       "    </tr>\n",
       "    <tr>\n",
       "      <th>2</th>\n",
       "      <td>3</td>\n",
       "      <td>train</td>\n",
       "      <td>pedestrian</td>\n",
       "      <td>57</td>\n",
       "      <td>54</td>\n",
       "      <td>50</td>\n",
       "      <td>187</td>\n",
       "      <td>201</td>\n",
       "      <td>68</td>\n",
       "      <td>51</td>\n",
       "      <td>...</td>\n",
       "      <td>59</td>\n",
       "      <td>76</td>\n",
       "      <td>84</td>\n",
       "      <td>22</td>\n",
       "      <td>82</td>\n",
       "      <td>93</td>\n",
       "      <td>17</td>\n",
       "      <td>58</td>\n",
       "      <td>60</td>\n",
       "      <td>60</td>\n",
       "    </tr>\n",
       "    <tr>\n",
       "      <th>3</th>\n",
       "      <td>4</td>\n",
       "      <td>train</td>\n",
       "      <td>pedestrian</td>\n",
       "      <td>22</td>\n",
       "      <td>35</td>\n",
       "      <td>41</td>\n",
       "      <td>171</td>\n",
       "      <td>178</td>\n",
       "      <td>26</td>\n",
       "      <td>19</td>\n",
       "      <td>...</td>\n",
       "      <td>34</td>\n",
       "      <td>64</td>\n",
       "      <td>61</td>\n",
       "      <td>4</td>\n",
       "      <td>211</td>\n",
       "      <td>222</td>\n",
       "      <td>78</td>\n",
       "      <td>19</td>\n",
       "      <td>27</td>\n",
       "      <td>29</td>\n",
       "    </tr>\n",
       "    <tr>\n",
       "      <th>4</th>\n",
       "      <td>5</td>\n",
       "      <td>train</td>\n",
       "      <td>pedestrian</td>\n",
       "      <td>169</td>\n",
       "      <td>179</td>\n",
       "      <td>170</td>\n",
       "      <td>231</td>\n",
       "      <td>254</td>\n",
       "      <td>27</td>\n",
       "      <td>97</td>\n",
       "      <td>...</td>\n",
       "      <td>91</td>\n",
       "      <td>188</td>\n",
       "      <td>205</td>\n",
       "      <td>78</td>\n",
       "      <td>125</td>\n",
       "      <td>147</td>\n",
       "      <td>20</td>\n",
       "      <td>160</td>\n",
       "      <td>183</td>\n",
       "      <td>187</td>\n",
       "    </tr>\n",
       "  </tbody>\n",
       "</table>\n",
       "<p>5 rows × 51 columns</p>\n",
       "</div>"
      ],
      "text/plain": [
       "   id sample   sign_type   r1   g1   b1   r2   g2   b2   r3  ...  b13  r14  \\\n",
       "0   1  train  pedestrian  155  228  251  135  188  101  156  ...  244  172   \n",
       "1   2  train  pedestrian  142  217  242  166  204   44  142  ...  237  182   \n",
       "2   3  train  pedestrian   57   54   50  187  201   68   51  ...   59   76   \n",
       "3   4  train  pedestrian   22   35   41  171  178   26   19  ...   34   64   \n",
       "4   5  train  pedestrian  169  179  170  231  254   27   97  ...   91  188   \n",
       "\n",
       "   g14  b14  r15  g15  b15  r16  g16  b16  \n",
       "0  228  235  177  235  244   22   52   53  \n",
       "1  228  143  171  228  196  164  227  237  \n",
       "2   84   22   82   93   17   58   60   60  \n",
       "3   61    4  211  222   78   19   27   29  \n",
       "4  205   78  125  147   20  160  183  187  \n",
       "\n",
       "[5 rows x 51 columns]"
      ]
     },
     "execution_count": 2,
     "metadata": {},
     "output_type": "execute_result"
    }
   ],
   "source": [
    "signals = pd.read_csv(\"E:/Python Programs/Signals.csv\")\n",
    "signals.head()"
   ]
  },
  {
   "cell_type": "code",
   "execution_count": 3,
   "id": "4adce51f",
   "metadata": {},
   "outputs": [
    {
     "data": {
      "text/plain": [
       "sign_type\n",
       "stop          71\n",
       "speed         70\n",
       "pedestrian    65\n",
       "Name: count, dtype: int64"
      ]
     },
     "execution_count": 3,
     "metadata": {},
     "output_type": "execute_result"
    }
   ],
   "source": [
    "signals.sign_type.value_counts()"
   ]
  },
  {
   "cell_type": "code",
   "execution_count": 4,
   "id": "1bbcbcd6",
   "metadata": {},
   "outputs": [
    {
     "data": {
      "text/plain": [
       "((146, 51), (59, 51))"
      ]
     },
     "execution_count": 4,
     "metadata": {},
     "output_type": "execute_result"
    }
   ],
   "source": [
    "signals_train = signals[signals[\"sample\"]==\"train\"]\n",
    "signals_test = signals[signals[\"sample\"]==\"test\"]\n",
    "signals_train.shape, signals_test.shape"
   ]
  },
  {
   "cell_type": "code",
   "execution_count": 9,
   "id": "12c237af",
   "metadata": {},
   "outputs": [
    {
     "data": {
      "text/plain": [
       "((146, 48), (146,), (59, 48), (59,))"
      ]
     },
     "execution_count": 9,
     "metadata": {},
     "output_type": "execute_result"
    }
   ],
   "source": [
    "X_train = signals_train.loc[:,\"r1\":\"b16\"]\n",
    "y_train = signals_train[\"sign_type\"]\n",
    "X_test = signals_test.loc[:,\"r1\":\"b16\"]\n",
    "y_test = signals_test[\"sign_type\"]\n",
    "\n",
    "X_train.shape, y_train.shape, X_test.shape, y_test.shape"
   ]
  },
  {
   "cell_type": "code",
   "execution_count": 8,
   "id": "70d9b40b",
   "metadata": {},
   "outputs": [
    {
     "data": {
      "text/plain": [
       "(Index([  7,  12,  13,  18,  19,  21,  28,  29,  35,  43,  44,  45,  46,  49,\n",
       "         51,  52,  56,  61,  62,  65,  66,  68,  73,  74,  77,  81,  83,  99,\n",
       "        100, 102, 109, 112, 116, 122, 123, 129, 130, 131, 132, 134, 136, 139,\n",
       "        141, 142, 147, 150, 153, 155, 156, 163, 173, 174, 180, 182, 191, 192,\n",
       "        200, 202, 204],\n",
       "       dtype='int64'),\n",
       " Index([  7,  12,  13,  18,  19,  21,  28,  29,  35,  43,  44,  45,  46,  49,\n",
       "         51,  52,  56,  61,  62,  65,  66,  68,  73,  74,  77,  81,  83,  99,\n",
       "        100, 102, 109, 112, 116, 122, 123, 129, 130, 131, 132, 134, 136, 139,\n",
       "        141, 142, 147, 150, 153, 155, 156, 163, 173, 174, 180, 182, 191, 192,\n",
       "        200, 202, 204],\n",
       "       dtype='int64'))"
      ]
     },
     "execution_count": 8,
     "metadata": {},
     "output_type": "execute_result"
    }
   ],
   "source": [
    "X_test.index, y_test.index"
   ]
  },
  {
   "cell_type": "code",
   "execution_count": 10,
   "id": "bfb8fdb6",
   "metadata": {},
   "outputs": [
    {
     "data": {
      "text/html": [
       "<div>\n",
       "<style scoped>\n",
       "    .dataframe tbody tr th:only-of-type {\n",
       "        vertical-align: middle;\n",
       "    }\n",
       "\n",
       "    .dataframe tbody tr th {\n",
       "        vertical-align: top;\n",
       "    }\n",
       "\n",
       "    .dataframe thead th {\n",
       "        text-align: right;\n",
       "    }\n",
       "</style>\n",
       "<table border=\"1\" class=\"dataframe\">\n",
       "  <thead>\n",
       "    <tr style=\"text-align: right;\">\n",
       "      <th></th>\n",
       "      <th>r1</th>\n",
       "      <th>g1</th>\n",
       "      <th>b1</th>\n",
       "      <th>r2</th>\n",
       "      <th>g2</th>\n",
       "      <th>b2</th>\n",
       "      <th>r3</th>\n",
       "      <th>g3</th>\n",
       "      <th>b3</th>\n",
       "      <th>r4</th>\n",
       "      <th>...</th>\n",
       "      <th>b13</th>\n",
       "      <th>r14</th>\n",
       "      <th>g14</th>\n",
       "      <th>b14</th>\n",
       "      <th>r15</th>\n",
       "      <th>g15</th>\n",
       "      <th>b15</th>\n",
       "      <th>r16</th>\n",
       "      <th>g16</th>\n",
       "      <th>b16</th>\n",
       "    </tr>\n",
       "  </thead>\n",
       "  <tbody>\n",
       "    <tr>\n",
       "      <th>count</th>\n",
       "      <td>146.000000</td>\n",
       "      <td>146.000000</td>\n",
       "      <td>146.000000</td>\n",
       "      <td>146.000000</td>\n",
       "      <td>146.000000</td>\n",
       "      <td>146.000000</td>\n",
       "      <td>146.000000</td>\n",
       "      <td>146.000000</td>\n",
       "      <td>146.000000</td>\n",
       "      <td>146.00000</td>\n",
       "      <td>...</td>\n",
       "      <td>146.000000</td>\n",
       "      <td>146.000000</td>\n",
       "      <td>146.000000</td>\n",
       "      <td>146.000000</td>\n",
       "      <td>146.000000</td>\n",
       "      <td>146.000000</td>\n",
       "      <td>146.000000</td>\n",
       "      <td>146.000000</td>\n",
       "      <td>146.000000</td>\n",
       "      <td>146.000000</td>\n",
       "    </tr>\n",
       "    <tr>\n",
       "      <th>mean</th>\n",
       "      <td>100.869863</td>\n",
       "      <td>114.890411</td>\n",
       "      <td>111.301370</td>\n",
       "      <td>110.924658</td>\n",
       "      <td>97.719178</td>\n",
       "      <td>76.890411</td>\n",
       "      <td>115.828767</td>\n",
       "      <td>104.410959</td>\n",
       "      <td>93.136986</td>\n",
       "      <td>105.60274</td>\n",
       "      <td>...</td>\n",
       "      <td>84.821918</td>\n",
       "      <td>117.431507</td>\n",
       "      <td>103.191781</td>\n",
       "      <td>78.671233</td>\n",
       "      <td>115.801370</td>\n",
       "      <td>100.589041</td>\n",
       "      <td>79.636986</td>\n",
       "      <td>92.438356</td>\n",
       "      <td>100.787671</td>\n",
       "      <td>80.356164</td>\n",
       "    </tr>\n",
       "    <tr>\n",
       "      <th>std</th>\n",
       "      <td>61.989350</td>\n",
       "      <td>68.134767</td>\n",
       "      <td>70.806815</td>\n",
       "      <td>55.710593</td>\n",
       "      <td>63.823544</td>\n",
       "      <td>55.693635</td>\n",
       "      <td>51.764768</td>\n",
       "      <td>65.049442</td>\n",
       "      <td>60.648635</td>\n",
       "      <td>60.96279</td>\n",
       "      <td>...</td>\n",
       "      <td>64.720266</td>\n",
       "      <td>56.809289</td>\n",
       "      <td>68.242399</td>\n",
       "      <td>61.612147</td>\n",
       "      <td>57.511333</td>\n",
       "      <td>68.738653</td>\n",
       "      <td>62.102238</td>\n",
       "      <td>59.284350</td>\n",
       "      <td>63.448291</td>\n",
       "      <td>59.436984</td>\n",
       "    </tr>\n",
       "    <tr>\n",
       "      <th>min</th>\n",
       "      <td>3.000000</td>\n",
       "      <td>12.000000</td>\n",
       "      <td>12.000000</td>\n",
       "      <td>1.000000</td>\n",
       "      <td>11.000000</td>\n",
       "      <td>1.000000</td>\n",
       "      <td>17.000000</td>\n",
       "      <td>10.000000</td>\n",
       "      <td>10.000000</td>\n",
       "      <td>13.00000</td>\n",
       "      <td>...</td>\n",
       "      <td>2.000000</td>\n",
       "      <td>17.000000</td>\n",
       "      <td>12.000000</td>\n",
       "      <td>2.000000</td>\n",
       "      <td>19.000000</td>\n",
       "      <td>12.000000</td>\n",
       "      <td>2.000000</td>\n",
       "      <td>11.000000</td>\n",
       "      <td>18.000000</td>\n",
       "      <td>2.000000</td>\n",
       "    </tr>\n",
       "    <tr>\n",
       "      <th>25%</th>\n",
       "      <td>46.750000</td>\n",
       "      <td>55.000000</td>\n",
       "      <td>49.250000</td>\n",
       "      <td>68.000000</td>\n",
       "      <td>42.000000</td>\n",
       "      <td>33.250000</td>\n",
       "      <td>77.000000</td>\n",
       "      <td>41.250000</td>\n",
       "      <td>41.250000</td>\n",
       "      <td>52.00000</td>\n",
       "      <td>...</td>\n",
       "      <td>38.000000</td>\n",
       "      <td>75.000000</td>\n",
       "      <td>42.250000</td>\n",
       "      <td>29.000000</td>\n",
       "      <td>74.250000</td>\n",
       "      <td>37.000000</td>\n",
       "      <td>30.000000</td>\n",
       "      <td>44.250000</td>\n",
       "      <td>50.000000</td>\n",
       "      <td>37.000000</td>\n",
       "    </tr>\n",
       "    <tr>\n",
       "      <th>50%</th>\n",
       "      <td>85.500000</td>\n",
       "      <td>98.000000</td>\n",
       "      <td>92.500000</td>\n",
       "      <td>97.500000</td>\n",
       "      <td>89.000000</td>\n",
       "      <td>56.000000</td>\n",
       "      <td>109.500000</td>\n",
       "      <td>99.000000</td>\n",
       "      <td>81.500000</td>\n",
       "      <td>91.00000</td>\n",
       "      <td>...</td>\n",
       "      <td>59.000000</td>\n",
       "      <td>106.500000</td>\n",
       "      <td>90.000000</td>\n",
       "      <td>49.000000</td>\n",
       "      <td>107.500000</td>\n",
       "      <td>87.500000</td>\n",
       "      <td>46.500000</td>\n",
       "      <td>78.000000</td>\n",
       "      <td>82.000000</td>\n",
       "      <td>61.000000</td>\n",
       "    </tr>\n",
       "    <tr>\n",
       "      <th>75%</th>\n",
       "      <td>152.750000</td>\n",
       "      <td>177.500000</td>\n",
       "      <td>168.750000</td>\n",
       "      <td>148.000000</td>\n",
       "      <td>137.750000</td>\n",
       "      <td>116.000000</td>\n",
       "      <td>155.000000</td>\n",
       "      <td>147.750000</td>\n",
       "      <td>132.750000</td>\n",
       "      <td>157.75000</td>\n",
       "      <td>...</td>\n",
       "      <td>115.000000</td>\n",
       "      <td>160.750000</td>\n",
       "      <td>148.500000</td>\n",
       "      <td>124.000000</td>\n",
       "      <td>156.000000</td>\n",
       "      <td>146.750000</td>\n",
       "      <td>126.000000</td>\n",
       "      <td>128.750000</td>\n",
       "      <td>131.000000</td>\n",
       "      <td>114.750000</td>\n",
       "    </tr>\n",
       "    <tr>\n",
       "      <th>max</th>\n",
       "      <td>234.000000</td>\n",
       "      <td>254.000000</td>\n",
       "      <td>251.000000</td>\n",
       "      <td>254.000000</td>\n",
       "      <td>254.000000</td>\n",
       "      <td>236.000000</td>\n",
       "      <td>236.000000</td>\n",
       "      <td>251.000000</td>\n",
       "      <td>245.000000</td>\n",
       "      <td>236.00000</td>\n",
       "      <td>...</td>\n",
       "      <td>252.000000</td>\n",
       "      <td>252.000000</td>\n",
       "      <td>254.000000</td>\n",
       "      <td>244.000000</td>\n",
       "      <td>253.000000</td>\n",
       "      <td>255.000000</td>\n",
       "      <td>244.000000</td>\n",
       "      <td>248.000000</td>\n",
       "      <td>255.000000</td>\n",
       "      <td>237.000000</td>\n",
       "    </tr>\n",
       "  </tbody>\n",
       "</table>\n",
       "<p>8 rows × 48 columns</p>\n",
       "</div>"
      ],
      "text/plain": [
       "               r1          g1          b1          r2          g2          b2  \\\n",
       "count  146.000000  146.000000  146.000000  146.000000  146.000000  146.000000   \n",
       "mean   100.869863  114.890411  111.301370  110.924658   97.719178   76.890411   \n",
       "std     61.989350   68.134767   70.806815   55.710593   63.823544   55.693635   \n",
       "min      3.000000   12.000000   12.000000    1.000000   11.000000    1.000000   \n",
       "25%     46.750000   55.000000   49.250000   68.000000   42.000000   33.250000   \n",
       "50%     85.500000   98.000000   92.500000   97.500000   89.000000   56.000000   \n",
       "75%    152.750000  177.500000  168.750000  148.000000  137.750000  116.000000   \n",
       "max    234.000000  254.000000  251.000000  254.000000  254.000000  236.000000   \n",
       "\n",
       "               r3          g3          b3         r4  ...         b13  \\\n",
       "count  146.000000  146.000000  146.000000  146.00000  ...  146.000000   \n",
       "mean   115.828767  104.410959   93.136986  105.60274  ...   84.821918   \n",
       "std     51.764768   65.049442   60.648635   60.96279  ...   64.720266   \n",
       "min     17.000000   10.000000   10.000000   13.00000  ...    2.000000   \n",
       "25%     77.000000   41.250000   41.250000   52.00000  ...   38.000000   \n",
       "50%    109.500000   99.000000   81.500000   91.00000  ...   59.000000   \n",
       "75%    155.000000  147.750000  132.750000  157.75000  ...  115.000000   \n",
       "max    236.000000  251.000000  245.000000  236.00000  ...  252.000000   \n",
       "\n",
       "              r14         g14         b14         r15         g15         b15  \\\n",
       "count  146.000000  146.000000  146.000000  146.000000  146.000000  146.000000   \n",
       "mean   117.431507  103.191781   78.671233  115.801370  100.589041   79.636986   \n",
       "std     56.809289   68.242399   61.612147   57.511333   68.738653   62.102238   \n",
       "min     17.000000   12.000000    2.000000   19.000000   12.000000    2.000000   \n",
       "25%     75.000000   42.250000   29.000000   74.250000   37.000000   30.000000   \n",
       "50%    106.500000   90.000000   49.000000  107.500000   87.500000   46.500000   \n",
       "75%    160.750000  148.500000  124.000000  156.000000  146.750000  126.000000   \n",
       "max    252.000000  254.000000  244.000000  253.000000  255.000000  244.000000   \n",
       "\n",
       "              r16         g16         b16  \n",
       "count  146.000000  146.000000  146.000000  \n",
       "mean    92.438356  100.787671   80.356164  \n",
       "std     59.284350   63.448291   59.436984  \n",
       "min     11.000000   18.000000    2.000000  \n",
       "25%     44.250000   50.000000   37.000000  \n",
       "50%     78.000000   82.000000   61.000000  \n",
       "75%    128.750000  131.000000  114.750000  \n",
       "max    248.000000  255.000000  237.000000  \n",
       "\n",
       "[8 rows x 48 columns]"
      ]
     },
     "execution_count": 10,
     "metadata": {},
     "output_type": "execute_result"
    }
   ],
   "source": [
    "X_train.describe()"
   ]
  },
  {
   "cell_type": "code",
   "execution_count": 11,
   "id": "b816e76a",
   "metadata": {},
   "outputs": [
    {
     "data": {
      "text/plain": [
       "0.8813559322033898"
      ]
     },
     "execution_count": 11,
     "metadata": {},
     "output_type": "execute_result"
    }
   ],
   "source": [
    "model_dec_tree = DecisionTreeClassifier(criterion=\"entropy\")\n",
    "model_dec_tree.fit(X_train, y_train)\n",
    "model_dec_tree.score(X_test, y_test)"
   ]
  },
  {
   "cell_type": "code",
   "execution_count": 12,
   "id": "801468be",
   "metadata": {},
   "outputs": [
    {
     "data": {
      "text/plain": [
       "array(['stop', 'pedestrian', 'pedestrian', 'pedestrian', 'pedestrian',\n",
       "       'stop', 'pedestrian', 'pedestrian', 'pedestrian', 'pedestrian',\n",
       "       'pedestrian', 'pedestrian', 'pedestrian', 'pedestrian',\n",
       "       'pedestrian', 'pedestrian', 'pedestrian', 'pedestrian',\n",
       "       'pedestrian', 'pedestrian', 'speed', 'speed', 'speed', 'speed',\n",
       "       'speed', 'speed', 'speed', 'stop', 'stop', 'speed', 'speed',\n",
       "       'speed', 'speed', 'speed', 'speed', 'speed', 'speed', 'speed',\n",
       "       'speed', 'speed', 'stop', 'stop', 'stop', 'stop', 'stop', 'speed',\n",
       "       'stop', 'stop', 'stop', 'stop', 'stop', 'stop', 'stop', 'stop',\n",
       "       'stop', 'speed', 'stop', 'stop', 'stop'], dtype=object)"
      ]
     },
     "execution_count": 12,
     "metadata": {},
     "output_type": "execute_result"
    }
   ],
   "source": [
    "y_predict_dec_tree = model_dec_tree.predict(X_test)\n",
    "y_predict_dec_tree"
   ]
  },
  {
   "cell_type": "code",
   "execution_count": 13,
   "id": "d120911f",
   "metadata": {},
   "outputs": [
    {
     "data": {
      "image/png": "[encoded data removed]",
      "text/plain": [
       "<Figure size 640x480 with 2 Axes>"
      ]
     },
     "metadata": {},
     "output_type": "display_data"
    }
   ],
   "source": [
    "ConfusionMatrixDisplay.from_predictions(y_test, y_predict_dec_tree)\n",
    "plt.show()"
   ]
  },
  {
   "cell_type": "code",
   "execution_count": 14,
   "id": "631606db",
   "metadata": {},
   "outputs": [
    {
     "data": {
      "text/plain": [
       "0.9661016949152542"
      ]
     },
     "execution_count": 14,
     "metadata": {},
     "output_type": "execute_result"
    }
   ],
   "source": [
    "model_KNN = KNeighborsClassifier()\n",
    "model_KNN.fit(X_train, y_train)\n",
    "model_KNN.score(X_test, y_test)"
   ]
  },
  {
   "cell_type": "code",
   "execution_count": 15,
   "id": "99e31dd3",
   "metadata": {},
   "outputs": [
    {
     "data": {
      "text/plain": [
       "array(['pedestrian', 'pedestrian', 'pedestrian', 'speed', 'pedestrian',\n",
       "       'pedestrian', 'pedestrian', 'pedestrian', 'pedestrian',\n",
       "       'pedestrian', 'pedestrian', 'pedestrian', 'pedestrian',\n",
       "       'pedestrian', 'pedestrian', 'pedestrian', 'pedestrian',\n",
       "       'pedestrian', 'pedestrian', 'speed', 'speed', 'speed', 'speed',\n",
       "       'speed', 'speed', 'speed', 'speed', 'stop', 'speed', 'speed',\n",
       "       'speed', 'speed', 'speed', 'speed', 'speed', 'speed', 'speed',\n",
       "       'speed', 'speed', 'speed', 'stop', 'stop', 'stop', 'stop', 'stop',\n",
       "       'stop', 'stop', 'stop', 'stop', 'stop', 'stop', 'stop', 'stop',\n",
       "       'stop', 'stop', 'stop', 'stop', 'stop', 'stop'], dtype=object)"
      ]
     },
     "execution_count": 15,
     "metadata": {},
     "output_type": "execute_result"
    }
   ],
   "source": [
    "y_predict_KNN = model_KNN.predict(X_test)\n",
    "y_predict_KNN"
   ]
  },
  {
   "cell_type": "code",
   "execution_count": 16,
   "id": "585ea0fa",
   "metadata": {},
   "outputs": [
    {
     "data": {
      "image/png": "[encoded data removed]",
      "text/plain": [
       "<Figure size 640x480 with 2 Axes>"
      ]
     },
     "metadata": {},
     "output_type": "display_data"
    }
   ],
   "source": [
    "ConfusionMatrixDisplay.from_predictions(y_test, y_predict_KNN)\n",
    "plt.show()"
   ]
  },
  {
   "cell_type": "code",
   "execution_count": null,
   "id": "eb916043",
   "metadata": {},
   "outputs": [],
   "source": []
  }
 ],
 "metadata": {
  "kernelspec": {
   "display_name": "Python 3 (ipykernel)",
   "language": "python",
   "name": "python3"
  },
  "language_info": {
   "codemirror_mode": {
    "name": "ipython",
    "version": 3
   },
   "file_extension": ".py",
   "mimetype": "text/x-python",
   "name": "python",
   "nbconvert_exporter": "python",
   "pygments_lexer": "ipython3",
   "version": "3.11.7"
  }
 },
 "nbformat": 4,
 "nbformat_minor": 5
}

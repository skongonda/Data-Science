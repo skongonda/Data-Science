{
 "cells": [
  {
   "cell_type": "code",
   "execution_count": 2,
   "id": "85b8460c-b600-4c09-9149-62bd210311b0",
   "metadata": {},
   "outputs": [],
   "source": [
    "import numpy as np\n",
    "import pandas as pd\n",
    "import seaborn as sns\n",
    "import matplotlib.pyplot as plt\n",
    "\n",
    "import warnings\n",
    "warnings.filterwarnings(\"ignore\")"
   ]
  },
  {
   "cell_type": "code",
   "execution_count": 3,
   "id": "526b587d-354e-4640-8955-c1ba83c6b50f",
   "metadata": {},
   "outputs": [
    {
     "data": {
      "text/plain": [
       "array([19,  2,  8,  9, 22, 22, 13, 17, 14, 15, 22])"
      ]
     },
     "execution_count": 3,
     "metadata": {},
     "output_type": "execute_result"
    }
   ],
   "source": [
    "a = np.array([19,2,8,9,22,22,13,17,14,15,22])\n",
    "a"
   ]
  },
  {
   "cell_type": "markdown",
   "id": "0b103970-2bf8-473d-9df0-aa1e1fd61fdd",
   "metadata": {},
   "source": [
    "##### find/extract the elements 19 and 22 in an numpy array"
   ]
  },
  {
   "cell_type": "code",
   "execution_count": 4,
   "id": "fa5a2ea9-664d-4bec-bd9f-45b94e378f4a",
   "metadata": {},
   "outputs": [
    {
     "data": {
      "text/plain": [
       "array([ True, False, False, False,  True,  True, False, False, False,\n",
       "       False,  True])"
      ]
     },
     "execution_count": 4,
     "metadata": {},
     "output_type": "execute_result"
    }
   ],
   "source": [
    "# Boolean array\n",
    "\n",
    "np.logical_or(a==19,a==22)"
   ]
  },
  {
   "cell_type": "code",
   "execution_count": 6,
   "id": "f4d49142-531f-4c60-8311-459a0c108947",
   "metadata": {},
   "outputs": [
    {
     "data": {
      "text/plain": [
       "array([19, 22, 22, 22])"
      ]
     },
     "execution_count": 6,
     "metadata": {},
     "output_type": "execute_result"
    }
   ],
   "source": [
    "# Passing boolean array gives the records with the True label\n",
    "\n",
    "a[np.logical_or(a==19,a==22)]"
   ]
  },
  {
   "cell_type": "markdown",
   "id": "ad56b61f-7117-40a4-bebd-2daa752fee13",
   "metadata": {},
   "source": [
    "##### another way of approach to find/extract the elements 19 and 22 in an numpy array"
   ]
  },
  {
   "cell_type": "code",
   "execution_count": 7,
   "id": "ed2ec508-c16a-4d4e-931c-c2a104536052",
   "metadata": {},
   "outputs": [
    {
     "data": {
      "text/plain": [
       "array([ True, False, False, False, False, False, False, False, False,\n",
       "       False, False])"
      ]
     },
     "execution_count": 7,
     "metadata": {},
     "output_type": "execute_result"
    }
   ],
   "source": [
    "a==19"
   ]
  },
  {
   "cell_type": "code",
   "execution_count": 8,
   "id": "47aa0701-5dc6-4a7e-96ad-dae5e0516004",
   "metadata": {},
   "outputs": [
    {
     "data": {
      "text/plain": [
       "array([False, False, False, False,  True,  True, False, False, False,\n",
       "       False,  True])"
      ]
     },
     "execution_count": 8,
     "metadata": {},
     "output_type": "execute_result"
    }
   ],
   "source": [
    "a==22"
   ]
  },
  {
   "cell_type": "code",
   "execution_count": 9,
   "id": "6dca7ab6-d2b0-430e-8f59-fc08f92d4e33",
   "metadata": {},
   "outputs": [
    {
     "data": {
      "text/plain": [
       "array([ True, False, False, False,  True,  True, False, False, False,\n",
       "       False,  True])"
      ]
     },
     "execution_count": 9,
     "metadata": {},
     "output_type": "execute_result"
    }
   ],
   "source": [
    "(a==19) | (a==22)"
   ]
  },
  {
   "cell_type": "code",
   "execution_count": 10,
   "id": "d88b75d0-1fc7-4b06-9fb0-718abb97257b",
   "metadata": {},
   "outputs": [
    {
     "data": {
      "text/plain": [
       "array([19, 22, 22, 22])"
      ]
     },
     "execution_count": 10,
     "metadata": {},
     "output_type": "execute_result"
    }
   ],
   "source": [
    "a[(a==19) | (a==22)]"
   ]
  },
  {
   "cell_type": "markdown",
   "id": "b9e0b162-1be9-4fbe-8f1c-3973f302c828",
   "metadata": {},
   "source": [
    "##### to find indices of the numbers 19 & 22 in an numpy array"
   ]
  },
  {
   "cell_type": "code",
   "execution_count": 15,
   "id": "c8b4ff35-dbf9-4ab2-a578-6f6d377977fa",
   "metadata": {},
   "outputs": [
    {
     "data": {
      "text/plain": [
       "(array([ 0,  4,  5, 10], dtype=int64),)"
      ]
     },
     "execution_count": 15,
     "metadata": {},
     "output_type": "execute_result"
    }
   ],
   "source": [
    "np.where((a==19) | (a==22))"
   ]
  },
  {
   "cell_type": "markdown",
   "id": "219e8932-af9a-4602-bc93-7ff4af91e1d7",
   "metadata": {},
   "source": [
    "##### another way to find indices of the numbers 19 & 22 in an numpy array"
   ]
  },
  {
   "cell_type": "code",
   "execution_count": 16,
   "id": "7c292ff0-6942-428d-a3df-570d6b47a052",
   "metadata": {},
   "outputs": [
    {
     "data": {
      "text/plain": [
       "(array([ 0,  4,  5, 10], dtype=int64),)"
      ]
     },
     "execution_count": 16,
     "metadata": {},
     "output_type": "execute_result"
    }
   ],
   "source": [
    "np.where(np.logical_or((a==19),(a==22)))"
   ]
  },
  {
   "cell_type": "markdown",
   "id": "1bc366a1-febf-47a4-8fb8-b6c729e38dce",
   "metadata": {},
   "source": [
    "### 2D array"
   ]
  },
  {
   "cell_type": "code",
   "execution_count": 36,
   "id": "b309ef5e-1428-4571-a98c-22f0e8dd30be",
   "metadata": {},
   "outputs": [
    {
     "data": {
      "text/plain": [
       "array([[17, 21, 16],\n",
       "       [19, 28, 16],\n",
       "       [35, 28, 28]])"
      ]
     },
     "execution_count": 36,
     "metadata": {},
     "output_type": "execute_result"
    }
   ],
   "source": [
    "np.random.seed(28)\n",
    "\n",
    "a = np.random.randint(16,36,(3,3))\n",
    "a"
   ]
  },
  {
   "cell_type": "markdown",
   "id": "846386d3-7785-479e-a7d5-b0252c9a3cac",
   "metadata": {},
   "source": [
    "##### find/extract the elements 17 and 28 in an numpy 2D array"
   ]
  },
  {
   "cell_type": "code",
   "execution_count": 38,
   "id": "b8c768a5-6291-4803-90ba-f0d084606d57",
   "metadata": {},
   "outputs": [
    {
     "data": {
      "text/plain": [
       "(array([[ True, False, False],\n",
       "        [False, False, False],\n",
       "        [False, False, False]]),\n",
       " array([[False, False, False],\n",
       "        [False,  True, False],\n",
       "        [False,  True,  True]]))"
      ]
     },
     "execution_count": 38,
     "metadata": {},
     "output_type": "execute_result"
    }
   ],
   "source": [
    "a==17, a==28"
   ]
  },
  {
   "cell_type": "code",
   "execution_count": 41,
   "id": "a7cf73d1-9cc4-487f-96fc-1f30069d9543",
   "metadata": {},
   "outputs": [
    {
     "data": {
      "text/plain": [
       "array([[ True, False, False],\n",
       "       [False,  True, False],\n",
       "       [False,  True,  True]])"
      ]
     },
     "execution_count": 41,
     "metadata": {},
     "output_type": "execute_result"
    }
   ],
   "source": [
    "(a==17) | (a==28)"
   ]
  },
  {
   "cell_type": "code",
   "execution_count": 40,
   "id": "054f7154-f879-4479-8481-5db3442a4348",
   "metadata": {},
   "outputs": [
    {
     "data": {
      "text/plain": [
       "array([17, 28, 28, 28])"
      ]
     },
     "execution_count": 40,
     "metadata": {},
     "output_type": "execute_result"
    }
   ],
   "source": [
    "a[(a==17) | (a==28)]"
   ]
  },
  {
   "cell_type": "markdown",
   "id": "fa497855-7829-4719-8fe9-0294082dc180",
   "metadata": {},
   "source": [
    "##### another way of approach to find/extract the elements 17 and 28 in an numpy 2D array"
   ]
  },
  {
   "cell_type": "code",
   "execution_count": 42,
   "id": "a25ff451-01c0-40cb-bb47-c6387dee7390",
   "metadata": {},
   "outputs": [
    {
     "data": {
      "text/plain": [
       "array([[ True, False, False],\n",
       "       [False,  True, False],\n",
       "       [False,  True,  True]])"
      ]
     },
     "execution_count": 42,
     "metadata": {},
     "output_type": "execute_result"
    }
   ],
   "source": [
    "np.logical_or(a==17,a==28)"
   ]
  },
  {
   "cell_type": "code",
   "execution_count": 43,
   "id": "0bb6f793-e75e-4873-a121-38a3857b71f4",
   "metadata": {},
   "outputs": [
    {
     "data": {
      "text/plain": [
       "array([17, 28, 28, 28])"
      ]
     },
     "execution_count": 43,
     "metadata": {},
     "output_type": "execute_result"
    }
   ],
   "source": [
    "a[np.logical_or(a==17,a==28)]"
   ]
  },
  {
   "cell_type": "markdown",
   "id": "ecd2c149-1f19-41dd-ba67-d7fb4fe6a9d0",
   "metadata": {},
   "source": [
    "##### to find indices of the numbers 17 & 28 in an numpy array"
   ]
  },
  {
   "cell_type": "code",
   "execution_count": 46,
   "id": "6ef68bbd-3eb4-4ea8-b736-078f08eb9d0d",
   "metadata": {},
   "outputs": [
    {
     "data": {
      "text/plain": [
       "(array([0, 1, 2, 2], dtype=int64), array([0, 1, 1, 2], dtype=int64))"
      ]
     },
     "execution_count": 46,
     "metadata": {},
     "output_type": "execute_result"
    }
   ],
   "source": [
    "np.where((a==17) | (a==28))"
   ]
  },
  {
   "cell_type": "markdown",
   "id": "da2fdc8b-6f50-453c-a7a1-a352d0ec6c6b",
   "metadata": {},
   "source": [
    "##### another way to find indices of the numbers 17 & 28 in an numpy array"
   ]
  },
  {
   "cell_type": "code",
   "execution_count": 45,
   "id": "1879bb05-72f9-4e93-aa3a-92ae75f157e0",
   "metadata": {},
   "outputs": [
    {
     "data": {
      "text/plain": [
       "(array([0, 1, 2, 2], dtype=int64), array([0, 1, 1, 2], dtype=int64))"
      ]
     },
     "execution_count": 45,
     "metadata": {},
     "output_type": "execute_result"
    }
   ],
   "source": [
    "np.where(np.logical_or((a==17),(a==28)))"
   ]
  },
  {
   "cell_type": "code",
   "execution_count": null,
   "id": "4cc118ba-910c-4e93-9ece-3aa0ebe904af",
   "metadata": {},
   "outputs": [],
   "source": []
  },
  {
   "cell_type": "code",
   "execution_count": null,
   "id": "2da241e7-b3de-4810-9fff-a36232788114",
   "metadata": {},
   "outputs": [],
   "source": []
  }
 ],
 "metadata": {
  "kernelspec": {
   "display_name": "Python 3 (ipykernel)",
   "language": "python",
   "name": "python3"
  },
  "language_info": {
   "codemirror_mode": {
    "name": "ipython",
    "version": 3
   },
   "file_extension": ".py",
   "mimetype": "text/x-python",
   "name": "python",
   "nbconvert_exporter": "python",
   "pygments_lexer": "ipython3",
   "version": "3.11.7"
  }
 },
 "nbformat": 4,
 "nbformat_minor": 5
}

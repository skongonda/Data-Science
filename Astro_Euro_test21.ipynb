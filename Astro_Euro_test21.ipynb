{
 "cells": [
  {
   "cell_type": "code",
   "execution_count": 2,
   "id": "0cb2a5d3-41bc-45fd-a814-770ac52fcced",
   "metadata": {},
   "outputs": [],
   "source": [
    "import pandas as pd\n",
    "import numpy as np\n",
    "from itertools import permutations\n",
    "from itertools import combinations\n",
    "\n",
    "import warnings\n",
    "warnings.filterwarnings(\"ignore\")"
   ]
  },
  {
   "cell_type": "code",
   "execution_count": 3,
   "id": "cbc545aa-a095-4b91-aead-b6a5fc5822f4",
   "metadata": {},
   "outputs": [],
   "source": [
    "numbers = [x for x in range(1,51)]"
   ]
  },
  {
   "cell_type": "code",
   "execution_count": 4,
   "id": "0d7b2f44-dd66-4c68-84e7-c09467bcdd50",
   "metadata": {},
   "outputs": [],
   "source": [
    "comb = combinations(numbers, r=5)"
   ]
  },
  {
   "cell_type": "code",
   "execution_count": 5,
   "id": "2a9dfc71-b0e9-4067-973c-e62273fdd37d",
   "metadata": {},
   "outputs": [],
   "source": [
    "df = pd.DataFrame(comb, columns=['1st Num','2nd Num','3rd Num','4th Num','5th Num'])"
   ]
  },
  {
   "cell_type": "code",
   "execution_count": 6,
   "id": "ed368524-18a3-4a80-a3b5-d4b5e3367491",
   "metadata": {},
   "outputs": [
    {
     "data": {
      "text/html": [
       "<div>\n",
       "<style scoped>\n",
       "    .dataframe tbody tr th:only-of-type {\n",
       "        vertical-align: middle;\n",
       "    }\n",
       "\n",
       "    .dataframe tbody tr th {\n",
       "        vertical-align: top;\n",
       "    }\n",
       "\n",
       "    .dataframe thead th {\n",
       "        text-align: right;\n",
       "    }\n",
       "</style>\n",
       "<table border=\"1\" class=\"dataframe\">\n",
       "  <thead>\n",
       "    <tr style=\"text-align: right;\">\n",
       "      <th></th>\n",
       "      <th>1st Num</th>\n",
       "      <th>2nd Num</th>\n",
       "      <th>3rd Num</th>\n",
       "      <th>4th Num</th>\n",
       "      <th>5th Num</th>\n",
       "    </tr>\n",
       "  </thead>\n",
       "  <tbody>\n",
       "    <tr>\n",
       "      <th>2118755</th>\n",
       "      <td>45</td>\n",
       "      <td>46</td>\n",
       "      <td>47</td>\n",
       "      <td>48</td>\n",
       "      <td>50</td>\n",
       "    </tr>\n",
       "    <tr>\n",
       "      <th>2118756</th>\n",
       "      <td>45</td>\n",
       "      <td>46</td>\n",
       "      <td>47</td>\n",
       "      <td>49</td>\n",
       "      <td>50</td>\n",
       "    </tr>\n",
       "    <tr>\n",
       "      <th>2118757</th>\n",
       "      <td>45</td>\n",
       "      <td>46</td>\n",
       "      <td>48</td>\n",
       "      <td>49</td>\n",
       "      <td>50</td>\n",
       "    </tr>\n",
       "    <tr>\n",
       "      <th>2118758</th>\n",
       "      <td>45</td>\n",
       "      <td>47</td>\n",
       "      <td>48</td>\n",
       "      <td>49</td>\n",
       "      <td>50</td>\n",
       "    </tr>\n",
       "    <tr>\n",
       "      <th>2118759</th>\n",
       "      <td>46</td>\n",
       "      <td>47</td>\n",
       "      <td>48</td>\n",
       "      <td>49</td>\n",
       "      <td>50</td>\n",
       "    </tr>\n",
       "  </tbody>\n",
       "</table>\n",
       "</div>"
      ],
      "text/plain": [
       "         1st Num  2nd Num  3rd Num  4th Num  5th Num\n",
       "2118755       45       46       47       48       50\n",
       "2118756       45       46       47       49       50\n",
       "2118757       45       46       48       49       50\n",
       "2118758       45       47       48       49       50\n",
       "2118759       46       47       48       49       50"
      ]
     },
     "execution_count": 6,
     "metadata": {},
     "output_type": "execute_result"
    }
   ],
   "source": [
    "df.tail()"
   ]
  },
  {
   "cell_type": "code",
   "execution_count": 7,
   "id": "3e7d6b63-faa2-4ce3-a9c5-a975b344d101",
   "metadata": {},
   "outputs": [],
   "source": [
    "df.to_hdf('E:/Python Programs/EuroAstro/total_combinations.h5',key='df',mode='w')"
   ]
  },
  {
   "cell_type": "code",
   "execution_count": 8,
   "id": "9bfd59d0-2245-469e-b980-c6aba5f6a65f",
   "metadata": {},
   "outputs": [],
   "source": [
    "df1 =  pd.read_csv(\"E:/Python Programs/EuroAstro/Previous_Combinations.csv\")"
   ]
  },
  {
   "cell_type": "code",
   "execution_count": 9,
   "id": "7e80dae0-7110-4c27-8841-6bf45d5781d5",
   "metadata": {},
   "outputs": [
    {
     "data": {
      "text/html": [
       "<div>\n",
       "<style scoped>\n",
       "    .dataframe tbody tr th:only-of-type {\n",
       "        vertical-align: middle;\n",
       "    }\n",
       "\n",
       "    .dataframe tbody tr th {\n",
       "        vertical-align: top;\n",
       "    }\n",
       "\n",
       "    .dataframe thead th {\n",
       "        text-align: right;\n",
       "    }\n",
       "</style>\n",
       "<table border=\"1\" class=\"dataframe\">\n",
       "  <thead>\n",
       "    <tr style=\"text-align: right;\">\n",
       "      <th></th>\n",
       "      <th>Previous Combinations</th>\n",
       "    </tr>\n",
       "  </thead>\n",
       "  <tbody>\n",
       "    <tr>\n",
       "      <th>1682</th>\n",
       "      <td>15 22 35 44 48</td>\n",
       "    </tr>\n",
       "    <tr>\n",
       "      <th>1683</th>\n",
       "      <td>4 8 10 16 34</td>\n",
       "    </tr>\n",
       "    <tr>\n",
       "      <th>1684</th>\n",
       "      <td>4 19 23 35 37</td>\n",
       "    </tr>\n",
       "    <tr>\n",
       "      <th>1685</th>\n",
       "      <td>9 25 28 37 38</td>\n",
       "    </tr>\n",
       "    <tr>\n",
       "      <th>1686</th>\n",
       "      <td>5 7 12 33 46</td>\n",
       "    </tr>\n",
       "  </tbody>\n",
       "</table>\n",
       "</div>"
      ],
      "text/plain": [
       "     Previous Combinations\n",
       "1682        15 22 35 44 48\n",
       "1683          4 8 10 16 34\n",
       "1684         4 19 23 35 37\n",
       "1685         9 25 28 37 38\n",
       "1686          5 7 12 33 46"
      ]
     },
     "execution_count": 9,
     "metadata": {},
     "output_type": "execute_result"
    }
   ],
   "source": [
    "df1.tail()"
   ]
  },
  {
   "cell_type": "code",
   "execution_count": 10,
   "id": "c2f95fb7-6d2d-4c2b-a653-995a75834d54",
   "metadata": {},
   "outputs": [],
   "source": [
    "df1.to_hdf('E:/Python Programs/EuroAstro/Previous_combinations.h5',key='df1',mode='w')"
   ]
  },
  {
   "cell_type": "code",
   "execution_count": null,
   "id": "f9664f1a-923f-4fbb-b9d6-069e170072b6",
   "metadata": {},
   "outputs": [],
   "source": []
  }
 ],
 "metadata": {
  "kernelspec": {
   "display_name": "Python 3 (ipykernel)",
   "language": "python",
   "name": "python3"
  },
  "language_info": {
   "codemirror_mode": {
    "name": "ipython",
    "version": 3
   },
   "file_extension": ".py",
   "mimetype": "text/x-python",
   "name": "python",
   "nbconvert_exporter": "python",
   "pygments_lexer": "ipython3",
   "version": "3.11.7"
  }
 },
 "nbformat": 4,
 "nbformat_minor": 5
}

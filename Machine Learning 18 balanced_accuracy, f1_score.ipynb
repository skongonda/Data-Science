{
 "cells": [
  {
   "cell_type": "code",
   "execution_count": 1,
   "id": "755e1fa6",
   "metadata": {},
   "outputs": [],
   "source": [
    "import pandas as pd\n",
    "import numpy as np\n",
    "import matplotlib.pyplot as plt\n",
    "import seaborn as sns\n",
    "from sklearn.metrics import (accuracy_score, confusion_matrix, ConfusionMatrixDisplay, balanced_accuracy_score, \n",
    "                             cohen_kappa_score, recall_score, precision_score, f1_score)\n",
    "from sklearn.dummy import DummyClassifier\n",
    "from sklearn.tree import DecisionTreeClassifier\n",
    "from sklearn.neighbors import KNeighborsClassifier, RadiusNeighborsClassifier\n",
    "from sklearn.linear_model import LinearRegression\n",
    "from sklearn.cluster import KMeans\n",
    "from sklearn.model_selection import train_test_split\n",
    "from warnings import filterwarnings\n",
    "filterwarnings('ignore')"
   ]
  },
  {
   "cell_type": "code",
   "execution_count": 2,
   "id": "d474f31b",
   "metadata": {},
   "outputs": [
    {
     "data": {
      "text/html": [
       "<div>\n",
       "<style scoped>\n",
       "    .dataframe tbody tr th:only-of-type {\n",
       "        vertical-align: middle;\n",
       "    }\n",
       "\n",
       "    .dataframe tbody tr th {\n",
       "        vertical-align: top;\n",
       "    }\n",
       "\n",
       "    .dataframe thead th {\n",
       "        text-align: right;\n",
       "    }\n",
       "</style>\n",
       "<table border=\"1\" class=\"dataframe\">\n",
       "  <thead>\n",
       "    <tr style=\"text-align: right;\">\n",
       "      <th></th>\n",
       "      <th>color</th>\n",
       "      <th>sphericity</th>\n",
       "      <th>weight</th>\n",
       "      <th>label</th>\n",
       "    </tr>\n",
       "  </thead>\n",
       "  <tbody>\n",
       "    <tr>\n",
       "      <th>0</th>\n",
       "      <td>Orange</td>\n",
       "      <td>0.947</td>\n",
       "      <td>120</td>\n",
       "      <td>Orange</td>\n",
       "    </tr>\n",
       "    <tr>\n",
       "      <th>1</th>\n",
       "      <td>Orange</td>\n",
       "      <td>0.917</td>\n",
       "      <td>125</td>\n",
       "      <td>Orange</td>\n",
       "    </tr>\n",
       "    <tr>\n",
       "      <th>2</th>\n",
       "      <td>Orange</td>\n",
       "      <td>0.923</td>\n",
       "      <td>110</td>\n",
       "      <td>Orange</td>\n",
       "    </tr>\n",
       "    <tr>\n",
       "      <th>3</th>\n",
       "      <td>Orange</td>\n",
       "      <td>0.916</td>\n",
       "      <td>123</td>\n",
       "      <td>Orange</td>\n",
       "    </tr>\n",
       "    <tr>\n",
       "      <th>4</th>\n",
       "      <td>Orange</td>\n",
       "      <td>0.943</td>\n",
       "      <td>124</td>\n",
       "      <td>Orange</td>\n",
       "    </tr>\n",
       "  </tbody>\n",
       "</table>\n",
       "</div>"
      ],
      "text/plain": [
       "    color  sphericity  weight   label\n",
       "0  Orange       0.947     120  Orange\n",
       "1  Orange       0.917     125  Orange\n",
       "2  Orange       0.923     110  Orange\n",
       "3  Orange       0.916     123  Orange\n",
       "4  Orange       0.943     124  Orange"
      ]
     },
     "execution_count": 2,
     "metadata": {},
     "output_type": "execute_result"
    }
   ],
   "source": [
    "fruits = pd.read_csv(\"E:/Python Programs/fruits.csv\")\n",
    "fruits.head()"
   ]
  },
  {
   "cell_type": "code",
   "execution_count": 3,
   "id": "b9df78b3",
   "metadata": {},
   "outputs": [],
   "source": [
    "X = fruits[[\"sphericity\", \"weight\"]]\n",
    "y = fruits['label']"
   ]
  },
  {
   "cell_type": "code",
   "execution_count": 4,
   "id": "69f96f88",
   "metadata": {},
   "outputs": [
    {
     "data": {
      "text/plain": [
       "((45, 2), (15,))"
      ]
     },
     "execution_count": 4,
     "metadata": {},
     "output_type": "execute_result"
    }
   ],
   "source": [
    "X_train, X_test, y_train, y_test = train_test_split(X,y,random_state=10)\n",
    "X_train.shape, y_test.shape"
   ]
  },
  {
   "cell_type": "code",
   "execution_count": 5,
   "id": "fcd1987f",
   "metadata": {},
   "outputs": [
    {
     "data": {
      "text/plain": [
       "0.8"
      ]
     },
     "execution_count": 5,
     "metadata": {},
     "output_type": "execute_result"
    }
   ],
   "source": [
    "model = KNeighborsClassifier(n_neighbors=5, weights='uniform')\n",
    "model.fit(X_train, y_train)\n",
    "model.score(X_test, y_test)"
   ]
  },
  {
   "cell_type": "code",
   "execution_count": 6,
   "id": "3d58a420",
   "metadata": {},
   "outputs": [
    {
     "data": {
      "text/plain": [
       "array(['Apple', 'Orange', 'Apple', 'Apple', 'Apple', 'Orange', 'Apple',\n",
       "       'Orange', 'Apple', 'Orange', 'Apple', 'Apple', 'Orange', 'Apple',\n",
       "       'Orange'], dtype=object)"
      ]
     },
     "execution_count": 6,
     "metadata": {},
     "output_type": "execute_result"
    }
   ],
   "source": [
    "y_predict1 = model.predict(X_test)\n",
    "y_predict1"
   ]
  },
  {
   "cell_type": "code",
   "execution_count": 7,
   "id": "0ef39406",
   "metadata": {},
   "outputs": [
    {
     "data": {
      "text/plain": [
       "array([[1. , 0. ],\n",
       "       [0. , 1. ],\n",
       "       [1. , 0. ],\n",
       "       [0.6, 0.4],\n",
       "       [0.8, 0.2],\n",
       "       [0. , 1. ],\n",
       "       [1. , 0. ],\n",
       "       [0. , 1. ],\n",
       "       [0.8, 0.2],\n",
       "       [0. , 1. ],\n",
       "       [1. , 0. ],\n",
       "       [1. , 0. ],\n",
       "       [0. , 1. ],\n",
       "       [1. , 0. ],\n",
       "       [0. , 1. ]])"
      ]
     },
     "execution_count": 7,
     "metadata": {},
     "output_type": "execute_result"
    }
   ],
   "source": [
    "prob = model.predict_proba(X_test)\n",
    "prob"
   ]
  },
  {
   "cell_type": "code",
   "execution_count": 8,
   "id": "fe831648",
   "metadata": {},
   "outputs": [
    {
     "data": {
      "text/plain": [
       "array(['Apple', 'Orange', 'Apple', 'Apple', 'Apple', 'Orange', 'Apple',\n",
       "       'Orange', 'Apple', 'Orange', 'Apple', 'Apple', 'Orange', 'Apple',\n",
       "       'Orange'], dtype='<U6')"
      ]
     },
     "execution_count": 8,
     "metadata": {},
     "output_type": "execute_result"
    }
   ],
   "source": [
    "y_predict2 = np.array([\"Apple\" if p>=0.5 else \"Orange\" for p in prob[:,0]])\n",
    "y_predict2"
   ]
  },
  {
   "cell_type": "code",
   "execution_count": 9,
   "id": "a9a65448",
   "metadata": {},
   "outputs": [
    {
     "data": {
      "image/png": "[encoded data removed]",
      "text/plain": [
       "<Figure size 640x480 with 2 Axes>"
      ]
     },
     "metadata": {},
     "output_type": "display_data"
    }
   ],
   "source": [
    "# Actual Predicted Samples\n",
    "\n",
    "ConfusionMatrixDisplay.from_predictions(y_test, y_predict1)\n",
    "plt.show()"
   ]
  },
  {
   "cell_type": "code",
   "execution_count": 10,
   "id": "46056d90",
   "metadata": {},
   "outputs": [
    {
     "name": "stdout",
     "output_type": "stream",
     "text": [
      "accuracy score:  0.8\n",
      "balanced accuracy score:  0.8333333333333333\n",
      "kappa score:  0.6153846153846154\n",
      "precision:  0.6666666666666666\n",
      "recall:  1.0\n",
      "f1 score:  0.8\n"
     ]
    }
   ],
   "source": [
    "print(\"accuracy score: \", accuracy_score(y_test, y_predict2))\n",
    "print(\"balanced accuracy score: \", balanced_accuracy_score(y_test, y_predict2))\n",
    "print(\"kappa score: \", cohen_kappa_score(y_test, y_predict2))\n",
    "print(\"precision: \", precision_score(y_test, y_predict2, pos_label=\"Apple\"))\n",
    "print(\"recall: \", recall_score(y_test, y_predict2, pos_label=\"Apple\"))\n",
    "print(\"f1 score: \", f1_score(y_test, y_predict2, pos_label=\"Apple\"))"
   ]
  },
  {
   "cell_type": "code",
   "execution_count": 11,
   "id": "74a18f8e",
   "metadata": {},
   "outputs": [
    {
     "data": {
      "text/plain": [
       "array(['Orange', 'Orange', 'Orange', 'Orange', 'Orange', 'Orange',\n",
       "       'Orange', 'Orange', 'Orange', 'Orange', 'Orange', 'Orange',\n",
       "       'Orange', 'Orange', 'Orange'], dtype='<U6')"
      ]
     },
     "execution_count": 11,
     "metadata": {},
     "output_type": "execute_result"
    }
   ],
   "source": [
    "y_predict3 = np.array([\"Apple\" if p>1 else \"Orange\" for p in prob[:,0]])\n",
    "y_predict3"
   ]
  },
  {
   "cell_type": "code",
   "execution_count": 12,
   "id": "6db484c1",
   "metadata": {},
   "outputs": [
    {
     "data": {
      "image/png": "[encoded data removed]",
      "text/plain": [
       "<Figure size 640x480 with 2 Axes>"
      ]
     },
     "metadata": {},
     "output_type": "display_data"
    }
   ],
   "source": [
    "# All fruits are predicted as Oranges\n",
    "\n",
    "ConfusionMatrixDisplay.from_predictions(y_test,y_predict3)\n",
    "plt.show()"
   ]
  },
  {
   "cell_type": "code",
   "execution_count": 13,
   "id": "c58f0a65",
   "metadata": {},
   "outputs": [
    {
     "name": "stdout",
     "output_type": "stream",
     "text": [
      "accuracy score:  0.6\n",
      "balanced accuracy score:  0.5\n",
      "kappa score:  0.0\n",
      "precision:  0.0\n",
      "recall:  0.0\n",
      "f1 score:  0.0\n"
     ]
    }
   ],
   "source": [
    "print(\"accuracy score: \", accuracy_score(y_test, y_predict3))\n",
    "print(\"balanced accuracy score: \", balanced_accuracy_score(y_test, y_predict3))\n",
    "print(\"kappa score: \", cohen_kappa_score(y_test, y_predict3))\n",
    "print(\"precision: \", precision_score(y_test, y_predict3, pos_label=\"Apple\"))\n",
    "print(\"recall: \", recall_score(y_test, y_predict3, pos_label=\"Apple\"))\n",
    "print(\"f1 score: \", f1_score(y_test, y_predict3, pos_label=\"Apple\"))"
   ]
  },
  {
   "cell_type": "code",
   "execution_count": 14,
   "id": "8f076bb8",
   "metadata": {},
   "outputs": [
    {
     "data": {
      "text/plain": [
       "array(['Apple', 'Apple', 'Apple', 'Apple', 'Apple', 'Apple', 'Apple',\n",
       "       'Apple', 'Apple', 'Apple', 'Apple', 'Apple', 'Apple', 'Apple',\n",
       "       'Apple'], dtype='<U5')"
      ]
     },
     "execution_count": 14,
     "metadata": {},
     "output_type": "execute_result"
    }
   ],
   "source": [
    "y_predict4 = np.array([\"Apple\" if p>=0 else \"Orange\" for p in prob[:,0]])\n",
    "y_predict4"
   ]
  },
  {
   "cell_type": "code",
   "execution_count": 15,
   "id": "af3d7c76",
   "metadata": {},
   "outputs": [
    {
     "data": {
      "image/png": "[encoded data removed]",
      "text/plain": [
       "<Figure size 640x480 with 2 Axes>"
      ]
     },
     "metadata": {},
     "output_type": "display_data"
    }
   ],
   "source": [
    "# All fruits are predicted as Apples\n",
    "\n",
    "ConfusionMatrixDisplay.from_predictions(y_test,y_predict4)\n",
    "plt.show()"
   ]
  },
  {
   "cell_type": "code",
   "execution_count": 16,
   "id": "e7168173",
   "metadata": {},
   "outputs": [
    {
     "name": "stdout",
     "output_type": "stream",
     "text": [
      "accuracy score:  0.4\n",
      "balanced accuracy score:  0.5\n",
      "kappa score:  0.0\n",
      "precision:  0.4\n",
      "recall:  1.0\n",
      "f1 score:  0.5714285714285715\n"
     ]
    }
   ],
   "source": [
    "print(\"accuracy score: \", accuracy_score(y_test, y_predict4))\n",
    "print(\"balanced accuracy score: \", balanced_accuracy_score(y_test, y_predict4))\n",
    "print(\"kappa score: \", cohen_kappa_score(y_test, y_predict4))\n",
    "print(\"precision: \", precision_score(y_test, y_predict4, pos_label=\"Apple\"))\n",
    "print(\"recall: \", recall_score(y_test, y_predict4, pos_label=\"Apple\"))\n",
    "print(\"f1 score: \", f1_score(y_test, y_predict4, pos_label=\"Apple\"))"
   ]
  },
  {
   "cell_type": "code",
   "execution_count": 17,
   "id": "09d5ad00",
   "metadata": {},
   "outputs": [
    {
     "data": {
      "text/plain": [
       "array([[1. , 0. ],\n",
       "       [0. , 1. ],\n",
       "       [1. , 0. ],\n",
       "       [0.6, 0.4],\n",
       "       [0.8, 0.2],\n",
       "       [0. , 1. ],\n",
       "       [1. , 0. ],\n",
       "       [0. , 1. ],\n",
       "       [0.8, 0.2],\n",
       "       [0. , 1. ],\n",
       "       [1. , 0. ],\n",
       "       [1. , 0. ],\n",
       "       [0. , 1. ],\n",
       "       [1. , 0. ],\n",
       "       [0. , 1. ]])"
      ]
     },
     "execution_count": 17,
     "metadata": {},
     "output_type": "execute_result"
    }
   ],
   "source": [
    "prob"
   ]
  },
  {
   "cell_type": "code",
   "execution_count": 18,
   "id": "66dd5279",
   "metadata": {},
   "outputs": [
    {
     "data": {
      "text/html": [
       "<div>\n",
       "<style scoped>\n",
       "    .dataframe tbody tr th:only-of-type {\n",
       "        vertical-align: middle;\n",
       "    }\n",
       "\n",
       "    .dataframe tbody tr th {\n",
       "        vertical-align: top;\n",
       "    }\n",
       "\n",
       "    .dataframe thead th {\n",
       "        text-align: right;\n",
       "    }\n",
       "</style>\n",
       "<table border=\"1\" class=\"dataframe\">\n",
       "  <thead>\n",
       "    <tr style=\"text-align: right;\">\n",
       "      <th></th>\n",
       "      <th>actual label</th>\n",
       "      <th>predicted label</th>\n",
       "      <th>prob apple</th>\n",
       "      <th>prob orange</th>\n",
       "    </tr>\n",
       "  </thead>\n",
       "  <tbody>\n",
       "    <tr>\n",
       "      <th>31</th>\n",
       "      <td>Apple</td>\n",
       "      <td>Apple</td>\n",
       "      <td>1.0</td>\n",
       "      <td>0.0</td>\n",
       "    </tr>\n",
       "    <tr>\n",
       "      <th>3</th>\n",
       "      <td>Orange</td>\n",
       "      <td>Orange</td>\n",
       "      <td>0.0</td>\n",
       "      <td>1.0</td>\n",
       "    </tr>\n",
       "    <tr>\n",
       "      <th>38</th>\n",
       "      <td>Apple</td>\n",
       "      <td>Apple</td>\n",
       "      <td>1.0</td>\n",
       "      <td>0.0</td>\n",
       "    </tr>\n",
       "    <tr>\n",
       "      <th>27</th>\n",
       "      <td>Orange</td>\n",
       "      <td>Apple</td>\n",
       "      <td>0.6</td>\n",
       "      <td>0.4</td>\n",
       "    </tr>\n",
       "    <tr>\n",
       "      <th>21</th>\n",
       "      <td>Orange</td>\n",
       "      <td>Apple</td>\n",
       "      <td>0.8</td>\n",
       "      <td>0.2</td>\n",
       "    </tr>\n",
       "    <tr>\n",
       "      <th>17</th>\n",
       "      <td>Orange</td>\n",
       "      <td>Orange</td>\n",
       "      <td>0.0</td>\n",
       "      <td>1.0</td>\n",
       "    </tr>\n",
       "    <tr>\n",
       "      <th>46</th>\n",
       "      <td>Apple</td>\n",
       "      <td>Apple</td>\n",
       "      <td>1.0</td>\n",
       "      <td>0.0</td>\n",
       "    </tr>\n",
       "    <tr>\n",
       "      <th>2</th>\n",
       "      <td>Orange</td>\n",
       "      <td>Orange</td>\n",
       "      <td>0.0</td>\n",
       "      <td>1.0</td>\n",
       "    </tr>\n",
       "    <tr>\n",
       "      <th>23</th>\n",
       "      <td>Orange</td>\n",
       "      <td>Apple</td>\n",
       "      <td>0.8</td>\n",
       "      <td>0.2</td>\n",
       "    </tr>\n",
       "    <tr>\n",
       "      <th>26</th>\n",
       "      <td>Orange</td>\n",
       "      <td>Orange</td>\n",
       "      <td>0.0</td>\n",
       "      <td>1.0</td>\n",
       "    </tr>\n",
       "    <tr>\n",
       "      <th>35</th>\n",
       "      <td>Apple</td>\n",
       "      <td>Apple</td>\n",
       "      <td>1.0</td>\n",
       "      <td>0.0</td>\n",
       "    </tr>\n",
       "    <tr>\n",
       "      <th>39</th>\n",
       "      <td>Apple</td>\n",
       "      <td>Apple</td>\n",
       "      <td>1.0</td>\n",
       "      <td>0.0</td>\n",
       "    </tr>\n",
       "    <tr>\n",
       "      <th>20</th>\n",
       "      <td>Orange</td>\n",
       "      <td>Orange</td>\n",
       "      <td>0.0</td>\n",
       "      <td>1.0</td>\n",
       "    </tr>\n",
       "    <tr>\n",
       "      <th>37</th>\n",
       "      <td>Apple</td>\n",
       "      <td>Apple</td>\n",
       "      <td>1.0</td>\n",
       "      <td>0.0</td>\n",
       "    </tr>\n",
       "    <tr>\n",
       "      <th>7</th>\n",
       "      <td>Orange</td>\n",
       "      <td>Orange</td>\n",
       "      <td>0.0</td>\n",
       "      <td>1.0</td>\n",
       "    </tr>\n",
       "  </tbody>\n",
       "</table>\n",
       "</div>"
      ],
      "text/plain": [
       "   actual label predicted label  prob apple  prob orange\n",
       "31        Apple           Apple         1.0          0.0\n",
       "3        Orange          Orange         0.0          1.0\n",
       "38        Apple           Apple         1.0          0.0\n",
       "27       Orange           Apple         0.6          0.4\n",
       "21       Orange           Apple         0.8          0.2\n",
       "17       Orange          Orange         0.0          1.0\n",
       "46        Apple           Apple         1.0          0.0\n",
       "2        Orange          Orange         0.0          1.0\n",
       "23       Orange           Apple         0.8          0.2\n",
       "26       Orange          Orange         0.0          1.0\n",
       "35        Apple           Apple         1.0          0.0\n",
       "39        Apple           Apple         1.0          0.0\n",
       "20       Orange          Orange         0.0          1.0\n",
       "37        Apple           Apple         1.0          0.0\n",
       "7        Orange          Orange         0.0          1.0"
      ]
     },
     "execution_count": 18,
     "metadata": {},
     "output_type": "execute_result"
    }
   ],
   "source": [
    "results = pd.DataFrame({\"actual label\": y_test, \"predicted label\": model.predict(X_test),\n",
    "                       \"prob apple\": prob[:,0], \"prob orange\": prob[:,1]})\n",
    "results"
   ]
  },
  {
   "cell_type": "code",
   "execution_count": 19,
   "id": "8fc1ee4e",
   "metadata": {},
   "outputs": [
    {
     "data": {
      "text/html": [
       "<div>\n",
       "<style scoped>\n",
       "    .dataframe tbody tr th:only-of-type {\n",
       "        vertical-align: middle;\n",
       "    }\n",
       "\n",
       "    .dataframe tbody tr th {\n",
       "        vertical-align: top;\n",
       "    }\n",
       "\n",
       "    .dataframe thead th {\n",
       "        text-align: right;\n",
       "    }\n",
       "</style>\n",
       "<table border=\"1\" class=\"dataframe\">\n",
       "  <thead>\n",
       "    <tr style=\"text-align: right;\">\n",
       "      <th></th>\n",
       "      <th>actual label</th>\n",
       "      <th>predicted label</th>\n",
       "      <th>prob apple</th>\n",
       "      <th>prob orange</th>\n",
       "    </tr>\n",
       "  </thead>\n",
       "  <tbody>\n",
       "    <tr>\n",
       "      <th>27</th>\n",
       "      <td>Orange</td>\n",
       "      <td>Apple</td>\n",
       "      <td>0.6</td>\n",
       "      <td>0.4</td>\n",
       "    </tr>\n",
       "    <tr>\n",
       "      <th>21</th>\n",
       "      <td>Orange</td>\n",
       "      <td>Apple</td>\n",
       "      <td>0.8</td>\n",
       "      <td>0.2</td>\n",
       "    </tr>\n",
       "    <tr>\n",
       "      <th>23</th>\n",
       "      <td>Orange</td>\n",
       "      <td>Apple</td>\n",
       "      <td>0.8</td>\n",
       "      <td>0.2</td>\n",
       "    </tr>\n",
       "  </tbody>\n",
       "</table>\n",
       "</div>"
      ],
      "text/plain": [
       "   actual label predicted label  prob apple  prob orange\n",
       "27       Orange           Apple         0.6          0.4\n",
       "21       Orange           Apple         0.8          0.2\n",
       "23       Orange           Apple         0.8          0.2"
      ]
     },
     "execution_count": 19,
     "metadata": {},
     "output_type": "execute_result"
    }
   ],
   "source": [
    "results[results[\"actual label\"] != results[\"predicted label\"]]"
   ]
  },
  {
   "cell_type": "code",
   "execution_count": 20,
   "id": "9399cf7c",
   "metadata": {},
   "outputs": [
    {
     "data": {
      "text/plain": [
       "array(['Apple', 'Orange', 'Apple', 'Orange', 'Orange', 'Orange', 'Apple',\n",
       "       'Orange', 'Orange', 'Orange', 'Apple', 'Apple', 'Orange', 'Apple',\n",
       "       'Orange'], dtype='<U6')"
      ]
     },
     "execution_count": 20,
     "metadata": {},
     "output_type": "execute_result"
    }
   ],
   "source": [
    "y_predict5 = np.array([\"Apple\" if p>0.8 else \"Orange\" for p in prob[:,0]])\n",
    "y_predict5"
   ]
  },
  {
   "cell_type": "code",
   "execution_count": 21,
   "id": "8d64cd43",
   "metadata": {},
   "outputs": [
    {
     "data": {
      "image/png": "[encoded data removed]",
      "text/plain": [
       "<Figure size 640x480 with 2 Axes>"
      ]
     },
     "metadata": {},
     "output_type": "display_data"
    }
   ],
   "source": [
    "# Apples predicted as Apples and Oranges predicted as Oranges after tuning our results\n",
    "\n",
    "ConfusionMatrixDisplay.from_predictions(y_test,y_predict5)\n",
    "plt.show()"
   ]
  },
  {
   "cell_type": "code",
   "execution_count": 22,
   "id": "32299fcf",
   "metadata": {},
   "outputs": [
    {
     "name": "stdout",
     "output_type": "stream",
     "text": [
      "accuracy score:  1.0\n",
      "balanced accuracy score:  1.0\n",
      "kappa score:  1.0\n",
      "precision:  1.0\n",
      "recall:  1.0\n",
      "f1 score:  1.0\n"
     ]
    }
   ],
   "source": [
    "print(\"accuracy score: \", accuracy_score(y_test, y_predict5))\n",
    "print(\"balanced accuracy score: \", balanced_accuracy_score(y_test, y_predict5))\n",
    "print(\"kappa score: \", cohen_kappa_score(y_test, y_predict5))\n",
    "print(\"precision: \", precision_score(y_test, y_predict5, pos_label=\"Apple\"))\n",
    "print(\"recall: \", recall_score(y_test, y_predict5, pos_label=\"Apple\"))\n",
    "print(\"f1 score: \", f1_score(y_test, y_predict5, pos_label=\"Apple\"))"
   ]
  },
  {
   "cell_type": "code",
   "execution_count": 23,
   "id": "2407258f",
   "metadata": {},
   "outputs": [
    {
     "data": {
      "text/plain": [
       "array(['Orange', 'Apple', 'Orange', 'Apple', 'Apple', 'Apple', 'Orange',\n",
       "       'Apple', 'Apple', 'Apple', 'Orange', 'Orange', 'Apple', 'Orange',\n",
       "       'Apple'], dtype='<U6')"
      ]
     },
     "execution_count": 23,
     "metadata": {},
     "output_type": "execute_result"
    }
   ],
   "source": [
    "y_predict6 = np.array([\"Apple\" if p<=0.8 else \"Orange\" for p in prob[:,0]])\n",
    "y_predict6"
   ]
  },
  {
   "cell_type": "code",
   "execution_count": 24,
   "id": "fe7e7a84",
   "metadata": {},
   "outputs": [
    {
     "data": {
      "image/png": "[encoded data removed]",
      "text/plain": [
       "<Figure size 640x480 with 2 Axes>"
      ]
     },
     "metadata": {},
     "output_type": "display_data"
    }
   ],
   "source": [
    "# Apples predicted as Oranges and Oranges predicted as Apples\n",
    "\n",
    "ConfusionMatrixDisplay.from_predictions(y_test,y_predict6)\n",
    "plt.show()"
   ]
  },
  {
   "cell_type": "code",
   "execution_count": 25,
   "id": "7f194ce4",
   "metadata": {},
   "outputs": [
    {
     "name": "stdout",
     "output_type": "stream",
     "text": [
      "accuracy score:  0.0\n",
      "balanced accuracy score:  0.0\n",
      "kappa score:  -0.9230769230769229\n",
      "precision:  0.0\n",
      "recall:  0.0\n",
      "f1 score:  0.0\n"
     ]
    }
   ],
   "source": [
    "print(\"accuracy score: \", accuracy_score(y_test, y_predict6))\n",
    "print(\"balanced accuracy score: \", balanced_accuracy_score(y_test, y_predict6))\n",
    "print(\"kappa score: \", cohen_kappa_score(y_test, y_predict6))\n",
    "print(\"precision: \", precision_score(y_test, y_predict6, pos_label=\"Apple\"))\n",
    "print(\"recall: \", recall_score(y_test, y_predict6, pos_label=\"Apple\"))\n",
    "print(\"f1 score: \", f1_score(y_test, y_predict6, pos_label=\"Apple\"))"
   ]
  }
 ],
 "metadata": {
  "kernelspec": {
   "display_name": "Python 3 (ipykernel)",
   "language": "python",
   "name": "python3"
  },
  "language_info": {
   "codemirror_mode": {
    "name": "ipython",
    "version": 3
   },
   "file_extension": ".py",
   "mimetype": "text/x-python",
   "name": "python",
   "nbconvert_exporter": "python",
   "pygments_lexer": "ipython3",
   "version": "3.11.7"
  }
 },
 "nbformat": 4,
 "nbformat_minor": 5
}

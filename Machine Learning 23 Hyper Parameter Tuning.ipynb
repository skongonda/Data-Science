{
 "cells": [
  {
   "cell_type": "code",
   "execution_count": 1,
   "id": "86d4a847",
   "metadata": {},
   "outputs": [],
   "source": [
    "import numpy as np\n",
    "import pandas as pd\n",
    "import matplotlib.pyplot as plt\n",
    "from datetime import datetime\n",
    "from sklearn.model_selection import train_test_split, KFold, GridSearchCV, RandomizedSearchCV\n",
    "from sklearn.metrics import accuracy_score, ConfusionMatrixDisplay\n",
    "from sklearn.tree import DecisionTreeClassifier, plot_tree\n",
    "from sklearn.neighbors import KNeighborsClassifier"
   ]
  },
  {
   "cell_type": "code",
   "execution_count": 2,
   "id": "340f5ad5",
   "metadata": {},
   "outputs": [
    {
     "data": {
      "text/plain": [
       "Index(['id', 'diagnosis', 'radius_mean', 'texture_mean', 'perimeter_mean',\n",
       "       'area_mean', 'smoothness_mean', 'compactness_mean', 'concavity_mean',\n",
       "       'concave points_mean', 'symmetry_mean', 'fractal_dimension_mean',\n",
       "       'radius_se', 'texture_se', 'perimeter_se', 'area_se', 'smoothness_se',\n",
       "       'compactness_se', 'concavity_se', 'concave points_se', 'symmetry_se',\n",
       "       'fractal_dimension_se', 'radius_worst', 'texture_worst',\n",
       "       'perimeter_worst', 'area_worst', 'smoothness_worst',\n",
       "       'compactness_worst', 'concavity_worst', 'concave points_worst',\n",
       "       'symmetry_worst', 'fractal_dimension_worst'],\n",
       "      dtype='object')"
      ]
     },
     "execution_count": 2,
     "metadata": {},
     "output_type": "execute_result"
    }
   ],
   "source": [
    "wisc = pd.read_csv(\"E:/Python Programs/wisc_bc_data.csv\")\n",
    "wisc.columns"
   ]
  },
  {
   "cell_type": "code",
   "execution_count": 3,
   "id": "facd3b80",
   "metadata": {},
   "outputs": [],
   "source": [
    "X_1 = wisc[[\"radius_mean\", \"concave points_mean\", \"radius_worst\", \"concave points_worst\"]]\n",
    "y_1 = wisc[\"diagnosis\"]"
   ]
  },
  {
   "cell_type": "code",
   "execution_count": 4,
   "id": "59592166",
   "metadata": {},
   "outputs": [],
   "source": [
    "X_1_train, X_1_test, y_1_train, y_1_test = train_test_split(X_1,y_1, test_size=125, random_state=10)"
   ]
  },
  {
   "cell_type": "code",
   "execution_count": 5,
   "id": "8748ace1",
   "metadata": {},
   "outputs": [
    {
     "data": {
      "text/plain": [
       "(1.0, 0.944)"
      ]
     },
     "execution_count": 5,
     "metadata": {},
     "output_type": "execute_result"
    }
   ],
   "source": [
    "model = DecisionTreeClassifier(criterion='entropy')\n",
    "model.fit(X_1_train, y_1_train)\n",
    "model.score(X_1_train, y_1_train), model.score(X_1_test, y_1_test)"
   ]
  },
  {
   "cell_type": "code",
   "execution_count": 6,
   "id": "27f32a94",
   "metadata": {},
   "outputs": [],
   "source": [
    "X = wisc[[\"texture_mean\"]]\n",
    "y = wisc[\"diagnosis\"]"
   ]
  },
  {
   "cell_type": "code",
   "execution_count": 7,
   "id": "bd3af87d",
   "metadata": {},
   "outputs": [],
   "source": [
    "X_train, X_test, y_train, y_test = train_test_split(X,y, test_size=125, random_state=10)"
   ]
  },
  {
   "cell_type": "code",
   "execution_count": 8,
   "id": "05f9a8af",
   "metadata": {},
   "outputs": [
    {
     "data": {
      "text/plain": [
       "(0.9572072072072072, 0.584)"
      ]
     },
     "execution_count": 8,
     "metadata": {},
     "output_type": "execute_result"
    }
   ],
   "source": [
    "# this is overfitting model because if you observe, the training accuracy is ≈95.7%, but the testing accuracy\n",
    "# is ≈58%\n",
    "\n",
    "model = DecisionTreeClassifier(criterion='entropy')\n",
    "model.fit(X_train, y_train)\n",
    "model.score(X_train, y_train), model.score(X_test, y_test)"
   ]
  },
  {
   "cell_type": "code",
   "execution_count": 9,
   "id": "e2b9dc46",
   "metadata": {},
   "outputs": [
    {
     "data": {
      "text/plain": [
       "(53, 163)"
      ]
     },
     "execution_count": 9,
     "metadata": {},
     "output_type": "execute_result"
    }
   ],
   "source": [
    "model.get_depth(), model.get_n_leaves()"
   ]
  },
  {
   "cell_type": "code",
   "execution_count": 10,
   "id": "e6e80f11",
   "metadata": {},
   "outputs": [
    {
     "data": {
      "text/plain": [
       "(0.8108108108108109, 0.672)"
      ]
     },
     "execution_count": 10,
     "metadata": {},
     "output_type": "execute_result"
    }
   ],
   "source": [
    "# Restricticting max-depth to 10 like a trial & error.\n",
    "\n",
    "model = DecisionTreeClassifier(criterion='entropy', max_depth=10)\n",
    "model.fit(X_train, y_train)\n",
    "model.score(X_train, y_train), model.score(X_test, y_test)"
   ]
  },
  {
   "cell_type": "code",
   "execution_count": 11,
   "id": "f946e898",
   "metadata": {},
   "outputs": [
    {
     "name": "stdout",
     "output_type": "stream",
     "text": [
      "[0.7162162162162162, 0.740990990990991, 0.7432432432432432, 0.7567567567567568, 0.7657657657657657, 0.7747747747747747, 0.7882882882882883, 0.7927927927927928, 0.795045045045045, 0.8108108108108109, 0.8198198198198198, 0.8445945945945946, 0.8536036036036037, 0.8693693693693694]\n",
      "[0.68, 0.712, 0.704, 0.696, 0.696, 0.696, 0.664, 0.664, 0.672, 0.672, 0.624, 0.64, 0.64, 0.672]\n"
     ]
    }
   ],
   "source": [
    "accuracy_train = []\n",
    "accuracy_test = []\n",
    "\n",
    "for i in range(1,15):\n",
    "    model = DecisionTreeClassifier(criterion='entropy', max_depth=i)\n",
    "    model.fit(X_train, y_train)\n",
    "    accuracy_train.append(model.score(X_train, y_train))\n",
    "    accuracy_test.append(model.score(X_test, y_test))\n",
    "\n",
    "print(accuracy_train)\n",
    "print(accuracy_test)\n",
    "    "
   ]
  },
  {
   "cell_type": "code",
   "execution_count": 12,
   "id": "d1457b62",
   "metadata": {},
   "outputs": [
    {
     "data": {
      "image/png": "[encoded data removed]",
      "text/plain": [
       "<Figure size 640x480 with 1 Axes>"
      ]
     },
     "metadata": {},
     "output_type": "display_data"
    }
   ],
   "source": [
    "plt.plot(range(1,15), accuracy_train, c=\"red\", label=\"Train Accuracy\")\n",
    "plt.plot(range(1,15), accuracy_test, c=\"blue\", label=\"Test Accuracy\")\n",
    "plt.legend()\n",
    "plt.show()"
   ]
  },
  {
   "cell_type": "code",
   "execution_count": 13,
   "id": "3686deac",
   "metadata": {},
   "outputs": [
    {
     "data": {
      "text/plain": [
       "(0.740990990990991, 0.712)"
      ]
     },
     "execution_count": 13,
     "metadata": {},
     "output_type": "execute_result"
    }
   ],
   "source": [
    "# We can see that testing accuracy looks better at x=2 from above plot, therefore we set max-depth=2 like a trial & error.\n",
    "\n",
    "model = DecisionTreeClassifier(criterion='entropy', max_depth=2)\n",
    "model.fit(X_train, y_train)\n",
    "model.score(X_train, y_train), model.score(X_test, y_test)"
   ]
  },
  {
   "cell_type": "code",
   "execution_count": 14,
   "id": "f3d15922",
   "metadata": {},
   "outputs": [
    {
     "name": "stdout",
     "output_type": "stream",
     "text": [
      "(426, 1) (143, 1)\n",
      "(427, 1) (142, 1)\n",
      "(427, 1) (142, 1)\n",
      "(427, 1) (142, 1)\n",
      "(426, 1) (143, 1)\n",
      "(427, 1) (142, 1)\n",
      "(427, 1) (142, 1)\n",
      "(427, 1) (142, 1)\n",
      "(426, 1) (143, 1)\n",
      "(427, 1) (142, 1)\n",
      "(427, 1) (142, 1)\n",
      "(427, 1) (142, 1)\n",
      "(426, 1) (143, 1)\n",
      "(427, 1) (142, 1)\n",
      "(427, 1) (142, 1)\n",
      "(427, 1) (142, 1)\n",
      "(426, 1) (143, 1)\n",
      "(427, 1) (142, 1)\n",
      "(427, 1) (142, 1)\n",
      "(427, 1) (142, 1)\n",
      "(426, 1) (143, 1)\n",
      "(427, 1) (142, 1)\n",
      "(427, 1) (142, 1)\n",
      "(427, 1) (142, 1)\n",
      "(426, 1) (143, 1)\n",
      "(427, 1) (142, 1)\n",
      "(427, 1) (142, 1)\n",
      "(427, 1) (142, 1)\n",
      "(426, 1) (143, 1)\n",
      "(427, 1) (142, 1)\n",
      "(427, 1) (142, 1)\n",
      "(427, 1) (142, 1)\n",
      "(426, 1) (143, 1)\n",
      "(427, 1) (142, 1)\n",
      "(427, 1) (142, 1)\n",
      "(427, 1) (142, 1)\n",
      "(426, 1) (143, 1)\n",
      "(427, 1) (142, 1)\n",
      "(427, 1) (142, 1)\n",
      "(427, 1) (142, 1)\n",
      "(426, 1) (143, 1)\n",
      "(427, 1) (142, 1)\n",
      "(427, 1) (142, 1)\n",
      "(427, 1) (142, 1)\n",
      "(426, 1) (143, 1)\n",
      "(427, 1) (142, 1)\n",
      "(427, 1) (142, 1)\n",
      "(427, 1) (142, 1)\n",
      "(426, 1) (143, 1)\n",
      "(427, 1) (142, 1)\n",
      "(427, 1) (142, 1)\n",
      "(427, 1) (142, 1)\n",
      "(426, 1) (143, 1)\n",
      "(427, 1) (142, 1)\n",
      "(427, 1) (142, 1)\n",
      "(427, 1) (142, 1)\n",
      "[0.7287550439247508, 0.7346187782432299, 0.7395039636727468, 0.7447293047904915, 0.750911204934525, 0.7575706974084947, 0.7637503396648431, 0.770215383833053, 0.7764154752436904, 0.7829567569350531, 0.7891077213404621, 0.7953561533133225, 0.8017250201503262, 0.8080627598534219]\n",
      "[0.7011966906333105, 0.7091315374766078, 0.700630355559933, 0.7025478922485965, 0.7005392494829115, 0.6977371220328967, 0.6942318245135147, 0.6885357160445189, 0.6858646048786894, 0.6814439082044716, 0.6767054968079296, 0.6736340244262781, 0.6703607876413945, 0.6665535169056296]\n"
     ]
    }
   ],
   "source": [
    "# Checking accuracy scores with KFold Cross Validation technique.\n",
    "\n",
    "accuracy_train = []\n",
    "accuracy_test = []\n",
    "temp_train = []\n",
    "temp_test = []\n",
    "\n",
    "kf = KFold(n_splits=4)\n",
    "\n",
    "for i in range(1,15):\n",
    "    model = DecisionTreeClassifier(criterion='entropy', max_depth=i)\n",
    "    for ix_train, ix_test in kf.split(X):\n",
    "        X_train, X_test, y_train, y_test = X.iloc[ix_train], X.iloc[ix_test], y.iloc[ix_train], y.iloc[ix_test]\n",
    "        model.fit(X_train, y_train)\n",
    "        temp_train.append(model.score(X_train, y_train))\n",
    "        temp_test.append(model.score(X_test, y_test))\n",
    "        print(X_train.shape, X_test.shape)\n",
    "    accuracy_train.append(np.mean(temp_train))\n",
    "    accuracy_test.append(np.mean(temp_test))\n",
    "\n",
    "print(accuracy_train)\n",
    "print(accuracy_test)"
   ]
  },
  {
   "cell_type": "code",
   "execution_count": 15,
   "id": "d3ce4343",
   "metadata": {},
   "outputs": [
    {
     "data": {
      "text/plain": [
       "14"
      ]
     },
     "execution_count": 15,
     "metadata": {},
     "output_type": "execute_result"
    }
   ],
   "source": [
    "len(accuracy_train)"
   ]
  },
  {
   "cell_type": "code",
   "execution_count": 16,
   "id": "ec896e4e",
   "metadata": {},
   "outputs": [
    {
     "data": {
      "text/plain": [
       "56"
      ]
     },
     "execution_count": 16,
     "metadata": {},
     "output_type": "execute_result"
    }
   ],
   "source": [
    "len(temp_train)"
   ]
  },
  {
   "cell_type": "code",
   "execution_count": 17,
   "id": "293994ba",
   "metadata": {},
   "outputs": [
    {
     "data": {
      "image/png": "[encoded data removed]",
      "text/plain": [
       "<Figure size 640x480 with 1 Axes>"
      ]
     },
     "metadata": {},
     "output_type": "display_data"
    }
   ],
   "source": [
    "plt.plot(range(1,15), accuracy_train, c=\"red\", label=\"Train Accuracy\")\n",
    "plt.plot(range(1,15), accuracy_test, c=\"blue\", label=\"Test Accuracy\")\n",
    "plt.legend()\n",
    "plt.show()"
   ]
  },
  {
   "cell_type": "code",
   "execution_count": 18,
   "id": "745bf112",
   "metadata": {},
   "outputs": [
    {
     "data": {
      "text/html": [
       "<style>#sk-container-id-1 {color: black;background-color: white;}#sk-container-id-1 pre{padding: 0;}#sk-container-id-1 div.sk-toggleable {background-color: white;}#sk-container-id-1 label.sk-toggleable__label {cursor: pointer;display: block;width: 100%;margin-bottom: 0;padding: 0.3em;box-sizing: border-box;text-align: center;}#sk-container-id-1 label.sk-toggleable__label-arrow:before {content: \"▸\";float: left;margin-right: 0.25em;color: #696969;}#sk-container-id-1 label.sk-toggleable__label-arrow:hover:before {color: black;}#sk-container-id-1 div.sk-estimator:hover label.sk-toggleable__label-arrow:before {color: black;}#sk-container-id-1 div.sk-toggleable__content {max-height: 0;max-width: 0;overflow: hidden;text-align: left;background-color: #f0f8ff;}#sk-container-id-1 div.sk-toggleable__content pre {margin: 0.2em;color: black;border-radius: 0.25em;background-color: #f0f8ff;}#sk-container-id-1 input.sk-toggleable__control:checked~div.sk-toggleable__content {max-height: 200px;max-width: 100%;overflow: auto;}#sk-container-id-1 input.sk-toggleable__control:checked~label.sk-toggleable__label-arrow:before {content: \"▾\";}#sk-container-id-1 div.sk-estimator input.sk-toggleable__control:checked~label.sk-toggleable__label {background-color: #d4ebff;}#sk-container-id-1 div.sk-label input.sk-toggleable__control:checked~label.sk-toggleable__label {background-color: #d4ebff;}#sk-container-id-1 input.sk-hidden--visually {border: 0;clip: rect(1px 1px 1px 1px);clip: rect(1px, 1px, 1px, 1px);height: 1px;margin: -1px;overflow: hidden;padding: 0;position: absolute;width: 1px;}#sk-container-id-1 div.sk-estimator {font-family: monospace;background-color: #f0f8ff;border: 1px dotted black;border-radius: 0.25em;box-sizing: border-box;margin-bottom: 0.5em;}#sk-container-id-1 div.sk-estimator:hover {background-color: #d4ebff;}#sk-container-id-1 div.sk-parallel-item::after {content: \"\";width: 100%;border-bottom: 1px solid gray;flex-grow: 1;}#sk-container-id-1 div.sk-label:hover label.sk-toggleable__label {background-color: #d4ebff;}#sk-container-id-1 div.sk-serial::before {content: \"\";position: absolute;border-left: 1px solid gray;box-sizing: border-box;top: 0;bottom: 0;left: 50%;z-index: 0;}#sk-container-id-1 div.sk-serial {display: flex;flex-direction: column;align-items: center;background-color: white;padding-right: 0.2em;padding-left: 0.2em;position: relative;}#sk-container-id-1 div.sk-item {position: relative;z-index: 1;}#sk-container-id-1 div.sk-parallel {display: flex;align-items: stretch;justify-content: center;background-color: white;position: relative;}#sk-container-id-1 div.sk-item::before, #sk-container-id-1 div.sk-parallel-item::before {content: \"\";position: absolute;border-left: 1px solid gray;box-sizing: border-box;top: 0;bottom: 0;left: 50%;z-index: -1;}#sk-container-id-1 div.sk-parallel-item {display: flex;flex-direction: column;z-index: 1;position: relative;background-color: white;}#sk-container-id-1 div.sk-parallel-item:first-child::after {align-self: flex-end;width: 50%;}#sk-container-id-1 div.sk-parallel-item:last-child::after {align-self: flex-start;width: 50%;}#sk-container-id-1 div.sk-parallel-item:only-child::after {width: 0;}#sk-container-id-1 div.sk-dashed-wrapped {border: 1px dashed gray;margin: 0 0.4em 0.5em 0.4em;box-sizing: border-box;padding-bottom: 0.4em;background-color: white;}#sk-container-id-1 div.sk-label label {font-family: monospace;font-weight: bold;display: inline-block;line-height: 1.2em;}#sk-container-id-1 div.sk-label-container {text-align: center;}#sk-container-id-1 div.sk-container {/* jupyter's `normalize.less` sets `[hidden] { display: none; }` but bootstrap.min.css set `[hidden] { display: none !important; }` so we also need the `!important` here to be able to override the default hidden behavior on the sphinx rendered scikit-learn.org. See: https://github.com/scikit-learn/scikit-learn/issues/21755 */display: inline-block !important;position: relative;}#sk-container-id-1 div.sk-text-repr-fallback {display: none;}</style><div id=\"sk-container-id-1\" class=\"sk-top-container\"><div class=\"sk-text-repr-fallback\"><pre>GridSearchCV(cv=4, estimator=DecisionTreeClassifier(criterion=&#x27;entropy&#x27;),\n",
       "             param_grid={&#x27;max_depth&#x27;: range(1, 15),\n",
       "                         &#x27;max_leaf_nodes&#x27;: range(2, 30)})</pre><b>In a Jupyter environment, please rerun this cell to show the HTML representation or trust the notebook. <br />On GitHub, the HTML representation is unable to render, please try loading this page with nbviewer.org.</b></div><div class=\"sk-container\" hidden><div class=\"sk-item sk-dashed-wrapped\"><div class=\"sk-label-container\"><div class=\"sk-label sk-toggleable\"><input class=\"sk-toggleable__control sk-hidden--visually\" id=\"sk-estimator-id-1\" type=\"checkbox\" ><label for=\"sk-estimator-id-1\" class=\"sk-toggleable__label sk-toggleable__label-arrow\">GridSearchCV</label><div class=\"sk-toggleable__content\"><pre>GridSearchCV(cv=4, estimator=DecisionTreeClassifier(criterion=&#x27;entropy&#x27;),\n",
       "             param_grid={&#x27;max_depth&#x27;: range(1, 15),\n",
       "                         &#x27;max_leaf_nodes&#x27;: range(2, 30)})</pre></div></div></div><div class=\"sk-parallel\"><div class=\"sk-parallel-item\"><div class=\"sk-item\"><div class=\"sk-label-container\"><div class=\"sk-label sk-toggleable\"><input class=\"sk-toggleable__control sk-hidden--visually\" id=\"sk-estimator-id-2\" type=\"checkbox\" ><label for=\"sk-estimator-id-2\" class=\"sk-toggleable__label sk-toggleable__label-arrow\">estimator: DecisionTreeClassifier</label><div class=\"sk-toggleable__content\"><pre>DecisionTreeClassifier(criterion=&#x27;entropy&#x27;)</pre></div></div></div><div class=\"sk-serial\"><div class=\"sk-item\"><div class=\"sk-estimator sk-toggleable\"><input class=\"sk-toggleable__control sk-hidden--visually\" id=\"sk-estimator-id-3\" type=\"checkbox\" ><label for=\"sk-estimator-id-3\" class=\"sk-toggleable__label sk-toggleable__label-arrow\">DecisionTreeClassifier</label><div class=\"sk-toggleable__content\"><pre>DecisionTreeClassifier(criterion=&#x27;entropy&#x27;)</pre></div></div></div></div></div></div></div></div></div></div>"
      ],
      "text/plain": [
       "GridSearchCV(cv=4, estimator=DecisionTreeClassifier(criterion='entropy'),\n",
       "             param_grid={'max_depth': range(1, 15),\n",
       "                         'max_leaf_nodes': range(2, 30)})"
      ]
     },
     "execution_count": 18,
     "metadata": {},
     "output_type": "execute_result"
    }
   ],
   "source": [
    "# Instead of manually doing all those calaculations that we did above to check the best parameters,\n",
    "# we can simply use this function called \"GridSearchCV\".\n",
    "\n",
    "model_tune = GridSearchCV(estimator=DecisionTreeClassifier(criterion='entropy'),\n",
    "                         param_grid={\"max_depth\":range(1,15), \"max_leaf_nodes\":range(2,30)}, \n",
    "                         cv=4)\n",
    "model_tune.fit(X, y)"
   ]
  },
  {
   "cell_type": "code",
   "execution_count": 19,
   "id": "753c2004",
   "metadata": {},
   "outputs": [
    {
     "data": {
      "text/plain": [
       "392"
      ]
     },
     "execution_count": 19,
     "metadata": {},
     "output_type": "execute_result"
    }
   ],
   "source": [
    "# max_depth (14) * max_leaf_nodes (28)\n",
    "# 14*28 = 392 combinations model has to check and do the tuning to give the best parameters.\n",
    "\n",
    "14*28"
   ]
  },
  {
   "cell_type": "code",
   "execution_count": 20,
   "id": "2070bd79",
   "metadata": {},
   "outputs": [
    {
     "data": {
      "text/plain": [
       "{'max_depth': 1, 'max_leaf_nodes': 2}"
      ]
     },
     "execution_count": 20,
     "metadata": {},
     "output_type": "execute_result"
    }
   ],
   "source": [
    "model_tune.best_params_"
   ]
  },
  {
   "cell_type": "code",
   "execution_count": 21,
   "id": "8cb2bce4",
   "metadata": {},
   "outputs": [
    {
     "data": {
      "text/plain": [
       "dict"
      ]
     },
     "execution_count": 21,
     "metadata": {},
     "output_type": "execute_result"
    }
   ],
   "source": [
    "results = model_tune.cv_results_\n",
    "type(results)"
   ]
  },
  {
   "cell_type": "code",
   "execution_count": 22,
   "id": "50d0220d",
   "metadata": {},
   "outputs": [
    {
     "data": {
      "text/plain": [
       "dict_keys(['mean_fit_time', 'std_fit_time', 'mean_score_time', 'std_score_time', 'param_max_depth', 'param_max_leaf_nodes', 'params', 'split0_test_score', 'split1_test_score', 'split2_test_score', 'split3_test_score', 'mean_test_score', 'std_test_score', 'rank_test_score'])"
      ]
     },
     "execution_count": 22,
     "metadata": {},
     "output_type": "execute_result"
    }
   ],
   "source": [
    "results.keys()"
   ]
  },
  {
   "cell_type": "code",
   "execution_count": 23,
   "id": "ed210ff5",
   "metadata": {
    "scrolled": true
   },
   "outputs": [
    {
     "data": {
      "text/plain": [
       "array([0.71529351, 0.71529351, 0.71529351, 0.71529351, 0.71529351,\n",
       "       0.71529351, 0.71529351, 0.71529351, 0.71529351, 0.71529351,\n",
       "       0.71529351, 0.71529351, 0.71529351, 0.71529351, 0.71529351,\n",
       "       0.71529351, 0.71529351, 0.71529351, 0.71529351, 0.71529351,\n",
       "       0.71529351, 0.71529351, 0.71529351, 0.71529351, 0.71529351,\n",
       "       0.71529351, 0.71529351, 0.71529351, 0.71529351, 0.71529351,\n",
       "       0.71521964, 0.71521964, 0.71521964, 0.71521964, 0.71521964,\n",
       "       0.71521964, 0.71521964, 0.71521964, 0.71521964, 0.71521964,\n",
       "       0.71521964, 0.71521964, 0.71521964, 0.71521964, 0.71521964,\n",
       "       0.71521964, 0.71521964, 0.71521964, 0.71521964, 0.71521964,\n",
       "       0.71521964, 0.71521964, 0.71521964, 0.71521964, 0.71521964,\n",
       "       0.71521964, 0.71529351, 0.71529351, 0.70473013, 0.71521964,\n",
       "       0.71347139, 0.71172314, 0.70996257, 0.70996257, 0.70996257,\n",
       "       0.70996257, 0.70996257, 0.70996257, 0.70996257, 0.70996257,\n",
       "       0.70996257, 0.70996257, 0.70996257, 0.70996257, 0.70996257,\n",
       "       0.70996257, 0.70996257, 0.70996257, 0.70996257, 0.70996257,\n",
       "       0.70996257, 0.70996257, 0.70996257, 0.70996257, 0.71529351,\n",
       "       0.71529351, 0.70473013, 0.71521964, 0.71347139, 0.70996257,\n",
       "       0.70820201, 0.70470551, 0.70470551, 0.70470551, 0.70470551,\n",
       "       0.70822663, 0.70646607, 0.70646607, 0.70646607, 0.70646607,\n",
       "       0.70646607, 0.70646607, 0.70646607, 0.70646607, 0.70646607,\n",
       "       0.70646607, 0.70646607, 0.70646607, 0.70646607, 0.70646607,\n",
       "       0.70646607, 0.70646607, 0.71529351, 0.71529351, 0.70473013,\n",
       "       0.71521964, 0.71347139, 0.70996257, 0.70820201, 0.70294494,\n",
       "       0.69944844, 0.69944844, 0.69768788, 0.69593962, 0.69593962,\n",
       "       0.69770019, 0.69420368, 0.69772481, 0.69420368, 0.69420368,\n",
       "       0.69420368, 0.69244312, 0.69244312, 0.69244312, 0.68892199,\n",
       "       0.68892199, 0.68892199, 0.68892199, 0.68892199, 0.68892199,\n",
       "       0.71529351, 0.71529351, 0.70473013, 0.71521964, 0.71347139,\n",
       "       0.70996257, 0.70820201, 0.70470551, 0.69416675, 0.69416675,\n",
       "       0.69416675, 0.69240619, 0.68889737, 0.68889737, 0.68889737,\n",
       "       0.69417906, 0.69068256, 0.69068256, 0.68892199, 0.69244312,\n",
       "       0.69068256, 0.69068256, 0.69244312, 0.69244312, 0.69244312,\n",
       "       0.69244312, 0.69420368, 0.69244312, 0.71529351, 0.71529351,\n",
       "       0.70473013, 0.71521964, 0.71347139, 0.70996257, 0.70820201,\n",
       "       0.70470551, 0.69416675, 0.69416675, 0.69416675, 0.69416675,\n",
       "       0.68889737, 0.68889737, 0.68889737, 0.69065793, 0.68889737,\n",
       "       0.69065793, 0.68716143, 0.68716143, 0.69068256, 0.68366493,\n",
       "       0.68366493, 0.68190436, 0.68190436, 0.68190436, 0.68366493,\n",
       "       0.68542549, 0.71529351, 0.71529351, 0.70473013, 0.71521964,\n",
       "       0.71347139, 0.70996257, 0.70820201, 0.70470551, 0.69416675,\n",
       "       0.69416675, 0.69416675, 0.69416675, 0.69065793, 0.68889737,\n",
       "       0.68889737, 0.69065793, 0.68889737, 0.68889737, 0.69065793,\n",
       "       0.68716143, 0.69068256, 0.68892199, 0.68892199, 0.68542549,\n",
       "       0.68190436, 0.68190436, 0.68190436, 0.6801438 , 0.71529351,\n",
       "       0.71529351, 0.70473013, 0.71521964, 0.71347139, 0.70996257,\n",
       "       0.70820201, 0.70470551, 0.69416675, 0.69416675, 0.69416675,\n",
       "       0.69240619, 0.68889737, 0.68889737, 0.68713681, 0.68889737,\n",
       "       0.68713681, 0.68537624, 0.68537624, 0.6836403 , 0.68716143,\n",
       "       0.68540087, 0.68540087, 0.68540087, 0.68190436, 0.68190436,\n",
       "       0.67838324, 0.67838324, 0.71529351, 0.71529351, 0.70473013,\n",
       "       0.71521964, 0.71347139, 0.70996257, 0.70820201, 0.70470551,\n",
       "       0.69416675, 0.69416675, 0.69416675, 0.69240619, 0.68889737,\n",
       "       0.68889737, 0.68889737, 0.68889737, 0.68713681, 0.68537624,\n",
       "       0.68537624, 0.6836403 , 0.68716143, 0.68540087, 0.68540087,\n",
       "       0.68540087, 0.68190436, 0.68190436, 0.68190436, 0.67838324,\n",
       "       0.71529351, 0.71529351, 0.70473013, 0.71521964, 0.71347139,\n",
       "       0.70996257, 0.70820201, 0.70470551, 0.69416675, 0.69416675,\n",
       "       0.69416675, 0.69240619, 0.68889737, 0.68889737, 0.68889737,\n",
       "       0.68889737, 0.68713681, 0.68537624, 0.68537624, 0.6836403 ,\n",
       "       0.68716143, 0.68540087, 0.68540087, 0.68716143, 0.68366493,\n",
       "       0.68366493, 0.68366493, 0.68366493, 0.71529351, 0.71529351,\n",
       "       0.70473013, 0.71521964, 0.71347139, 0.70996257, 0.70820201,\n",
       "       0.70470551, 0.69416675, 0.69416675, 0.69416675, 0.69240619,\n",
       "       0.68889737, 0.68889737, 0.68889737, 0.68889737, 0.68713681,\n",
       "       0.68537624, 0.68537624, 0.6836403 , 0.68716143, 0.68540087,\n",
       "       0.68540087, 0.68716143, 0.68366493, 0.68366493, 0.68366493,\n",
       "       0.68366493, 0.71529351, 0.71529351, 0.70473013, 0.71521964,\n",
       "       0.71347139, 0.70996257, 0.70820201, 0.70470551, 0.69416675,\n",
       "       0.69416675, 0.69416675, 0.69240619, 0.68889737, 0.68889737,\n",
       "       0.68889737, 0.68889737, 0.68713681, 0.68537624, 0.68537624,\n",
       "       0.6836403 , 0.68716143, 0.68540087, 0.68540087, 0.68716143,\n",
       "       0.68366493, 0.67838324, 0.67838324, 0.67838324, 0.71529351,\n",
       "       0.71529351, 0.70473013, 0.71521964, 0.71347139, 0.70996257,\n",
       "       0.70820201, 0.70470551, 0.69416675, 0.69416675, 0.69416675,\n",
       "       0.69240619, 0.68889737, 0.68889737, 0.68889737, 0.68889737,\n",
       "       0.68713681, 0.68537624, 0.68537624, 0.6836403 , 0.68716143,\n",
       "       0.68540087, 0.68540087, 0.68716143, 0.68366493, 0.67838324,\n",
       "       0.67838324, 0.67838324])"
      ]
     },
     "execution_count": 23,
     "metadata": {},
     "output_type": "execute_result"
    }
   ],
   "source": [
    "results[\"mean_test_score\"]"
   ]
  },
  {
   "cell_type": "code",
   "execution_count": 24,
   "id": "6b8439e8",
   "metadata": {},
   "outputs": [
    {
     "data": {
      "text/plain": [
       "392"
      ]
     },
     "execution_count": 24,
     "metadata": {},
     "output_type": "execute_result"
    }
   ],
   "source": [
    "len(results[\"mean_test_score\"])"
   ]
  },
  {
   "cell_type": "code",
   "execution_count": 25,
   "id": "b8f164ee",
   "metadata": {},
   "outputs": [
    {
     "data": {
      "text/html": [
       "<style>#sk-container-id-2 {color: black;background-color: white;}#sk-container-id-2 pre{padding: 0;}#sk-container-id-2 div.sk-toggleable {background-color: white;}#sk-container-id-2 label.sk-toggleable__label {cursor: pointer;display: block;width: 100%;margin-bottom: 0;padding: 0.3em;box-sizing: border-box;text-align: center;}#sk-container-id-2 label.sk-toggleable__label-arrow:before {content: \"▸\";float: left;margin-right: 0.25em;color: #696969;}#sk-container-id-2 label.sk-toggleable__label-arrow:hover:before {color: black;}#sk-container-id-2 div.sk-estimator:hover label.sk-toggleable__label-arrow:before {color: black;}#sk-container-id-2 div.sk-toggleable__content {max-height: 0;max-width: 0;overflow: hidden;text-align: left;background-color: #f0f8ff;}#sk-container-id-2 div.sk-toggleable__content pre {margin: 0.2em;color: black;border-radius: 0.25em;background-color: #f0f8ff;}#sk-container-id-2 input.sk-toggleable__control:checked~div.sk-toggleable__content {max-height: 200px;max-width: 100%;overflow: auto;}#sk-container-id-2 input.sk-toggleable__control:checked~label.sk-toggleable__label-arrow:before {content: \"▾\";}#sk-container-id-2 div.sk-estimator input.sk-toggleable__control:checked~label.sk-toggleable__label {background-color: #d4ebff;}#sk-container-id-2 div.sk-label input.sk-toggleable__control:checked~label.sk-toggleable__label {background-color: #d4ebff;}#sk-container-id-2 input.sk-hidden--visually {border: 0;clip: rect(1px 1px 1px 1px);clip: rect(1px, 1px, 1px, 1px);height: 1px;margin: -1px;overflow: hidden;padding: 0;position: absolute;width: 1px;}#sk-container-id-2 div.sk-estimator {font-family: monospace;background-color: #f0f8ff;border: 1px dotted black;border-radius: 0.25em;box-sizing: border-box;margin-bottom: 0.5em;}#sk-container-id-2 div.sk-estimator:hover {background-color: #d4ebff;}#sk-container-id-2 div.sk-parallel-item::after {content: \"\";width: 100%;border-bottom: 1px solid gray;flex-grow: 1;}#sk-container-id-2 div.sk-label:hover label.sk-toggleable__label {background-color: #d4ebff;}#sk-container-id-2 div.sk-serial::before {content: \"\";position: absolute;border-left: 1px solid gray;box-sizing: border-box;top: 0;bottom: 0;left: 50%;z-index: 0;}#sk-container-id-2 div.sk-serial {display: flex;flex-direction: column;align-items: center;background-color: white;padding-right: 0.2em;padding-left: 0.2em;position: relative;}#sk-container-id-2 div.sk-item {position: relative;z-index: 1;}#sk-container-id-2 div.sk-parallel {display: flex;align-items: stretch;justify-content: center;background-color: white;position: relative;}#sk-container-id-2 div.sk-item::before, #sk-container-id-2 div.sk-parallel-item::before {content: \"\";position: absolute;border-left: 1px solid gray;box-sizing: border-box;top: 0;bottom: 0;left: 50%;z-index: -1;}#sk-container-id-2 div.sk-parallel-item {display: flex;flex-direction: column;z-index: 1;position: relative;background-color: white;}#sk-container-id-2 div.sk-parallel-item:first-child::after {align-self: flex-end;width: 50%;}#sk-container-id-2 div.sk-parallel-item:last-child::after {align-self: flex-start;width: 50%;}#sk-container-id-2 div.sk-parallel-item:only-child::after {width: 0;}#sk-container-id-2 div.sk-dashed-wrapped {border: 1px dashed gray;margin: 0 0.4em 0.5em 0.4em;box-sizing: border-box;padding-bottom: 0.4em;background-color: white;}#sk-container-id-2 div.sk-label label {font-family: monospace;font-weight: bold;display: inline-block;line-height: 1.2em;}#sk-container-id-2 div.sk-label-container {text-align: center;}#sk-container-id-2 div.sk-container {/* jupyter's `normalize.less` sets `[hidden] { display: none; }` but bootstrap.min.css set `[hidden] { display: none !important; }` so we also need the `!important` here to be able to override the default hidden behavior on the sphinx rendered scikit-learn.org. See: https://github.com/scikit-learn/scikit-learn/issues/21755 */display: inline-block !important;position: relative;}#sk-container-id-2 div.sk-text-repr-fallback {display: none;}</style><div id=\"sk-container-id-2\" class=\"sk-top-container\"><div class=\"sk-text-repr-fallback\"><pre>GridSearchCV(cv=4, estimator=KNeighborsClassifier(),\n",
       "             param_grid={&#x27;algorithm&#x27;: [&#x27;ball_tree&#x27;, &#x27;kd_tree&#x27;, &#x27;brute&#x27;],\n",
       "                         &#x27;n_neighbors&#x27;: range(1, 12, 2), &#x27;p&#x27;: [1, 2],\n",
       "                         &#x27;weights&#x27;: [&#x27;uniform&#x27;, &#x27;distance&#x27;]})</pre><b>In a Jupyter environment, please rerun this cell to show the HTML representation or trust the notebook. <br />On GitHub, the HTML representation is unable to render, please try loading this page with nbviewer.org.</b></div><div class=\"sk-container\" hidden><div class=\"sk-item sk-dashed-wrapped\"><div class=\"sk-label-container\"><div class=\"sk-label sk-toggleable\"><input class=\"sk-toggleable__control sk-hidden--visually\" id=\"sk-estimator-id-4\" type=\"checkbox\" ><label for=\"sk-estimator-id-4\" class=\"sk-toggleable__label sk-toggleable__label-arrow\">GridSearchCV</label><div class=\"sk-toggleable__content\"><pre>GridSearchCV(cv=4, estimator=KNeighborsClassifier(),\n",
       "             param_grid={&#x27;algorithm&#x27;: [&#x27;ball_tree&#x27;, &#x27;kd_tree&#x27;, &#x27;brute&#x27;],\n",
       "                         &#x27;n_neighbors&#x27;: range(1, 12, 2), &#x27;p&#x27;: [1, 2],\n",
       "                         &#x27;weights&#x27;: [&#x27;uniform&#x27;, &#x27;distance&#x27;]})</pre></div></div></div><div class=\"sk-parallel\"><div class=\"sk-parallel-item\"><div class=\"sk-item\"><div class=\"sk-label-container\"><div class=\"sk-label sk-toggleable\"><input class=\"sk-toggleable__control sk-hidden--visually\" id=\"sk-estimator-id-5\" type=\"checkbox\" ><label for=\"sk-estimator-id-5\" class=\"sk-toggleable__label sk-toggleable__label-arrow\">estimator: KNeighborsClassifier</label><div class=\"sk-toggleable__content\"><pre>KNeighborsClassifier()</pre></div></div></div><div class=\"sk-serial\"><div class=\"sk-item\"><div class=\"sk-estimator sk-toggleable\"><input class=\"sk-toggleable__control sk-hidden--visually\" id=\"sk-estimator-id-6\" type=\"checkbox\" ><label for=\"sk-estimator-id-6\" class=\"sk-toggleable__label sk-toggleable__label-arrow\">KNeighborsClassifier</label><div class=\"sk-toggleable__content\"><pre>KNeighborsClassifier()</pre></div></div></div></div></div></div></div></div></div></div>"
      ],
      "text/plain": [
       "GridSearchCV(cv=4, estimator=KNeighborsClassifier(),\n",
       "             param_grid={'algorithm': ['ball_tree', 'kd_tree', 'brute'],\n",
       "                         'n_neighbors': range(1, 12, 2), 'p': [1, 2],\n",
       "                         'weights': ['uniform', 'distance']})"
      ]
     },
     "execution_count": 25,
     "metadata": {},
     "output_type": "execute_result"
    }
   ],
   "source": [
    "model_tune = GridSearchCV(estimator=KNeighborsClassifier(),\n",
    "                         param_grid={\"n_neighbors\": range(1,12,2), \"weights\": [\"uniform\", \"distance\"],\"p\":[1,2],\n",
    "                                    \"algorithm\": ['ball_tree', 'kd_tree', 'brute']}, \n",
    "                         cv=4)\n",
    "model_tune.fit(X, y)"
   ]
  },
  {
   "cell_type": "code",
   "execution_count": 26,
   "id": "1ed15d2e",
   "metadata": {},
   "outputs": [
    {
     "data": {
      "text/plain": [
       "72"
      ]
     },
     "execution_count": 26,
     "metadata": {},
     "output_type": "execute_result"
    }
   ],
   "source": [
    "# n_neighbors (6) * weights (2) * p (2) * algorithm (3)\n",
    "# 6*2*2*3 = 72 combinations model has to check and do the tuning to give the best parameters.\n",
    "\n",
    "6*2*2*3"
   ]
  },
  {
   "cell_type": "code",
   "execution_count": 27,
   "id": "b2cb07da",
   "metadata": {},
   "outputs": [
    {
     "data": {
      "text/html": [
       "<style>#sk-container-id-3 {color: black;background-color: white;}#sk-container-id-3 pre{padding: 0;}#sk-container-id-3 div.sk-toggleable {background-color: white;}#sk-container-id-3 label.sk-toggleable__label {cursor: pointer;display: block;width: 100%;margin-bottom: 0;padding: 0.3em;box-sizing: border-box;text-align: center;}#sk-container-id-3 label.sk-toggleable__label-arrow:before {content: \"▸\";float: left;margin-right: 0.25em;color: #696969;}#sk-container-id-3 label.sk-toggleable__label-arrow:hover:before {color: black;}#sk-container-id-3 div.sk-estimator:hover label.sk-toggleable__label-arrow:before {color: black;}#sk-container-id-3 div.sk-toggleable__content {max-height: 0;max-width: 0;overflow: hidden;text-align: left;background-color: #f0f8ff;}#sk-container-id-3 div.sk-toggleable__content pre {margin: 0.2em;color: black;border-radius: 0.25em;background-color: #f0f8ff;}#sk-container-id-3 input.sk-toggleable__control:checked~div.sk-toggleable__content {max-height: 200px;max-width: 100%;overflow: auto;}#sk-container-id-3 input.sk-toggleable__control:checked~label.sk-toggleable__label-arrow:before {content: \"▾\";}#sk-container-id-3 div.sk-estimator input.sk-toggleable__control:checked~label.sk-toggleable__label {background-color: #d4ebff;}#sk-container-id-3 div.sk-label input.sk-toggleable__control:checked~label.sk-toggleable__label {background-color: #d4ebff;}#sk-container-id-3 input.sk-hidden--visually {border: 0;clip: rect(1px 1px 1px 1px);clip: rect(1px, 1px, 1px, 1px);height: 1px;margin: -1px;overflow: hidden;padding: 0;position: absolute;width: 1px;}#sk-container-id-3 div.sk-estimator {font-family: monospace;background-color: #f0f8ff;border: 1px dotted black;border-radius: 0.25em;box-sizing: border-box;margin-bottom: 0.5em;}#sk-container-id-3 div.sk-estimator:hover {background-color: #d4ebff;}#sk-container-id-3 div.sk-parallel-item::after {content: \"\";width: 100%;border-bottom: 1px solid gray;flex-grow: 1;}#sk-container-id-3 div.sk-label:hover label.sk-toggleable__label {background-color: #d4ebff;}#sk-container-id-3 div.sk-serial::before {content: \"\";position: absolute;border-left: 1px solid gray;box-sizing: border-box;top: 0;bottom: 0;left: 50%;z-index: 0;}#sk-container-id-3 div.sk-serial {display: flex;flex-direction: column;align-items: center;background-color: white;padding-right: 0.2em;padding-left: 0.2em;position: relative;}#sk-container-id-3 div.sk-item {position: relative;z-index: 1;}#sk-container-id-3 div.sk-parallel {display: flex;align-items: stretch;justify-content: center;background-color: white;position: relative;}#sk-container-id-3 div.sk-item::before, #sk-container-id-3 div.sk-parallel-item::before {content: \"\";position: absolute;border-left: 1px solid gray;box-sizing: border-box;top: 0;bottom: 0;left: 50%;z-index: -1;}#sk-container-id-3 div.sk-parallel-item {display: flex;flex-direction: column;z-index: 1;position: relative;background-color: white;}#sk-container-id-3 div.sk-parallel-item:first-child::after {align-self: flex-end;width: 50%;}#sk-container-id-3 div.sk-parallel-item:last-child::after {align-self: flex-start;width: 50%;}#sk-container-id-3 div.sk-parallel-item:only-child::after {width: 0;}#sk-container-id-3 div.sk-dashed-wrapped {border: 1px dashed gray;margin: 0 0.4em 0.5em 0.4em;box-sizing: border-box;padding-bottom: 0.4em;background-color: white;}#sk-container-id-3 div.sk-label label {font-family: monospace;font-weight: bold;display: inline-block;line-height: 1.2em;}#sk-container-id-3 div.sk-label-container {text-align: center;}#sk-container-id-3 div.sk-container {/* jupyter's `normalize.less` sets `[hidden] { display: none; }` but bootstrap.min.css set `[hidden] { display: none !important; }` so we also need the `!important` here to be able to override the default hidden behavior on the sphinx rendered scikit-learn.org. See: https://github.com/scikit-learn/scikit-learn/issues/21755 */display: inline-block !important;position: relative;}#sk-container-id-3 div.sk-text-repr-fallback {display: none;}</style><div id=\"sk-container-id-3\" class=\"sk-top-container\"><div class=\"sk-text-repr-fallback\"><pre>KNeighborsClassifier(algorithm=&#x27;ball_tree&#x27;, n_neighbors=11, p=1)</pre><b>In a Jupyter environment, please rerun this cell to show the HTML representation or trust the notebook. <br />On GitHub, the HTML representation is unable to render, please try loading this page with nbviewer.org.</b></div><div class=\"sk-container\" hidden><div class=\"sk-item\"><div class=\"sk-estimator sk-toggleable\"><input class=\"sk-toggleable__control sk-hidden--visually\" id=\"sk-estimator-id-7\" type=\"checkbox\" checked><label for=\"sk-estimator-id-7\" class=\"sk-toggleable__label sk-toggleable__label-arrow\">KNeighborsClassifier</label><div class=\"sk-toggleable__content\"><pre>KNeighborsClassifier(algorithm=&#x27;ball_tree&#x27;, n_neighbors=11, p=1)</pre></div></div></div></div></div>"
      ],
      "text/plain": [
       "KNeighborsClassifier(algorithm='ball_tree', n_neighbors=11, p=1)"
      ]
     },
     "execution_count": 27,
     "metadata": {},
     "output_type": "execute_result"
    }
   ],
   "source": [
    "model_tune.best_estimator_"
   ]
  },
  {
   "cell_type": "code",
   "execution_count": 28,
   "id": "73fd7480",
   "metadata": {},
   "outputs": [
    {
     "data": {
      "text/plain": [
       "{'algorithm': 'ball_tree', 'n_neighbors': 11, 'p': 1, 'weights': 'uniform'}"
      ]
     },
     "execution_count": 28,
     "metadata": {},
     "output_type": "execute_result"
    }
   ],
   "source": [
    "model_tune.best_params_"
   ]
  },
  {
   "cell_type": "code",
   "execution_count": 29,
   "id": "6c4926a1",
   "metadata": {},
   "outputs": [],
   "source": [
    "results = model_tune.cv_results_"
   ]
  },
  {
   "cell_type": "code",
   "execution_count": 30,
   "id": "a0fed2e7",
   "metadata": {},
   "outputs": [
    {
     "data": {
      "text/plain": [
       "dict_keys(['mean_fit_time', 'std_fit_time', 'mean_score_time', 'std_score_time', 'param_algorithm', 'param_n_neighbors', 'param_p', 'param_weights', 'params', 'split0_test_score', 'split1_test_score', 'split2_test_score', 'split3_test_score', 'mean_test_score', 'std_test_score', 'rank_test_score'])"
      ]
     },
     "execution_count": 30,
     "metadata": {},
     "output_type": "execute_result"
    }
   ],
   "source": [
    "results.keys()"
   ]
  },
  {
   "cell_type": "code",
   "execution_count": 31,
   "id": "8715009c",
   "metadata": {
    "scrolled": true
   },
   "outputs": [
    {
     "data": {
      "text/plain": [
       "[{'algorithm': 'ball_tree', 'n_neighbors': 1, 'p': 1, 'weights': 'uniform'},\n",
       " {'algorithm': 'ball_tree', 'n_neighbors': 1, 'p': 1, 'weights': 'distance'},\n",
       " {'algorithm': 'ball_tree', 'n_neighbors': 1, 'p': 2, 'weights': 'uniform'},\n",
       " {'algorithm': 'ball_tree', 'n_neighbors': 1, 'p': 2, 'weights': 'distance'},\n",
       " {'algorithm': 'ball_tree', 'n_neighbors': 3, 'p': 1, 'weights': 'uniform'},\n",
       " {'algorithm': 'ball_tree', 'n_neighbors': 3, 'p': 1, 'weights': 'distance'},\n",
       " {'algorithm': 'ball_tree', 'n_neighbors': 3, 'p': 2, 'weights': 'uniform'},\n",
       " {'algorithm': 'ball_tree', 'n_neighbors': 3, 'p': 2, 'weights': 'distance'},\n",
       " {'algorithm': 'ball_tree', 'n_neighbors': 5, 'p': 1, 'weights': 'uniform'},\n",
       " {'algorithm': 'ball_tree', 'n_neighbors': 5, 'p': 1, 'weights': 'distance'},\n",
       " {'algorithm': 'ball_tree', 'n_neighbors': 5, 'p': 2, 'weights': 'uniform'},\n",
       " {'algorithm': 'ball_tree', 'n_neighbors': 5, 'p': 2, 'weights': 'distance'},\n",
       " {'algorithm': 'ball_tree', 'n_neighbors': 7, 'p': 1, 'weights': 'uniform'},\n",
       " {'algorithm': 'ball_tree', 'n_neighbors': 7, 'p': 1, 'weights': 'distance'},\n",
       " {'algorithm': 'ball_tree', 'n_neighbors': 7, 'p': 2, 'weights': 'uniform'},\n",
       " {'algorithm': 'ball_tree', 'n_neighbors': 7, 'p': 2, 'weights': 'distance'},\n",
       " {'algorithm': 'ball_tree', 'n_neighbors': 9, 'p': 1, 'weights': 'uniform'},\n",
       " {'algorithm': 'ball_tree', 'n_neighbors': 9, 'p': 1, 'weights': 'distance'},\n",
       " {'algorithm': 'ball_tree', 'n_neighbors': 9, 'p': 2, 'weights': 'uniform'},\n",
       " {'algorithm': 'ball_tree', 'n_neighbors': 9, 'p': 2, 'weights': 'distance'},\n",
       " {'algorithm': 'ball_tree', 'n_neighbors': 11, 'p': 1, 'weights': 'uniform'},\n",
       " {'algorithm': 'ball_tree', 'n_neighbors': 11, 'p': 1, 'weights': 'distance'},\n",
       " {'algorithm': 'ball_tree', 'n_neighbors': 11, 'p': 2, 'weights': 'uniform'},\n",
       " {'algorithm': 'ball_tree', 'n_neighbors': 11, 'p': 2, 'weights': 'distance'},\n",
       " {'algorithm': 'kd_tree', 'n_neighbors': 1, 'p': 1, 'weights': 'uniform'},\n",
       " {'algorithm': 'kd_tree', 'n_neighbors': 1, 'p': 1, 'weights': 'distance'},\n",
       " {'algorithm': 'kd_tree', 'n_neighbors': 1, 'p': 2, 'weights': 'uniform'},\n",
       " {'algorithm': 'kd_tree', 'n_neighbors': 1, 'p': 2, 'weights': 'distance'},\n",
       " {'algorithm': 'kd_tree', 'n_neighbors': 3, 'p': 1, 'weights': 'uniform'},\n",
       " {'algorithm': 'kd_tree', 'n_neighbors': 3, 'p': 1, 'weights': 'distance'},\n",
       " {'algorithm': 'kd_tree', 'n_neighbors': 3, 'p': 2, 'weights': 'uniform'},\n",
       " {'algorithm': 'kd_tree', 'n_neighbors': 3, 'p': 2, 'weights': 'distance'},\n",
       " {'algorithm': 'kd_tree', 'n_neighbors': 5, 'p': 1, 'weights': 'uniform'},\n",
       " {'algorithm': 'kd_tree', 'n_neighbors': 5, 'p': 1, 'weights': 'distance'},\n",
       " {'algorithm': 'kd_tree', 'n_neighbors': 5, 'p': 2, 'weights': 'uniform'},\n",
       " {'algorithm': 'kd_tree', 'n_neighbors': 5, 'p': 2, 'weights': 'distance'},\n",
       " {'algorithm': 'kd_tree', 'n_neighbors': 7, 'p': 1, 'weights': 'uniform'},\n",
       " {'algorithm': 'kd_tree', 'n_neighbors': 7, 'p': 1, 'weights': 'distance'},\n",
       " {'algorithm': 'kd_tree', 'n_neighbors': 7, 'p': 2, 'weights': 'uniform'},\n",
       " {'algorithm': 'kd_tree', 'n_neighbors': 7, 'p': 2, 'weights': 'distance'},\n",
       " {'algorithm': 'kd_tree', 'n_neighbors': 9, 'p': 1, 'weights': 'uniform'},\n",
       " {'algorithm': 'kd_tree', 'n_neighbors': 9, 'p': 1, 'weights': 'distance'},\n",
       " {'algorithm': 'kd_tree', 'n_neighbors': 9, 'p': 2, 'weights': 'uniform'},\n",
       " {'algorithm': 'kd_tree', 'n_neighbors': 9, 'p': 2, 'weights': 'distance'},\n",
       " {'algorithm': 'kd_tree', 'n_neighbors': 11, 'p': 1, 'weights': 'uniform'},\n",
       " {'algorithm': 'kd_tree', 'n_neighbors': 11, 'p': 1, 'weights': 'distance'},\n",
       " {'algorithm': 'kd_tree', 'n_neighbors': 11, 'p': 2, 'weights': 'uniform'},\n",
       " {'algorithm': 'kd_tree', 'n_neighbors': 11, 'p': 2, 'weights': 'distance'},\n",
       " {'algorithm': 'brute', 'n_neighbors': 1, 'p': 1, 'weights': 'uniform'},\n",
       " {'algorithm': 'brute', 'n_neighbors': 1, 'p': 1, 'weights': 'distance'},\n",
       " {'algorithm': 'brute', 'n_neighbors': 1, 'p': 2, 'weights': 'uniform'},\n",
       " {'algorithm': 'brute', 'n_neighbors': 1, 'p': 2, 'weights': 'distance'},\n",
       " {'algorithm': 'brute', 'n_neighbors': 3, 'p': 1, 'weights': 'uniform'},\n",
       " {'algorithm': 'brute', 'n_neighbors': 3, 'p': 1, 'weights': 'distance'},\n",
       " {'algorithm': 'brute', 'n_neighbors': 3, 'p': 2, 'weights': 'uniform'},\n",
       " {'algorithm': 'brute', 'n_neighbors': 3, 'p': 2, 'weights': 'distance'},\n",
       " {'algorithm': 'brute', 'n_neighbors': 5, 'p': 1, 'weights': 'uniform'},\n",
       " {'algorithm': 'brute', 'n_neighbors': 5, 'p': 1, 'weights': 'distance'},\n",
       " {'algorithm': 'brute', 'n_neighbors': 5, 'p': 2, 'weights': 'uniform'},\n",
       " {'algorithm': 'brute', 'n_neighbors': 5, 'p': 2, 'weights': 'distance'},\n",
       " {'algorithm': 'brute', 'n_neighbors': 7, 'p': 1, 'weights': 'uniform'},\n",
       " {'algorithm': 'brute', 'n_neighbors': 7, 'p': 1, 'weights': 'distance'},\n",
       " {'algorithm': 'brute', 'n_neighbors': 7, 'p': 2, 'weights': 'uniform'},\n",
       " {'algorithm': 'brute', 'n_neighbors': 7, 'p': 2, 'weights': 'distance'},\n",
       " {'algorithm': 'brute', 'n_neighbors': 9, 'p': 1, 'weights': 'uniform'},\n",
       " {'algorithm': 'brute', 'n_neighbors': 9, 'p': 1, 'weights': 'distance'},\n",
       " {'algorithm': 'brute', 'n_neighbors': 9, 'p': 2, 'weights': 'uniform'},\n",
       " {'algorithm': 'brute', 'n_neighbors': 9, 'p': 2, 'weights': 'distance'},\n",
       " {'algorithm': 'brute', 'n_neighbors': 11, 'p': 1, 'weights': 'uniform'},\n",
       " {'algorithm': 'brute', 'n_neighbors': 11, 'p': 1, 'weights': 'distance'},\n",
       " {'algorithm': 'brute', 'n_neighbors': 11, 'p': 2, 'weights': 'uniform'},\n",
       " {'algorithm': 'brute', 'n_neighbors': 11, 'p': 2, 'weights': 'distance'}]"
      ]
     },
     "execution_count": 31,
     "metadata": {},
     "output_type": "execute_result"
    }
   ],
   "source": [
    "results[\"params\"]"
   ]
  },
  {
   "cell_type": "code",
   "execution_count": 34,
   "id": "86f4eba5",
   "metadata": {},
   "outputs": [
    {
     "data": {
      "text/html": [
       "<style>#sk-container-id-6 {color: black;background-color: white;}#sk-container-id-6 pre{padding: 0;}#sk-container-id-6 div.sk-toggleable {background-color: white;}#sk-container-id-6 label.sk-toggleable__label {cursor: pointer;display: block;width: 100%;margin-bottom: 0;padding: 0.3em;box-sizing: border-box;text-align: center;}#sk-container-id-6 label.sk-toggleable__label-arrow:before {content: \"▸\";float: left;margin-right: 0.25em;color: #696969;}#sk-container-id-6 label.sk-toggleable__label-arrow:hover:before {color: black;}#sk-container-id-6 div.sk-estimator:hover label.sk-toggleable__label-arrow:before {color: black;}#sk-container-id-6 div.sk-toggleable__content {max-height: 0;max-width: 0;overflow: hidden;text-align: left;background-color: #f0f8ff;}#sk-container-id-6 div.sk-toggleable__content pre {margin: 0.2em;color: black;border-radius: 0.25em;background-color: #f0f8ff;}#sk-container-id-6 input.sk-toggleable__control:checked~div.sk-toggleable__content {max-height: 200px;max-width: 100%;overflow: auto;}#sk-container-id-6 input.sk-toggleable__control:checked~label.sk-toggleable__label-arrow:before {content: \"▾\";}#sk-container-id-6 div.sk-estimator input.sk-toggleable__control:checked~label.sk-toggleable__label {background-color: #d4ebff;}#sk-container-id-6 div.sk-label input.sk-toggleable__control:checked~label.sk-toggleable__label {background-color: #d4ebff;}#sk-container-id-6 input.sk-hidden--visually {border: 0;clip: rect(1px 1px 1px 1px);clip: rect(1px, 1px, 1px, 1px);height: 1px;margin: -1px;overflow: hidden;padding: 0;position: absolute;width: 1px;}#sk-container-id-6 div.sk-estimator {font-family: monospace;background-color: #f0f8ff;border: 1px dotted black;border-radius: 0.25em;box-sizing: border-box;margin-bottom: 0.5em;}#sk-container-id-6 div.sk-estimator:hover {background-color: #d4ebff;}#sk-container-id-6 div.sk-parallel-item::after {content: \"\";width: 100%;border-bottom: 1px solid gray;flex-grow: 1;}#sk-container-id-6 div.sk-label:hover label.sk-toggleable__label {background-color: #d4ebff;}#sk-container-id-6 div.sk-serial::before {content: \"\";position: absolute;border-left: 1px solid gray;box-sizing: border-box;top: 0;bottom: 0;left: 50%;z-index: 0;}#sk-container-id-6 div.sk-serial {display: flex;flex-direction: column;align-items: center;background-color: white;padding-right: 0.2em;padding-left: 0.2em;position: relative;}#sk-container-id-6 div.sk-item {position: relative;z-index: 1;}#sk-container-id-6 div.sk-parallel {display: flex;align-items: stretch;justify-content: center;background-color: white;position: relative;}#sk-container-id-6 div.sk-item::before, #sk-container-id-6 div.sk-parallel-item::before {content: \"\";position: absolute;border-left: 1px solid gray;box-sizing: border-box;top: 0;bottom: 0;left: 50%;z-index: -1;}#sk-container-id-6 div.sk-parallel-item {display: flex;flex-direction: column;z-index: 1;position: relative;background-color: white;}#sk-container-id-6 div.sk-parallel-item:first-child::after {align-self: flex-end;width: 50%;}#sk-container-id-6 div.sk-parallel-item:last-child::after {align-self: flex-start;width: 50%;}#sk-container-id-6 div.sk-parallel-item:only-child::after {width: 0;}#sk-container-id-6 div.sk-dashed-wrapped {border: 1px dashed gray;margin: 0 0.4em 0.5em 0.4em;box-sizing: border-box;padding-bottom: 0.4em;background-color: white;}#sk-container-id-6 div.sk-label label {font-family: monospace;font-weight: bold;display: inline-block;line-height: 1.2em;}#sk-container-id-6 div.sk-label-container {text-align: center;}#sk-container-id-6 div.sk-container {/* jupyter's `normalize.less` sets `[hidden] { display: none; }` but bootstrap.min.css set `[hidden] { display: none !important; }` so we also need the `!important` here to be able to override the default hidden behavior on the sphinx rendered scikit-learn.org. See: https://github.com/scikit-learn/scikit-learn/issues/21755 */display: inline-block !important;position: relative;}#sk-container-id-6 div.sk-text-repr-fallback {display: none;}</style><div id=\"sk-container-id-6\" class=\"sk-top-container\"><div class=\"sk-text-repr-fallback\"><pre>RandomizedSearchCV(cv=4, estimator=KNeighborsClassifier(),\n",
       "                   param_distributions={&#x27;algorithm&#x27;: [&#x27;ball_tree&#x27;, &#x27;kd_tree&#x27;,\n",
       "                                                      &#x27;brute&#x27;],\n",
       "                                        &#x27;n_neighbors&#x27;: range(1, 12, 2),\n",
       "                                        &#x27;p&#x27;: [1, 2],\n",
       "                                        &#x27;weights&#x27;: [&#x27;uniform&#x27;, &#x27;distance&#x27;]})</pre><b>In a Jupyter environment, please rerun this cell to show the HTML representation or trust the notebook. <br />On GitHub, the HTML representation is unable to render, please try loading this page with nbviewer.org.</b></div><div class=\"sk-container\" hidden><div class=\"sk-item sk-dashed-wrapped\"><div class=\"sk-label-container\"><div class=\"sk-label sk-toggleable\"><input class=\"sk-toggleable__control sk-hidden--visually\" id=\"sk-estimator-id-12\" type=\"checkbox\" ><label for=\"sk-estimator-id-12\" class=\"sk-toggleable__label sk-toggleable__label-arrow\">RandomizedSearchCV</label><div class=\"sk-toggleable__content\"><pre>RandomizedSearchCV(cv=4, estimator=KNeighborsClassifier(),\n",
       "                   param_distributions={&#x27;algorithm&#x27;: [&#x27;ball_tree&#x27;, &#x27;kd_tree&#x27;,\n",
       "                                                      &#x27;brute&#x27;],\n",
       "                                        &#x27;n_neighbors&#x27;: range(1, 12, 2),\n",
       "                                        &#x27;p&#x27;: [1, 2],\n",
       "                                        &#x27;weights&#x27;: [&#x27;uniform&#x27;, &#x27;distance&#x27;]})</pre></div></div></div><div class=\"sk-parallel\"><div class=\"sk-parallel-item\"><div class=\"sk-item\"><div class=\"sk-label-container\"><div class=\"sk-label sk-toggleable\"><input class=\"sk-toggleable__control sk-hidden--visually\" id=\"sk-estimator-id-13\" type=\"checkbox\" ><label for=\"sk-estimator-id-13\" class=\"sk-toggleable__label sk-toggleable__label-arrow\">estimator: KNeighborsClassifier</label><div class=\"sk-toggleable__content\"><pre>KNeighborsClassifier()</pre></div></div></div><div class=\"sk-serial\"><div class=\"sk-item\"><div class=\"sk-estimator sk-toggleable\"><input class=\"sk-toggleable__control sk-hidden--visually\" id=\"sk-estimator-id-14\" type=\"checkbox\" ><label for=\"sk-estimator-id-14\" class=\"sk-toggleable__label sk-toggleable__label-arrow\">KNeighborsClassifier</label><div class=\"sk-toggleable__content\"><pre>KNeighborsClassifier()</pre></div></div></div></div></div></div></div></div></div></div>"
      ],
      "text/plain": [
       "RandomizedSearchCV(cv=4, estimator=KNeighborsClassifier(),\n",
       "                   param_distributions={'algorithm': ['ball_tree', 'kd_tree',\n",
       "                                                      'brute'],\n",
       "                                        'n_neighbors': range(1, 12, 2),\n",
       "                                        'p': [1, 2],\n",
       "                                        'weights': ['uniform', 'distance']})"
      ]
     },
     "execution_count": 34,
     "metadata": {},
     "output_type": "execute_result"
    }
   ],
   "source": [
    "model_tune = RandomizedSearchCV(n_iter = 10, estimator = KNeighborsClassifier(),\n",
    "                               param_distributions = {\"n_neighbors\": range(1,12,2), \"weights\": [\"uniform\", \"distance\"],\n",
    "                                                      \"p\":[1,2],\"algorithm\": ['ball_tree', 'kd_tree', 'brute']},\n",
    "                               cv = 4)\n",
    "\n",
    "model_tune.fit(X,y)"
   ]
  },
  {
   "cell_type": "code",
   "execution_count": 36,
   "id": "2006dc3a",
   "metadata": {},
   "outputs": [
    {
     "data": {
      "text/plain": [
       "{'weights': 'uniform', 'p': 2, 'n_neighbors': 11, 'algorithm': 'ball_tree'}"
      ]
     },
     "execution_count": 36,
     "metadata": {},
     "output_type": "execute_result"
    }
   ],
   "source": [
    "model_tune.best_params_"
   ]
  },
  {
   "cell_type": "code",
   "execution_count": 37,
   "id": "f700dccd",
   "metadata": {},
   "outputs": [
    {
     "data": {
      "text/html": [
       "<style>#sk-container-id-8 {color: black;background-color: white;}#sk-container-id-8 pre{padding: 0;}#sk-container-id-8 div.sk-toggleable {background-color: white;}#sk-container-id-8 label.sk-toggleable__label {cursor: pointer;display: block;width: 100%;margin-bottom: 0;padding: 0.3em;box-sizing: border-box;text-align: center;}#sk-container-id-8 label.sk-toggleable__label-arrow:before {content: \"▸\";float: left;margin-right: 0.25em;color: #696969;}#sk-container-id-8 label.sk-toggleable__label-arrow:hover:before {color: black;}#sk-container-id-8 div.sk-estimator:hover label.sk-toggleable__label-arrow:before {color: black;}#sk-container-id-8 div.sk-toggleable__content {max-height: 0;max-width: 0;overflow: hidden;text-align: left;background-color: #f0f8ff;}#sk-container-id-8 div.sk-toggleable__content pre {margin: 0.2em;color: black;border-radius: 0.25em;background-color: #f0f8ff;}#sk-container-id-8 input.sk-toggleable__control:checked~div.sk-toggleable__content {max-height: 200px;max-width: 100%;overflow: auto;}#sk-container-id-8 input.sk-toggleable__control:checked~label.sk-toggleable__label-arrow:before {content: \"▾\";}#sk-container-id-8 div.sk-estimator input.sk-toggleable__control:checked~label.sk-toggleable__label {background-color: #d4ebff;}#sk-container-id-8 div.sk-label input.sk-toggleable__control:checked~label.sk-toggleable__label {background-color: #d4ebff;}#sk-container-id-8 input.sk-hidden--visually {border: 0;clip: rect(1px 1px 1px 1px);clip: rect(1px, 1px, 1px, 1px);height: 1px;margin: -1px;overflow: hidden;padding: 0;position: absolute;width: 1px;}#sk-container-id-8 div.sk-estimator {font-family: monospace;background-color: #f0f8ff;border: 1px dotted black;border-radius: 0.25em;box-sizing: border-box;margin-bottom: 0.5em;}#sk-container-id-8 div.sk-estimator:hover {background-color: #d4ebff;}#sk-container-id-8 div.sk-parallel-item::after {content: \"\";width: 100%;border-bottom: 1px solid gray;flex-grow: 1;}#sk-container-id-8 div.sk-label:hover label.sk-toggleable__label {background-color: #d4ebff;}#sk-container-id-8 div.sk-serial::before {content: \"\";position: absolute;border-left: 1px solid gray;box-sizing: border-box;top: 0;bottom: 0;left: 50%;z-index: 0;}#sk-container-id-8 div.sk-serial {display: flex;flex-direction: column;align-items: center;background-color: white;padding-right: 0.2em;padding-left: 0.2em;position: relative;}#sk-container-id-8 div.sk-item {position: relative;z-index: 1;}#sk-container-id-8 div.sk-parallel {display: flex;align-items: stretch;justify-content: center;background-color: white;position: relative;}#sk-container-id-8 div.sk-item::before, #sk-container-id-8 div.sk-parallel-item::before {content: \"\";position: absolute;border-left: 1px solid gray;box-sizing: border-box;top: 0;bottom: 0;left: 50%;z-index: -1;}#sk-container-id-8 div.sk-parallel-item {display: flex;flex-direction: column;z-index: 1;position: relative;background-color: white;}#sk-container-id-8 div.sk-parallel-item:first-child::after {align-self: flex-end;width: 50%;}#sk-container-id-8 div.sk-parallel-item:last-child::after {align-self: flex-start;width: 50%;}#sk-container-id-8 div.sk-parallel-item:only-child::after {width: 0;}#sk-container-id-8 div.sk-dashed-wrapped {border: 1px dashed gray;margin: 0 0.4em 0.5em 0.4em;box-sizing: border-box;padding-bottom: 0.4em;background-color: white;}#sk-container-id-8 div.sk-label label {font-family: monospace;font-weight: bold;display: inline-block;line-height: 1.2em;}#sk-container-id-8 div.sk-label-container {text-align: center;}#sk-container-id-8 div.sk-container {/* jupyter's `normalize.less` sets `[hidden] { display: none; }` but bootstrap.min.css set `[hidden] { display: none !important; }` so we also need the `!important` here to be able to override the default hidden behavior on the sphinx rendered scikit-learn.org. See: https://github.com/scikit-learn/scikit-learn/issues/21755 */display: inline-block !important;position: relative;}#sk-container-id-8 div.sk-text-repr-fallback {display: none;}</style><div id=\"sk-container-id-8\" class=\"sk-top-container\"><div class=\"sk-text-repr-fallback\"><pre>KNeighborsClassifier(algorithm=&#x27;ball_tree&#x27;, n_neighbors=11)</pre><b>In a Jupyter environment, please rerun this cell to show the HTML representation or trust the notebook. <br />On GitHub, the HTML representation is unable to render, please try loading this page with nbviewer.org.</b></div><div class=\"sk-container\" hidden><div class=\"sk-item\"><div class=\"sk-estimator sk-toggleable\"><input class=\"sk-toggleable__control sk-hidden--visually\" id=\"sk-estimator-id-16\" type=\"checkbox\" checked><label for=\"sk-estimator-id-16\" class=\"sk-toggleable__label sk-toggleable__label-arrow\">KNeighborsClassifier</label><div class=\"sk-toggleable__content\"><pre>KNeighborsClassifier(algorithm=&#x27;ball_tree&#x27;, n_neighbors=11)</pre></div></div></div></div></div>"
      ],
      "text/plain": [
       "KNeighborsClassifier(algorithm='ball_tree', n_neighbors=11)"
      ]
     },
     "execution_count": 37,
     "metadata": {},
     "output_type": "execute_result"
    }
   ],
   "source": [
    "model_tune.best_estimator_"
   ]
  },
  {
   "cell_type": "code",
   "execution_count": 38,
   "id": "4115e86a",
   "metadata": {},
   "outputs": [
    {
     "data": {
      "text/plain": [
       "array([67, 67, 67, 67, 26, 50, 26, 50, 21, 55, 21, 55, 10, 37, 10, 37, 15,\n",
       "       43, 15, 43,  1, 31,  1, 31, 61, 61, 61, 61, 28, 50, 28, 50, 21, 55,\n",
       "       21, 55,  5, 37,  5, 37, 15, 43, 15, 43,  1, 31,  1, 31, 61, 61, 71,\n",
       "       71, 30, 50, 25, 49, 19, 55, 20, 55, 10, 37,  5, 37, 13, 43, 14, 43,\n",
       "        8, 31,  8, 31])"
      ]
     },
     "execution_count": 38,
     "metadata": {},
     "output_type": "execute_result"
    }
   ],
   "source": [
    "results[\"rank_test_score\"]"
   ]
  },
  {
   "cell_type": "code",
   "execution_count": null,
   "id": "ea52d0d4",
   "metadata": {},
   "outputs": [],
   "source": []
  },
  {
   "cell_type": "code",
   "execution_count": null,
   "id": "0ee91526",
   "metadata": {},
   "outputs": [],
   "source": []
  },
  {
   "cell_type": "code",
   "execution_count": null,
   "id": "0bd1c2ba",
   "metadata": {},
   "outputs": [],
   "source": []
  }
 ],
 "metadata": {
  "kernelspec": {
   "display_name": "Python 3 (ipykernel)",
   "language": "python",
   "name": "python3"
  },
  "language_info": {
   "codemirror_mode": {
    "name": "ipython",
    "version": 3
   },
   "file_extension": ".py",
   "mimetype": "text/x-python",
   "name": "python",
   "nbconvert_exporter": "python",
   "pygments_lexer": "ipython3",
   "version": "3.11.7"
  }
 },
 "nbformat": 4,
 "nbformat_minor": 5
}

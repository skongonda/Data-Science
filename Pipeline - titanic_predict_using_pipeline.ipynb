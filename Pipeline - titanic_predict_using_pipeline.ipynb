{
 "cells": [
  {
   "cell_type": "code",
   "execution_count": 5,
   "id": "3845e8d5-f430-46b4-a3e9-9bc63b9b9199",
   "metadata": {},
   "outputs": [],
   "source": [
    "import numpy as np\n",
    "import pickle\n",
    "\n",
    "import warnings\n",
    "warnings.filterwarnings(\"ignore\")"
   ]
  },
  {
   "cell_type": "code",
   "execution_count": 2,
   "id": "667ddb16-b04d-4de2-a19b-b569f22dc062",
   "metadata": {},
   "outputs": [],
   "source": [
    "pipe = pickle.load(open('models/pipe.pkl','rb'))"
   ]
  },
  {
   "cell_type": "code",
   "execution_count": 9,
   "id": "ddf5d489-ac6d-4936-83d5-06feedafae25",
   "metadata": {},
   "outputs": [],
   "source": [
    "# Assume user input\n",
    "\n",
    "test_input2 = np.array([1, 'female', 10.0, 1, 0, 7.2875, 'S'], dtype=object).reshape(1,7) "
   ]
  },
  {
   "cell_type": "code",
   "execution_count": 10,
   "id": "f560a679-3b42-4b0d-86fa-5fb728eaca3c",
   "metadata": {},
   "outputs": [
    {
     "data": {
      "text/plain": [
       "array([0], dtype=int64)"
      ]
     },
     "execution_count": 10,
     "metadata": {},
     "output_type": "execute_result"
    }
   ],
   "source": [
    "pipe.predict(test_input2)"
   ]
  },
  {
   "cell_type": "code",
   "execution_count": null,
   "id": "1eb09e76-edb4-4f30-ac87-2197f32e221e",
   "metadata": {},
   "outputs": [],
   "source": []
  }
 ],
 "metadata": {
  "kernelspec": {
   "display_name": "Python 3 (ipykernel)",
   "language": "python",
   "name": "python3"
  },
  "language_info": {
   "codemirror_mode": {
    "name": "ipython",
    "version": 3
   },
   "file_extension": ".py",
   "mimetype": "text/x-python",
   "name": "python",
   "nbconvert_exporter": "python",
   "pygments_lexer": "ipython3",
   "version": "3.11.7"
  }
 },
 "nbformat": 4,
 "nbformat_minor": 5
}
